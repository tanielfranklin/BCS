{
 "cells": [
  {
   "cell_type": "markdown",
   "metadata": {
    "collapsed": true,
    "pycharm": {
     "name": "#%% md\n"
    }
   },
   "source": [
    "Normalização do modelo BCS não linear"
   ]
  },
  {
   "cell_type": "code",
   "execution_count": null,
   "metadata": {},
   "outputs": [],
   "source": []
  },
  {
   "cell_type": "code",
   "execution_count": 1,
   "metadata": {
    "pycharm": {
     "name": "#%%\n"
    }
   },
   "outputs": [],
   "source": [
    "import matplotlib.pyplot as plt\n",
    "import numpy as np\n",
    "exec(compile(open('param.py', \"rb\").read(), 'param.py', 'exec')) #% Roda arquivo com parâmetros do modelo BCS"
   ]
  },
  {
   "cell_type": "markdown",
   "metadata": {
    "pycharm": {
     "name": "#%% md\n"
    }
   },
   "source": [
    "### Variáveis de entrada\n",
    "f $\\in$ (35,65) Hz <br>\n",
    "zc $\\in$ (0,100)% <br>\n",
    "pm $\\in$ ($2\\cdot 10^6$) <br>\n",
    "\n",
    "### Variáveis de estado\n",
    "pbh $\\in$ ($10^5, 8.5 \\cdot 10^6$) <br>\n",
    "pwh $\\in$ ($3 \\cdot 10^6, 5.2\\cdot10^6$) <br>\n",
    "q $\\in (10^{-2},3\\cdot 10^{⁻2})$ <br>\n",
    "\n"
   ]
  },
  {
   "cell_type": "markdown",
   "metadata": {},
   "source": [
    "Função para retornar os valores de xc e x0 dado que<br>\n",
    "$x_{min}<x<x_{max}$ <br>\n",
    "\n",
    "Nova variável<br>\n",
    "\n",
    "$xb=\\frac{x-x0}{xc}$\n",
    "\n",
    "Assim <br>\n",
    "\n",
    "$x=xb\\cdot xc+x0$\n",
    "\n"
   ]
  },
  {
   "cell_type": "code",
   "execution_count": 2,
   "metadata": {
    "pycharm": {
     "name": "#%%\n"
    }
   },
   "outputs": [],
   "source": [
    "def normalizar(xlim):\n",
    "    # Encontrar o fator de normalização\n",
    "    # tal que xb=(x-x0)/xc\n",
    "    # xmin<x<xmax\n",
    "    # fazendo com que 0<xb<1\n",
    "    x=(xlim[0],xlim[1]-xlim[0])\n",
    "    return x\n"
   ]
  },
  {
   "cell_type": "markdown",
   "metadata": {
    "pycharm": {
     "name": "#%% md\n"
    }
   },
   "source": [
    "Definindo os fatores de ajuste de escala a partir dos limites operacionais"
   ]
  },
  {
   "cell_type": "code",
   "execution_count": 3,
   "metadata": {
    "pycharm": {
     "name": "#%%\n"
    }
   },
   "outputs": [],
   "source": [
    "# Valores máximos e mínimos para normalização\n",
    "f_lim=(30,75); zclim=(0,100);pmlim=(0,2e6);qlim=(35,55)\n",
    "#pbh  - pressão na bomba\n",
    "#pwh - Pressão de fundo do poço,\n",
    "#q - vazão\n",
    "#PI índice de produtividade do poço\n",
    "#PinC  pressão na choke\n",
    "qnorm=normalizar(qlim)\n",
    "fnorm = normalizar(f_lim)\n",
    "zcnorm = normalizar(zclim)\n",
    "pmnorm = normalizar(pmlim) # Pressão de manifold"
   ]
  },
  {
   "cell_type": "markdown",
   "metadata": {
    "pycharm": {
     "name": "#%% md\n"
    }
   },
   "source": [
    "Definindo as variáveis simbólicas"
   ]
  },
  {
   "cell_type": "code",
   "execution_count": 4,
   "metadata": {
    "pycharm": {
     "name": "#%%\n"
    }
   },
   "outputs": [],
   "source": [
    "from sympy import *\n",
    "q,f,zc,pm, pwh, pbh = symbols('q f zc pm pwh pbh', real=True, positive=True)\n",
    "qb,fb,zcb,pmb, pwhb, pbhb = symbols('qb fb zcb pmb pwhb pbhb', real=True, positive=True)\n",
    "Hb = symbols('Hb', real=True)"
   ]
  },
  {
   "cell_type": "markdown",
   "metadata": {
    "pycharm": {
     "name": "#%% md\n"
    }
   },
   "source": [
    "Normalizando variáveis dependentes"
   ]
  },
  {
   "cell_type": "code",
   "execution_count": 5,
   "metadata": {
    "pycharm": {
     "name": "#%%\n"
    }
   },
   "outputs": [
    {
     "data": {
      "text/latex": [
       "$\\displaystyle \\frac{3236558.259375 \\left(3 fb + 2\\right)^{3} + 225 \\left(3 fb + 2\\right)^{2} \\left(9582632.46568282 qb + 16769606.8149449\\right) - \\left(280701937424106.0 fb + 187134624949404.0\\right) \\left(0.571428571428571 qb + 1\\right)^{2}}{54000 \\left(3 fb + 2\\right)}$"
      ],
      "text/plain": [
       "(3236558.259375*(3*fb + 2)**3 + 225*(3*fb + 2)**2*(9582632.46568282*qb + 16769606.8149449) - (280701937424106.0*fb + 187134624949404.0)*(0.571428571428571*qb + 1)**2)/(54000*(3*fb + 2))"
      ]
     },
     "execution_count": 5,
     "metadata": {},
     "output_type": "execute_result"
    }
   ],
   "source": [
    "\n",
    "f=fb*fnorm[1]+fnorm[0]\n",
    "pmnorm=normalizar(pmlim)\n",
    "pm=pmb*pmnorm[1]+pmnorm[0]\n",
    "#pbhlim=pwhlim=pmlim\n",
    "pwh=pwhb*pmnorm[1]+pmnorm[0]\n",
    "pbh=pbhb*pmnorm[1]+pmnorm[0]\n",
    "\n",
    "#zc\n",
    "zcnorm=normalizar(zclim)\n",
    "zc=zcb*zcnorm[1]+zcnorm[0]\n",
    "\n",
    "fq=f\n",
    "q=qb*qnorm[1]+qnorm[0]\n",
    "f0b=(f0-fnorm[0])/fnorm[1]\n",
    "# Calculo do HEAD e delta de press�o\n",
    "q0 = q/Cq*(f0/fq);\n",
    "H0 = -1.2454e6*q0**2 + 7.4959e3*q0 + 9.5970e2;\n",
    "H = CH*H0*(fq/f0)**2; # Head\n",
    "simplify(H)"
   ]
  },
  {
   "cell_type": "markdown",
   "metadata": {
    "pycharm": {
     "name": "#%% md\n"
    }
   },
   "source": [
    "Verificar pontos específicos de H a partir de qb e fb"
   ]
  },
  {
   "cell_type": "code",
   "execution_count": 6,
   "metadata": {
    "pycharm": {
     "name": "#%%\n"
    }
   },
   "outputs": [
    {
     "data": {
      "text/plain": [
       "-1732588022.3222635"
      ]
     },
     "execution_count": 6,
     "metadata": {},
     "output_type": "execute_result"
    }
   ],
   "source": [
    "Htest=lambdify([fb,qb],H)\n",
    "Htest(0,0)"
   ]
  },
  {
   "cell_type": "code",
   "execution_count": 7,
   "metadata": {
    "pycharm": {
     "name": "#%%\n"
    }
   },
   "outputs": [
    {
     "data": {
      "text/latex": [
       "$\\displaystyle 9319.5 \\left(\\frac{3 fb}{4} + \\frac{1}{2}\\right)^{2} \\left(958.980225 + \\frac{449416.6845 \\left(21.3223780873734 qb + 37.3141616529035\\right)}{45 fb + 30} - \\frac{6237820831646.8 \\left(0.571428571428571 qb + 1\\right)^{2}}{\\left(45 fb + 30\\right)^{2}}\\right)$"
      ],
      "text/plain": [
       "9319.5*(3*fb/4 + 1/2)**2*(958.980225 + 449416.6845*(21.3223780873734*qb + 37.3141616529035)/(45*fb + 30) - 6237820831646.8*(0.571428571428571*qb + 1)**2/(45*fb + 30)**2)"
      ]
     },
     "execution_count": 7,
     "metadata": {},
     "output_type": "execute_result"
    }
   ],
   "source": [
    "Pp = rho*g*H;\n",
    "Pp"
   ]
  },
  {
   "cell_type": "code",
   "execution_count": 8,
   "metadata": {
    "pycharm": {
     "name": "#%%\n"
    }
   },
   "outputs": [
    {
     "data": {
      "text/latex": [
       "$\\displaystyle \\frac{586206062.231183 \\left(20 qb + 35\\right)^{2}}{\\left(0.571428571428571 qb + 1\\right)^{0.25}}$"
      ],
      "text/plain": [
       "586206062.231183*(0.571428571428571*qb + 1)**(-0.25)*(20*qb + 35)**2"
      ]
     },
     "execution_count": 8,
     "metadata": {},
     "output_type": "execute_result"
    }
   ],
   "source": [
    "# Calculo da press�o de intake\n",
    "F1 = 0.158*((rho*L1*q**2)/(D1*A1**2))*(mu/(rho*D1*q))**(1/4);\n",
    "F1\n"
   ]
  },
  {
   "cell_type": "code",
   "execution_count": 9,
   "metadata": {},
   "outputs": [
    {
     "data": {
      "text/latex": [
       "$\\displaystyle \\frac{1406894549.35484 \\left(20 qb + 35\\right)^{2}}{\\left(0.571428571428571 qb + 1\\right)^{0.25}}$"
      ],
      "text/plain": [
       "1406894549.35484*(0.571428571428571*qb + 1)**(-0.25)*(20*qb + 35)**2"
      ]
     },
     "execution_count": 9,
     "metadata": {},
     "output_type": "execute_result"
    }
   ],
   "source": [
    "F2 = 0.158*((rho*L2*q**2)/(D2*A2**2))*(mu/(rho*D2*q))**(1/4);\n",
    "F2"
   ]
  },
  {
   "cell_type": "code",
   "execution_count": 10,
   "metadata": {
    "pycharm": {
     "name": "#%%\n"
    }
   },
   "outputs": [],
   "source": [
    "P0 = -2.3599e9*q0**3 -1.8082e7*q0**2 +4.3346e6*q0 + 9.4355e4;\n",
    "pin = pbh - rho*g*h1 - F1\n",
    "P = Cp*P0*(fq/f0)**3; # Potencia\n",
    "I = Inp*P/Pnp;      # Corrente"
   ]
  },
  {
   "cell_type": "code",
   "execution_count": 11,
   "metadata": {},
   "outputs": [
    {
     "data": {
      "text/latex": [
       "$\\displaystyle 0.029232 - 0.00464 pbhb$"
      ],
      "text/plain": [
       "0.029232 - 0.00464*pbhb"
      ]
     },
     "execution_count": 11,
     "metadata": {},
     "output_type": "execute_result"
    }
   ],
   "source": [
    "# Vazao do reservatorio e vazao da choke\n",
    "qr  = PI*(pr - pbh);\n",
    "qr\n"
   ]
  },
  {
   "cell_type": "code",
   "execution_count": 12,
   "metadata": {},
   "outputs": [
    {
     "data": {
      "text/latex": [
       "$\\displaystyle 2.0 \\cdot 10^{-5} zcb \\sqrt{\\left|{2000000.0 pmb - 2000000.0 pwhb}\\right|} \\operatorname{sign}{\\left(- 2000000.0 pmb + 2000000.0 pwhb \\right)}$"
      ],
      "text/plain": [
       "2.0e-5*zcb*sqrt(Abs(2000000.0*pmb - 2000000.0*pwhb))*sign(-2000000.0*pmb + 2000000.0*pwhb)"
      ]
     },
     "execution_count": 12,
     "metadata": {},
     "output_type": "execute_result"
    }
   ],
   "source": [
    "qc  = Cc*(zc/100)*sign((pwh - pm))*sqrt(abs(pwh - pm));\n",
    "qc"
   ]
  },
  {
   "cell_type": "code",
   "execution_count": 13,
   "metadata": {
    "pycharm": {
     "name": "#%%\n"
    }
   },
   "outputs": [],
   "source": [
    "# dpbhdt = b1/V1*(qr - q);\n",
    "# dpwhdt = b2/V2*(q - qc);\n",
    "# dqdt = 1/M*(pbh - pwh - rho*g*hw - F1 - F2 + Pp);\n",
    "\n",
    "dpbhbdt = b1/V1*(qr - q);\n",
    "dpwhbdt = b2/V2*(q - qc);\n",
    "dqbdt = 1/M*(pbh - pwh - rho*g*hw - F1 - F2 + Pp);\n",
    "\n",
    "dpbhbdt=dpbhbdt/pmnorm[1]\n",
    "dpwhbdt=dpwhbdt/pmnorm[1]\n",
    "dqbdt=dqbdt/qnorm[1]"
   ]
  },
  {
   "cell_type": "code",
   "execution_count": 14,
   "metadata": {
    "pycharm": {
     "name": "#%%\n"
    }
   },
   "outputs": [
    {
     "name": "stdout",
     "output_type": "stream",
     "text": [
      "-0.85841144548594*pbhb - 3700.04933399112*qb - 6469.6783423779\n",
      "1541.78230033919*qb - 0.00154178230033919*zcb*sqrt(Abs(2000000.0*pmb - 2000000.0*pwhb))*sign(-2000000.0*pmb + 2000000.0*pwhb) + 2698.11902559359\n",
      "(0.571428571428571*qb + 1)**(-0.25)*((3*fb + 2)*(0.571428571428571*qb + 1)**0.25*(9*fb**2 + 12*fb + 4)*(0.00126184340270437*fb**2 + 0.0016824578702725*fb + 0.000502008032128514*pbhb - 0.000502008032128514*pwhb - 0.00177841263762001) - (3*fb + 2)*(0.571428571428571*qb + 1)**0.25*(2680109.93548065*fb**2*qb**2 + 9380384.77418228*fb**2*qb + 8207836.6774095*fb**2 + 3573479.9139742*fb*qb**2 + 12507179.6989097*fb*qb + 10943782.236546*fb + 1191159.97132473*qb**2 + 4169059.89963657*qb + 3647927.412182)/225 - (3*fb + 2)*(9*fb**2 + 12*fb + 4)*(200.110503171287*qb**2 + 700.386761099506*qb + 612.838415962068) + (0.571428571428571*qb + 1)**0.25*(9*fb**2 + 12*fb + 4)*(12.6089998960746*fb**2*qb + 22.0657498181306*fb**2 + 16.8119998614328*fb*qb + 29.4209997575074*fb + 5.60399995381094*qb + 9.80699991916914)/15)/((3*fb + 2)*(9*fb**2 + 12*fb + 4))\n"
     ]
    }
   ],
   "source": [
    "print(simplify(expand(dpbhbdt)))\n",
    "print(dpwhbdt)\n",
    "print(simplify(expand(dqbdt)))\n"
   ]
  },
  {
   "cell_type": "code",
   "execution_count": 15,
   "metadata": {},
   "outputs": [
    {
     "name": "stdout",
     "output_type": "stream",
     "text": [
      "[]\n"
     ]
    }
   ],
   "source": [
    "print(solve(dpbhbdt.subs(q,55),pbh))"
   ]
  },
  {
   "cell_type": "code",
   "execution_count": 16,
   "metadata": {},
   "outputs": [],
   "source": [
    "pbhss=dpbhbdt.subs(q,55)"
   ]
  },
  {
   "cell_type": "code",
   "execution_count": 17,
   "metadata": {},
   "outputs": [
    {
     "data": {
      "text/plain": [
       "[]"
      ]
     },
     "execution_count": 17,
     "metadata": {},
     "output_type": "execute_result"
    }
   ],
   "source": [
    "solve(pbhss,pbhb)"
   ]
  },
  {
   "cell_type": "code",
   "execution_count": 18,
   "metadata": {},
   "outputs": [
    {
     "name": "stdout",
     "output_type": "stream",
     "text": [
      "-0.85841144548594*pbhb - 3700.04933399112*qb - 6469.6783423779\n",
      "Piecewise((1541.78230033919*qb + 2698.11902559359, Eq(pmb, pwhb)), ((2.18040943936647*zcb*(pmb - pwhb) + (1541.78230033919*qb + 2698.11902559359)*Abs(sqrt(pmb - pwhb)))/Abs(sqrt(pmb - pwhb)), True))\n"
     ]
    }
   ],
   "source": [
    "print(simplify(expand(dpbhbdt)))\n",
    "print(simplify(expand(dpwhbdt)))"
   ]
  },
  {
   "cell_type": "code",
   "execution_count": 19,
   "metadata": {
    "pycharm": {
     "name": "#%%\n"
    }
   },
   "outputs": [
    {
     "name": "stdout",
     "output_type": "stream",
     "text": [
      "(0.571428571428571*qb + 1)**(-0.25)*((3*fb + 2)*(0.571428571428571*qb + 1)**0.25*(9*fb**2 + 12*fb + 4)*(0.00126184340270437*fb**2 + 0.0016824578702725*fb + 0.000502008032128514*pbhb - 0.000502008032128514*pwhb - 0.00177841263762001) - (3*fb + 2)*(0.571428571428571*qb + 1)**0.25*(2680109.93548065*fb**2*qb**2 + 9380384.77418228*fb**2*qb + 8207836.6774095*fb**2 + 3573479.9139742*fb*qb**2 + 12507179.6989097*fb*qb + 10943782.236546*fb + 1191159.97132473*qb**2 + 4169059.89963657*qb + 3647927.412182)/225 - (3*fb + 2)*(9*fb**2 + 12*fb + 4)*(200.110503171287*qb**2 + 700.386761099506*qb + 612.838415962068) + (0.571428571428571*qb + 1)**0.25*(9*fb**2 + 12*fb + 4)*(12.6089998960746*fb**2*qb + 22.0657498181306*fb**2 + 16.8119998614328*fb*qb + 29.4209997575074*fb + 5.60399995381094*qb + 9.80699991916914)/15)/((3*fb + 2)*(9*fb**2 + 12*fb + 4))\n"
     ]
    }
   ],
   "source": [
    "print(simplify(expand(dqbdt)))"
   ]
  },
  {
   "cell_type": "code",
   "execution_count": 20,
   "metadata": {},
   "outputs": [
    {
     "name": "stdout",
     "output_type": "stream",
     "text": [
      "- 0.85841144548594 pbhb - 3700.04933399112 qb - 6469.6783423779\n"
     ]
    }
   ],
   "source": [
    "print(latex(simplify(expand(dpbhbdt))))\n"
   ]
  },
  {
   "cell_type": "code",
   "execution_count": 21,
   "metadata": {},
   "outputs": [
    {
     "name": "stdout",
     "output_type": "stream",
     "text": [
      "\\begin{cases} 1541.78230033919 qb + 2698.11902559359 & \\text{for}\\: pmb = pwhb \\\\\\frac{2.18040943936647 zcb \\left(pmb - pwhb\\right) + \\left(1541.78230033919 qb + 2698.11902559359\\right) \\left|{\\sqrt{pmb - pwhb}}\\right|}{\\left|{\\sqrt{pmb - pwhb}}\\right|} & \\text{otherwise} \\end{cases}\n"
     ]
    }
   ],
   "source": [
    "print(latex(simplify(expand(dpwhbdt))))"
   ]
  },
  {
   "cell_type": "code",
   "execution_count": 22,
   "metadata": {},
   "outputs": [
    {
     "name": "stdout",
     "output_type": "stream",
     "text": [
      "\\frac{\\left(3 fb + 2\\right) \\left(0.571428571428571 qb + 1\\right)^{0.25} \\left(9 fb^{2} + 12 fb + 4\\right) \\left(0.00126184340270437 fb^{2} + 0.0016824578702725 fb + 0.000502008032128514 pbhb - 0.000502008032128514 pwhb - 0.00177841263762001\\right) - \\frac{\\left(3 fb + 2\\right) \\left(0.571428571428571 qb + 1\\right)^{0.25} \\left(2680109.93548065 fb^{2} qb^{2} + 9380384.77418228 fb^{2} qb + 8207836.6774095 fb^{2} + 3573479.9139742 fb qb^{2} + 12507179.6989097 fb qb + 10943782.236546 fb + 1191159.97132473 qb^{2} + 4169059.89963657 qb + 3647927.412182\\right)}{225} - \\left(3 fb + 2\\right) \\left(9 fb^{2} + 12 fb + 4\\right) \\left(200.110503171287 qb^{2} + 700.386761099506 qb + 612.838415962068\\right) + \\frac{\\left(0.571428571428571 qb + 1\\right)^{0.25} \\left(9 fb^{2} + 12 fb + 4\\right) \\left(12.6089998960746 fb^{2} qb + 22.0657498181306 fb^{2} + 16.8119998614328 fb qb + 29.4209997575074 fb + 5.60399995381094 qb + 9.80699991916914\\right)}{15}}{\\left(3 fb + 2\\right) \\left(0.571428571428571 qb + 1\\right)^{0.25} \\left(9 fb^{2} + 12 fb + 4\\right)}\n"
     ]
    }
   ],
   "source": [
    "print(latex(simplify(expand(dqbdt))))\n",
    "x3=latex(simplify(expand(dqbdt)))"
   ]
  },
  {
   "cell_type": "markdown",
   "metadata": {},
   "source": [
    "\n",
    "$- 0.85841144548594 pbhb - 3700.04933399112 qb - 6469.6783423779$\n",
    "\n",
    "\n",
    "$\\begin{cases} 1541.78230033919 qb + 2698.11902559359 & \\text{for}\\: pmb = pwhb \\\\\\frac{2.18040943936647 zcb \\left(pmb - pwhb\\right) + \\left(1541.78230033919 qb + 2698.11902559359\\right) \\left|{\\sqrt{pmb - pwhb}}\\right|}{\\left|{\\sqrt{pmb - pwhb}}\\right|} & \\text{otherwise} \\end{cases}$\n",
    "\n",
    "$\\frac{\\left(3 fb + 2\\right) \\left(0.571428571428571 qb + 1\\right)^{0.25} \\left(9 fb^{2} + 12 fb + 4\\right) \\left(0.00126184340270437 fb^{2} + 0.0016824578702725 fb + 0.000502008032128514 pbhb - 0.000502008032128514 pwhb - 0.00177841263762001\\right) - \\frac{\\left(3 fb + 2\\right) \\left(0.571428571428571 qb + 1\\right)^{0.25} \\left(2680109.93548065 fb^{2} qb^{2} + 9380384.77418228 fb^{2} qb + 8207836.6774095 fb^{2} + 3573479.9139742 fb qb^{2} + 12507179.6989097 fb qb + 10943782.236546 fb + 1191159.97132473 qb^{2} + 4169059.89963657 qb + 3647927.412182\\right)}{225} - \\left(3 fb + 2\\right) \\left(9 fb^{2} + 12 fb + 4\\right) \\left(200.110503171287 qb^{2} + 700.386761099506 qb + 612.838415962068\\right) + \\frac{\\left(0.571428571428571 qb + 1\\right)^{0.25} \\left(9 fb^{2} + 12 fb + 4\\right) \\left(12.6089998960746 fb^{2} qb + 22.0657498181306 fb^{2} + 16.8119998614328 fb qb + 29.4209997575074 fb + 5.60399995381094 qb + 9.80699991916914\\right)}{15}}{\\left(3 fb + 2\\right) \\left(0.571428571428571 qb + 1\\right)^{0.25} \\left(9 fb^{2} + 12 fb + 4\\right)}\n",
    "$\n"
   ]
  },
  {
   "cell_type": "code",
   "execution_count": 23,
   "metadata": {},
   "outputs": [],
   "source": [
    "def sympy2casadi(sympy_expr,sympy_var,casadi_var):\n",
    "  import casadi\n",
    "  assert casadi_var.is_vector()\n",
    "  if casadi_var.shape[1]>1:\n",
    "    casadi_var = casadi_var.T\n",
    "  casadi_var = casadi.vertsplit(casadi_var)\n",
    "  from sympy.utilities.lambdify import lambdify\n",
    "\n",
    "  mapping = {'ImmutableDenseMatrix': casadi.blockcat,\n",
    "             'MutableDenseMatrix': casadi.blockcat,\n",
    "             'Abs':casadi.fabs\n",
    "            }\n",
    "  f = lambdify(sympy_expr,sympy_var,modules=[mapping, casadi])\n",
    "  print(casadi_var)\n",
    "  return f(*casadi_var)"
   ]
  },
  {
   "cell_type": "code",
   "execution_count": 24,
   "metadata": {
    "pycharm": {
     "name": "#%%\n"
    }
   },
   "outputs": [],
   "source": [
    "# Criando simbolica\n",
    "from casadi import *\n",
    "nx = 3; nu = 3;\n",
    "x = MX.sym(\"x\",nx); # Estados\n",
    "u = MX.sym(\"u\",nu); # Exogena\n",
    "dudt_max = MX.sym(\"dudt_max\",2); # Exogena\n",
    "\n",
    "## Montado o sistema de equa��es\n",
    "# Estados\n",
    "pbh = x[0]; pwh = x[1]; q = x[2];\n",
    "# Entradas\n",
    "f = u[0]; zc = u[1]; pm = u[2];"
   ]
  },
  {
   "cell_type": "markdown",
   "metadata": {
    "pycharm": {
     "name": "#%% md\n"
    }
   },
   "source": [
    "Troca manual de variáveis sympy to casadi\n",
    "e definição do SEDO\n"
   ]
  },
  {
   "cell_type": "code",
   "execution_count": 25,
   "metadata": {
    "pycharm": {
     "name": "#%%\n"
    }
   },
   "outputs": [
    {
     "data": {
      "text/latex": [
       "$\\displaystyle - 0.85841144548594 pbhb - 3700.04933399112 qb - 6469.6783423779$"
      ],
      "text/plain": [
       "-0.85841144548594*pbhb - 3700.04933399112*qb - 6469.6783423779"
      ]
     },
     "execution_count": 25,
     "metadata": {},
     "output_type": "execute_result"
    }
   ],
   "source": [
    "dpbhbdt\n",
    "pbss=dpbhbdt.subs([pbhb,qb],[0,0.5])\n",
    "pbss"
   ]
  },
  {
   "cell_type": "code",
   "execution_count": 26,
   "metadata": {
    "pycharm": {
     "name": "#%%\n"
    }
   },
   "outputs": [
    {
     "data": {
      "text/latex": [
       "$\\displaystyle \\emptyset$"
      ],
      "text/plain": [
       "EmptySet"
      ]
     },
     "execution_count": 26,
     "metadata": {},
     "output_type": "execute_result"
    }
   ],
   "source": [
    "pbh_ss=dpbhbdt.evalf(subs={qb:0})\n",
    "pbh_ss\n",
    "solveset(Eq(pbh_ss,0),pbhb)"
   ]
  },
  {
   "cell_type": "code",
   "execution_count": 27,
   "metadata": {
    "pycharm": {
     "name": "#%%\n"
    }
   },
   "outputs": [],
   "source": [
    "dpbhdt=-0.85841144548594*pbh-3700.04933399112*q-6469.6783423779"
   ]
  },
  {
   "cell_type": "code",
   "execution_count": 28,
   "metadata": {
    "pycharm": {
     "name": "#%%\n"
    }
   },
   "outputs": [],
   "source": [
    "diffp=(pm-pwh)\n",
    "dpwhdt=(2.18040943936647*zc*diffp+(1541.78230033919*q+2698.11902559359)*fabs(sqrt(diffp)))/fabs(sqrt(diffp))"
   ]
  },
  {
   "cell_type": "code",
   "execution_count": 29,
   "metadata": {
    "pycharm": {
     "name": "#%%\n"
    }
   },
   "outputs": [],
   "source": [
    "dqdt=(0.571428571428571*q + 1)**(-0.25)*((3*f + 2)*(0.571428571428571*q + 1)**0.25*(9*f**2 + 12*f + 4)*(0.00126184340270437*f**2 + 0.0016824578702725*f + 0.000502008032128514*pbh - 0.000502008032128514*pwh - 0.00177841263762001) - (3*f + 2)*(0.571428571428571*q + 1)**0.25*(2680109.93548065*f**2*q**2 + 9380384.77418228*f**2*q + 8207836.6774095*f**2 + 3573479.9139742*f*q**2 + 12507179.6989097*f*q + 10943782.236546*f + 1191159.97132473*q**2 + 4169059.89963657*q + 3647927.412182)/225 - (3*f + 2)*(9*f**2 + 12*f + 4)*(200.110503171287*q**2 + 700.386761099506*q + 612.838415962068) + (0.571428571428571*q + 1)**0.25*(9*f**2 + 12*f + 4)*(12.6089998960746*f**2*q + 22.0657498181306*f**2 + 16.8119998614328*f*q + 29.4209997575074*f + 5.60399995381094*q + 9.80699991916914)/15)/((3*f + 2)*(9*f**2 + 12*f + 4))"
   ]
  },
  {
   "cell_type": "code",
   "execution_count": 30,
   "metadata": {
    "pycharm": {
     "name": "#%%\n"
    }
   },
   "outputs": [],
   "source": [
    "dxdt = vertcat(dpbhdt,dpwhdt,dqdt)\n",
    "\n",
    "Eq_Estado = Function('Eq_Estado', [x,u], [vertcat(dpbhdt,dpwhdt,dqdt)]); #entradas EDO"
   ]
  },
  {
   "cell_type": "code",
   "execution_count": 31,
   "metadata": {
    "pycharm": {
     "name": "#%%\n"
    }
   },
   "outputs": [],
   "source": [
    "# % Equa��o de medi��o\n",
    "# Calculo do HEAD e delta de press�o\n",
    "fq=f\n",
    "q0 = q/Cq*(f0/fq); H0 = -1.2454e6*q0**2 + 7.4959e3*q0 + 9.5970e2;\n",
    "H = CH*H0*(fq/f0)**2; # Head\n",
    "\n",
    "F1 = 0.158*((rho*L1*q**2)/(D1*A1**2))*(mu/(rho*D1*q))**(1/4);\n",
    "F2 = 0.158*((rho*L2*q**2)/(D2*A2**2))*(mu/(rho*D2*q))**(1/4);\n",
    "pin = pbh - rho*g*h1 - F1;\n",
    "\n",
    "y=vertcat(pin,H);\n",
    "ny = y.size1()"
   ]
  },
  {
   "cell_type": "code",
   "execution_count": 32,
   "metadata": {
    "pycharm": {
     "name": "#%%\n"
    }
   },
   "outputs": [],
   "source": [
    "sea_nl = Function('sea_nl',[x,u],[y,pin,H],\\\n",
    "                  ['x','u'],['y','pin','H']); # Sistema de Eq. Algebricas variaveis de sa�da"
   ]
  },
  {
   "cell_type": "code",
   "execution_count": 33,
   "metadata": {
    "pycharm": {
     "name": "#%%\n"
    }
   },
   "outputs": [],
   "source": [
    "BCS={\n",
    "     'x': x,\n",
    "     'u': u,\n",
    "     'y': y,\n",
    "     'nx': nx,\n",
    "     'nu': nu,\n",
    "     'ny': ny,\n",
    "     'NaoLinear': {'sedo_nl': Eq_Estado(x,u),\n",
    "                   'sea_nl': sea_nl}\n",
    "}"
   ]
  },
  {
   "cell_type": "code",
   "execution_count": 33,
   "metadata": {
    "pycharm": {
     "name": "#%%\n"
    }
   },
   "outputs": [],
   "source": []
  },
  {
   "cell_type": "code",
   "execution_count": 34,
   "metadata": {
    "pycharm": {
     "name": "#%% Calculo do estacionario\n"
    }
   },
   "outputs": [],
   "source": [
    "#% Func��o objetivo\n",
    "dxdt_0 = Eq_Estado(BCS['x'], BCS['u']);\n",
    "J = sum1(dxdt_0**2);"
   ]
  },
  {
   "cell_type": "code",
   "execution_count": 35,
   "metadata": {
    "pycharm": {
     "name": "#%%\n"
    }
   },
   "outputs": [],
   "source": [
    "#% Otimizador\n",
    "opt={\n",
    "     'ipopt':{\n",
    "         'print_level':0,\n",
    "         'acceptable_tol':1e-8,\n",
    "         'acceptable_obj_change_tol':1e-6,\n",
    "         'max_iter':50\n",
    "         },\n",
    "     'print_time':0,\n",
    "     }\n",
    "\n",
    "opt['ipopt']['print_level']=0;# %0,3\n",
    "opt['print_time']=0;\n",
    "opt['ipopt']['acceptable_tol']=1e-8;\n",
    "opt['ipopt']['acceptable_obj_change_tol']=1e-6;\n",
    "opt['ipopt']['max_iter']=50;"
   ]
  },
  {
   "cell_type": "code",
   "execution_count": 36,
   "metadata": {
    "pycharm": {
     "name": "#%%\n"
    }
   },
   "outputs": [],
   "source": [
    "MMQ = {'f':J,\n",
    "       'x':BCS['x'],\n",
    "       'p':BCS['u']\n",
    "       }\n",
    "nlp={'x':vertcat(BCS['x'],BCS['u']), 'f':J}\n",
    "solver = nlpsol('solver', 'ipopt', MMQ, opt);"
   ]
  },
  {
   "cell_type": "code",
   "execution_count": 37,
   "metadata": {
    "pycharm": {
     "name": "#%%\n"
    }
   },
   "outputs": [],
   "source": [
    "# Restrições das variaveis de decis�o\n",
    "# minimo\n",
    "args={\n",
    "      'lbx': np.zeros((nx,1)),\n",
    "# m�ximo\n",
    "      'ubx':np.full((nx, 1), np.inf)\n",
    "      }\n",
    "\n",
    "\n",
    "# Solu��o do otimizador\n",
    "sol=solver(x0=BCS['x'], lbx=args['lbx'], ubx=args['ubx'], p=BCS['u']);\n",
    "yss=sea_nl(sol['x'],BCS['u'])"
   ]
  },
  {
   "cell_type": "code",
   "execution_count": 38,
   "metadata": {
    "pycharm": {
     "name": "#%%\n"
    }
   },
   "outputs": [],
   "source": [
    "Estacionario = Function('Estacionario',[BCS['x'],BCS['u']],\\\n",
    "    [sol['x'],yss[0]],\\\n",
    "    ['x0','uss'],['xss','yss']);\n",
    "\n",
    "BCS['Estacionario'] = Estacionario;"
   ]
  },
  {
   "cell_type": "code",
   "execution_count": 39,
   "metadata": {
    "pycharm": {
     "name": "#%%\n"
    }
   },
   "outputs": [],
   "source": [
    "#% Condição inicial normalizada\n",
    "unorm1=np.array([(1)/fnorm[1], (1)/zcnorm[1], (1)/pmnorm[1]])\n",
    "unorm2=np.array([fnorm[0], zcnorm[0], pmnorm[0]])"
   ]
  },
  {
   "cell_type": "code",
   "execution_count": 40,
   "metadata": {
    "pycharm": {
     "name": "#%%\n"
    }
   },
   "outputs": [],
   "source": [
    "f_ss,zc_ss, pm_ss = (np.array([50, 50, 2e6])-unorm2)*unorm1"
   ]
  },
  {
   "cell_type": "code",
   "execution_count": 41,
   "metadata": {
    "pycharm": {
     "name": "#%%\n"
    }
   },
   "outputs": [],
   "source": [
    "#% Condição inicial normalizada\n",
    "f_ss,zc_ss, pm_ss\n",
    "\n",
    "uss = [f_ss,zc_ss,pm_ss]; # Entradas do estacionario"
   ]
  },
  {
   "cell_type": "code",
   "execution_count": 42,
   "metadata": {
    "pycharm": {
     "name": "#%%\n"
    }
   },
   "outputs": [
    {
     "name": "stdout",
     "output_type": "stream",
     "text": [
      "\n",
      "******************************************************************************\n",
      "This program contains Ipopt, a library for large-scale nonlinear optimization.\n",
      " Ipopt is released as open source code under the Eclipse Public License (EPL).\n",
      "         For more information visit https://github.com/coin-or/Ipopt\n",
      "******************************************************************************\n",
      "\n"
     ]
    },
    {
     "name": "stderr",
     "output_type": "stream",
     "text": [
      "CasADi - 2021-05-20 18:39:02 WARNING(\"solver:nlp_f failed: NaN detected for output f, at (row 0, col 0).\") [.../casadi/core/oracle_function.cpp:265]\n",
      "CasADi - 2021-05-20 18:39:02 WARNING(\"solver:nlp_f failed: NaN detected for output f, at (row 0, col 0).\") [.../casadi/core/oracle_function.cpp:265]\n",
      "CasADi - 2021-05-20 18:39:02 WARNING(\"solver:nlp_f failed: NaN detected for output f, at (row 0, col 0).\") [.../casadi/core/oracle_function.cpp:265]\n",
      "CasADi - 2021-05-20 18:39:02 WARNING(\"solver:nlp_f failed: NaN detected for output f, at (row 0, col 0).\") [.../casadi/core/oracle_function.cpp:265]\n",
      "CasADi - 2021-05-20 18:39:02 WARNING(\"solver:nlp_f failed: NaN detected for output f, at (row 0, col 0).\") [.../casadi/core/oracle_function.cpp:265]\n",
      "CasADi - 2021-05-20 18:39:02 WARNING(\"solver:nlp_f failed: NaN detected for output f, at (row 0, col 0).\") [.../casadi/core/oracle_function.cpp:265]\n",
      "CasADi - 2021-05-20 18:39:02 WARNING(\"solver:nlp_f failed: NaN detected for output f, at (row 0, col 0).\") [.../casadi/core/oracle_function.cpp:265]\n",
      "CasADi - 2021-05-20 18:39:02 WARNING(\"solver:nlp_f failed: NaN detected for output f, at (row 0, col 0).\") [.../casadi/core/oracle_function.cpp:265]\n",
      "CasADi - 2021-05-20 18:39:02 WARNING(\"solver:nlp_f failed: NaN detected for output f, at (row 0, col 0).\") [.../casadi/core/oracle_function.cpp:265]\n",
      "CasADi - 2021-05-20 18:39:02 WARNING(\"solver:nlp_f failed: NaN detected for output f, at (row 0, col 0).\") [.../casadi/core/oracle_function.cpp:265]\n",
      "CasADi - 2021-05-20 18:39:02 WARNING(\"solver:nlp_f failed: NaN detected for output f, at (row 0, col 0).\") [.../casadi/core/oracle_function.cpp:265]\n",
      "CasADi - 2021-05-20 18:39:02 WARNING(\"solver:nlp_f failed: NaN detected for output f, at (row 0, col 0).\") [.../casadi/core/oracle_function.cpp:265]\n",
      "CasADi - 2021-05-20 18:39:02 WARNING(\"solver:nlp_f failed: NaN detected for output f, at (row 0, col 0).\") [.../casadi/core/oracle_function.cpp:265]\n",
      "CasADi - 2021-05-20 18:39:02 WARNING(\"solver:nlp_f failed: NaN detected for output f, at (row 0, col 0).\") [.../casadi/core/oracle_function.cpp:265]\n",
      "CasADi - 2021-05-20 18:39:02 WARNING(\"solver:nlp_f failed: NaN detected for output f, at (row 0, col 0).\") [.../casadi/core/oracle_function.cpp:265]\n",
      "CasADi - 2021-05-20 18:39:02 WARNING(\"solver:nlp_f failed: NaN detected for output f, at (row 0, col 0).\") [.../casadi/core/oracle_function.cpp:265]\n",
      "CasADi - 2021-05-20 18:39:02 WARNING(\"solver:nlp_f failed: NaN detected for output f, at (row 0, col 0).\") [.../casadi/core/oracle_function.cpp:265]\n",
      "CasADi - 2021-05-20 18:39:02 WARNING(\"solver:nlp_f failed: NaN detected for output f, at (row 0, col 0).\") [.../casadi/core/oracle_function.cpp:265]\n",
      "CasADi - 2021-05-20 18:39:02 WARNING(\"solver:nlp_f failed: NaN detected for output f, at (row 0, col 0).\") [.../casadi/core/oracle_function.cpp:265]\n",
      "CasADi - 2021-05-20 18:39:02 WARNING(\"solver:nlp_f failed: NaN detected for output f, at (row 0, col 0).\") [.../casadi/core/oracle_function.cpp:265]\n",
      "CasADi - 2021-05-20 18:39:02 WARNING(\"solver:nlp_f failed: NaN detected for output f, at (row 0, col 0).\") [.../casadi/core/oracle_function.cpp:265]\n",
      "CasADi - 2021-05-20 18:39:02 WARNING(\"solver:nlp_f failed: NaN detected for output f, at (row 0, col 0).\") [.../casadi/core/oracle_function.cpp:265]\n",
      "CasADi - 2021-05-20 18:39:02 WARNING(\"solver:nlp_f failed: NaN detected for output f, at (row 0, col 0).\") [.../casadi/core/oracle_function.cpp:265]\n",
      "CasADi - 2021-05-20 18:39:02 WARNING(\"solver:nlp_f failed: NaN detected for output f, at (row 0, col 0).\") [.../casadi/core/oracle_function.cpp:265]\n",
      "CasADi - 2021-05-20 18:39:02 WARNING(\"solver:nlp_f failed: NaN detected for output f, at (row 0, col 0).\") [.../casadi/core/oracle_function.cpp:265]\n",
      "CasADi - 2021-05-20 18:39:02 WARNING(\"solver:nlp_f failed: NaN detected for output f, at (row 0, col 0).\") [.../casadi/core/oracle_function.cpp:265]\n",
      "CasADi - 2021-05-20 18:39:02 WARNING(\"solver:nlp_f failed: NaN detected for output f, at (row 0, col 0).\") [.../casadi/core/oracle_function.cpp:265]\n",
      "CasADi - 2021-05-20 18:39:02 WARNING(\"solver:nlp_f failed: NaN detected for output f, at (row 0, col 0).\") [.../casadi/core/oracle_function.cpp:265]\n",
      "CasADi - 2021-05-20 18:39:02 WARNING(\"solver:nlp_f failed: NaN detected for output f, at (row 0, col 0).\") [.../casadi/core/oracle_function.cpp:265]\n",
      "CasADi - 2021-05-20 18:39:02 WARNING(\"solver:nlp_f failed: NaN detected for output f, at (row 0, col 0).\") [.../casadi/core/oracle_function.cpp:265]\n",
      "CasADi - 2021-05-20 18:39:02 WARNING(\"solver:nlp_f failed: NaN detected for output f, at (row 0, col 0).\") [.../casadi/core/oracle_function.cpp:265]\n",
      "CasADi - 2021-05-20 18:39:02 WARNING(\"solver:nlp_f failed: NaN detected for output f, at (row 0, col 0).\") [.../casadi/core/oracle_function.cpp:265]\n",
      "CasADi - 2021-05-20 18:39:02 WARNING(\"solver:nlp_f failed: NaN detected for output f, at (row 0, col 0).\") [.../casadi/core/oracle_function.cpp:265]\n",
      "CasADi - 2021-05-20 18:39:02 WARNING(\"solver:nlp_f failed: NaN detected for output f, at (row 0, col 0).\") [.../casadi/core/oracle_function.cpp:265]\n",
      "CasADi - 2021-05-20 18:39:02 WARNING(\"solver:nlp_f failed: NaN detected for output f, at (row 0, col 0).\") [.../casadi/core/oracle_function.cpp:265]\n",
      "CasADi - 2021-05-20 18:39:02 WARNING(\"solver:nlp_f failed: NaN detected for output f, at (row 0, col 0).\") [.../casadi/core/oracle_function.cpp:265]\n",
      "CasADi - 2021-05-20 18:39:02 WARNING(\"solver:nlp_f failed: NaN detected for output f, at (row 0, col 0).\") [.../casadi/core/oracle_function.cpp:265]\n",
      "CasADi - 2021-05-20 18:39:02 WARNING(\"solver:nlp_f failed: NaN detected for output f, at (row 0, col 0).\") [.../casadi/core/oracle_function.cpp:265]\n",
      "CasADi - 2021-05-20 18:39:02 WARNING(\"solver:nlp_f failed: NaN detected for output f, at (row 0, col 0).\") [.../casadi/core/oracle_function.cpp:265]\n",
      "CasADi - 2021-05-20 18:39:02 WARNING(\"solver:nlp_f failed: NaN detected for output f, at (row 0, col 0).\") [.../casadi/core/oracle_function.cpp:265]\n",
      "CasADi - 2021-05-20 18:39:02 WARNING(\"solver:nlp_f failed: NaN detected for output f, at (row 0, col 0).\") [.../casadi/core/oracle_function.cpp:265]\n",
      "CasADi - 2021-05-20 18:39:02 WARNING(\"solver:nlp_f failed: NaN detected for output f, at (row 0, col 0).\") [.../casadi/core/oracle_function.cpp:265]\n",
      "CasADi - 2021-05-20 18:39:02 WARNING(\"solver:nlp_f failed: NaN detected for output f, at (row 0, col 0).\") [.../casadi/core/oracle_function.cpp:265]\n",
      "CasADi - 2021-05-20 18:39:02 WARNING(\"solver:nlp_f failed: NaN detected for output f, at (row 0, col 0).\") [.../casadi/core/oracle_function.cpp:265]\n",
      "CasADi - 2021-05-20 18:39:02 WARNING(\"solver:nlp_f failed: NaN detected for output f, at (row 0, col 0).\") [.../casadi/core/oracle_function.cpp:265]\n",
      "CasADi - 2021-05-20 18:39:02 WARNING(\"solver:nlp_f failed: NaN detected for output f, at (row 0, col 0).\") [.../casadi/core/oracle_function.cpp:265]\n",
      "CasADi - 2021-05-20 18:39:02 WARNING(\"solver:nlp_f failed: NaN detected for output f, at (row 0, col 0).\") [.../casadi/core/oracle_function.cpp:265]\n",
      "CasADi - 2021-05-20 18:39:02 WARNING(\"solver:nlp_f failed: NaN detected for output f, at (row 0, col 0).\") [.../casadi/core/oracle_function.cpp:265]\n",
      "CasADi - 2021-05-20 18:39:02 WARNING(\"solver:nlp_f failed: NaN detected for output f, at (row 0, col 0).\") [.../casadi/core/oracle_function.cpp:265]\n",
      "CasADi - 2021-05-20 18:39:02 WARNING(\"solver:nlp_f failed: NaN detected for output f, at (row 0, col 0).\") [.../casadi/core/oracle_function.cpp:265]\n",
      "CasADi - 2021-05-20 18:39:02 WARNING(\"solver:nlp_f failed: NaN detected for output f, at (row 0, col 0).\") [.../casadi/core/oracle_function.cpp:265]\n",
      "CasADi - 2021-05-20 18:39:02 WARNING(\"solver:nlp_f failed: NaN detected for output f, at (row 0, col 0).\") [.../casadi/core/oracle_function.cpp:265]\n",
      "CasADi - 2021-05-20 18:39:02 WARNING(\"solver:nlp_f failed: NaN detected for output f, at (row 0, col 0).\") [.../casadi/core/oracle_function.cpp:265]\n",
      "CasADi - 2021-05-20 18:39:02 WARNING(\"solver:nlp_f failed: NaN detected for output f, at (row 0, col 0).\") [.../casadi/core/oracle_function.cpp:265]\n",
      "CasADi - 2021-05-20 18:39:02 WARNING(\"solver:nlp_f failed: NaN detected for output f, at (row 0, col 0).\") [.../casadi/core/oracle_function.cpp:265]\n",
      "CasADi - 2021-05-20 18:39:02 WARNING(\"solver:nlp_f failed: NaN detected for output f, at (row 0, col 0).\") [.../casadi/core/oracle_function.cpp:265]\n",
      "CasADi - 2021-05-20 18:39:02 WARNING(\"solver:nlp_f failed: NaN detected for output f, at (row 0, col 0).\") [.../casadi/core/oracle_function.cpp:265]\n",
      "CasADi - 2021-05-20 18:39:02 WARNING(\"solver:nlp_f failed: NaN detected for output f, at (row 0, col 0).\") [.../casadi/core/oracle_function.cpp:265]\n",
      "CasADi - 2021-05-20 18:39:02 WARNING(\"solver:nlp_f failed: NaN detected for output f, at (row 0, col 0).\") [.../casadi/core/oracle_function.cpp:265]\n",
      "CasADi - 2021-05-20 18:39:02 WARNING(\"solver:nlp_f failed: NaN detected for output f, at (row 0, col 0).\") [.../casadi/core/oracle_function.cpp:265]\n",
      "CasADi - 2021-05-20 18:39:02 WARNING(\"solver:nlp_f failed: NaN detected for output f, at (row 0, col 0).\") [.../casadi/core/oracle_function.cpp:265]\n",
      "CasADi - 2021-05-20 18:39:02 WARNING(\"solver:nlp_f failed: NaN detected for output f, at (row 0, col 0).\") [.../casadi/core/oracle_function.cpp:265]\n",
      "CasADi - 2021-05-20 18:39:02 WARNING(\"solver:nlp_f failed: NaN detected for output f, at (row 0, col 0).\") [.../casadi/core/oracle_function.cpp:265]\n",
      "CasADi - 2021-05-20 18:39:02 WARNING(\"solver:nlp_f failed: NaN detected for output f, at (row 0, col 0).\") [.../casadi/core/oracle_function.cpp:265]\n",
      "CasADi - 2021-05-20 18:39:02 WARNING(\"solver:nlp_f failed: NaN detected for output f, at (row 0, col 0).\") [.../casadi/core/oracle_function.cpp:265]\n",
      "CasADi - 2021-05-20 18:39:02 WARNING(\"solver:nlp_f failed: NaN detected for output f, at (row 0, col 0).\") [.../casadi/core/oracle_function.cpp:265]\n",
      "CasADi - 2021-05-20 18:39:02 WARNING(\"solver:nlp_f failed: NaN detected for output f, at (row 0, col 0).\") [.../casadi/core/oracle_function.cpp:265]\n",
      "CasADi - 2021-05-20 18:39:02 WARNING(\"solver:nlp_f failed: NaN detected for output f, at (row 0, col 0).\") [.../casadi/core/oracle_function.cpp:265]\n",
      "CasADi - 2021-05-20 18:39:02 WARNING(\"solver:nlp_f failed: NaN detected for output f, at (row 0, col 0).\") [.../casadi/core/oracle_function.cpp:265]\n",
      "CasADi - 2021-05-20 18:39:02 WARNING(\"solver:nlp_f failed: NaN detected for output f, at (row 0, col 0).\") [.../casadi/core/oracle_function.cpp:265]\n",
      "CasADi - 2021-05-20 18:39:02 WARNING(\"solver:nlp_f failed: NaN detected for output f, at (row 0, col 0).\") [.../casadi/core/oracle_function.cpp:265]\n",
      "CasADi - 2021-05-20 18:39:02 WARNING(\"solver:nlp_f failed: NaN detected for output f, at (row 0, col 0).\") [.../casadi/core/oracle_function.cpp:265]\n",
      "CasADi - 2021-05-20 18:39:02 WARNING(\"solver:nlp_f failed: NaN detected for output f, at (row 0, col 0).\") [.../casadi/core/oracle_function.cpp:265]\n",
      "CasADi - 2021-05-20 18:39:02 WARNING(\"solver:nlp_f failed: NaN detected for output f, at (row 0, col 0).\") [.../casadi/core/oracle_function.cpp:265]\n",
      "CasADi - 2021-05-20 18:39:02 WARNING(\"solver:nlp_f failed: NaN detected for output f, at (row 0, col 0).\") [.../casadi/core/oracle_function.cpp:265]\n",
      "CasADi - 2021-05-20 18:39:02 WARNING(\"solver:nlp_f failed: NaN detected for output f, at (row 0, col 0).\") [.../casadi/core/oracle_function.cpp:265]\n",
      "CasADi - 2021-05-20 18:39:02 WARNING(\"solver:nlp_f failed: NaN detected for output f, at (row 0, col 0).\") [.../casadi/core/oracle_function.cpp:265]\n",
      "CasADi - 2021-05-20 18:39:02 WARNING(\"solver:nlp_f failed: NaN detected for output f, at (row 0, col 0).\") [.../casadi/core/oracle_function.cpp:265]\n",
      "CasADi - 2021-05-20 18:39:02 WARNING(\"solver:nlp_f failed: NaN detected for output f, at (row 0, col 0).\") [.../casadi/core/oracle_function.cpp:265]\n",
      "CasADi - 2021-05-20 18:39:02 WARNING(\"solver:nlp_f failed: NaN detected for output f, at (row 0, col 0).\") [.../casadi/core/oracle_function.cpp:265]\n",
      "CasADi - 2021-05-20 18:39:02 WARNING(\"solver:nlp_f failed: NaN detected for output f, at (row 0, col 0).\") [.../casadi/core/oracle_function.cpp:265]\n",
      "CasADi - 2021-05-20 18:39:02 WARNING(\"solver:nlp_f failed: NaN detected for output f, at (row 0, col 0).\") [.../casadi/core/oracle_function.cpp:265]\n",
      "CasADi - 2021-05-20 18:39:02 WARNING(\"solver:nlp_f failed: NaN detected for output f, at (row 0, col 0).\") [.../casadi/core/oracle_function.cpp:265]\n"
     ]
    },
    {
     "data": {
      "text/plain": [
       "DM([-0.273117, 1, -1.7487])"
      ]
     },
     "execution_count": 42,
     "metadata": {},
     "output_type": "execute_result"
    }
   ],
   "source": [
    "#% Calculo do estacionario\n",
    "x0 = [0.2,0.5,0.5]\n",
    "\n",
    "#x0 = np.array([8311024.82175957,2990109.06207437,0.00995042241351780]);\n",
    "#args.lbx(4) = uss[0];\n",
    "#args.ubx(4) = uss[0];   # bounds freq. solver\n",
    "#args.lbx(5) = uss[1];\n",
    "#args.ubx(5) = uss[1];   # bounds zc solver\n",
    "#sol=solver('x0',x0, 'lbx', args['lbx'], 'ubx', args['ubx'], 'p', uss);\n",
    "sol=solver(x0=x0, p=uss)\n",
    "sol['x']"
   ]
  },
  {
   "cell_type": "code",
   "execution_count": 43,
   "metadata": {
    "pycharm": {
     "name": "#%%\n"
    }
   },
   "outputs": [
    {
     "ename": "AttributeError",
     "evalue": "'dict' object has no attribute 'x'",
     "output_type": "error",
     "traceback": [
      "\u001b[0;31m---------------------------------------------------------------------------\u001b[0m",
      "\u001b[0;31mAttributeError\u001b[0m                            Traceback (most recent call last)",
      "\u001b[0;32m<ipython-input-43-a49b3e9dacf6>\u001b[0m in \u001b[0;36m<module>\u001b[0;34m\u001b[0m\n\u001b[0;32m----> 1\u001b[0;31m \u001b[0mxss\u001b[0m \u001b[0;34m=\u001b[0m \u001b[0msol\u001b[0m\u001b[0;34m.\u001b[0m\u001b[0mx\u001b[0m\u001b[0;34m;\u001b[0m\u001b[0;34m\u001b[0m\u001b[0;34m\u001b[0m\u001b[0m\n\u001b[0m\u001b[1;32m      2\u001b[0m \u001b[0myss\u001b[0m \u001b[0;34m=\u001b[0m \u001b[0msea_nl\u001b[0m\u001b[0;34m(\u001b[0m\u001b[0mxss\u001b[0m\u001b[0;34m,\u001b[0m\u001b[0muss\u001b[0m\u001b[0;34m)\u001b[0m\u001b[0;34m;\u001b[0m\u001b[0;34m\u001b[0m\u001b[0;34m\u001b[0m\u001b[0m\n\u001b[1;32m      3\u001b[0m \u001b[0;34m\u001b[0m\u001b[0m\n",
      "\u001b[0;31mAttributeError\u001b[0m: 'dict' object has no attribute 'x'"
     ]
    }
   ],
   "source": [
    "xss = sol.x;\n",
    "yss = sea_nl(xss,uss);"
   ]
  },
  {
   "cell_type": "code",
   "execution_count": null,
   "metadata": {
    "pycharm": {
     "name": "#%%\n"
    }
   },
   "outputs": [],
   "source": [
    "uss = np.array([[f_ss],[zc_ss],[pm_ss]]); # Entradas do estacionario\n",
    "\n",
    "# Definir variaveis manipuladas e controladas e disturbio externo\n",
    "mv = [0,1];    #% [f, Zc]\n",
    "pv = [0,1];  #% [pin, H]\n",
    "de = 2;      #% [pm]\n",
    "tg = 2;      #% MV target\n",
    "#% Parametros\n",
    "ts = 1;                     #% tempo de amostragem (ts = 1 não converge)\n",
    "\n",
    "#% Restrição\n",
    "umin  = np.array([35, 0]); np.transpose(umin);  # lower bounds of inputs\n",
    "umax  = np.array([65, 100]); np.transpose(umax); # upper bounds of inputs"
   ]
  },
  {
   "cell_type": "code",
   "execution_count": null,
   "metadata": {
    "pycharm": {
     "name": "#%%\n"
    }
   },
   "outputs": [],
   "source": [
    "#%Modelo de predição\n",
    "#% Criando o objeto para predição do modelo\n",
    "# Iniciando variavel dicionário para a construção da EDO\n",
    "sedo = {'x': BCS['x'], # Estados\n",
    "        'p': BCS['u'], #Variáveis exogenas\n",
    "        'ode': BCS['NaoLinear']['sedo_nl'] # SEDO (Gerado no bcs_settings)\n",
    "        };"
   ]
  },
  {
   "cell_type": "code",
   "execution_count": null,
   "metadata": {
    "pycharm": {
     "name": "#%%\n"
    }
   },
   "outputs": [],
   "source": [
    "#% Criando o objeto para integração da Eq_estado\n",
    "opt = {'tf':ts,'t0':0};                        #% opções do integrador\n",
    "int_odes = integrator('int_odes','cvodes',sedo,opt); # objeto integrador\n",
    "res = int_odes(x0=BCS['x'],p=BCS['u']);             #   % solução um passo a frente\n",
    "npv = len(pv); nmv = len(mv);"
   ]
  },
  {
   "cell_type": "code",
   "execution_count": null,
   "metadata": {
    "pycharm": {
     "name": "#%%\n"
    }
   },
   "outputs": [],
   "source": [
    "# Criando o objeto para solução da equação de medição\n",
    "Eq_medicao = Function('Eq_medicao',[BCS['x'],BCS['u']],[BCS['y'][pv]],['x','u'],['y']);\n",
    "# Criacao do objeto para simulacao do BCS Eq de estado + Eq de Medicao\n",
    "Modelo_Predicao = Function('Modelo_Predicao',[BCS['x'],BCS['u']],[res['xf'],Eq_medicao(res['xf'],BCS['u'])],['xk_1','uk_1'],['xk','yk']);"
   ]
  },
  {
   "cell_type": "code",
   "execution_count": null,
   "metadata": {
    "pycharm": {
     "name": "#%%\n"
    }
   },
   "outputs": [],
   "source": []
  },
  {
   "cell_type": "code",
   "execution_count": null,
   "metadata": {
    "pycharm": {
     "name": "#%% Simulacao\n"
    }
   },
   "outputs": [],
   "source": [
    "tsim = 100;\n",
    "nsim=int(round(tsim/ts));       # Numero de simulacao\n"
   ]
  },
  {
   "cell_type": "code",
   "execution_count": null,
   "metadata": {
    "pycharm": {
     "name": "#%%\n"
    }
   },
   "outputs": [],
   "source": [
    "# Inicializa��o das variaveis\n",
    "xmk = xss;           # Estados\n",
    "xpk = xss;\n",
    "uk_1 = uss[mv];     # MVS\n",
    "\n",
    "# Aloca��o de variaveis\n",
    "Xk = np.zeros((nx,1)); Yk = np.zeros((npv,1));\n",
    "Ymk = Yk; Ys = Yk; Ymin = Yk; Ymax = Yk;\n",
    "Uk = np.zeros((nmv,1));"
   ]
  }
 ],
 "metadata": {
  "kernelspec": {
   "display_name": "Python 3",
   "language": "python",
   "name": "python3"
  },
  "language_info": {
   "codemirror_mode": {
    "name": "ipython",
    "version": 3
   },
   "file_extension": ".py",
   "mimetype": "text/x-python",
   "name": "python",
   "nbconvert_exporter": "python",
   "pygments_lexer": "ipython3",
   "version": "3.9.2"
  }
 },
 "nbformat": 4,
 "nbformat_minor": 1
}
