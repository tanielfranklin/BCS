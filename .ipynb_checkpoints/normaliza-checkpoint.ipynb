{
 "cells": [
  {
   "cell_type": "markdown",
   "metadata": {
    "collapsed": true,
    "pycharm": {
     "name": "#%% md\n"
    }
   },
   "source": [
    "Normalização do modelo BCS não linear"
   ]
  },
  {
   "cell_type": "code",
   "execution_count": 1,
   "metadata": {
    "pycharm": {
     "name": "#%%\n"
    }
   },
   "outputs": [],
   "source": [
    "import numpy as np\n",
    "exec(compile(open('param.py', \"rb\").read(), 'param.py', 'exec')) #% Roda arquivo com parâmetros do modelo BCS"
   ]
  },
  {
   "cell_type": "markdown",
   "metadata": {
    "pycharm": {
     "name": "#%% md\n"
    }
   },
   "source": [
    "### Variáveis de estado\n",
    "pbh $\\in$ ($0 - 10^6$) <br>\n",
    "bwh $\\in$ ($0 - 10^6$) <br>\n",
    "q   $\\in$ (35 - 55)\n",
    "### Variáveis de entrada\n",
    "f $\\in$ (35 - 65) <br>\n",
    "zc $\\in$ 0 - 100% <br>\n"
   ]
  },
  {
   "cell_type": "code",
   "execution_count": 2,
   "metadata": {
    "pycharm": {
     "name": "#%%\n"
    }
   },
   "outputs": [],
   "source": [
    "def normalizar(x, xnorm):\n",
    "    xc=(x-xnorm[0])/(xnorm[1]-xnorm[0])\n",
    "    return xc"
   ]
  },
  {
   "cell_type": "markdown",
   "metadata": {
    "pycharm": {
     "name": "#%% md\n"
    }
   },
   "source": [
    "Escrevendo as equações de estado e condições iniciais"
   ]
  },
  {
   "cell_type": "code",
   "execution_count": 3,
   "metadata": {
    "pycharm": {
     "name": "#%%\n"
    }
   },
   "outputs": [],
   "source": [
    "# Valores máximos e mínimos para normalização\n",
    "fnorm=(30,75); zcnorm=(0,100);pmnorm=(0,2e6);\n",
    "#pbh  - pressão na bomba\n",
    "#pwh - Pressão de fundo do poço,\n",
    "#q - vazão\n",
    "#PI índice de produtividade do poço\n",
    "#PinC  pressão na choke\n",
    "fq_ss = normalizar(50,fnorm)\n",
    "zc_ss = normalizar(50,zcnorm)\n",
    "pm_ss = normalizar(2e6,pmnorm) # Pressão de manifold"
   ]
  },
  {
   "cell_type": "markdown",
   "metadata": {
    "pycharm": {
     "name": "#%% md\n"
    }
   },
   "source": [
    "Equações dinâmicas"
   ]
  },
  {
   "cell_type": "code",
   "execution_count": 4,
   "metadata": {
    "pycharm": {
     "name": "#%%\n"
    }
   },
   "outputs": [],
   "source": [
    "from sympy import *\n",
    "q,zc,pm, pwh, pbh = symbols('q zc pm pwh pbh', real=True, positive=True)"
   ]
  },
  {
   "cell_type": "code",
   "execution_count": 5,
   "metadata": {
    "pycharm": {
     "name": "#%%\n"
    }
   },
   "outputs": [],
   "source": [
    "fq=q\n",
    "# Calculo do HEAD e delta de press�o\n",
    "q0 = q/Cq*(f0/fq); H0 = -1.2454e6*q0**2 + 7.4959e3*q0 + 9.5970e2;\n",
    "H = CH*H0*(fq/f0)**2; # Head\n",
    "Pp = rho*g*H;\n",
    "# Calculo da press�o de intake\n",
    "F1 = 0.158*((rho*L1*q**2)/(D1*A1**2))*(mu/(rho*D1*q))**(1/4);\n",
    "F2 = 0.158*((rho*L2*q**2)/(D2*A2**2))*(mu/(rho*D2*q))**(1/4);\n",
    "# Vazao do reservatorio vazao da choke\n",
    "qr  = PI*(pr - pbh);\n",
    "qc  = Cc*(zc/100)*sign((pwh - pm))*sqrt(abs(pwh - pm));"
   ]
  },
  {
   "cell_type": "code",
   "execution_count": 6,
   "metadata": {
    "pycharm": {
     "name": "#%%\n"
    }
   },
   "outputs": [],
   "source": [
    "dpbhdt = b1/V1*(qr - q);\n",
    "dpwhdt = b2/V2*(q - qc);\n",
    "dqdt = 1/M*(pbh - pwh - rho*g*hw - F1 - F2 + Pp);"
   ]
  },
  {
   "cell_type": "code",
   "execution_count": 10,
   "metadata": {
    "pycharm": {
     "name": "#%%\n"
    }
   },
   "outputs": [
    {
     "name": "stdout",
     "output_type": "stream",
     "text": [
      "-0.85841144548594*pbh - 370004933.399112*q + 10815984.2131228\n",
      "154178230.033919*q - 30.8356460067838*zc*sqrt(Abs(pm - pwh))*sign(-pm + pwh)\n",
      "5.02008032128514e-9*pbh - 5.02008032128514e-9*pwh - 66.169314833219*q**2 - 24.3364316301709*q**1.75 - 0.0467846385542169\n"
     ]
    }
   ],
   "source": [
    "print(simplify(expand(dpbhdt)))\n",
    "print(dpwhdt)\n",
    "print(dqdt)\n"
   ]
  },
  {
   "cell_type": "code",
   "execution_count": 11,
   "metadata": {},
   "outputs": [
    {
     "name": "stdout",
     "output_type": "stream",
     "text": [
      "-0.85841144548594*pbh - 370004933.399112*q + 10815984.2131228\n",
      "Piecewise((154178230.033919*q, Eq(pm, pwh)), ((154178230.033919*q*Abs(sqrt(pm - pwh)) + 30.8356460067838*zc*(pm - pwh))/Abs(sqrt(pm - pwh)), True))\n",
      "5.02008032128514e-9*pbh - 5.02008032128514e-9*pwh - 66.169314833219*q**2 - 24.3364316301709*q**1.75 - 0.0467846385542169\n"
     ]
    }
   ],
   "source": [
    "print(simplify(expand(dpbhdt)))\n",
    "print(simplify(expand(dpwhdt)))\n",
    "print(simplify(expand(dqdt)))"
   ]
  },
  {
   "cell_type": "code",
   "execution_count": 12,
   "metadata": {},
   "outputs": [
    {
     "name": "stdout",
     "output_type": "stream",
     "text": [
      "- 0.85841144548594 pbh - 370004933.399112 q + 10815984.2131228\n",
      "\\begin{cases} 154178230.033919 q & \\text{for}\\: pm = pwh \\\\\\frac{154178230.033919 q \\left|{\\sqrt{pm - pwh}}\\right| + 30.8356460067838 zc \\left(pm - pwh\\right)}{\\left|{\\sqrt{pm - pwh}}\\right|} & \\text{otherwise} \\end{cases}\n",
      "5.02008032128514 \\cdot 10^{-9} pbh - 5.02008032128514 \\cdot 10^{-9} pwh - 66.169314833219 q^{2} - 24.3364316301709 q^{1.75} - 0.0467846385542169\n"
     ]
    }
   ],
   "source": [
    "print(latex(simplify(expand(dpbhdt))))\n",
    "print(latex(simplify(expand(dpwhdt))))\n",
    "print(latex(simplify(expand(dqdt))))"
   ]
  },
  {
   "cell_type": "markdown",
   "metadata": {},
   "source": [
    "$$\\frac{dpbh}{dt}=- 0.85841144548594 pbh - 370004933.399112 q + 10815984.2131228$$\n",
    "$$\\frac{dpwh}{dt}=\\begin{cases} 154178230.033919 q & \\text{for}\\: pm = pwh \\\\\\frac{154178230.033919 q \\left|{\\sqrt{pm - pwh}}\\right| + 30.8356460067838 zc \\left(pm - pwh\\right)}{\\left|{\\sqrt{pm - pwh}}\\right|} & \\text{otherwise} \\end{cases}$$\n",
    "$$\\frac{dq}{dt}=5.02008032128514 \\cdot 10^{-9} pbh - 5.02008032128514 \\cdot 10^{-9} pwh - 66.169314833219 q^{2} - 24.3364316301709 q^{1.75} - 0.0467846385542169$$\n",
    "\n"
   ]
  },
  {
   "cell_type": "code",
   "execution_count": null,
   "metadata": {},
   "outputs": [],
   "source": []
  }
 ],
 "metadata": {
  "kernelspec": {
   "display_name": "Python 3",
   "language": "python",
   "name": "python3"
  },
  "language_info": {
   "codemirror_mode": {
    "name": "ipython",
    "version": 3
   },
   "file_extension": ".py",
   "mimetype": "text/x-python",
   "name": "python",
   "nbconvert_exporter": "python",
   "pygments_lexer": "ipython3",
   "version": "3.9.2"
  }
 },
 "nbformat": 4,
 "nbformat_minor": 1
}
