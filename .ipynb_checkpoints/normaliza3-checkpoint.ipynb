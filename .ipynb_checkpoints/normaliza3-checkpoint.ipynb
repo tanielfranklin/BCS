{
 "cells": [
  {
   "cell_type": "markdown",
   "metadata": {
    "collapsed": true,
    "pycharm": {
     "name": "#%% md\n"
    }
   },
   "source": [
    "Normalização do modelo BCS não linear"
   ]
  },
  {
   "cell_type": "code",
   "execution_count": 27,
   "metadata": {
    "pycharm": {
     "name": "#%%\n"
    }
   },
   "outputs": [],
   "source": [
    "from __future__ import absolute_import\n",
    "from __future__ import division\n",
    "from __future__ import print_function\n",
    "import matplotlib.pyplot as plt\n",
    "import numpy as np\n",
    "import deepxde as dde\n",
    "from deepxde.backend import tf\n",
    "exec(compile(open('param.py', \"rb\").read(), 'param.py', 'exec')) #% Roda arquivo com parâmetros do modelo BCS\n",
    "exec(compile(open('subrotinas.py', \"rb\").read(), 'subrotinas.py', 'exec')) #% Roda arquivo"
   ]
  },
  {
   "cell_type": "markdown",
   "metadata": {
    "pycharm": {
     "name": "#%% md\n"
    }
   },
   "source": [
    "### Variáveis de entrada\n",
    "f $\\in$ (35,65) Hz <br>\n",
    "zc $\\in$ (0,100)% <br>\n",
    "pm $\\in$ ($2\\cdot 10^6$) <br>\n",
    "\n",
    "### Variáveis de estado\n",
    "pbh $\\in$ ($10^5, 8.5 \\cdot 10^6$) <br>\n",
    "pwh $\\in$ ($2 \\cdot 10^6, 5.2\\cdot10^6$) <br>\n",
    "q $\\in (10^{-2},3\\cdot 10^{⁻2})$ <br>\n",
    "\n"
   ]
  },
  {
   "cell_type": "markdown",
   "metadata": {},
   "source": [
    "Função para retornar os valores de xc e x0 dado que<br>\n",
    "$x_{min}<x<x_{max}$ <br>\n",
    "\n",
    "Nova variável<br>\n",
    "\n",
    "$xb=\\frac{x-x0}{xc}$\n",
    "\n",
    "Assim <br>\n",
    "\n",
    "$x=xb\\cdot xc+x0$\n",
    "\n",
    "Fazendo com que a nova variável $0<xb<1$ <br>"
   ]
  },
  {
   "cell_type": "code",
   "execution_count": 27,
   "metadata": {
    "pycharm": {
     "name": "#%%\n"
    }
   },
   "outputs": [],
   "source": []
  },
  {
   "cell_type": "code",
   "execution_count": 28,
   "metadata": {
    "pycharm": {
     "name": "#%%\n"
    }
   },
   "outputs": [],
   "source": [
    "def Fnorm(xlim):\n",
    "    # Encontrar o fator de normalização\n",
    "    # tal que xb=(x-x0)/xc\n",
    "    # xmin<x<xmax\n",
    "    # fazendo com que 0<xb<1\n",
    "    x=(xlim[0],xlim[1]-xlim[0])\n",
    "    return x\n",
    "def normalizar(x,xnorm):\n",
    "    xs=np.zeros((nx,1))\n",
    "    for i in range(0,nx):\n",
    "        xs[i]=(x[i]-xnorm[i,0])/xnorm[i,1]\n",
    "    return xs\n",
    "def desnormalizar(x,xnorm):\n",
    "    xs=np.zeros((nx,1))\n",
    "    for i in range(0,nx):\n",
    "        xs[i]=x[i]*xnorm[i,1]+xnorm[i,0]\n",
    "    return xs\n",
    "def AplicaEscala(var,i):\n",
    "    aux=var*xnorm[i,1]+xnorm[i,0]\n",
    "    return aux\n"
   ]
  },
  {
   "cell_type": "markdown",
   "metadata": {
    "pycharm": {
     "name": "#%% md\n"
    }
   },
   "source": [
    "Definindo os fatores de ajuste de escala a partir dos limites operacionais"
   ]
  },
  {
   "cell_type": "code",
   "execution_count": 29,
   "metadata": {
    "pycharm": {
     "name": "#%%\n"
    }
   },
   "outputs": [],
   "source": [
    "# Valores máximos e mínimos para normalização\n",
    "#Entradas\n",
    "f_lim=(30,75); zclim=(0,100);pmlim=(1e6,2e6);\n",
    "pbhlim=(100000,8.5e6); pwhlim=(2e6,5.2e6); qlim=(12/3600,55/3600)"
   ]
  },
  {
   "cell_type": "code",
   "execution_count": 30,
   "metadata": {
    "pycharm": {
     "name": "#%%\n"
    }
   },
   "outputs": [
    {
     "data": {
      "text/plain": [
       "array([[1.00000000e+05, 8.40000000e+06],\n",
       "       [2.00000000e+06, 3.20000000e+06],\n",
       "       [3.33333333e-03, 1.19444444e-02],\n",
       "       [3.00000000e+01, 4.50000000e+01],\n",
       "       [0.00000000e+00, 1.00000000e+02]])"
      ]
     },
     "execution_count": 30,
     "metadata": {},
     "output_type": "execute_result"
    }
   ],
   "source": [
    "pm=2e6; #Simplificando pm fixo\n",
    "unorm=np.array([Fnorm(f_lim),Fnorm(zclim)])\n",
    "xnorm= np.array([Fnorm(pbhlim),Fnorm(pwhlim),Fnorm(qlim), unorm[0,:],unorm[1,:]])\n",
    "\n",
    "xnorm\n",
    "#pbh  - pressão na bomba\n",
    "#pwh - Pressão de fundo do poço,\n",
    "#q - vazão\n",
    "#PI índice de produtividade do poço\n",
    "#PinC  pressão na choke\n",
    "# Pressão de manifold"
   ]
  },
  {
   "cell_type": "markdown",
   "metadata": {
    "pycharm": {
     "name": "#%% md\n"
    }
   },
   "source": [
    "Definindo as variáveis simbólicas"
   ]
  },
  {
   "cell_type": "code",
   "execution_count": 31,
   "metadata": {
    "pycharm": {
     "name": "#%%\n"
    }
   },
   "outputs": [],
   "source": [
    "# Criando simbolica\n",
    "from casadi import *\n",
    "nx = 5; nu = 2;\n",
    "x = MX.sym(\"x\",nx); # Estados\n",
    "u = MX.sym(\"u\",nu); # Exogena\n",
    "dudt_max = MX.sym(\"dudt_max\",2); # Exogena\n"
   ]
  },
  {
   "cell_type": "code",
   "execution_count": 32,
   "metadata": {
    "pycharm": {
     "name": "#%%\n"
    }
   },
   "outputs": [],
   "source": [
    "pbh = AplicaEscala(x[0],0)\n",
    "pwh = AplicaEscala(x[1],1)\n",
    "q = AplicaEscala(x[2],2)\n",
    "fq = AplicaEscala(x[3],3)\n",
    "zc = AplicaEscala(x[4],4)"
   ]
  },
  {
   "cell_type": "code",
   "execution_count": 33,
   "metadata": {
    "pycharm": {
     "name": "#%%\n"
    }
   },
   "outputs": [
    {
     "data": {
      "text/plain": [
       "2000000.0"
      ]
     },
     "execution_count": 33,
     "metadata": {},
     "output_type": "execute_result"
    }
   ],
   "source": [
    "# Entradas\n",
    "\n",
    "fqref = u[0]*unorm[0,1]+unorm[0,0];\n",
    "zcref = u[1]*unorm[1,1]+unorm[1,0];\n",
    "pm=2e6;\n",
    "#pm=(pm-xnorm[0,0])/xnorm[0,1]\n",
    "pm\n",
    "#pm = u[2];"
   ]
  },
  {
   "cell_type": "markdown",
   "metadata": {
    "pycharm": {
     "name": "#%% md\n"
    }
   },
   "source": [
    "Normalizando variáveis dependentes"
   ]
  },
  {
   "cell_type": "code",
   "execution_count": 34,
   "metadata": {
    "pycharm": {
     "name": "#%%\n"
    }
   },
   "outputs": [],
   "source": [
    "# Calculo do HEAD e delta de press�o\n",
    "q0 = q/Cq*(f0/fq);\n",
    "H0 = -1.2454e6*q0**2 + 7.4959e3*q0 + 9.5970e2;\n",
    "H = CH*H0*(fq/f0)**2; # Head\n",
    "Pp = rho*g*H;\n",
    "# Calculo da press�o de intake\n",
    "F1 = 0.158*((rho*L1*q**2)/(D1*A1**2))*(mu/(rho*D1*q))**(1/4);\n",
    "F2 = 0.158*((rho*L2*q**2)/(D2*A2**2))*(mu/(rho*D2*q))**(1/4);"
   ]
  },
  {
   "cell_type": "code",
   "execution_count": 35,
   "metadata": {
    "pycharm": {
     "name": "#%%\n"
    }
   },
   "outputs": [],
   "source": [
    "P0 = -2.3599e9*q0**3 -1.8082e7*q0**2 +4.3346e6*q0 + 9.4355e4;\n",
    "pin = pbh - rho*g*h1 - F1\n",
    "P = Cp*P0*(fq/f0)**3; # Potencia\n",
    "I = Inp*P/Pnp;      # Corrente"
   ]
  },
  {
   "cell_type": "code",
   "execution_count": 36,
   "metadata": {},
   "outputs": [
    {
     "data": {
      "text/plain": [
       "MX((2.32e-09*(12600000-(100000+(8400000*x[0])))))"
      ]
     },
     "execution_count": 36,
     "metadata": {},
     "output_type": "execute_result"
    }
   ],
   "source": [
    "# Vazao do reservatorio e vazao da choke\n",
    "qr  = PI*(pr - pbh);\n",
    "qr\n"
   ]
  },
  {
   "cell_type": "code",
   "execution_count": 37,
   "metadata": {},
   "outputs": [],
   "source": [
    "qc  = Cc*(zc/100)*casadi.sign((pwh - pm))*casadi.sqrt(casadi.fabs(pwh - pm));"
   ]
  },
  {
   "cell_type": "code",
   "execution_count": 38,
   "metadata": {
    "pycharm": {
     "name": "#%%\n"
    }
   },
   "outputs": [],
   "source": [
    "dpbhdt = b1/V1*(qr - q);\n",
    "dpwhdt = b2/V2*(q - qc);\n",
    "dqdt = 1/M*(pbh - pwh - rho*g*hw - F1 - F2 + Pp);"
   ]
  },
  {
   "cell_type": "markdown",
   "metadata": {
    "pycharm": {
     "name": "#%% md\n"
    }
   },
   "source": [
    "Aplicar escala nas derivadas"
   ]
  },
  {
   "cell_type": "code",
   "execution_count": 39,
   "metadata": {
    "pycharm": {
     "name": "#%%\n"
    }
   },
   "outputs": [],
   "source": [
    "dpbhdt=dpbhdt/xnorm[0,1]\n",
    "dpwhdt=dpwhdt/xnorm[1,1]\n",
    "dqdt=dqdt/xnorm[2,1]"
   ]
  },
  {
   "cell_type": "code",
   "execution_count": 40,
   "metadata": {},
   "outputs": [],
   "source": [
    "# Função casadi\n",
    "dxdt = casadi.vertcat(dpbhdt,dpwhdt,dqdt)\n",
    "Eq_Estado = casadi.Function('Eq_Estado',[x,u],[dxdt],\n",
    "                     ['x','u'],['dxdt'])"
   ]
  },
  {
   "cell_type": "code",
   "execution_count": 41,
   "metadata": {
    "pycharm": {
     "name": "#%%\n"
    }
   },
   "outputs": [],
   "source": [
    "# Equações algébricas\n",
    "#sea_nl = casadi.Function('sea_nl',[x,u],[y,pin,H],\\\n",
    "#                  ['x','u'],['y','pin','H']); # Sistema de Eq. Algebricas variaveis de sa�da"
   ]
  },
  {
   "cell_type": "code",
   "execution_count": 42,
   "metadata": {
    "pycharm": {
     "name": "#%%\n"
    }
   },
   "outputs": [],
   "source": [
    "y=vertcat(pin,H);\n",
    "ny = y.size1()"
   ]
  },
  {
   "cell_type": "code",
   "execution_count": 43,
   "metadata": {
    "pycharm": {
     "name": "#%%\n"
    }
   },
   "outputs": [],
   "source": [
    "BCS={\n",
    "     'x': x,\n",
    "     'u': u,\n",
    "     'y': y,\n",
    "     'nx': nx,\n",
    "     'nu': nu,\n",
    "     'ny': ny,\n",
    "     'NaoLinear': {'sedo_nl': Eq_Estado(x,u)\n",
    "                  # 'sea_nl': sea_nl\n",
    "                   }\n",
    "}"
   ]
  },
  {
   "cell_type": "code",
   "execution_count": 44,
   "metadata": {
    "pycharm": {
     "name": "#%% Calculo do estacionario\n"
    }
   },
   "outputs": [],
   "source": [
    "#% Func��o objetivo\n",
    "dxdt_0 = Eq_Estado(BCS['x'], BCS['u']);\n",
    "J = sum1(dxdt_0**2);"
   ]
  },
  {
   "cell_type": "code",
   "execution_count": 45,
   "metadata": {
    "pycharm": {
     "name": "#%%\n"
    }
   },
   "outputs": [],
   "source": [
    "#% Otimizador\n",
    "opt={\n",
    "     'ipopt':{\n",
    "         'print_level':0,\n",
    "         'acceptable_tol':1e-8,\n",
    "         'acceptable_obj_change_tol':1e-6,\n",
    "         'max_iter':50\n",
    "         },\n",
    "     'print_time':0,\n",
    "     }\n",
    "\n",
    "opt['ipopt']['print_level']=0;# %0,3\n",
    "opt['print_time']=0;\n",
    "opt['ipopt']['acceptable_tol']=1e-8;\n",
    "opt['ipopt']['acceptable_obj_change_tol']=1e-6;\n",
    "opt['ipopt']['max_iter']=50;"
   ]
  },
  {
   "cell_type": "code",
   "execution_count": 46,
   "metadata": {
    "pycharm": {
     "name": "#%%\n"
    }
   },
   "outputs": [],
   "source": [
    "MMQ = {'x':BCS['x'], 'f':J, 'p':BCS['u']}\n",
    "#nlp={'x':vertcat(BCS['x'],BCS['u']), 'f':J} #variáveis de decisão, função f, g (N/A)\n",
    "#nlp={'x':BCS['x'], 'f':J}"
   ]
  },
  {
   "cell_type": "code",
   "execution_count": 47,
   "metadata": {
    "pycharm": {
     "name": "#%%\n"
    }
   },
   "outputs": [],
   "source": [
    "solver = nlpsol('solver', 'ipopt', MMQ, opt)"
   ]
  },
  {
   "cell_type": "code",
   "execution_count": 48,
   "metadata": {
    "pycharm": {
     "name": "#%%\n"
    }
   },
   "outputs": [],
   "source": [
    "# Restrições das variaveis de decis�o\n",
    "# minimo\n",
    "args={\n",
    "      'lbx': np.zeros((nx,1)),\n",
    "# m�ximo\n",
    "      'ubx':np.full((nx, 1), np.inf)\n",
    "      }\n",
    "\n",
    "# Solu��o do otimizador\n",
    "sol=solver(x0=BCS['x'], lbx=args['lbx'], ubx=args['ubx'], p=BCS['u']);\n",
    "#yss=sea_nl(sol['x'],BCS['u'])"
   ]
  },
  {
   "cell_type": "code",
   "execution_count": 49,
   "metadata": {
    "pycharm": {
     "name": "#%%\n"
    }
   },
   "outputs": [],
   "source": [
    "# Estacionario = Function('Estacionario',[BCS['x'],BCS['u']],\\\n",
    "#     [sol['x'],yss[0]],\\\n",
    "#     ['x0','uss'],['xss','yss']);\n",
    "\n",
    "# BCS['Estacionario'] = Estacionario;"
   ]
  },
  {
   "cell_type": "code",
   "execution_count": 50,
   "metadata": {
    "pycharm": {
     "name": "#%%\n"
    }
   },
   "outputs": [],
   "source": [
    "#% Condição inicial normalizada\n",
    "#unorm1=np.array([(1)/fnorm[1], (1)/zcnorm[1], (1)/pmnorm[1]])\n",
    "#unorm2=np.array([fnorm[0], zcnorm[0], pmnorm[0]])"
   ]
  },
  {
   "cell_type": "code",
   "execution_count": 51,
   "metadata": {
    "pycharm": {
     "name": "#%%\n"
    }
   },
   "outputs": [],
   "source": [
    "f_ss,zc_ss= (np.array([60, 70]))"
   ]
  },
  {
   "cell_type": "code",
   "execution_count": 28,
   "metadata": {
    "pycharm": {
     "name": "#%%\n"
    }
   },
   "outputs": [
    {
     "data": {
      "text/plain": [
       "array([[0.66666667],\n",
       "       [0.7       ]])"
      ]
     },
     "execution_count": 28,
     "metadata": {},
     "output_type": "execute_result"
    }
   ],
   "source": [
    "uss = np.array([[f_ss],[zc_ss]]); # Entradas do estacionario\n",
    "\n",
    "uss_n=normalizar_u(uss,unorm)\n",
    "\n",
    "uss_n\n"
   ]
  },
  {
   "cell_type": "code",
   "execution_count": 29,
   "metadata": {
    "pycharm": {
     "name": "#%%\n"
    }
   },
   "outputs": [],
   "source": [
    "#% Calculo do estacionario\n",
    "\n",
    "#x0 = [0.2,0.5,0.5,0.5,0.5]\n",
    "x0 = np.array([8311024.82175957,2990109.06207437,0.00995042241351780,50,50]);"
   ]
  },
  {
   "cell_type": "code",
   "execution_count": null,
   "metadata": {
    "pycharm": {
     "name": "#%%\n"
    }
   },
   "outputs": [],
   "source": []
  },
  {
   "cell_type": "code",
   "execution_count": 31,
   "metadata": {
    "pycharm": {
     "name": "#%%\n"
    }
   },
   "outputs": [
    {
     "data": {
      "text/plain": [
       "array([[0.97750295],\n",
       "       [0.30940908],\n",
       "       [0.55398885],\n",
       "       [0.44444444],\n",
       "       [0.5       ]])"
      ]
     },
     "execution_count": 31,
     "metadata": {},
     "output_type": "execute_result"
    }
   ],
   "source": [
    "x0_n=normalizar(x0,xnorm)\n",
    "x0_n"
   ]
  },
  {
   "cell_type": "code",
   "execution_count": 32,
   "metadata": {
    "pycharm": {
     "name": "#%%\n"
    }
   },
   "outputs": [
    {
     "name": "stdout",
     "output_type": "stream",
     "text": [
      "\n",
      "******************************************************************************\n",
      "This program contains Ipopt, a library for large-scale nonlinear optimization.\n",
      " Ipopt is released as open source code under the Eclipse Public License (EPL).\n",
      "         For more information visit https://github.com/coin-or/Ipopt\n",
      "******************************************************************************\n",
      "\n"
     ]
    },
    {
     "data": {
      "text/plain": [
       "DM([0.374228, 1.70471, 1.53826, 1.47677, 0.464697])"
      ]
     },
     "execution_count": 32,
     "metadata": {},
     "output_type": "execute_result"
    }
   ],
   "source": [
    "# args['lbx'][3] = uss[0]\n",
    "# args['ubx'][3] = uss[0]  # bounds freq. solver\n",
    "# args['lbx'][4] = uss[1]\n",
    "# args['ubx'][4] = uss[1]   # bounds zc solver\n",
    "#sol=solver('x0',x0, 'lbx', args['lbx'], 'ubx', args['ubx'], 'p', uss);\n",
    "sol=solver(x0=x0_n,lbx=args['lbx'], ubx=args['ubx'], p=uss_n)\n",
    "sol['x']"
   ]
  },
  {
   "cell_type": "code",
   "execution_count": null,
   "metadata": {
    "pycharm": {
     "name": "#%%\n"
    }
   },
   "outputs": [],
   "source": [
    "np.array(sol['x'])"
   ]
  },
  {
   "cell_type": "code",
   "execution_count": 33,
   "metadata": {
    "pycharm": {
     "name": "#%%\n"
    }
   },
   "outputs": [
    {
     "data": {
      "text/plain": [
       "[array([[3.24351736e+06],\n",
       "        [7.45507964e+06],\n",
       "        [2.17070398e-02],\n",
       "        [9.64547810e+01],\n",
       "        [4.64697204e+01]])]"
      ]
     },
     "execution_count": 33,
     "metadata": {},
     "output_type": "execute_result"
    }
   ],
   "source": [
    "xss = desnormalizar(sol['x'],xnorm)\n",
    "[xss]"
   ]
  },
  {
   "cell_type": "code",
   "execution_count": null,
   "metadata": {
    "pycharm": {
     "name": "#%%\n"
    }
   },
   "outputs": [],
   "source": [
    "x0.reshape(5,1)"
   ]
  },
  {
   "cell_type": "code",
   "execution_count": null,
   "metadata": {
    "pycharm": {
     "name": "#%%\n"
    }
   },
   "outputs": [],
   "source": [
    "def ex_func(t):\n",
    "    spline = sp.interpolate.Rbf(\n",
    "        time, entrada, function=\"thin_plate\", smooth=0, episilon=0\n",
    "    )\n",
    "    # return spline(t[:,0:])\n",
    "    return spline(t)"
   ]
  },
  {
   "cell_type": "code",
   "execution_count": null,
   "metadata": {
    "pycharm": {
     "name": "#%%\n"
    }
   },
   "outputs": [],
   "source": [
    "def ED_BCS(t,x):\n",
    "    ## Montado o sistema de equa��es\n",
    "    # Tensores (Estados)\n",
    "    pbh = x[:,0:1]\n",
    "    pwh = x[:,1:2]\n",
    "    q = x[:,2:3] #Vazão\n",
    "\n",
    "    # pbh=pbh*xnorm[0,1]+xnorm[0,0]\n",
    "    # pwh=pwh*xnorm[1,1]+xnorm[1,0]\n",
    "    # q=q*xnorm[2,1]+xnorm[2,0]\n",
    "\n",
    "    pbh=(pbh-xnorm[0,1])/xnorm[0,1]\n",
    "    pwh=(pwh-xnorm[1,1])/xnorm[1,1]\n",
    "    q=(q-xnorm[2,1])/xnorm[2,1]\n",
    "    #fq = x[:,3:4] # Frequencia da bomba\n",
    "    #zc = x[:,4:] # Abertura da choke\n",
    "\n",
    "    # Calculo do HEAD e delta de press�o\n",
    "    q0 = q/Cq*(f0/fq)\n",
    "    #\n",
    "    H0 = -1.2454e6 * q0 ** 2 + 7.4959e3 * q0 + 9.5970e2\n",
    "    H = CH * H0 * (fq / f0) ** 2  # Head\n",
    "    Pp = rho * g * H  # Delta de press�o\n",
    "\n",
    "    # Calculo da Potencia e corrente da bomba\n",
    "    P0 = -2.3599e9 * q0 ** 3 - 1.8082e7 * q0 ** 2 + 4.3346e6 * q0 + 9.4355e4\n",
    "    P = Cp * P0 * (fq / f0) ** 3;  # Potencia\n",
    "    I = Inp * P / Pnp  # Corrente\n",
    "\n",
    "    # Calculo da press�o de intake\n",
    "    F1 = 0.158 * ((rho * L1 * q ** 2) / (D1 * A1 ** 2)) * (mu / (rho * D1 * q)) ** (1 / 4)\n",
    "    F2 = 0.158 * ((rho * L2 * q ** 2) / (D2 * A2 ** 2)) * (mu / (rho * D2 * q)) ** (1 / 4)\n",
    "    pin = pbh - rho * g * h1 - F1;\n",
    "    # Vazao do reservatorio vazao da choke\n",
    "    qr = PI * (pr - pbh);\n",
    "    qc = Cc * (zc / 100) * tf.sign((pwh - pm)) * tf.sqrt(tf.abs(pwh - pm));\n",
    "\n",
    "    # SEDO\n",
    "\n",
    "    dpbhdt = dde.grad.jacobian(x, t, i=0)\n",
    "    dpwhdt = dde.grad.jacobian(x, t, i=1)\n",
    "    dqdt = dde.grad.jacobian(x, t, i=2)\n",
    "    #dfqdt = dde.grad.jacobian(x, t, i=3)\n",
    "    #dzcdt = dde.grad.jacobian(x, t, i=4)\n",
    "\n",
    "    dpbhdt=dpbhdt/xnorm[0,1]\n",
    "    dpwhdt=dpwhdt/xnorm[1,1]\n",
    "    dqdt=dqdt/xnorm[2,1]\n",
    "\n",
    "    dxdt = [dpbhdt-b1 / V1 * (qr - q),\n",
    "            dpwhdt -b2 / V2 * (q - qc),\n",
    "            dqdt - 1 / M * (pbh - pwh - rho * g * hw - F1 - F2 + Pp)\n",
    "            #dfqdt - (fqref - fq) / tp[0],\n",
    "            #dzcdt - (zcref - zc) / tp[1]\n",
    "            ]\n",
    "\n",
    "    return dxdt\n",
    "\n",
    "def boundary(_, on_initial):\n",
    "    return on_initial\n",
    "\n",
    "x0_n=np.float32(normalizar(x0,xnorm))\n",
    "\n",
    "geom = dde.geometry.TimeDomain(0, 2)\n",
    "ic1 = dde.IC(geom, lambda v: x0_n[0], boundary, component=0)\n",
    "ic2 = dde.IC(geom, lambda v: x0_n[1], boundary, component=1)\n",
    "ic3 = dde.IC(geom, lambda v: x0_n[2], boundary, component=2)"
   ]
  },
  {
   "cell_type": "code",
   "execution_count": null,
   "metadata": {
    "pycharm": {
     "name": "#%%\n"
    }
   },
   "outputs": [],
   "source": [
    "data = dde.data.PDE(\n",
    "        geom, ED_BCS, [ic1,ic2,ic3], 1, 2,\n",
    "    #solution=func,\n",
    "    num_test=5\n",
    "    )\n",
    "\n",
    "# data = dde.data.PDE(\n",
    "#         geom, ED_BCS, [ic1,ic2,ic3,ic4,ic5], 35, 2,  num_test=100\n",
    "#     )\n",
    "\n",
    "layer_size = [1] + [30] * 3 + [3]\n",
    "activation = \"tanh\"\n",
    "initializer = \"Glorot uniform\"\n",
    "net = dde.maps.FNN(layer_size, activation, initializer)"
   ]
  },
  {
   "cell_type": "code",
   "execution_count": null,
   "metadata": {
    "pycharm": {
     "name": "#%%\n"
    }
   },
   "outputs": [],
   "source": [
    "model = dde.Model(data, net)"
   ]
  },
  {
   "cell_type": "code",
   "execution_count": null,
   "metadata": {
    "pycharm": {
     "name": "#%%\n"
    }
   },
   "outputs": [],
   "source": [
    "model.compile(\"adam\", lr=0.01)#, metrics=[\"l2 relative error\"])\n",
    "losshistory, train_state = model.train(epochs=2000)\n",
    "dde.saveplot(losshistory, train_state, issave=True, isplot=True)"
   ]
  }
 ],
 "metadata": {
  "kernelspec": {
   "display_name": "Python 3",
   "language": "python",
   "name": "python3"
  },
  "language_info": {
   "codemirror_mode": {
    "name": "ipython",
    "version": 3
   },
   "file_extension": ".py",
   "mimetype": "text/x-python",
   "name": "python",
   "nbconvert_exporter": "python",
   "pygments_lexer": "ipython3",
   "version": "3.9.2"
  }
 },
 "nbformat": 4,
 "nbformat_minor": 1
}
