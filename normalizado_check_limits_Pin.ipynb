{
 "cells": [
  {
   "cell_type": "markdown",
   "source": [
    "Normalização do modelo BCS não linear"
   ],
   "metadata": {
    "collapsed": false
   }
  },
  {
   "cell_type": "code",
   "execution_count": null,
   "outputs": [],
   "source": [
    "import matplotlib.pyplot as plt\n",
    "#import importlib\n",
    "import numpy as np\n",
    "#import subrotinas\n",
    "\n",
    "#importlib.import_module('subrotinas')\n",
    "%matplotlib tk\n",
    "\n",
    "\n",
    "exec(compile(open('param.py', \"rb\").read(), 'param.py', 'exec')) #% Roda arquivo com parâmetros do modelo BCS\n",
    "exec(compile(open('subrotinas.py', \"rb\").read(), 'subrotinas.py', 'exec')) #% Roda arquivo"
   ],
   "metadata": {
    "collapsed": false,
    "pycharm": {
     "name": "#%%\n"
    }
   }
  },
  {
   "cell_type": "markdown",
   "source": [
    "### Variáveis de entrada\n",
    "f $\\in$ (35,65) Hz <br>\n",
    "zc $\\in$ (0,100)% <br>\n",
    "pm $\\in$ ($2\\cdot 10^6$) <br>\n",
    "\n",
    "### Variáveis de estado\n",
    "pbh $\\in$ ($10^5, 8.5 \\cdot 10^6$) <br>\n",
    "pwh $\\in$ ($2 \\cdot 10^6, 5.2\\cdot10^6$) <br>\n",
    "q $\\in (10^{-2},3\\cdot 10^{⁻2})$ <br>\n",
    "\n",
    "### Saídas\n",
    "pin $\\in$ ($40, 60.5) \\cdot 10^6$ <br>\n",
    "H $\\in$ ($350, 1000$) <br>"
   ],
   "metadata": {
    "collapsed": false
   }
  },
  {
   "cell_type": "markdown",
   "source": [
    "Função para retornar os valores de xc e x0 dado que<br>\n",
    "$x_{min}<x<x_{max}$ <br>\n",
    "\n",
    "Nova variável<br>\n",
    "\n",
    "$xb=\\frac{x-x0}{xc}$\n",
    "\n",
    "Assim <br>\n",
    "\n",
    "$x=xb\\cdot xc+x0$\n",
    "\n",
    "Fazendo com que a nova variável $0<xb<1$ <br>\n"
   ],
   "metadata": {
    "collapsed": false
   }
  },
  {
   "cell_type": "code",
   "execution_count": null,
   "outputs": [],
   "source": [
    "# Rotinas"
   ],
   "metadata": {
    "collapsed": false,
    "pycharm": {
     "name": "#%%\n"
    }
   }
  },
  {
   "cell_type": "markdown",
   "source": [
    "Definindo os fatores de ajuste de escala a partir dos limites operacionais"
   ],
   "metadata": {
    "collapsed": false
   }
  },
  {
   "cell_type": "code",
   "execution_count": null,
   "outputs": [],
   "source": [
    "# Valores máximos e mínimos para normalização\n",
    "#Entradas\n",
    "f_lim=(30,75); zclim=(0,100);pmlim=(1e6,2e6);\n",
    "#pbhlim=(100000,8.5e6);\n",
    "pbhlim=(1e6,8.5e6);pwhlim=(2e6,5.2e6); qlim=(12/3600,55/3600)\n",
    "H_lim=(350,1000);\n",
    "\n",
    "#Hlim e Pin modificado\n",
    "pinlim=(-3.28e12,-5.2e8)\n",
    "H_lim=(-9.8e9,-110196);\n",
    "#pinlim=(40e6,60.5e6)"
   ],
   "metadata": {
    "collapsed": false,
    "pycharm": {
     "name": "#%%\n"
    }
   }
  },
  {
   "cell_type": "code",
   "execution_count": null,
   "outputs": [],
   "source": [
    "pm=2e6; #Simplificando pm fixo\n",
    "unorm=np.array([Fnorm(f_lim),Fnorm(zclim)])\n",
    "#xnorm= np.array([Fnorm(pbhlim),Fnorm(pwhlim),Fnorm(qlim), unorm[0,:],unorm[1,:]])\n",
    "xnorm= np.array([Fnorm(pbhlim),Fnorm(pwhlim),Fnorm(qlim)])\n",
    "ynorm=np.array([Fnorm(pinlim),Fnorm(H_lim)])\n",
    "#pbh  - pressão na bomba\n",
    "#pwh - Pressão de fundo do poço,\n",
    "#q - vazão\n",
    "#PI índice de produtividade do poço\n",
    "#PinC  pressão na choke\n",
    "# Pressão de manifold"
   ],
   "metadata": {
    "collapsed": false,
    "pycharm": {
     "name": "#%%\n"
    }
   }
  },
  {
   "cell_type": "markdown",
   "source": [
    "Definindo as variáveis simbólicas"
   ],
   "metadata": {
    "collapsed": false
   }
  },
  {
   "cell_type": "code",
   "execution_count": null,
   "outputs": [],
   "source": [
    "# Criando simbolica\n",
    "from casadi import *\n",
    "nx = 3; nu = 2;\n",
    "x = MX.sym(\"x\",nx); # Estados\n",
    "u = MX.sym(\"u\",nu); # Exogena\n",
    "dudt_max = MX.sym(\"dudt_max\",2); # Exogena"
   ],
   "metadata": {
    "collapsed": false,
    "pycharm": {
     "name": "#%%\n"
    }
   }
  },
  {
   "cell_type": "code",
   "execution_count": null,
   "outputs": [],
   "source": [
    "[pbh,pwh,q]=[x[0],x[1],x[2]]\n",
    "x\n",
    "#xnorm=np.array([[0,1],[0,1],[0,1]])"
   ],
   "metadata": {
    "collapsed": false,
    "pycharm": {
     "name": "#%%\n"
    }
   }
  },
  {
   "cell_type": "code",
   "execution_count": null,
   "outputs": [],
   "source": [
    "pbh = (x[0]-xnorm[0,0])/xnorm[0,1]\n",
    "pwh = (x[1]-xnorm[1,0])/xnorm[1,1]\n",
    "q = (x[2]-xnorm[2,0])/xnorm[2,1]\n",
    "# pwh = AplicaEscala(x[1],1);\n",
    "# q = AplicaEscala(x[2],2)\n",
    "fq = u[0]\n",
    "zc = u[1]\n",
    "#zc = AplicaEscala(x[4],4)"
   ],
   "metadata": {
    "collapsed": false,
    "pycharm": {
     "name": "#%%\n"
    }
   }
  },
  {
   "cell_type": "code",
   "execution_count": null,
   "outputs": [],
   "source": [
    "# Entradas\n",
    "\n",
    "fqref = u[0]*unorm[0,1]+unorm[0,0]; zcref = u[1]*unorm[1,1]+unorm[1,0]\n",
    "pm=2e6\n",
    "#fq=fqref; zc=zcref;\n",
    "#pm=(pm-xnorm[0,0])/xnorm[0,1]\n",
    "#pm = u[2];"
   ],
   "metadata": {
    "collapsed": false,
    "pycharm": {
     "name": "#%%\n"
    }
   }
  },
  {
   "cell_type": "code",
   "execution_count": null,
   "outputs": [],
   "source": [
    "# Calculo do HEAD e delta de press�o\n",
    "q0 = q/Cq*(f0/fq);\n",
    "H0 = -1.2454e6*q0**2 + 7.4959e3*q0 + 9.5970e2;\n",
    "H = CH*H0*(fq/f0)**2; # Head\n"
   ],
   "metadata": {
    "collapsed": false,
    "pycharm": {
     "name": "#%%\n"
    }
   }
  },
  {
   "cell_type": "markdown",
   "source": [
    "Normalizando Pin (depende de x[0] e x[2])\n",
    "Variação de H com u[0] e x[2] normalizados"
   ],
   "metadata": {
    "collapsed": false
   }
  },
  {
   "cell_type": "code",
   "execution_count": null,
   "outputs": [],
   "source": [
    "H=(H-ynorm[1,0])/ynorm[1,1]"
   ],
   "metadata": {
    "collapsed": false,
    "pycharm": {
     "name": "#%%\n"
    }
   }
  },
  {
   "cell_type": "code",
   "execution_count": null,
   "outputs": [],
   "source": [
    "Pp = rho*g*H;\n",
    "# Calculo da press�o de intake\n",
    "F1 = 0.158*((rho*L1*q**2)/(D1*A1**2))*(mu/(rho*D1*q))**(1/4);\n",
    "F2 = 0.158*((rho*L2*q**2)/(D2*A2**2))*(mu/(rho*D2*q))**(1/4);\n",
    "P0 = -2.3599e9*q0**3 -1.8082e7*q0**2 +4.3346e6*q0 + 9.4355e4;\n",
    "pin = pbh - rho*g*h1 - F1\n",
    "\n",
    "funcPin=Function('funcPin',[x],[pin])"
   ],
   "metadata": {
    "collapsed": false,
    "pycharm": {
     "name": "#%%\n"
    }
   }
  },
  {
   "cell_type": "code",
   "execution_count": null,
   "outputs": [],
   "source": [
    "ui=np.arange(0.1,1.01,0.1)\n",
    "xi=np.arange(0.1,1.01,0.1)\n",
    "zp=np.zeros((len(ui),len(xi)))\n",
    "for i in range (0,len(ui)):\n",
    "    for j in range(0,len(xi)):\n",
    "        zp[i,j]=funcPin([ui[i],0,xi[j]])\n",
    "\n",
    "#Limites de Pin\n",
    "figPin, axP = plt.subplots(subplot_kw={\"projection\": \"3d\"})\n",
    "norm = cm.colors.Normalize(vmin=0.1, vmax=1)\n",
    "surfPin = axP.plot_surface(U, X, zp , cmap=cm.coolwarm,# norm=norm,\n",
    "                       linewidth=0, antialiased=False)\n",
    "# Customize the z axis.\n",
    "#axP.set_zlim(0.19, 1)\n",
    "axP.set_xlabel('Pbh')\n",
    "axP.set_ylabel('q')\n",
    "axP.set_zlabel('Pin')\n",
    "#axP.zaxis.set_major_locator(LinearLocator(5))\n",
    "# A StrMethodFormatter is used automatically\n",
    "#axP.zaxis.set_major_formatter('{x:.02f}')\n",
    "# Add a color bar which maps values to colors.\n",
    "figPin.colorbar(surfPin, shrink=0.5, aspect=5)\n",
    "plt.show()"
   ],
   "metadata": {
    "collapsed": false,
    "pycharm": {
     "name": "#%%\n"
    }
   }
  },
  {
   "cell_type": "code",
   "execution_count": null,
   "outputs": [],
   "source": [
    "min_max_pin=[np.amin(zp), np.amax(zp)]\n",
    "min_max_pin"
   ],
   "metadata": {
    "collapsed": false,
    "pycharm": {
     "name": "#%%\n"
    }
   }
  },
  {
   "cell_type": "code",
   "execution_count": null,
   "outputs": [],
   "source": [
    "pinlim =min_max_pin\n",
    "ynorm=np.array([Fnorm(pinlim),Fnorm(H_lim)])\n",
    "\n",
    "pin = pbh - rho*g*h1 - F1\n",
    "pin=(pin-ynorm[0,0])/ynorm[0,1]\n",
    "funcPin=Function('funcPin',[x],[pin])"
   ],
   "metadata": {
    "collapsed": false,
    "pycharm": {
     "name": "#%%\n"
    }
   }
  },
  {
   "cell_type": "code",
   "execution_count": null,
   "outputs": [],
   "source": [
    "zp=np.zeros((len(ui),len(xi)))\n",
    "zp"
   ],
   "metadata": {
    "collapsed": false,
    "pycharm": {
     "name": "#%%\n"
    }
   }
  },
  {
   "cell_type": "code",
   "execution_count": null,
   "outputs": [],
   "source": [
    "for i in range (0,len(ui)):\n",
    "    for j in range(0,len(xi)):\n",
    "        zp[i,j]=funcPin([ui[i],0,xi[j]])\n",
    "zp"
   ],
   "metadata": {
    "collapsed": false,
    "pycharm": {
     "name": "#%%\n"
    }
   }
  },
  {
   "cell_type": "code",
   "execution_count": null,
   "outputs": [],
   "source": [
    "#Limites de Pin\n",
    "figPin, axP = plt.subplots(subplot_kw={\"projection\": \"3d\"})\n",
    "norm = cm.colors.Normalize(vmin=0.1, vmax=1)\n",
    "surfPin = axP.plot_surface(U, X, zp , cmap=cm.coolwarm,# norm=norm,\n",
    "                       linewidth=0, antialiased=False)\n",
    "# Customize the z axis.\n",
    "#axP.set_zlim(0.19, 1)\n",
    "axP.set_xlabel('Pbh')\n",
    "axP.set_ylabel('q')\n",
    "axP.set_zlabel('Pin')\n",
    "#axP.zaxis.set_major_locator(LinearLocator(5))\n",
    "# A StrMethodFormatter is used automatically\n",
    "#axP.zaxis.set_major_formatter('{x:.02f}')\n",
    "# Add a color bar which maps values to colors.\n",
    "figPin.colorbar(surfPin, shrink=0.5, aspect=5)\n",
    "plt.show()"
   ],
   "metadata": {
    "collapsed": false,
    "pycharm": {
     "name": "#%%\n"
    }
   }
  },
  {
   "cell_type": "code",
   "execution_count": null,
   "outputs": [],
   "source": [],
   "metadata": {
    "collapsed": false,
    "pycharm": {
     "name": "#%%\n"
    }
   }
  }
 ],
 "metadata": {
  "kernelspec": {
   "display_name": "Python 3",
   "language": "python",
   "name": "python3"
  },
  "language_info": {
   "codemirror_mode": {
    "name": "ipython",
    "version": 3
   },
   "file_extension": ".py",
   "mimetype": "text/x-python",
   "name": "python",
   "nbconvert_exporter": "python",
   "pygments_lexer": "ipython3",
   "version": "3.9.2"
  }
 },
 "nbformat": 4,
 "nbformat_minor": 1
}