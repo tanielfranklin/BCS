{
  "nbformat": 4,
  "nbformat_minor": 2,
  "metadata": {
    "colab": {
      "name": "ED_BCS2x3-identify_aprbs_f.ipynb",
      "provenance": [],
      "collapsed_sections": []
    },
    "interpreter": {
      "hash": "a59f41f3ef12012b70f6a1f3ecf73a63c6cecb3e37cf88460a242e42c8aa7523"
    },
    "kernelspec": {
      "name": "python3",
      "display_name": "Python 3.9.2 64-bit ('RC': conda)"
    },
    "language_info": {
      "codemirror_mode": {
        "name": "ipython",
        "version": 3
      },
      "file_extension": ".py",
      "mimetype": "text/x-python",
      "name": "python",
      "nbconvert_exporter": "python",
      "pygments_lexer": "ipython3",
      "version": "3.9.2"
    }
  },
  "cells": [
    {
      "cell_type": "code",
      "execution_count": null,
      "source": [
        "from __future__ import absolute_import\n",
        "from __future__ import division\n",
        "from __future__ import print_function\n",
        "import numpy as np\n",
        "# !pip install deepxde\n",
        "import deepxde as dde\n",
        "import scipy as sp\n",
        "import scipy.interpolate as interp\n",
        "from deepxde.backend import tf\n",
        "from matplotlib import pyplot as plt\n",
        "from numpy.core.shape_base import hstack\n",
        "exec(compile(open('param.py', \"rb\").read(), 'param.py', 'exec')) #% Roda arquivo com modelo BCS\n",
        "def is_float(string):\n",
        "    \"\"\" True if given string is float else False\"\"\"\n",
        "    try:\n",
        "        return float(string)\n",
        "    except ValueError:\n",
        "        return False\n",
        "def ler_dados(str):\n",
        "    with open(str, 'r') as f:\n",
        "        d = f.readlines()\n",
        "        epocas = np.zeros(len(d));\n",
        "        tau = np.zeros(len(d));\n",
        "        j = 0;\n",
        "        data = []\n",
        "        for i in d:\n",
        "            k = i.rstrip().split(\" \")\n",
        "            data.append([float(i) if is_float(i) else i for i in k])\n",
        "            epocas[j] = float(k[0])\n",
        "            tau[j] = float(k[1])\n",
        "            j += 1;\n",
        "    return tau, epocas\n",
        "\n",
        "def previsao(modelo,x,t):\n",
        "    #Plota os três estados em função do tempo desnormalizados juntamente com\n",
        "    # o valor previsto pela rede\n",
        "    #modelo a ser recuperado. Requer compilação prévia\n",
        "    #x = dados reais\n",
        "    #t = tempo dos dados reais\n",
        "    x=np.array(x)\n",
        "    if isinstance(modelo,str)==True:\n",
        "      model.restore(modelo,verbose=1)\n",
        "    yhat = model.predict(t)\n",
        "    fig3=plt.figure()\n",
        "    label = ['Pbh (bar)','Pwh (bar)','q(m3/s)'];\n",
        "    for iu in range(0,3):\n",
        "        ax3=fig3.add_subplot(3,1,iu+1)\n",
        "        if iu==2:\n",
        "            ax3.plot(tempo,((yhat[:,iu])*xc[2]+x0[2])*3600, '-b')\n",
        "            ax3.plot(tempo,(x[2,:]*xc[2]+x0[2])*3600, ':k')\n",
        "            #ax3.plot([1,nsim],[umin[iu], umin[iu]],'--r')\n",
        "            #ax3.plot([1,nsim],[umax[iu], umax[iu]],'--r', label='Restrição')\n",
        "            ax3.set_ylabel(label[iu])\n",
        "            #ax3.set(xlim=(xi[0], nsim*ts))\n",
        "            # if iu==0:\n",
        "            #     #ax2.set(ylim=(30, 70))\n",
        "            #     print(iu)\n",
        "            plt.grid(True)\n",
        "        elif iu==0:\n",
        "            ax3.plot(tempo,((yhat[:,iu])*xc[0]+x0[0])/1e5, '-b')\n",
        "            ax3.plot(tempo,(x[0,:]*xc[0]+x0[0])/1e5, ':k')\n",
        "            #ax3.plot([1,nsim],[umin[iu], umin[iu]],'--r')\n",
        "            #ax3.plot([1,nsim],[umax[iu], umax[iu]],'--r', label='Restrição')\n",
        "            ax3.set_ylabel(label[iu])\n",
        "            #ax3.set(xlim=(xi[0], nsim*ts))\n",
        "            # if iu==0:\n",
        "            #     #ax2.set(ylim=(30, 70))\n",
        "            #     print(iu)\n",
        "            plt.grid(True)\n",
        "        else:\n",
        "            ax3.plot(tempo,((yhat[:,iu])*xc[1]+x0[1])/1e5, '-b', label='predição')\n",
        "            ax3.plot(tempo,(x[1,:]*xc[1]+x0[1])/1e5, ':k', label='real')\n",
        "            #ax3.plot([1,nsim],[umin[iu], umin[iu]],'--r')\n",
        "            #ax3.plot([1,nsim],[umax[iu], umax[iu]],'--r', label='Restrição')\n",
        "            ax3.set_ylabel(label[iu])\n",
        "            #ax3.set(xlim=(xi[0], nsim*ts))\n",
        "            # if iu==0:\n",
        "            #     #ax2.set(ylim=(30, 70))\n",
        "            #     print(iu)\n",
        "            plt.grid(True)\n",
        "            ax3.legend();\n",
        "    plt.show()\n",
        "\n",
        "\n",
        "# time points\n",
        "maxtime = 200\n",
        "time = np.linspace(0, maxtime, 200)\n",
        "\n",
        "#pbh  pwh q - Pressão de fundo do poço,\n",
        "#PI índice de produtividade do poço\n",
        "#PinC  pressão na choke"
      ],
      "outputs": [
        {
          "output_type": "error",
          "ename": "Error",
          "evalue": "Kernel is dead",
          "traceback": [
            "Error: Kernel is dead",
            "at f._sendKernelShellControl (/home/taniel/.vscode/extensions/ms-toolsai.jupyter-2021.8.1054968649/out/client/node_modules/@jupyterlab/services.js:3:483256)",
            "at f.sendShellMessage (/home/taniel/.vscode/extensions/ms-toolsai.jupyter-2021.8.1054968649/out/client/node_modules/@jupyterlab/services.js:3:483025)",
            "at f.requestExecute (/home/taniel/.vscode/extensions/ms-toolsai.jupyter-2021.8.1054968649/out/client/node_modules/@jupyterlab/services.js:3:485577)",
            "at _.requestExecute (/home/taniel/.vscode/extensions/ms-toolsai.jupyter-2021.8.1054968649/out/client/extension.js:24:134487)",
            "at w.executeCodeCell (/home/taniel/.vscode/extensions/ms-toolsai.jupyter-2021.8.1054968649/out/client/extension.js:90:319834)",
            "at w.execute (/home/taniel/.vscode/extensions/ms-toolsai.jupyter-2021.8.1054968649/out/client/extension.js:90:319389)",
            "at w.start (/home/taniel/.vscode/extensions/ms-toolsai.jupyter-2021.8.1054968649/out/client/extension.js:90:315205)",
            "at runMicrotasks (<anonymous>)",
            "at processTicksAndRejections (internal/process/task_queues.js:93:5)",
            "at async t.CellExecutionQueue.executeQueuedCells (/home/taniel/.vscode/extensions/ms-toolsai.jupyter-2021.8.1054968649/out/client/extension.js:90:329732)",
            "at async t.CellExecutionQueue.start (/home/taniel/.vscode/extensions/ms-toolsai.jupyter-2021.8.1054968649/out/client/extension.js:90:329272)"
          ]
        }
      ],
      "metadata": {
        "colab": {
          "base_uri": "https://localhost:8080/"
        },
        "collapsed": true,
        "id": "xUOA5QeI3ge4",
        "outputId": "6d1a105b-a846-480a-ef79-fb9567ff5c8b"
      }
    },
    {
      "cell_type": "code",
      "execution_count": null,
      "source": [
        "fq_ss = 50\n",
        "zc_ss = 50\n",
        "pm_ss = 2e6# Pressão de manifold\n",
        "\n",
        "uss = np.array([[fq_ss], [zc_ss], [pm_ss]])\n",
        "u = uss\n",
        "fqref = u[0]\n",
        "zcref = u[1]\n",
        "fq = fqref\n",
        "zc = zcref\n",
        "fq=60;zc=50;pm=2e6\n",
        "\n",
        "\n",
        "def constante(valor,time_vector):\n",
        "    return np.ones_like(time_vector)*valor\n",
        "\n",
        "def aprbs(valor,time_vector):\n",
        "    return np.ones_like(time_vector)*valor\n",
        "# time points\n",
        "maxtime = 200\n",
        "time = np.linspace(0, maxtime, 200)\n",
        "entrada=constante(fq,time)# exogenous input\n",
        "\n",
        "data = np.load('BCS_data_train_aprbs_f1.npz')\n",
        "fk=data['fk']\n",
        "entrada=fk\n",
        "\n",
        "def ex_func(t):\n",
        "    spline = sp.interpolate.Rbf(\n",
        "        time, entrada, function=\"thin_plate\", smooth=0, episilon=0\n",
        "    )\n",
        "    # return spline(t[:,0:])\n",
        "    return spline(t)\n"
      ],
      "outputs": [],
      "metadata": {
        "id": "Tym68xIZ3ge-"
      }
    },
    {
      "cell_type": "code",
      "execution_count": null,
      "source": [
        "# Valores máximos e mínimos para normalização\n",
        "#Entradas - conforme binder e pavlov\n",
        "def Lim_c(x):\n",
        "    return x[1]-x[0]\n",
        "f_lim=(30,75)\n",
        "zclim=(0,1)\n",
        "pmlim=(1e5,50e5)\n",
        "pbhlim=(1e5,pr) \n",
        "pwhlim=(1e5,50e5) \n",
        "qlim=(35/3600,65/3600)\n",
        "pbc=Lim_c(pbhlim)\n",
        "pwc=Lim_c(pwhlim)\n",
        "qc=Lim_c(qlim)\n",
        "pbmin=pbhlim[0]\n",
        "pwmin=pwhlim[0]\n",
        "qmin=qlim[0]\n",
        "H_lim=(-136.31543417849096, 1420.7697113483912)\n",
        "qch_lim=(0.0, 0.03290348005910621)\n",
        "\n",
        "rho=tf.Variable(930.0) #PI = 2.32e-9; # Well productivy index [m3/s/Pa]\n",
        "\n",
        "xc=np.array([pbc,pwc,qc])\n",
        "x0=np.array([pbmin,pwmin,qmin])\n",
        "\n",
        "x1=(data['x1']-x0[0])/xc[0]\n",
        "x2=(data['x2']-x0[1])/xc[1]\n",
        "x3=(data['x3']-x0[2])/xc[2]\n",
        "tempo=data['t']\n",
        "\n",
        "fig3=plt.figure()\n",
        "label = ['Pbh (bar)','Pwh (bar)','q(m3/s)'];\n",
        "xi=tempo\n",
        "for iu in range(0,4):\n",
        "    ax3=fig3.add_subplot(4,1,iu+1)\n",
        "    if iu==2:\n",
        "        ax3.plot(xi,data['x3'], label='Medição')\n",
        "        #ax3.plot([1,nsim],[umin[iu], umin[iu]],'--r')\n",
        "        #ax3.plot([1,nsim],[umax[iu], umax[iu]],'--r', label='Restrição')\n",
        "        ax3.set_ylabel(label[iu])\n",
        "        #ax3.set(xlim=(xi[0], nsim*ts))\n",
        "        # if iu==0:\n",
        "        #     #ax2.set(ylim=(30, 70))\n",
        "        #     print(iu)\n",
        "        plt.grid(True)\n",
        "    elif iu==1:\n",
        "        ax3.plot(xi,data['x2'], label='Medição')\n",
        "        #ax3.plot([1,nsim],[umin[iu], umin[iu]],'--r')\n",
        "        #ax3.plot([1,nsim],[umax[iu], umax[iu]],'--r', label='Restrição')\n",
        "        ax3.set_ylabel(label[iu])\n",
        "        #ax3.set(xlim=(xi[0], nsim*ts))\n",
        "        # if iu==0:\n",
        "        #     #ax2.set(ylim=(30, 70))\n",
        "        #     print(iu)\n",
        "        plt.grid(True)\n",
        "    elif iu==0:\n",
        "        ax3.plot(xi,data['x1'], label='Medição')\n",
        "        #ax3.plot([1,nsim],[umin[iu], umin[iu]],'--r')\n",
        "        #ax3.plot([1,nsim],[umax[iu], umax[iu]],'--r', label='Restrição')\n",
        "        ax3.set_ylabel(label[iu])\n",
        "        #ax3.set(xlim=(xi[0], nsim*ts))\n",
        "        # if iu==0:\n",
        "        #     #ax2.set(ylim=(30, 70))\n",
        "        #     print(iu)\n",
        "        plt.grid(True)\n",
        "    else:\n",
        "        ax3.plot(xi,ex_func(xi), label='Medição')\n",
        "        #ax3.plot([1,nsim],[umin[iu], umin[iu]],'--r')\n",
        "        #ax3.plot([1,nsim],[umax[iu], umax[iu]],'--r', label='Restrição')\n",
        "        ax3.set_ylabel('Frequencia')\n",
        "        #ax3.set(xlim=(xi[0], nsim*ts))\n",
        "        # if iu==0:\n",
        "        #     #ax2.set(ylim=(30, 70))\n",
        "        #     print(iu)\n",
        "        plt.grid(True)"
      ],
      "outputs": [
        {
          "output_type": "display_data",
          "data": {
            "text/plain": [
              "<Figure size 432x288 with 4 Axes>"
            ],
            "image/png": "[encoded data removed]"
          },
          "metadata": {
            "needs_background": "light"
          }
        }
      ],
      "metadata": {
        "colab": {
          "base_uri": "https://localhost:8080/",
          "height": 276
        },
        "id": "iKkWwy2I-yEX",
        "outputId": "c5079aa6-9f1e-4ec6-9156-5112a3e63286"
      }
    },
    {
      "cell_type": "code",
      "execution_count": null,
      "source": [],
      "outputs": [],
      "metadata": {
        "id": "eXY014qmfboa"
      }
    },
    {
      "cell_type": "code",
      "execution_count": null,
      "source": [
        "\n",
        "def ED_BCS(t,x,ex_func):\n",
        "    ## Montado o sistema de equa��es\n",
        "    # Tensores (Estados)\n",
        "    pbh = x[:,0:1]\n",
        "    pwh = x[:,1:2]\n",
        "    q = x[:,2:] #Vazão\n",
        "    fq=ex_func\n",
        "\n",
        "    # Calculo do HEAD e delta de press�o\n",
        "    q0 = (q*qc+qmin) / Cq * (f0 / fq)\n",
        "    H0 = -1.2454e6 * q0 ** 2 + 7.4959e3 * q0 + 9.5970e2\n",
        "    H = CH * H0 * (fq / f0) ** 2  # Head\n",
        "    #Pp = rho * g * H  # Delta de press�o\n",
        "    # Calculo da Potencia e corrente da bomba\n",
        "    #P0 = -2.3599e9 * q0 ** 3 - 1.8082e7 * q0 ** 2 + 4.3346e6 * q0 + 9.4355e4\n",
        "    #P = Cp * P0 * (fq / f0) ** 3;  # Potencia\n",
        "    #I = Inp * P / Pnp  # Corrente\n",
        "\n",
        "    # Calculo da press�o de intake\n",
        "    F1 = 0.158 * ((rho * L1 * ((q*qc+qmin)) ** 2) / (D1 * A1 ** 2)) * (mu / (rho * D1 * ((q*qc+qmin)))) ** (1 / 4)\n",
        "    F2 = 0.158 * ((rho * L2 * ((q*qc+qmin)) ** 2) / (D2 * A2 ** 2)) * (mu / (rho * D2 * ((q*qc+qmin)))) ** (1 / 4)\n",
        "    #pin = pbh*pbc+pbmin - rho * g * h1 - F1\n",
        "    # Vazao do reservatorio e vazao na choke\n",
        "    qr = PI * (pr - (pbh*pbc+pbmin))\n",
        "    qch = (zc/100)*Cc * tf.sqrt(tf.abs(pwh*pwc+pwmin - pm));\n",
        "\n",
        "    # Termos não lineares\n",
        "    #menor q implica em menor F\n",
        "\n",
        "    F1lim=(435476,440889)\n",
        "    F2lim=(1.04514e+06,1.05813e+06)\n",
        "    \n",
        "\n",
        "    F1c=Lim_c(F1lim)\n",
        "    F2c=Lim_c(F2lim)\n",
        "    Hc=Lim_c(H_lim)\n",
        "    qcc=Lim_c(qch_lim)\n",
        "    # print('Limites: pbh,pwh,q')\n",
        "    # print(pbhlim,pwhlim,qlim)\n",
        "    # print('Limites: F1,F2,H,qch')\n",
        "    # print(F1lim,F2lim,H_lim,qch_lim)\n",
        "\n",
        "    #Normalizar termos não lineares\n",
        "    ##########################\n",
        "    qch=(qch-qch_lim[0])/qcc\n",
        "    F1=(F1-F1lim[0])/F1c\n",
        "    F2=(F2-F2lim[0])/F2c\n",
        "    H=(H-H_lim[0])/Hc\n",
        "    ###########################\n",
        "\n",
        "    # SEDO\n",
        "\n",
        "    dpbhdt = dde.grad.jacobian(x, t, i=0)\n",
        "    dpwhdt = dde.grad.jacobian(x, t, i=1)\n",
        "    dqdt = dde.grad.jacobian(x, t, i=2)\n",
        "\n",
        "    return [\n",
        "        dpbhdt - (1/pbc)*b1/V1*(qr - (q*qc+qmin)),\n",
        "        dpwhdt - (1/pwc)*b2/V2*((q*qc+qmin) - (qcc*qch+qch_lim[0])),\n",
        "        dqdt - (1/(qc*M))*(pbh*pbc+pbmin - (pwh*pwc+pwmin) - rho*g*hw - (F1c*F1+F1lim[0]) - (F2c*F2+F2lim[0]) + rho * g * (H*Hc+H_lim[0]))\n",
        "        ]\n",
        "    \n"
      ],
      "outputs": [
        {
          "output_type": "execute_result",
          "data": {
            "text/plain": [
              "7.624999999999998"
            ]
          },
          "metadata": {},
          "execution_count": 129
        }
      ],
      "metadata": {
        "id": "K4FvXFB83ge_"
      }
    },
    {
      "cell_type": "code",
      "execution_count": null,
      "source": [
        "def boundary(_, on_initial):\n",
        "    return on_initial\n",
        "\n",
        "\n",
        "xss = np.float32(np.array([8311024.82175957,2990109.06207437,0.00995042241351780]))\n",
        "xssn = (xss-x0)/xc\n",
        "#print(xssn)\n",
        "\n",
        "\n",
        "geom = dde.geometry.TimeDomain(0, 200)\n",
        "#geom = dde.geometry.TimeDomain(0, 1)\n",
        "\n",
        "ic1 = dde.IC(geom, lambda v: xssn[0], boundary, component=0)\n",
        "ic2 = dde.IC(geom, lambda v: xssn[1], boundary, component=1)\n",
        "ic3 = dde.IC(geom, lambda v: xssn[2], boundary, component=2)\n",
        "\n",
        "tempo=tempo.reshape(len(x1),1)\n",
        "# print('x1.shape'+str(x1.shape))\n",
        "# print('x2.shape'+str(x2.shape))\n",
        "# print('x3.shape'+str(x3.shape))\n",
        "# print('tempo.shape'+str(tempo.shape))\n",
        "observe_x1 = dde.PointSetBC(tempo, x1, component=0)\n",
        "observe_x2 = dde.PointSetBC(tempo, x2, component=1)\n",
        "observe_x3 = dde.PointSetBC(tempo, x3, component=2)\n"
      ],
      "outputs": [],
      "metadata": {
        "id": "VmTI37WD3gfB"
      }
    },
    {
      "cell_type": "code",
      "execution_count": null,
      "source": [],
      "outputs": [],
      "metadata": {}
    },
    {
      "cell_type": "code",
      "execution_count": null,
      "source": [
        "data = dde.data.PDE(\n",
        "    #geom, ED_BCS, [ic1,ic2,ic3],\n",
        "    geom, ED_BCS, [ic1,ic2,ic3,observe_x1,observe_x2,observe_x3],\n",
        "    #solution=func,\n",
        "    num_test=4000,\n",
        "    num_domain=1000,\n",
        "    num_boundary=200,\n",
        "    anchors=tempo,\n",
        "    auxiliary_var_function=ex_func\n",
        "    )\n",
        "passos=10000\n",
        "\n",
        "layer_size = [1] + [40]*7 + [3]\n",
        "activation = \"tanh\" # \n",
        "#activation = \"sigmoid\"\n",
        "initializer = \"Glorot uniform\"\n",
        "net = dde.maps.FNN(layer_size, activation, initializer)\n",
        "#                   batch_normalization=\"before\")\n",
        "# callbacks for storing results\n",
        "fnamevar = \"rho_novo.dat\"\n",
        "variable = dde.callbacks.VariableValue(rho, period=100, filename=fnamevar)\n",
        "model = dde.Model(data, net)\n",
        "checker = dde.callbacks.ModelCheckpoint(\n",
        "        \"model_norm2/modelo.ckpt\", save_better_only=True)\n",
        "early_stopping = dde.callbacks.EarlyStopping(min_delta=1e-4, patience=2000)\n",
        "cb=[variable,checker,early_stopping]\n",
        "#cb=[checker]\n",
        "#cb=None\n"
      ],
      "outputs": [],
      "metadata": {
        "id": "3s8yHLrh3gfB"
      }
    },
    {
      "cell_type": "code",
      "execution_count": null,
      "source": [
        "model.compile(\"adam\", lr=0.001)"
      ],
      "outputs": [
        {
          "output_type": "stream",
          "name": "stdout",
          "text": [
            "Compiling model...\n",
            "'compile' took 1.169169 s\n",
            "\n"
          ]
        }
      ],
      "metadata": {
        "colab": {
          "base_uri": "https://localhost:8080/"
        },
        "id": "Xp65B5EPiSOW",
        "outputId": "822e2c3f-e924-4310-9e68-3b91a724a98c"
      }
    },
    {
      "cell_type": "code",
      "execution_count": null,
      "source": [
        "model.restore('modeloBCS_ok/modelo.ckpt-106000', verbose=1)"
      ],
      "outputs": [
        {
          "output_type": "stream",
          "name": "stdout",
          "text": [
            "Restoring model from modeloBCS_ok/modelo.ckpt-106000 ...\n",
            "\n",
            "INFO:tensorflow:Restoring parameters from modeloBCS_ok/modelo.ckpt-106000\n"
          ]
        }
      ],
      "metadata": {}
    },
    {
      "cell_type": "code",
      "execution_count": null,
      "source": [
        "\n",
        "losshistory, train_state=model.train(epochs=passos, callbacks=cb)\n",
        "# model.compile(\"L-BFGS-B\")\n",
        "#losshistory, train_state = model.train(callbacks=cb)\n",
        "dde.saveplot(losshistory, train_state, issave=True, isplot=True)"
      ],
      "outputs": [
        {
          "output_type": "stream",
          "name": "stdout",
          "text": [
            "Initializing variables...\n",
            "Training model...\n",
            "\n",
            "Step      Train loss                                                                                    Test loss                                                                                     Test metric\n",
            "0         [8.28e-01, 6.32e-02, 2.14e+01, 4.31e-01, 3.48e-01, 7.50e-04, 1.08e+00, 9.12e-01, 9.56e-03]    [8.45e-01, 6.78e-02, 2.26e+01, 0.00e+00, 0.00e+00, 0.00e+00, 0.00e+00, 0.00e+00, 0.00e+00]    []  \n",
            "INFO:tensorflow:model_norm2/modelo.ckpt-1 is not in all_model_checkpoint_paths. Manually adding it.\n"
          ]
        },
        {
          "output_type": "error",
          "ename": "KeyboardInterrupt",
          "evalue": "",
          "traceback": [
            "\u001b[0;31m---------------------------------------------------------------------------\u001b[0m",
            "\u001b[0;31mKeyboardInterrupt\u001b[0m                         Traceback (most recent call last)",
            "\u001b[0;32m<ipython-input-10-0d142005992d>\u001b[0m in \u001b[0;36m<module>\u001b[0;34m\u001b[0m\n\u001b[0;32m----> 1\u001b[0;31m \u001b[0mlosshistory\u001b[0m\u001b[0;34m,\u001b[0m \u001b[0mtrain_state\u001b[0m\u001b[0;34m=\u001b[0m\u001b[0mmodel\u001b[0m\u001b[0;34m.\u001b[0m\u001b[0mtrain\u001b[0m\u001b[0;34m(\u001b[0m\u001b[0mepochs\u001b[0m\u001b[0;34m=\u001b[0m\u001b[0mpassos\u001b[0m\u001b[0;34m,\u001b[0m \u001b[0mcallbacks\u001b[0m\u001b[0;34m=\u001b[0m\u001b[0mcb\u001b[0m\u001b[0;34m)\u001b[0m\u001b[0;34m\u001b[0m\u001b[0;34m\u001b[0m\u001b[0m\n\u001b[0m\u001b[1;32m      2\u001b[0m \u001b[0;31m# model.compile(\"L-BFGS-B\")\u001b[0m\u001b[0;34m\u001b[0m\u001b[0;34m\u001b[0m\u001b[0;34m\u001b[0m\u001b[0m\n\u001b[1;32m      3\u001b[0m \u001b[0;31m#losshistory, train_state = model.train(callbacks=cb)\u001b[0m\u001b[0;34m\u001b[0m\u001b[0;34m\u001b[0m\u001b[0;34m\u001b[0m\u001b[0m\n\u001b[1;32m      4\u001b[0m \u001b[0mdde\u001b[0m\u001b[0;34m.\u001b[0m\u001b[0msaveplot\u001b[0m\u001b[0;34m(\u001b[0m\u001b[0mlosshistory\u001b[0m\u001b[0;34m,\u001b[0m \u001b[0mtrain_state\u001b[0m\u001b[0;34m,\u001b[0m \u001b[0missave\u001b[0m\u001b[0;34m=\u001b[0m\u001b[0;32mTrue\u001b[0m\u001b[0;34m,\u001b[0m \u001b[0misplot\u001b[0m\u001b[0;34m=\u001b[0m\u001b[0;32mTrue\u001b[0m\u001b[0;34m)\u001b[0m\u001b[0;34m\u001b[0m\u001b[0;34m\u001b[0m\u001b[0m\n",
            "\u001b[0;32m~/anaconda3/envs/RC/lib/python3.9/site-packages/deepxde/utils.py\u001b[0m in \u001b[0;36mwrapper\u001b[0;34m(*args, **kwargs)\u001b[0m\n\u001b[1;32m     50\u001b[0m     \u001b[0;32mdef\u001b[0m \u001b[0mwrapper\u001b[0m\u001b[0;34m(\u001b[0m\u001b[0;34m*\u001b[0m\u001b[0margs\u001b[0m\u001b[0;34m,\u001b[0m \u001b[0;34m**\u001b[0m\u001b[0mkwargs\u001b[0m\u001b[0;34m)\u001b[0m\u001b[0;34m:\u001b[0m\u001b[0;34m\u001b[0m\u001b[0;34m\u001b[0m\u001b[0m\n\u001b[1;32m     51\u001b[0m         \u001b[0mts\u001b[0m \u001b[0;34m=\u001b[0m \u001b[0mtime\u001b[0m\u001b[0;34m.\u001b[0m\u001b[0mtime\u001b[0m\u001b[0;34m(\u001b[0m\u001b[0;34m)\u001b[0m\u001b[0;34m\u001b[0m\u001b[0;34m\u001b[0m\u001b[0m\n\u001b[0;32m---> 52\u001b[0;31m         \u001b[0mresult\u001b[0m \u001b[0;34m=\u001b[0m \u001b[0mf\u001b[0m\u001b[0;34m(\u001b[0m\u001b[0;34m*\u001b[0m\u001b[0margs\u001b[0m\u001b[0;34m,\u001b[0m \u001b[0;34m**\u001b[0m\u001b[0mkwargs\u001b[0m\u001b[0;34m)\u001b[0m\u001b[0;34m\u001b[0m\u001b[0;34m\u001b[0m\u001b[0m\n\u001b[0m\u001b[1;32m     53\u001b[0m         \u001b[0mte\u001b[0m \u001b[0;34m=\u001b[0m \u001b[0mtime\u001b[0m\u001b[0;34m.\u001b[0m\u001b[0mtime\u001b[0m\u001b[0;34m(\u001b[0m\u001b[0;34m)\u001b[0m\u001b[0;34m\u001b[0m\u001b[0;34m\u001b[0m\u001b[0m\n\u001b[1;32m     54\u001b[0m         \u001b[0mprint\u001b[0m\u001b[0;34m(\u001b[0m\u001b[0;34m\"%r took %f s\\n\"\u001b[0m \u001b[0;34m%\u001b[0m \u001b[0;34m(\u001b[0m\u001b[0mf\u001b[0m\u001b[0;34m.\u001b[0m\u001b[0m__name__\u001b[0m\u001b[0;34m,\u001b[0m \u001b[0mte\u001b[0m \u001b[0;34m-\u001b[0m \u001b[0mts\u001b[0m\u001b[0;34m)\u001b[0m\u001b[0;34m)\u001b[0m\u001b[0;34m\u001b[0m\u001b[0;34m\u001b[0m\u001b[0m\n",
            "\u001b[0;32m~/anaconda3/envs/RC/lib/python3.9/site-packages/deepxde/model.py\u001b[0m in \u001b[0;36mtrain\u001b[0;34m(self, epochs, batch_size, display_every, uncertainty, disregard_previous_best, callbacks, model_restore_path, model_save_path, print_model)\u001b[0m\n\u001b[1;32m    158\u001b[0m             \u001b[0;32mif\u001b[0m \u001b[0mepochs\u001b[0m \u001b[0;32mis\u001b[0m \u001b[0;32mNone\u001b[0m\u001b[0;34m:\u001b[0m\u001b[0;34m\u001b[0m\u001b[0;34m\u001b[0m\u001b[0m\n\u001b[1;32m    159\u001b[0m                 \u001b[0;32mraise\u001b[0m \u001b[0mValueError\u001b[0m\u001b[0;34m(\u001b[0m\u001b[0;34m\"No epochs for {}.\"\u001b[0m\u001b[0;34m.\u001b[0m\u001b[0mformat\u001b[0m\u001b[0;34m(\u001b[0m\u001b[0mself\u001b[0m\u001b[0;34m.\u001b[0m\u001b[0moptimizer\u001b[0m\u001b[0;34m)\u001b[0m\u001b[0;34m)\u001b[0m\u001b[0;34m\u001b[0m\u001b[0;34m\u001b[0m\u001b[0m\n\u001b[0;32m--> 160\u001b[0;31m             \u001b[0mself\u001b[0m\u001b[0;34m.\u001b[0m\u001b[0m_train_sgd\u001b[0m\u001b[0;34m(\u001b[0m\u001b[0mepochs\u001b[0m\u001b[0;34m,\u001b[0m \u001b[0mdisplay_every\u001b[0m\u001b[0;34m,\u001b[0m \u001b[0muncertainty\u001b[0m\u001b[0;34m)\u001b[0m\u001b[0;34m\u001b[0m\u001b[0;34m\u001b[0m\u001b[0m\n\u001b[0m\u001b[1;32m    161\u001b[0m         \u001b[0mself\u001b[0m\u001b[0;34m.\u001b[0m\u001b[0mcallbacks\u001b[0m\u001b[0;34m.\u001b[0m\u001b[0mon_train_end\u001b[0m\u001b[0;34m(\u001b[0m\u001b[0;34m)\u001b[0m\u001b[0;34m\u001b[0m\u001b[0;34m\u001b[0m\u001b[0m\n\u001b[1;32m    162\u001b[0m \u001b[0;34m\u001b[0m\u001b[0m\n",
            "\u001b[0;32m~/anaconda3/envs/RC/lib/python3.9/site-packages/deepxde/model.py\u001b[0m in \u001b[0;36m_train_sgd\u001b[0;34m(self, epochs, display_every, uncertainty)\u001b[0m\n\u001b[1;32m    218\u001b[0m                 \u001b[0;34m*\u001b[0m\u001b[0mself\u001b[0m\u001b[0;34m.\u001b[0m\u001b[0mdata\u001b[0m\u001b[0;34m.\u001b[0m\u001b[0mtrain_next_batch\u001b[0m\u001b[0;34m(\u001b[0m\u001b[0mself\u001b[0m\u001b[0;34m.\u001b[0m\u001b[0mbatch_size\u001b[0m\u001b[0;34m)\u001b[0m\u001b[0;34m\u001b[0m\u001b[0;34m\u001b[0m\u001b[0m\n\u001b[1;32m    219\u001b[0m             )\n\u001b[0;32m--> 220\u001b[0;31m             self.sess.run(\n\u001b[0m\u001b[1;32m    221\u001b[0m                 \u001b[0mself\u001b[0m\u001b[0;34m.\u001b[0m\u001b[0mtrain_op\u001b[0m\u001b[0;34m,\u001b[0m\u001b[0;34m\u001b[0m\u001b[0;34m\u001b[0m\u001b[0m\n\u001b[1;32m    222\u001b[0m                 feed_dict=self.net.feed_dict(\n",
            "\u001b[0;32m~/anaconda3/envs/RC/lib/python3.9/site-packages/tensorflow/python/client/session.py\u001b[0m in \u001b[0;36mrun\u001b[0;34m(self, fetches, feed_dict, options, run_metadata)\u001b[0m\n\u001b[1;32m    965\u001b[0m \u001b[0;34m\u001b[0m\u001b[0m\n\u001b[1;32m    966\u001b[0m     \u001b[0;32mtry\u001b[0m\u001b[0;34m:\u001b[0m\u001b[0;34m\u001b[0m\u001b[0;34m\u001b[0m\u001b[0m\n\u001b[0;32m--> 967\u001b[0;31m       result = self._run(None, fetches, feed_dict, options_ptr,\n\u001b[0m\u001b[1;32m    968\u001b[0m                          run_metadata_ptr)\n\u001b[1;32m    969\u001b[0m       \u001b[0;32mif\u001b[0m \u001b[0mrun_metadata\u001b[0m\u001b[0;34m:\u001b[0m\u001b[0;34m\u001b[0m\u001b[0;34m\u001b[0m\u001b[0m\n",
            "\u001b[0;32m~/anaconda3/envs/RC/lib/python3.9/site-packages/tensorflow/python/client/session.py\u001b[0m in \u001b[0;36m_run\u001b[0;34m(self, handle, fetches, feed_dict, options, run_metadata)\u001b[0m\n\u001b[1;32m   1188\u001b[0m     \u001b[0;31m# or if the call is a partial run that specifies feeds.\u001b[0m\u001b[0;34m\u001b[0m\u001b[0;34m\u001b[0m\u001b[0;34m\u001b[0m\u001b[0m\n\u001b[1;32m   1189\u001b[0m     \u001b[0;32mif\u001b[0m \u001b[0mfinal_fetches\u001b[0m \u001b[0;32mor\u001b[0m \u001b[0mfinal_targets\u001b[0m \u001b[0;32mor\u001b[0m \u001b[0;34m(\u001b[0m\u001b[0mhandle\u001b[0m \u001b[0;32mand\u001b[0m \u001b[0mfeed_dict_tensor\u001b[0m\u001b[0;34m)\u001b[0m\u001b[0;34m:\u001b[0m\u001b[0;34m\u001b[0m\u001b[0;34m\u001b[0m\u001b[0m\n\u001b[0;32m-> 1190\u001b[0;31m       results = self._do_run(handle, final_targets, final_fetches,\n\u001b[0m\u001b[1;32m   1191\u001b[0m                              feed_dict_tensor, options, run_metadata)\n\u001b[1;32m   1192\u001b[0m     \u001b[0;32melse\u001b[0m\u001b[0;34m:\u001b[0m\u001b[0;34m\u001b[0m\u001b[0;34m\u001b[0m\u001b[0m\n",
            "\u001b[0;32m~/anaconda3/envs/RC/lib/python3.9/site-packages/tensorflow/python/client/session.py\u001b[0m in \u001b[0;36m_do_run\u001b[0;34m(self, handle, target_list, fetch_list, feed_dict, options, run_metadata)\u001b[0m\n\u001b[1;32m   1366\u001b[0m \u001b[0;34m\u001b[0m\u001b[0m\n\u001b[1;32m   1367\u001b[0m     \u001b[0;32mif\u001b[0m \u001b[0mhandle\u001b[0m \u001b[0;32mis\u001b[0m \u001b[0;32mNone\u001b[0m\u001b[0;34m:\u001b[0m\u001b[0;34m\u001b[0m\u001b[0;34m\u001b[0m\u001b[0m\n\u001b[0;32m-> 1368\u001b[0;31m       return self._do_call(_run_fn, feeds, fetches, targets, options,\n\u001b[0m\u001b[1;32m   1369\u001b[0m                            run_metadata)\n\u001b[1;32m   1370\u001b[0m     \u001b[0;32melse\u001b[0m\u001b[0;34m:\u001b[0m\u001b[0;34m\u001b[0m\u001b[0;34m\u001b[0m\u001b[0m\n",
            "\u001b[0;32m~/anaconda3/envs/RC/lib/python3.9/site-packages/tensorflow/python/client/session.py\u001b[0m in \u001b[0;36m_do_call\u001b[0;34m(self, fn, *args)\u001b[0m\n\u001b[1;32m   1373\u001b[0m   \u001b[0;32mdef\u001b[0m \u001b[0m_do_call\u001b[0m\u001b[0;34m(\u001b[0m\u001b[0mself\u001b[0m\u001b[0;34m,\u001b[0m \u001b[0mfn\u001b[0m\u001b[0;34m,\u001b[0m \u001b[0;34m*\u001b[0m\u001b[0margs\u001b[0m\u001b[0;34m)\u001b[0m\u001b[0;34m:\u001b[0m\u001b[0;34m\u001b[0m\u001b[0;34m\u001b[0m\u001b[0m\n\u001b[1;32m   1374\u001b[0m     \u001b[0;32mtry\u001b[0m\u001b[0;34m:\u001b[0m\u001b[0;34m\u001b[0m\u001b[0;34m\u001b[0m\u001b[0m\n\u001b[0;32m-> 1375\u001b[0;31m       \u001b[0;32mreturn\u001b[0m \u001b[0mfn\u001b[0m\u001b[0;34m(\u001b[0m\u001b[0;34m*\u001b[0m\u001b[0margs\u001b[0m\u001b[0;34m)\u001b[0m\u001b[0;34m\u001b[0m\u001b[0;34m\u001b[0m\u001b[0m\n\u001b[0m\u001b[1;32m   1376\u001b[0m     \u001b[0;32mexcept\u001b[0m \u001b[0merrors\u001b[0m\u001b[0;34m.\u001b[0m\u001b[0mOpError\u001b[0m \u001b[0;32mas\u001b[0m \u001b[0me\u001b[0m\u001b[0;34m:\u001b[0m\u001b[0;34m\u001b[0m\u001b[0;34m\u001b[0m\u001b[0m\n\u001b[1;32m   1377\u001b[0m       \u001b[0mmessage\u001b[0m \u001b[0;34m=\u001b[0m \u001b[0mcompat\u001b[0m\u001b[0;34m.\u001b[0m\u001b[0mas_text\u001b[0m\u001b[0;34m(\u001b[0m\u001b[0me\u001b[0m\u001b[0;34m.\u001b[0m\u001b[0mmessage\u001b[0m\u001b[0;34m)\u001b[0m\u001b[0;34m\u001b[0m\u001b[0;34m\u001b[0m\u001b[0m\n",
            "\u001b[0;32m~/anaconda3/envs/RC/lib/python3.9/site-packages/tensorflow/python/client/session.py\u001b[0m in \u001b[0;36m_run_fn\u001b[0;34m(feed_dict, fetch_list, target_list, options, run_metadata)\u001b[0m\n\u001b[1;32m   1357\u001b[0m       \u001b[0;31m# Ensure any changes to the graph are reflected in the runtime.\u001b[0m\u001b[0;34m\u001b[0m\u001b[0;34m\u001b[0m\u001b[0;34m\u001b[0m\u001b[0m\n\u001b[1;32m   1358\u001b[0m       \u001b[0mself\u001b[0m\u001b[0;34m.\u001b[0m\u001b[0m_extend_graph\u001b[0m\u001b[0;34m(\u001b[0m\u001b[0;34m)\u001b[0m\u001b[0;34m\u001b[0m\u001b[0;34m\u001b[0m\u001b[0m\n\u001b[0;32m-> 1359\u001b[0;31m       return self._call_tf_sessionrun(options, feed_dict, fetch_list,\n\u001b[0m\u001b[1;32m   1360\u001b[0m                                       target_list, run_metadata)\n\u001b[1;32m   1361\u001b[0m \u001b[0;34m\u001b[0m\u001b[0m\n",
            "\u001b[0;32m~/anaconda3/envs/RC/lib/python3.9/site-packages/tensorflow/python/client/session.py\u001b[0m in \u001b[0;36m_call_tf_sessionrun\u001b[0;34m(self, options, feed_dict, fetch_list, target_list, run_metadata)\u001b[0m\n\u001b[1;32m   1449\u001b[0m   def _call_tf_sessionrun(self, options, feed_dict, fetch_list, target_list,\n\u001b[1;32m   1450\u001b[0m                           run_metadata):\n\u001b[0;32m-> 1451\u001b[0;31m     return tf_session.TF_SessionRun_wrapper(self._session, options, feed_dict,\n\u001b[0m\u001b[1;32m   1452\u001b[0m                                             \u001b[0mfetch_list\u001b[0m\u001b[0;34m,\u001b[0m \u001b[0mtarget_list\u001b[0m\u001b[0;34m,\u001b[0m\u001b[0;34m\u001b[0m\u001b[0;34m\u001b[0m\u001b[0m\n\u001b[1;32m   1453\u001b[0m                                             run_metadata)\n",
            "\u001b[0;31mKeyboardInterrupt\u001b[0m: "
          ]
        }
      ],
      "metadata": {
        "colab": {
          "base_uri": "https://localhost:8080/",
          "height": 1000
        },
        "id": "deehA8KA3gfE",
        "outputId": "69fd8a1a-a029-44bd-8a88-288fb1e762cb"
      }
    },
    {
      "cell_type": "markdown",
      "source": [],
      "metadata": {
        "id": "NkJEqX5p3gfF"
      }
    },
    {
      "cell_type": "code",
      "execution_count": null,
      "source": [
        "#modelo1=\"model_norm2/modelo.ckpt-\"+str(train_state.best_step)\n",
        "#modelo1=\"model_norm2/modelo.ckpt-4000\"\n",
        "##print(\"L2 relative error:\", dde.metrics.l2_relative_error(y_true, y_pred))\n",
        "#previsao(1,[x1,x2,x3],tempo)\n",
        "\n",
        "# X=[915.0]\n",
        "# float(X)\n",
        "parametro,epocas=ler_dados(\"rho_novo.dat\")\n",
        "\n",
        "\n",
        "fig2=plt.figure()\n",
        "ax2=fig2.add_subplot()\n",
        "ax2.plot(epocas,parametro)\n",
        "ax2.set_ylabel('rho')\n",
        "fig2.show()\n",
        "np.__version__\n",
        "\n"
      ],
      "outputs": [
        {
          "output_type": "stream",
          "name": "stderr",
          "text": [
            "<ipython-input-47-23980cd0daa2>:15: UserWarning: Matplotlib is currently using module://ipykernel.pylab.backend_inline, which is a non-GUI backend, so cannot show the figure.\n",
            "  fig2.show()\n"
          ]
        },
        {
          "output_type": "execute_result",
          "data": {
            "text/plain": [
              "'1.20.2'"
            ]
          },
          "metadata": {},
          "execution_count": 47
        },
        {
          "output_type": "display_data",
          "data": {
            "text/plain": [
              "<Figure size 432x288 with 1 Axes>"
            ],
            "image/png": "[encoded data removed]"
          },
          "metadata": {
            "needs_background": "light"
          }
        }
      ],
      "metadata": {
        "colab": {
          "base_uri": "https://localhost:8080/",
          "height": 513
        },
        "id": "TYG5jD6U3gfG",
        "outputId": "0b1babc7-4dd3-4a47-aa6d-f34bf9fdc95b"
      }
    },
    {
      "cell_type": "code",
      "execution_count": null,
      "source": [
        "X = geom.random_points(400)\n",
        "err = 1\n",
        "count=7 # máximo de vezes dentro do loop\n",
        "f = model.predict(X, operator=ED_BCS)\n",
        "err_eq = np.absolute(f)\n",
        "err = np.mean(err_eq)\n",
        "print(\"Resíduo médio: %.3e\" % (err)) \n",
        "# np.argsort(err_eq)\n",
        "\n"
      ],
      "outputs": [
        {
          "output_type": "stream",
          "name": "stdout",
          "text": [
            "Predicting...\n",
            "'predict' took 1.043704 s\n",
            "\n",
            "Resíduo médio: 5.265e+00\n"
          ]
        }
      ],
      "metadata": {
        "id": "r3yVnM7AZ4KK"
      }
    },
    {
      "cell_type": "code",
      "execution_count": null,
      "source": [
        "a=np.array([[9, 1, 4,7], [0, 3,10, 9], [0,30, 4, 6]])\n",
        "ind = np.argpartition(a[0,:], -2)[-2:]\n",
        "ind"
      ],
      "outputs": [
        {
          "output_type": "execute_result",
          "data": {
            "text/plain": [
              "array([3, 0])"
            ]
          },
          "metadata": {},
          "execution_count": 49
        }
      ],
      "metadata": {}
    },
    {
      "cell_type": "code",
      "execution_count": null,
      "source": [
        "for i in np.arange(0,3):\n",
        "    ind = np.argpartition(err_eq[i,:], -3,0)[-3:]\n",
        "    #print('Maiores linha:',i,'\\n ',ind,':\\n Valores:',err_eq[i,ind[0]],err_eq[i,ind[1]])\n",
        "    for j in range(0,len(ind)):\n",
        "        print('add indice:',ind[j])\n",
        "        data.add_anchors(X[ind[j]])"
      ],
      "outputs": [
        {
          "output_type": "stream",
          "name": "stdout",
          "text": [
            "Maiores linha: 0 \n",
            "  [[226]\n",
            " [  5]\n",
            " [172]] :\n",
            " Valores: [[0.9204239]] [[0.92042863]]\n",
            "add indice: [226]\n",
            "add indice: [5]\n",
            "add indice: [172]\n",
            "Maiores linha: 1 \n",
            "  [[ 73]\n",
            " [113]\n",
            " [190]] :\n",
            " Valores: [[0.32194126]] [[0.37732103]]\n",
            "add indice: [73]\n",
            "add indice: [113]\n",
            "add indice: [190]\n",
            "Maiores linha: 2 \n",
            "  [[125]\n",
            " [  0]\n",
            " [252]] :\n",
            " Valores: [[49.86805]] [[50.322536]]\n",
            "add indice: [125]\n",
            "add indice: [0]\n",
            "add indice: [252]\n"
          ]
        }
      ],
      "metadata": {}
    },
    {
      "cell_type": "code",
      "execution_count": null,
      "source": [
        "while err > 0.005 and count>0:\n",
        "  count-=1\n",
        "  f = model.predict(X, operator=ED_BCS)\n",
        "  err_eq = np.absolute(f)\n",
        "  err = np.mean(err_eq)\n",
        "  print(\"Resíduo médio: %.3e\" % (err))\n",
        "  pontos=[]\n",
        "  for i in np.arange(0,3):\n",
        "    ind = np.argpartition(err_eq[i,:], -3,0)[-3:]\n",
        "    #print('Maiores linha:',i,'\\n ',ind,':\\n Valores:',err_eq[i,ind[0]],err_eq[i,ind[1]])\n",
        "    for j in range(0,len(ind)):\n",
        "        #print('add indice:',ind[j])\n",
        "        data.add_anchors(X[ind[j]])\n",
        "        pontos.append(X[ind[j]])\n",
        "  # x_id = np.argmax(err_eq)\n",
        "  # while x_id>100000:\n",
        "  #   x_id=x_id-100000\n",
        "  print(\"Novos pontos adicionados:\", np.array(pontos).T, \"\\n\")\n",
        "  print(\"Contador em:\", count, \"\\n\")\n",
        "  #data.add_anchors(X[x_id[1]])\n",
        "  #early_stopping = dde.callbacks.EarlyStopping(min_delta=1e-4, patience=2000)\n",
        "  model.compile(\"adam\", lr=1e-3)\n",
        "  model.train(\n",
        "              #epochs=10000, disregard_previous_best=True, callbacks=cb\n",
        "              epochs=3000, callbacks=cb\n",
        "          )\n",
        "  # model.compile(\"L-BFGS-B\")\n",
        "  # losshistory, train_state = model.train(disregard_previous_best=True, callbacks=cb)\n",
        "dde.saveplot(losshistory, train_state, issave=True, isplot=True)\n",
        "parametro,epocas=ler_dados(\"rho.dat\")\n",
        "fig2=plt.figure()\n",
        "ax2=fig2.add_subplot()\n",
        "ax2.plot(epocas,parametro)\n",
        "ax2.set_ylabel('rho')\n",
        "fig2.show()"
      ],
      "outputs": [
        {
          "output_type": "stream",
          "name": "stdout",
          "text": [
            "Predicting...\n",
            "'predict' took 0.734200 s\n",
            "\n",
            "Resíduo médio: 5.673e+00\n",
            "Novos pontos adicionados: [[[  3.758267    3.2034104   2.8786583   2.8786583   2.6662993\n",
            "     2.0286448 198.68001   199.43958   199.53535  ]]] \n",
            "\n",
            "Contador em: 2 \n",
            "\n",
            "Compiling model...\n",
            "'compile' took 1.175477 s\n",
            "\n",
            "Training model...\n",
            "\n",
            "3145      [9.36e-05, 3.06e-04, 1.38e-02, 4.14e-04, 1.57e-04, 1.95e-10, 1.27e-04, 3.27e-04, 5.59e-04]    [4.63e-05, 2.77e-04, 1.56e-02, 0.00e+00, 0.00e+00, 0.00e+00, 0.00e+00, 0.00e+00, 0.00e+00]    []  \n"
          ]
        },
        {
          "output_type": "error",
          "ename": "KeyboardInterrupt",
          "evalue": "",
          "traceback": [
            "\u001b[0;31m---------------------------------------------------------------------------\u001b[0m",
            "\u001b[0;31mKeyboardInterrupt\u001b[0m                         Traceback (most recent call last)",
            "\u001b[0;32m<ipython-input-107-1cfd91211117>\u001b[0m in \u001b[0;36m<module>\u001b[0;34m\u001b[0m\n\u001b[1;32m     21\u001b[0m   \u001b[0;31m#early_stopping = dde.callbacks.EarlyStopping(min_delta=1e-4, patience=2000)\u001b[0m\u001b[0;34m\u001b[0m\u001b[0;34m\u001b[0m\u001b[0;34m\u001b[0m\u001b[0m\n\u001b[1;32m     22\u001b[0m   \u001b[0mmodel\u001b[0m\u001b[0;34m.\u001b[0m\u001b[0mcompile\u001b[0m\u001b[0;34m(\u001b[0m\u001b[0;34m\"adam\"\u001b[0m\u001b[0;34m,\u001b[0m \u001b[0mlr\u001b[0m\u001b[0;34m=\u001b[0m\u001b[0;36m1e-3\u001b[0m\u001b[0;34m)\u001b[0m\u001b[0;34m\u001b[0m\u001b[0;34m\u001b[0m\u001b[0m\n\u001b[0;32m---> 23\u001b[0;31m   model.train(\n\u001b[0m\u001b[1;32m     24\u001b[0m               \u001b[0;31m#epochs=10000, disregard_previous_best=True, callbacks=cb\u001b[0m\u001b[0;34m\u001b[0m\u001b[0;34m\u001b[0m\u001b[0;34m\u001b[0m\u001b[0m\n\u001b[1;32m     25\u001b[0m               \u001b[0mepochs\u001b[0m\u001b[0;34m=\u001b[0m\u001b[0;36m3000\u001b[0m\u001b[0;34m,\u001b[0m \u001b[0mcallbacks\u001b[0m\u001b[0;34m=\u001b[0m\u001b[0mcb\u001b[0m\u001b[0;34m\u001b[0m\u001b[0;34m\u001b[0m\u001b[0m\n",
            "\u001b[0;32m~/anaconda3/envs/RC/lib/python3.9/site-packages/deepxde/utils.py\u001b[0m in \u001b[0;36mwrapper\u001b[0;34m(*args, **kwargs)\u001b[0m\n\u001b[1;32m     50\u001b[0m     \u001b[0;32mdef\u001b[0m \u001b[0mwrapper\u001b[0m\u001b[0;34m(\u001b[0m\u001b[0;34m*\u001b[0m\u001b[0margs\u001b[0m\u001b[0;34m,\u001b[0m \u001b[0;34m**\u001b[0m\u001b[0mkwargs\u001b[0m\u001b[0;34m)\u001b[0m\u001b[0;34m:\u001b[0m\u001b[0;34m\u001b[0m\u001b[0;34m\u001b[0m\u001b[0m\n\u001b[1;32m     51\u001b[0m         \u001b[0mts\u001b[0m \u001b[0;34m=\u001b[0m \u001b[0mtime\u001b[0m\u001b[0;34m.\u001b[0m\u001b[0mtime\u001b[0m\u001b[0;34m(\u001b[0m\u001b[0;34m)\u001b[0m\u001b[0;34m\u001b[0m\u001b[0;34m\u001b[0m\u001b[0m\n\u001b[0;32m---> 52\u001b[0;31m         \u001b[0mresult\u001b[0m \u001b[0;34m=\u001b[0m \u001b[0mf\u001b[0m\u001b[0;34m(\u001b[0m\u001b[0;34m*\u001b[0m\u001b[0margs\u001b[0m\u001b[0;34m,\u001b[0m \u001b[0;34m**\u001b[0m\u001b[0mkwargs\u001b[0m\u001b[0;34m)\u001b[0m\u001b[0;34m\u001b[0m\u001b[0;34m\u001b[0m\u001b[0m\n\u001b[0m\u001b[1;32m     53\u001b[0m         \u001b[0mte\u001b[0m \u001b[0;34m=\u001b[0m \u001b[0mtime\u001b[0m\u001b[0;34m.\u001b[0m\u001b[0mtime\u001b[0m\u001b[0;34m(\u001b[0m\u001b[0;34m)\u001b[0m\u001b[0;34m\u001b[0m\u001b[0;34m\u001b[0m\u001b[0m\n\u001b[1;32m     54\u001b[0m         \u001b[0mprint\u001b[0m\u001b[0;34m(\u001b[0m\u001b[0;34m\"%r took %f s\\n\"\u001b[0m \u001b[0;34m%\u001b[0m \u001b[0;34m(\u001b[0m\u001b[0mf\u001b[0m\u001b[0;34m.\u001b[0m\u001b[0m__name__\u001b[0m\u001b[0;34m,\u001b[0m \u001b[0mte\u001b[0m \u001b[0;34m-\u001b[0m \u001b[0mts\u001b[0m\u001b[0;34m)\u001b[0m\u001b[0;34m)\u001b[0m\u001b[0;34m\u001b[0m\u001b[0;34m\u001b[0m\u001b[0m\n",
            "\u001b[0;32m~/anaconda3/envs/RC/lib/python3.9/site-packages/deepxde/model.py\u001b[0m in \u001b[0;36mtrain\u001b[0;34m(self, epochs, batch_size, display_every, uncertainty, disregard_previous_best, callbacks, model_restore_path, model_save_path, print_model)\u001b[0m\n\u001b[1;32m    158\u001b[0m             \u001b[0;32mif\u001b[0m \u001b[0mepochs\u001b[0m \u001b[0;32mis\u001b[0m \u001b[0;32mNone\u001b[0m\u001b[0;34m:\u001b[0m\u001b[0;34m\u001b[0m\u001b[0;34m\u001b[0m\u001b[0m\n\u001b[1;32m    159\u001b[0m                 \u001b[0;32mraise\u001b[0m \u001b[0mValueError\u001b[0m\u001b[0;34m(\u001b[0m\u001b[0;34m\"No epochs for {}.\"\u001b[0m\u001b[0;34m.\u001b[0m\u001b[0mformat\u001b[0m\u001b[0;34m(\u001b[0m\u001b[0mself\u001b[0m\u001b[0;34m.\u001b[0m\u001b[0moptimizer\u001b[0m\u001b[0;34m)\u001b[0m\u001b[0;34m)\u001b[0m\u001b[0;34m\u001b[0m\u001b[0;34m\u001b[0m\u001b[0m\n\u001b[0;32m--> 160\u001b[0;31m             \u001b[0mself\u001b[0m\u001b[0;34m.\u001b[0m\u001b[0m_train_sgd\u001b[0m\u001b[0;34m(\u001b[0m\u001b[0mepochs\u001b[0m\u001b[0;34m,\u001b[0m \u001b[0mdisplay_every\u001b[0m\u001b[0;34m,\u001b[0m \u001b[0muncertainty\u001b[0m\u001b[0;34m)\u001b[0m\u001b[0;34m\u001b[0m\u001b[0;34m\u001b[0m\u001b[0m\n\u001b[0m\u001b[1;32m    161\u001b[0m         \u001b[0mself\u001b[0m\u001b[0;34m.\u001b[0m\u001b[0mcallbacks\u001b[0m\u001b[0;34m.\u001b[0m\u001b[0mon_train_end\u001b[0m\u001b[0;34m(\u001b[0m\u001b[0;34m)\u001b[0m\u001b[0;34m\u001b[0m\u001b[0;34m\u001b[0m\u001b[0m\n\u001b[1;32m    162\u001b[0m \u001b[0;34m\u001b[0m\u001b[0m\n",
            "\u001b[0;32m~/anaconda3/envs/RC/lib/python3.9/site-packages/deepxde/model.py\u001b[0m in \u001b[0;36m_train_sgd\u001b[0;34m(self, epochs, display_every, uncertainty)\u001b[0m\n\u001b[1;32m    218\u001b[0m                 \u001b[0;34m*\u001b[0m\u001b[0mself\u001b[0m\u001b[0;34m.\u001b[0m\u001b[0mdata\u001b[0m\u001b[0;34m.\u001b[0m\u001b[0mtrain_next_batch\u001b[0m\u001b[0;34m(\u001b[0m\u001b[0mself\u001b[0m\u001b[0;34m.\u001b[0m\u001b[0mbatch_size\u001b[0m\u001b[0;34m)\u001b[0m\u001b[0;34m\u001b[0m\u001b[0;34m\u001b[0m\u001b[0m\n\u001b[1;32m    219\u001b[0m             )\n\u001b[0;32m--> 220\u001b[0;31m             self.sess.run(\n\u001b[0m\u001b[1;32m    221\u001b[0m                 \u001b[0mself\u001b[0m\u001b[0;34m.\u001b[0m\u001b[0mtrain_op\u001b[0m\u001b[0;34m,\u001b[0m\u001b[0;34m\u001b[0m\u001b[0;34m\u001b[0m\u001b[0m\n\u001b[1;32m    222\u001b[0m                 feed_dict=self.net.feed_dict(\n",
            "\u001b[0;32m~/anaconda3/envs/RC/lib/python3.9/site-packages/tensorflow/python/client/session.py\u001b[0m in \u001b[0;36mrun\u001b[0;34m(self, fetches, feed_dict, options, run_metadata)\u001b[0m\n\u001b[1;32m    965\u001b[0m \u001b[0;34m\u001b[0m\u001b[0m\n\u001b[1;32m    966\u001b[0m     \u001b[0;32mtry\u001b[0m\u001b[0;34m:\u001b[0m\u001b[0;34m\u001b[0m\u001b[0;34m\u001b[0m\u001b[0m\n\u001b[0;32m--> 967\u001b[0;31m       result = self._run(None, fetches, feed_dict, options_ptr,\n\u001b[0m\u001b[1;32m    968\u001b[0m                          run_metadata_ptr)\n\u001b[1;32m    969\u001b[0m       \u001b[0;32mif\u001b[0m \u001b[0mrun_metadata\u001b[0m\u001b[0;34m:\u001b[0m\u001b[0;34m\u001b[0m\u001b[0;34m\u001b[0m\u001b[0m\n",
            "\u001b[0;32m~/anaconda3/envs/RC/lib/python3.9/site-packages/tensorflow/python/client/session.py\u001b[0m in \u001b[0;36m_run\u001b[0;34m(self, handle, fetches, feed_dict, options, run_metadata)\u001b[0m\n\u001b[1;32m   1188\u001b[0m     \u001b[0;31m# or if the call is a partial run that specifies feeds.\u001b[0m\u001b[0;34m\u001b[0m\u001b[0;34m\u001b[0m\u001b[0;34m\u001b[0m\u001b[0m\n\u001b[1;32m   1189\u001b[0m     \u001b[0;32mif\u001b[0m \u001b[0mfinal_fetches\u001b[0m \u001b[0;32mor\u001b[0m \u001b[0mfinal_targets\u001b[0m \u001b[0;32mor\u001b[0m \u001b[0;34m(\u001b[0m\u001b[0mhandle\u001b[0m \u001b[0;32mand\u001b[0m \u001b[0mfeed_dict_tensor\u001b[0m\u001b[0;34m)\u001b[0m\u001b[0;34m:\u001b[0m\u001b[0;34m\u001b[0m\u001b[0;34m\u001b[0m\u001b[0m\n\u001b[0;32m-> 1190\u001b[0;31m       results = self._do_run(handle, final_targets, final_fetches,\n\u001b[0m\u001b[1;32m   1191\u001b[0m                              feed_dict_tensor, options, run_metadata)\n\u001b[1;32m   1192\u001b[0m     \u001b[0;32melse\u001b[0m\u001b[0;34m:\u001b[0m\u001b[0;34m\u001b[0m\u001b[0;34m\u001b[0m\u001b[0m\n",
            "\u001b[0;32m~/anaconda3/envs/RC/lib/python3.9/site-packages/tensorflow/python/client/session.py\u001b[0m in \u001b[0;36m_do_run\u001b[0;34m(self, handle, target_list, fetch_list, feed_dict, options, run_metadata)\u001b[0m\n\u001b[1;32m   1366\u001b[0m \u001b[0;34m\u001b[0m\u001b[0m\n\u001b[1;32m   1367\u001b[0m     \u001b[0;32mif\u001b[0m \u001b[0mhandle\u001b[0m \u001b[0;32mis\u001b[0m \u001b[0;32mNone\u001b[0m\u001b[0;34m:\u001b[0m\u001b[0;34m\u001b[0m\u001b[0;34m\u001b[0m\u001b[0m\n\u001b[0;32m-> 1368\u001b[0;31m       return self._do_call(_run_fn, feeds, fetches, targets, options,\n\u001b[0m\u001b[1;32m   1369\u001b[0m                            run_metadata)\n\u001b[1;32m   1370\u001b[0m     \u001b[0;32melse\u001b[0m\u001b[0;34m:\u001b[0m\u001b[0;34m\u001b[0m\u001b[0;34m\u001b[0m\u001b[0m\n",
            "\u001b[0;32m~/anaconda3/envs/RC/lib/python3.9/site-packages/tensorflow/python/client/session.py\u001b[0m in \u001b[0;36m_do_call\u001b[0;34m(self, fn, *args)\u001b[0m\n\u001b[1;32m   1373\u001b[0m   \u001b[0;32mdef\u001b[0m \u001b[0m_do_call\u001b[0m\u001b[0;34m(\u001b[0m\u001b[0mself\u001b[0m\u001b[0;34m,\u001b[0m \u001b[0mfn\u001b[0m\u001b[0;34m,\u001b[0m \u001b[0;34m*\u001b[0m\u001b[0margs\u001b[0m\u001b[0;34m)\u001b[0m\u001b[0;34m:\u001b[0m\u001b[0;34m\u001b[0m\u001b[0;34m\u001b[0m\u001b[0m\n\u001b[1;32m   1374\u001b[0m     \u001b[0;32mtry\u001b[0m\u001b[0;34m:\u001b[0m\u001b[0;34m\u001b[0m\u001b[0;34m\u001b[0m\u001b[0m\n\u001b[0;32m-> 1375\u001b[0;31m       \u001b[0;32mreturn\u001b[0m \u001b[0mfn\u001b[0m\u001b[0;34m(\u001b[0m\u001b[0;34m*\u001b[0m\u001b[0margs\u001b[0m\u001b[0;34m)\u001b[0m\u001b[0;34m\u001b[0m\u001b[0;34m\u001b[0m\u001b[0m\n\u001b[0m\u001b[1;32m   1376\u001b[0m     \u001b[0;32mexcept\u001b[0m \u001b[0merrors\u001b[0m\u001b[0;34m.\u001b[0m\u001b[0mOpError\u001b[0m \u001b[0;32mas\u001b[0m \u001b[0me\u001b[0m\u001b[0;34m:\u001b[0m\u001b[0;34m\u001b[0m\u001b[0;34m\u001b[0m\u001b[0m\n\u001b[1;32m   1377\u001b[0m       \u001b[0mmessage\u001b[0m \u001b[0;34m=\u001b[0m \u001b[0mcompat\u001b[0m\u001b[0;34m.\u001b[0m\u001b[0mas_text\u001b[0m\u001b[0;34m(\u001b[0m\u001b[0me\u001b[0m\u001b[0;34m.\u001b[0m\u001b[0mmessage\u001b[0m\u001b[0;34m)\u001b[0m\u001b[0;34m\u001b[0m\u001b[0;34m\u001b[0m\u001b[0m\n",
            "\u001b[0;32m~/anaconda3/envs/RC/lib/python3.9/site-packages/tensorflow/python/client/session.py\u001b[0m in \u001b[0;36m_run_fn\u001b[0;34m(feed_dict, fetch_list, target_list, options, run_metadata)\u001b[0m\n\u001b[1;32m   1357\u001b[0m       \u001b[0;31m# Ensure any changes to the graph are reflected in the runtime.\u001b[0m\u001b[0;34m\u001b[0m\u001b[0;34m\u001b[0m\u001b[0;34m\u001b[0m\u001b[0m\n\u001b[1;32m   1358\u001b[0m       \u001b[0mself\u001b[0m\u001b[0;34m.\u001b[0m\u001b[0m_extend_graph\u001b[0m\u001b[0;34m(\u001b[0m\u001b[0;34m)\u001b[0m\u001b[0;34m\u001b[0m\u001b[0;34m\u001b[0m\u001b[0m\n\u001b[0;32m-> 1359\u001b[0;31m       return self._call_tf_sessionrun(options, feed_dict, fetch_list,\n\u001b[0m\u001b[1;32m   1360\u001b[0m                                       target_list, run_metadata)\n\u001b[1;32m   1361\u001b[0m \u001b[0;34m\u001b[0m\u001b[0m\n",
            "\u001b[0;32m~/anaconda3/envs/RC/lib/python3.9/site-packages/tensorflow/python/client/session.py\u001b[0m in \u001b[0;36m_call_tf_sessionrun\u001b[0;34m(self, options, feed_dict, fetch_list, target_list, run_metadata)\u001b[0m\n\u001b[1;32m   1449\u001b[0m   def _call_tf_sessionrun(self, options, feed_dict, fetch_list, target_list,\n\u001b[1;32m   1450\u001b[0m                           run_metadata):\n\u001b[0;32m-> 1451\u001b[0;31m     return tf_session.TF_SessionRun_wrapper(self._session, options, feed_dict,\n\u001b[0m\u001b[1;32m   1452\u001b[0m                                             \u001b[0mfetch_list\u001b[0m\u001b[0;34m,\u001b[0m \u001b[0mtarget_list\u001b[0m\u001b[0;34m,\u001b[0m\u001b[0;34m\u001b[0m\u001b[0;34m\u001b[0m\u001b[0m\n\u001b[1;32m   1453\u001b[0m                                             run_metadata)\n",
            "\u001b[0;31mKeyboardInterrupt\u001b[0m: "
          ]
        }
      ],
      "metadata": {
        "id": "unZhMQENc7bV",
        "colab": {
          "base_uri": "https://localhost:8080/",
          "height": 1000
        },
        "outputId": "7947eb2a-9e49-42ba-88d0-eed1f2001809"
      }
    },
    {
      "cell_type": "code",
      "execution_count": null,
      "source": [
        "\n",
        "\n",
        "previsao(1,[x1,x2,x3],tempo)"
      ],
      "outputs": [
        {
          "output_type": "display_data",
          "data": {
            "text/plain": [
              "<Figure size 432x288 with 3 Axes>"
            ],
            "image/png": "[encoded data removed]"
          },
          "metadata": {
            "tags": [],
            "needs_background": "light"
          }
        }
      ],
      "metadata": {
        "colab": {
          "base_uri": "https://localhost:8080/",
          "height": 265
        },
        "id": "zlZF6SLORnqd",
        "outputId": "de7a052f-09c6-4c52-a7f4-7e68092ba2fd"
      }
    },
    {
      "cell_type": "code",
      "execution_count": null,
      "source": [
        "modelo1=\"model_norm2/modelo.ckpt-\"+str(train_state.best_step)\n",
        "previsao(modelo1,[x1,x2,x3],tempo)"
      ],
      "outputs": [
        {
          "output_type": "stream",
          "name": "stdout",
          "text": [
            "Restoring model from model_norm2/modelo.ckpt-106000 ...\n",
            "\n",
            "INFO:tensorflow:Restoring parameters from model_norm2/modelo.ckpt-106000\n"
          ]
        },
        {
          "output_type": "display_data",
          "data": {
            "text/plain": [
              "<Figure size 432x288 with 3 Axes>"
            ],
            "image/png": "[encoded data removed]"
          },
          "metadata": {
            "tags": [],
            "needs_background": "light"
          }
        }
      ],
      "metadata": {
        "colab": {
          "base_uri": "https://localhost:8080/",
          "height": 317
        },
        "id": "bv-wlqjBXfGn",
        "outputId": "de4a4fa2-410d-4b1d-de65-3e640d7fec89"
      }
    },
    {
      "cell_type": "code",
      "execution_count": null,
      "source": [
        "parametro,epocas=ler_dados(\"rho.dat\")\n",
        "fig2=plt.figure()\n",
        "ax2=fig2.add_subplot()\n",
        "ax2.scatter(epocas,parametro)\n",
        "ax2.set_ylabel('rho')\n",
        "fig2.show()"
      ],
      "outputs": [
        {
          "output_type": "display_data",
          "data": {
            "text/plain": [
              "<Figure size 432x288 with 1 Axes>"
            ],
            "image/png": "[encoded data removed]"
          },
          "metadata": {
            "tags": [],
            "needs_background": "light"
          }
        }
      ],
      "metadata": {
        "colab": {
          "base_uri": "https://localhost:8080/",
          "height": 265
        },
        "id": "bjwkjKNnaY9Z",
        "outputId": "63d90117-de77-4b47-851d-dbd1418b08fe"
      }
    },
    {
      "cell_type": "code",
      "execution_count": null,
      "source": [
        "previsao(1,[x1,x2,x3],tempo)"
      ],
      "outputs": [
        {
          "output_type": "display_data",
          "data": {
            "text/plain": [
              "<Figure size 432x288 with 3 Axes>"
            ],
            "image/png": "[encoded data removed]"
          },
          "metadata": {
            "tags": [],
            "needs_background": "light"
          }
        }
      ],
      "metadata": {
        "colab": {
          "base_uri": "https://localhost:8080/",
          "height": 265
        },
        "id": "z2MVpM8Qc8Ek",
        "outputId": "87e63bd5-fb57-4b3c-d287-4f966b01c8f4"
      }
    },
    {
      "cell_type": "code",
      "execution_count": null,
      "source": [
        "import datetime\n",
        "d = datetime.datetime.now()\n",
        "string_file=\"\"\n",
        "# for attr in [ 'year', 'month', 'day', 'hour', 'minute']:\n",
        "#     print (attr, ':', getattr(d, attr))\n",
        "#     string_file=string_file+getattr(d, attr)\n",
        "# print(string_file)\n",
        "xv=getattr(d,'year')\n",
        "\n",
        "# +str(getattr(d,'month'))+getattr(d,'day')"
      ],
      "outputs": [
        {
          "output_type": "error",
          "ename": "TypeError",
          "evalue": "'str' object is not callable",
          "traceback": [
            "\u001b[0;31m---------------------------------------------------------------------------\u001b[0m",
            "\u001b[0;31mTypeError\u001b[0m                                 Traceback (most recent call last)",
            "\u001b[0;32m<ipython-input-124-a25516112e8a>\u001b[0m in \u001b[0;36m<module>\u001b[0;34m\u001b[0m\n\u001b[1;32m      7\u001b[0m \u001b[0;31m# print(string_file)\u001b[0m\u001b[0;34m\u001b[0m\u001b[0;34m\u001b[0m\u001b[0;34m\u001b[0m\u001b[0m\n\u001b[1;32m      8\u001b[0m \u001b[0mxv\u001b[0m\u001b[0;34m=\u001b[0m\u001b[0mgetattr\u001b[0m\u001b[0;34m(\u001b[0m\u001b[0md\u001b[0m\u001b[0;34m,\u001b[0m\u001b[0;34m'year'\u001b[0m\u001b[0;34m)\u001b[0m\u001b[0;34m\u001b[0m\u001b[0;34m\u001b[0m\u001b[0m\n\u001b[0;32m----> 9\u001b[0;31m \u001b[0mstr\u001b[0m\u001b[0;34m(\u001b[0m\u001b[0mxv\u001b[0m\u001b[0;34m.\u001b[0m\u001b[0mto_bytes\u001b[0m\u001b[0;34m)\u001b[0m\u001b[0;34m\u001b[0m\u001b[0;34m\u001b[0m\u001b[0m\n\u001b[0m\u001b[1;32m     10\u001b[0m \u001b[0;31m# +str(getattr(d,'month'))+getattr(d,'day')\u001b[0m\u001b[0;34m\u001b[0m\u001b[0;34m\u001b[0m\u001b[0;34m\u001b[0m\u001b[0m\n",
            "\u001b[0;31mTypeError\u001b[0m: 'str' object is not callable"
          ]
        }
      ],
      "metadata": {}
    }
  ]
}