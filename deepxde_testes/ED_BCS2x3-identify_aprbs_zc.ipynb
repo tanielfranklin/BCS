{
 "cells": [
  {
   "cell_type": "code",
   "execution_count": 1,
   "source": [
    "from __future__ import absolute_import\n",
    "from __future__ import division\n",
    "from __future__ import print_function\n",
    "import numpy as np\n",
    "import deepxde as dde\n",
    "import scipy as sp\n",
    "import scipy.interpolate as interp\n",
    "from deepxde.backend import tf\n",
    "from matplotlib import pyplot as plt\n",
    "from numpy.core.shape_base import hstack\n",
    "exec(compile(open('param.py', \"rb\").read(), 'param.py', 'exec')) #% Roda arquivo com modelo BCS\n",
    "def is_float(string):\n",
    "    \"\"\" True if given string is float else False\"\"\"\n",
    "    try:\n",
    "        return float(string)\n",
    "    except ValueError:\n",
    "        return False\n",
    "def ler_dados(str):\n",
    "    with open(str, 'r') as f:\n",
    "        d = f.readlines()\n",
    "        epocas = np.zeros(len(d));\n",
    "        tau = np.zeros(len(d));\n",
    "        j = 0;\n",
    "        data = []\n",
    "        for i in d:\n",
    "            k = i.rstrip().split(\" \")\n",
    "            data.append([float(i) if is_float(i) else i for i in k])\n",
    "            epocas[j] = float(k[0])\n",
    "            tau[j] = float(k[1])\n",
    "            j += 1;\n",
    "    return tau, epocas\n",
    "\n",
    "def previsao(modelo,x,t):\n",
    "    #Plota os três estados em função do tempo desnormalizados juntamente com\n",
    "    # o valor previsto pela rede\n",
    "    #modelo a ser recuperado. Requer compilação prévia\n",
    "    #x = dados reais\n",
    "    #t = tempo dos dados reais\n",
    "    x=np.array(x)\n",
    "    if isinstance(modelo, str):\n",
    "        model.restore(modelo)\n",
    "    yhat = model.predict(t)\n",
    "    fig3=plt.figure()\n",
    "    label = ['Pbh (bar)','Pwh (bar)','q(m3/s)'];\n",
    "    for iu in range(0,3):\n",
    "        ax3=fig3.add_subplot(3,1,iu+1)\n",
    "        if iu==2:\n",
    "            ax3.plot(tempo,(yhat[:,iu])*xc[2]*3600, '-b')\n",
    "            ax3.plot(tempo,x[2,:]*xc[2]*3600, ':k')\n",
    "            #ax3.plot([1,nsim],[umin[iu], umin[iu]],'--r')\n",
    "            #ax3.plot([1,nsim],[umax[iu], umax[iu]],'--r', label='Restrição')\n",
    "            ax3.set_ylabel(label[iu])\n",
    "            #ax3.set(xlim=(xi[0], nsim*ts))\n",
    "            # if iu==0:\n",
    "            #     #ax2.set(ylim=(30, 70))\n",
    "            #     print(iu)\n",
    "            plt.grid(True)\n",
    "        elif iu==0:\n",
    "            ax3.plot(tempo,(yhat[:,iu])*xc[0]/1e5, '-b')\n",
    "            ax3.plot(tempo,x[0,:]*xc[0]/1e5, ':k')\n",
    "            #ax3.plot([1,nsim],[umin[iu], umin[iu]],'--r')\n",
    "            #ax3.plot([1,nsim],[umax[iu], umax[iu]],'--r', label='Restrição')\n",
    "            ax3.set_ylabel(label[iu])\n",
    "            #ax3.set(xlim=(xi[0], nsim*ts))\n",
    "            # if iu==0:\n",
    "            #     #ax2.set(ylim=(30, 70))\n",
    "            #     print(iu)\n",
    "            plt.grid(True)\n",
    "        else:\n",
    "            ax3.plot(tempo,(yhat[:,iu])*xc[1]/1e5, '-b', label='predição')\n",
    "            ax3.plot(tempo,x[1,:]*xc[1]/1e5, ':k', label='real')\n",
    "            #ax3.plot([1,nsim],[umin[iu], umin[iu]],'--r')\n",
    "            #ax3.plot([1,nsim],[umax[iu], umax[iu]],'--r', label='Restrição')\n",
    "            ax3.set_ylabel(label[iu])\n",
    "            #ax3.set(xlim=(xi[0], nsim*ts))\n",
    "            # if iu==0:\n",
    "            #     #ax2.set(ylim=(30, 70))\n",
    "            #     print(iu)\n",
    "            plt.grid(True)\n",
    "            ax3.legend();\n",
    "    plt.show()\n",
    "\n",
    "# time points\n",
    "maxtime = 10\n",
    "time = np.linspace(0, maxtime, 200)\n",
    "\n",
    "#pbh  pwh q - Pressão de fundo do poço,\n",
    "#PI índice de produtividade do poço\n",
    "#PinC  pressão na choke"
   ],
   "outputs": [
    {
     "output_type": "stream",
     "name": "stdout",
     "text": [
      "Using TensorFlow 2 backend.\n",
      "\n",
      "WARNING:tensorflow:From /home/taniel/anaconda3/envs/BCS/lib/python3.9/site-packages/tensorflow/python/compat/v2_compat.py:96: disable_resource_variables (from tensorflow.python.ops.variable_scope) is deprecated and will be removed in a future version.\n",
      "Instructions for updating:\n",
      "non-resource variables are not supported in the long term\n",
      "Dados carregados\n"
     ]
    }
   ],
   "metadata": {
    "collapsed": true
   }
  },
  {
   "cell_type": "code",
   "execution_count": 2,
   "source": [
    "fq_ss = 50\n",
    "zc_ss = 50\n",
    "pm_ss = 2e6# Pressão de manifold\n",
    "\n",
    "uss = np.array([[fq_ss], [zc_ss], [pm_ss]])\n",
    "u = uss\n",
    "fqref = u[0]\n",
    "zcref = u[1]\n",
    "fq = fqref\n",
    "zc = zcref\n",
    "fq=60;zc=50;pm=2e6\n",
    "\n",
    "\n",
    "def constante(valor,time_vector):\n",
    "    return np.ones_like(time_vector)*valor\n",
    "\n",
    "def aprbs(valor,time_vector):\n",
    "    return np.ones_like(time_vector)*valor\n",
    "# time points\n",
    "maxtime = 200\n",
    "time = np.linspace(0, maxtime, 200)\n",
    "#entrada=constante(zc,time)# exogenous input\n",
    "\n"
   ],
   "outputs": [],
   "metadata": {}
  },
  {
   "cell_type": "code",
   "execution_count": 3,
   "source": [
    "\n",
    "\n",
    "data = np.load('BCS_data_train_aprbs_zc.npz')\n",
    "zc=data['zc']\n",
    "entrada=zc\n",
    "\n",
    "def ex_func(t):\n",
    "    spline = sp.interpolate.Rbf(\n",
    "        time, entrada, function=\"thin_plate\", smooth=0, episilon=0\n",
    "    )\n",
    "    # return spline(t[:,0:])\n",
    "    return spline(t)\n",
    "\n",
    "\n",
    "F1c=941799.5331\n",
    "F2c=2260318.8795\n",
    "qcc=0.033987702\n",
    "Hc=1511.97\n",
    "tc=1/(PI*b1/V1)#tc=1\n",
    "pbc=pr\n",
    "qc=pbc*PI#;qc=1/30\n",
    "pwc=tc*b2*qc/V2\n",
    "xc=np.array([pbc,pwc,qc])\n",
    "\n",
    "x1=data['x1']/xc[0]\n",
    "x2=data['x2']/xc[1]\n",
    "x3=data['x3']/xc[2]\n",
    "\n",
    "tempo=data['t']/tc\n",
    "rho=tf.Variable(940.0) #PI = 2.32e-9; # Well productivy index [m3/s/Pa]\n",
    "\n",
    "plt.plot(time,ex_func(time))"
   ],
   "outputs": [
    {
     "output_type": "execute_result",
     "data": {
      "text/plain": [
       "[<matplotlib.lines.Line2D at 0x7f0782323c70>]"
      ]
     },
     "metadata": {},
     "execution_count": 3
    },
    {
     "output_type": "display_data",
     "data": {
      "text/plain": [
       "<Figure size 432x288 with 1 Axes>"
      ],
      "image/png": "[encoded data removed]"
     },
     "metadata": {
      "needs_background": "light"
     }
    }
   ],
   "metadata": {}
  },
  {
   "cell_type": "code",
   "execution_count": 4,
   "source": [
    "def ED_BCS(t,x,ex):\n",
    "    ## Montado o sistema de equa��es\n",
    "    # Tensores (Estados)\n",
    "    pbh = x[:,0:1]\n",
    "    pwh = x[:,1:2]\n",
    "    q = x[:,2:] #Vazão\n",
    "    zc=ex #sinal exógeno\n",
    "\n",
    "\n",
    "    # pbh=pbc*pbh\n",
    "    # pwh=pwc*pwh\n",
    "    # q=q*qc\n",
    "    \n",
    "\n",
    "    # Calculo do HEAD e delta de press�o\n",
    "    q0 = qc*q / Cq * (f0 / fq)\n",
    "    H0 = -1.2454e6 * q0 ** 2 + 7.4959e3 * q0 + 9.5970e2\n",
    "    H = CH * H0 * (fq / f0) ** 2  # Head\n",
    "    Pp = rho * g * H  # Delta de press�o\n",
    "\n",
    "    # Calculo da Potencia e corrente da bomba\n",
    "    P0 = -2.3599e9 * q0 ** 3 - 1.8082e7 * q0 ** 2 + 4.3346e6 * q0 + 9.4355e4\n",
    "    P = Cp * P0 * (fq / f0) ** 3;  # Potencia\n",
    "    I = Inp * P / Pnp  # Corrente\n",
    "\n",
    "    # Calculo da press�o de intake\n",
    "    F1 = 0.158 * ((rho * L1 * (qc*q) ** 2) / (D1 * A1 ** 2)) * (mu / (rho * D1 * (qc*q))) ** (1 / 4)\n",
    "    F2 = 0.158 * ((rho * L2 * (qc*q) ** 2) / (D2 * A2 ** 2)) * (mu / (rho * D2 * (qc*q))) ** (1 / 4)\n",
    "    pin = pbh*pbc - rho * g * h1 - F1;\n",
    "    # Vazao do reservatorio e vazao na choke\n",
    "    qr = PI * (pr - pbh*pbc);\n",
    "    qch = Cc * (zc / 100) * tf.sign((pwh*pwc - pm)) * tf.sqrt(tf.abs(pwh*pwc - pm));\n",
    "    \n",
    "    qch=qch/qcc\n",
    "    F1=F1/F1c\n",
    "    H=H/Hc\n",
    "    F2=F2/F2c\n",
    "\n",
    "    # SEDO\n",
    "\n",
    "    dpbhdt = dde.grad.jacobian(x, t, i=0)\n",
    "    dpwhdt = dde.grad.jacobian(x, t, i=1)\n",
    "    dqdt = dde.grad.jacobian(x, t, i=2)\n",
    "   \n",
    "    return [\n",
    "        dpbhdt - (tc/pbc)*b1/V1*(qr - q*qc),\n",
    "        dpwhdt - (tc/pwc)*b2/V2*(q*qc - qcc*qch),\n",
    "        dqdt - (tc/(M*qc))*(pbh*pbc - pwh*pwc - rho*g*hw - F1c*F1 - F2c*F2 + rho * g * H*Hc)\n",
    "        ]\n",
    "    "
   ],
   "outputs": [],
   "metadata": {}
  },
  {
   "cell_type": "code",
   "execution_count": 5,
   "source": [
    "def boundary(_, on_initial):\n",
    "    return on_initial\n",
    "\n",
    "\n",
    "xss = np.float32(np.array([8311024.82175957,2990109.06207437,0.00995042241351780]))\n",
    "xssn = xss/xc\n",
    "#print(xssn)\n",
    "\n",
    "\n",
    "geom = dde.geometry.TimeDomain(0, 200/tc)\n",
    "#geom = dde.geometry.TimeDomain(0, 1)\n",
    "\n",
    "ic1 = dde.IC(geom, lambda v: xssn[0], boundary, component=0)\n",
    "ic2 = dde.IC(geom, lambda v: xssn[1], boundary, component=1)\n",
    "ic3 = dde.IC(geom, lambda v: xssn[2], boundary, component=2)\n",
    "\n",
    "tempo=tempo.reshape(len(x1),1)\n",
    "# print('x1.shape'+str(x1.shape))\n",
    "# print('x2.shape'+str(x2.shape))\n",
    "# print('x3.shape'+str(x3.shape))\n",
    "# print('tempo.shape'+str(tempo.shape))\n",
    "observe_x1 = dde.PointSetBC(tempo, x1, component=0)\n",
    "observe_x2 = dde.PointSetBC(tempo, x2, component=1)\n",
    "observe_x3 = dde.PointSetBC(tempo, x3, component=2)\n"
   ],
   "outputs": [],
   "metadata": {}
  },
  {
   "cell_type": "code",
   "execution_count": 6,
   "source": [
    "\n",
    "# data = dde.data.PDE(\n",
    "#     geom, ED_BCS, [ic1,ic2,ic3],# 35, 1,\n",
    "#     #geom, ED_BCS, [ic1,ic2,ic3, observe_x1,observe_x2,observe_x3],# 35, 1,\n",
    "#     #solution=func,\n",
    "#     #num_test=5\n",
    "#     num_domain=1,\n",
    "#     num_boundary=1\n",
    "\n",
    "#     )\n",
    "data = dde.data.PDE(\n",
    "    geom, ED_BCS, [ic1,ic2,ic3,observe_x1,observe_x2,observe_x3],# 35, 1,\n",
    "    #solution=func,\n",
    "    #num_test=0,\n",
    "    num_domain=20,\n",
    "    num_boundary=2,\n",
    "    anchors=tempo,\n",
    "    auxiliary_var_function=ex_func\n",
    "    )\n",
    "# data = dde.data.PDE(\n",
    "#         geom, ED_BCS, [ic1,ic2,ic3,ic4,ic5], 35, 2,  num_test=100\n",
    "#     )\n",
    "layer_size = [1] + [30]*3 + [3]\n",
    "activation = \"tanh\" # \n",
    "activation = \"sigmoid\"\n",
    "initializer = \"Glorot uniform\"\n",
    "net = dde.maps.FNN(layer_size, activation, initializer)\n",
    "#                   batch_normalization=\"before\")\n",
    "# callbacks for storing results\n",
    "fnamevar = \"rho.dat\"\n",
    "variable = dde.callbacks.VariableValue(rho, period=10, filename=fnamevar)\n",
    "model = dde.Model(data, net)\n",
    "checker = dde.callbacks.ModelCheckpoint(\"model/modelo3.ckpt\", save_better_only=True)\n"
   ],
   "outputs": [],
   "metadata": {}
  },
  {
   "cell_type": "code",
   "execution_count": 7,
   "source": [
    "#model.compile(\"L-BFGS-B\")\n",
    "model.compile(\"adam\", lr=0.01)#, metrics=[\"l2 relative error\"])\n",
    "passos=2500\n",
    "cb=[variable,checker]\n",
    "cb=None\n",
    "losshistory, train_state = model.train(epochs=passos,callbacks=cb)\n",
    "# model.compile(\"L-BFGS-B\")\n",
    "# model.train(callbacks=cb)\n",
    "dde.saveplot(losshistory, train_state, issave=True, isplot=True)"
   ],
   "outputs": [
    {
     "output_type": "stream",
     "name": "stdout",
     "text": [
      "Compiling model...\n",
      "Building feed-forward neural network...\n",
      "'build' took 0.100399 s\n",
      "\n"
     ]
    },
    {
     "output_type": "stream",
     "name": "stderr",
     "text": [
      "/home/taniel/anaconda3/envs/BCS/lib/python3.9/site-packages/tensorflow/python/keras/legacy_tf_layers/core.py:171: UserWarning: `tf.layers.dense` is deprecated and will be removed in a future version. Please use `tf.keras.layers.Dense` instead.\n",
      "  warnings.warn('`tf.layers.dense` is deprecated and '\n",
      "/home/taniel/anaconda3/envs/BCS/lib/python3.9/site-packages/tensorflow/python/keras/engine/base_layer_v1.py:1719: UserWarning: `layer.apply` is deprecated and will be removed in a future version. Please use `layer.__call__` method instead.\n",
      "  warnings.warn('`layer.apply` is deprecated and '\n"
     ]
    },
    {
     "output_type": "stream",
     "name": "stdout",
     "text": [
      "'compile' took 1.303388 s\n",
      "\n",
      "Initializing variables...\n",
      "Training model...\n",
      "\n",
      "Step      Train loss                                                                                    Test loss                                                                                     Test metric\n",
      "0         [1.07e+00, 1.75e+00, 5.82e+01, 2.96e+00, 7.10e-02, 5.33e-01, 3.11e+00, 4.30e-02, 5.31e-01]    [1.07e+00, 1.75e+00, 5.82e+01, 0.00e+00, 0.00e+00, 0.00e+00, 0.00e+00, 0.00e+00, 0.00e+00]    []  \n",
      "1000      [nan, nan, nan, nan, nan, nan, nan, nan, nan]                                                 [nan, nan, nan, 0.00e+00, 0.00e+00, 0.00e+00, 0.00e+00, 0.00e+00, 0.00e+00]                   []  \n"
     ]
    },
    {
     "output_type": "error",
     "ename": "KeyboardInterrupt",
     "evalue": "",
     "traceback": [
      "\u001b[0;31m---------------------------------------------------------------------------\u001b[0m",
      "\u001b[0;31mKeyboardInterrupt\u001b[0m                         Traceback (most recent call last)",
      "\u001b[0;32m<ipython-input-7-616da74b112a>\u001b[0m in \u001b[0;36m<module>\u001b[0;34m\u001b[0m\n\u001b[1;32m      4\u001b[0m \u001b[0mcb\u001b[0m\u001b[0;34m=\u001b[0m\u001b[0;34m[\u001b[0m\u001b[0mvariable\u001b[0m\u001b[0;34m,\u001b[0m\u001b[0mchecker\u001b[0m\u001b[0;34m]\u001b[0m\u001b[0;34m\u001b[0m\u001b[0;34m\u001b[0m\u001b[0m\n\u001b[1;32m      5\u001b[0m \u001b[0mcb\u001b[0m\u001b[0;34m=\u001b[0m\u001b[0;32mNone\u001b[0m\u001b[0;34m\u001b[0m\u001b[0;34m\u001b[0m\u001b[0m\n\u001b[0;32m----> 6\u001b[0;31m \u001b[0mlosshistory\u001b[0m\u001b[0;34m,\u001b[0m \u001b[0mtrain_state\u001b[0m \u001b[0;34m=\u001b[0m \u001b[0mmodel\u001b[0m\u001b[0;34m.\u001b[0m\u001b[0mtrain\u001b[0m\u001b[0;34m(\u001b[0m\u001b[0mepochs\u001b[0m\u001b[0;34m=\u001b[0m\u001b[0mpassos\u001b[0m\u001b[0;34m,\u001b[0m\u001b[0mcallbacks\u001b[0m\u001b[0;34m=\u001b[0m\u001b[0mcb\u001b[0m\u001b[0;34m)\u001b[0m\u001b[0;34m\u001b[0m\u001b[0;34m\u001b[0m\u001b[0m\n\u001b[0m\u001b[1;32m      7\u001b[0m \u001b[0;31m# model.compile(\"L-BFGS-B\")\u001b[0m\u001b[0;34m\u001b[0m\u001b[0;34m\u001b[0m\u001b[0;34m\u001b[0m\u001b[0m\n\u001b[1;32m      8\u001b[0m \u001b[0;31m# model.train(callbacks=cb)\u001b[0m\u001b[0;34m\u001b[0m\u001b[0;34m\u001b[0m\u001b[0;34m\u001b[0m\u001b[0m\n",
      "\u001b[0;32m~/anaconda3/envs/BCS/lib/python3.9/site-packages/deepxde/utils.py\u001b[0m in \u001b[0;36mwrapper\u001b[0;34m(*args, **kwargs)\u001b[0m\n\u001b[1;32m     50\u001b[0m     \u001b[0;32mdef\u001b[0m \u001b[0mwrapper\u001b[0m\u001b[0;34m(\u001b[0m\u001b[0;34m*\u001b[0m\u001b[0margs\u001b[0m\u001b[0;34m,\u001b[0m \u001b[0;34m**\u001b[0m\u001b[0mkwargs\u001b[0m\u001b[0;34m)\u001b[0m\u001b[0;34m:\u001b[0m\u001b[0;34m\u001b[0m\u001b[0;34m\u001b[0m\u001b[0m\n\u001b[1;32m     51\u001b[0m         \u001b[0mts\u001b[0m \u001b[0;34m=\u001b[0m \u001b[0mtime\u001b[0m\u001b[0;34m.\u001b[0m\u001b[0mtime\u001b[0m\u001b[0;34m(\u001b[0m\u001b[0;34m)\u001b[0m\u001b[0;34m\u001b[0m\u001b[0;34m\u001b[0m\u001b[0m\n\u001b[0;32m---> 52\u001b[0;31m         \u001b[0mresult\u001b[0m \u001b[0;34m=\u001b[0m \u001b[0mf\u001b[0m\u001b[0;34m(\u001b[0m\u001b[0;34m*\u001b[0m\u001b[0margs\u001b[0m\u001b[0;34m,\u001b[0m \u001b[0;34m**\u001b[0m\u001b[0mkwargs\u001b[0m\u001b[0;34m)\u001b[0m\u001b[0;34m\u001b[0m\u001b[0;34m\u001b[0m\u001b[0m\n\u001b[0m\u001b[1;32m     53\u001b[0m         \u001b[0mte\u001b[0m \u001b[0;34m=\u001b[0m \u001b[0mtime\u001b[0m\u001b[0;34m.\u001b[0m\u001b[0mtime\u001b[0m\u001b[0;34m(\u001b[0m\u001b[0;34m)\u001b[0m\u001b[0;34m\u001b[0m\u001b[0;34m\u001b[0m\u001b[0m\n\u001b[1;32m     54\u001b[0m         \u001b[0mprint\u001b[0m\u001b[0;34m(\u001b[0m\u001b[0;34m\"%r took %f s\\n\"\u001b[0m \u001b[0;34m%\u001b[0m \u001b[0;34m(\u001b[0m\u001b[0mf\u001b[0m\u001b[0;34m.\u001b[0m\u001b[0m__name__\u001b[0m\u001b[0;34m,\u001b[0m \u001b[0mte\u001b[0m \u001b[0;34m-\u001b[0m \u001b[0mts\u001b[0m\u001b[0;34m)\u001b[0m\u001b[0;34m)\u001b[0m\u001b[0;34m\u001b[0m\u001b[0;34m\u001b[0m\u001b[0m\n",
      "\u001b[0;32m~/anaconda3/envs/BCS/lib/python3.9/site-packages/deepxde/model.py\u001b[0m in \u001b[0;36mtrain\u001b[0;34m(self, epochs, batch_size, display_every, uncertainty, disregard_previous_best, callbacks, model_restore_path, model_save_path, print_model)\u001b[0m\n\u001b[1;32m    158\u001b[0m             \u001b[0;32mif\u001b[0m \u001b[0mepochs\u001b[0m \u001b[0;32mis\u001b[0m \u001b[0;32mNone\u001b[0m\u001b[0;34m:\u001b[0m\u001b[0;34m\u001b[0m\u001b[0;34m\u001b[0m\u001b[0m\n\u001b[1;32m    159\u001b[0m                 \u001b[0;32mraise\u001b[0m \u001b[0mValueError\u001b[0m\u001b[0;34m(\u001b[0m\u001b[0;34m\"No epochs for {}.\"\u001b[0m\u001b[0;34m.\u001b[0m\u001b[0mformat\u001b[0m\u001b[0;34m(\u001b[0m\u001b[0mself\u001b[0m\u001b[0;34m.\u001b[0m\u001b[0moptimizer\u001b[0m\u001b[0;34m)\u001b[0m\u001b[0;34m)\u001b[0m\u001b[0;34m\u001b[0m\u001b[0;34m\u001b[0m\u001b[0m\n\u001b[0;32m--> 160\u001b[0;31m             \u001b[0mself\u001b[0m\u001b[0;34m.\u001b[0m\u001b[0m_train_sgd\u001b[0m\u001b[0;34m(\u001b[0m\u001b[0mepochs\u001b[0m\u001b[0;34m,\u001b[0m \u001b[0mdisplay_every\u001b[0m\u001b[0;34m,\u001b[0m \u001b[0muncertainty\u001b[0m\u001b[0;34m)\u001b[0m\u001b[0;34m\u001b[0m\u001b[0;34m\u001b[0m\u001b[0m\n\u001b[0m\u001b[1;32m    161\u001b[0m         \u001b[0mself\u001b[0m\u001b[0;34m.\u001b[0m\u001b[0mcallbacks\u001b[0m\u001b[0;34m.\u001b[0m\u001b[0mon_train_end\u001b[0m\u001b[0;34m(\u001b[0m\u001b[0;34m)\u001b[0m\u001b[0;34m\u001b[0m\u001b[0;34m\u001b[0m\u001b[0m\n\u001b[1;32m    162\u001b[0m \u001b[0;34m\u001b[0m\u001b[0m\n",
      "\u001b[0;32m~/anaconda3/envs/BCS/lib/python3.9/site-packages/deepxde/model.py\u001b[0m in \u001b[0;36m_train_sgd\u001b[0;34m(self, epochs, display_every, uncertainty)\u001b[0m\n\u001b[1;32m    218\u001b[0m                 \u001b[0;34m*\u001b[0m\u001b[0mself\u001b[0m\u001b[0;34m.\u001b[0m\u001b[0mdata\u001b[0m\u001b[0;34m.\u001b[0m\u001b[0mtrain_next_batch\u001b[0m\u001b[0;34m(\u001b[0m\u001b[0mself\u001b[0m\u001b[0;34m.\u001b[0m\u001b[0mbatch_size\u001b[0m\u001b[0;34m)\u001b[0m\u001b[0;34m\u001b[0m\u001b[0;34m\u001b[0m\u001b[0m\n\u001b[1;32m    219\u001b[0m             )\n\u001b[0;32m--> 220\u001b[0;31m             self.sess.run(\n\u001b[0m\u001b[1;32m    221\u001b[0m                 \u001b[0mself\u001b[0m\u001b[0;34m.\u001b[0m\u001b[0mtrain_op\u001b[0m\u001b[0;34m,\u001b[0m\u001b[0;34m\u001b[0m\u001b[0;34m\u001b[0m\u001b[0m\n\u001b[1;32m    222\u001b[0m                 feed_dict=self.net.feed_dict(\n",
      "\u001b[0;32m~/anaconda3/envs/BCS/lib/python3.9/site-packages/tensorflow/python/client/session.py\u001b[0m in \u001b[0;36mrun\u001b[0;34m(self, fetches, feed_dict, options, run_metadata)\u001b[0m\n\u001b[1;32m    965\u001b[0m \u001b[0;34m\u001b[0m\u001b[0m\n\u001b[1;32m    966\u001b[0m     \u001b[0;32mtry\u001b[0m\u001b[0;34m:\u001b[0m\u001b[0;34m\u001b[0m\u001b[0;34m\u001b[0m\u001b[0m\n\u001b[0;32m--> 967\u001b[0;31m       result = self._run(None, fetches, feed_dict, options_ptr,\n\u001b[0m\u001b[1;32m    968\u001b[0m                          run_metadata_ptr)\n\u001b[1;32m    969\u001b[0m       \u001b[0;32mif\u001b[0m \u001b[0mrun_metadata\u001b[0m\u001b[0;34m:\u001b[0m\u001b[0;34m\u001b[0m\u001b[0;34m\u001b[0m\u001b[0m\n",
      "\u001b[0;32m~/anaconda3/envs/BCS/lib/python3.9/site-packages/tensorflow/python/client/session.py\u001b[0m in \u001b[0;36m_run\u001b[0;34m(self, handle, fetches, feed_dict, options, run_metadata)\u001b[0m\n\u001b[1;32m   1188\u001b[0m     \u001b[0;31m# or if the call is a partial run that specifies feeds.\u001b[0m\u001b[0;34m\u001b[0m\u001b[0;34m\u001b[0m\u001b[0;34m\u001b[0m\u001b[0m\n\u001b[1;32m   1189\u001b[0m     \u001b[0;32mif\u001b[0m \u001b[0mfinal_fetches\u001b[0m \u001b[0;32mor\u001b[0m \u001b[0mfinal_targets\u001b[0m \u001b[0;32mor\u001b[0m \u001b[0;34m(\u001b[0m\u001b[0mhandle\u001b[0m \u001b[0;32mand\u001b[0m \u001b[0mfeed_dict_tensor\u001b[0m\u001b[0;34m)\u001b[0m\u001b[0;34m:\u001b[0m\u001b[0;34m\u001b[0m\u001b[0;34m\u001b[0m\u001b[0m\n\u001b[0;32m-> 1190\u001b[0;31m       results = self._do_run(handle, final_targets, final_fetches,\n\u001b[0m\u001b[1;32m   1191\u001b[0m                              feed_dict_tensor, options, run_metadata)\n\u001b[1;32m   1192\u001b[0m     \u001b[0;32melse\u001b[0m\u001b[0;34m:\u001b[0m\u001b[0;34m\u001b[0m\u001b[0;34m\u001b[0m\u001b[0m\n",
      "\u001b[0;32m~/anaconda3/envs/BCS/lib/python3.9/site-packages/tensorflow/python/client/session.py\u001b[0m in \u001b[0;36m_do_run\u001b[0;34m(self, handle, target_list, fetch_list, feed_dict, options, run_metadata)\u001b[0m\n\u001b[1;32m   1366\u001b[0m \u001b[0;34m\u001b[0m\u001b[0m\n\u001b[1;32m   1367\u001b[0m     \u001b[0;32mif\u001b[0m \u001b[0mhandle\u001b[0m \u001b[0;32mis\u001b[0m \u001b[0;32mNone\u001b[0m\u001b[0;34m:\u001b[0m\u001b[0;34m\u001b[0m\u001b[0;34m\u001b[0m\u001b[0m\n\u001b[0;32m-> 1368\u001b[0;31m       return self._do_call(_run_fn, feeds, fetches, targets, options,\n\u001b[0m\u001b[1;32m   1369\u001b[0m                            run_metadata)\n\u001b[1;32m   1370\u001b[0m     \u001b[0;32melse\u001b[0m\u001b[0;34m:\u001b[0m\u001b[0;34m\u001b[0m\u001b[0;34m\u001b[0m\u001b[0m\n",
      "\u001b[0;32m~/anaconda3/envs/BCS/lib/python3.9/site-packages/tensorflow/python/client/session.py\u001b[0m in \u001b[0;36m_do_call\u001b[0;34m(self, fn, *args)\u001b[0m\n\u001b[1;32m   1373\u001b[0m   \u001b[0;32mdef\u001b[0m \u001b[0m_do_call\u001b[0m\u001b[0;34m(\u001b[0m\u001b[0mself\u001b[0m\u001b[0;34m,\u001b[0m \u001b[0mfn\u001b[0m\u001b[0;34m,\u001b[0m \u001b[0;34m*\u001b[0m\u001b[0margs\u001b[0m\u001b[0;34m)\u001b[0m\u001b[0;34m:\u001b[0m\u001b[0;34m\u001b[0m\u001b[0;34m\u001b[0m\u001b[0m\n\u001b[1;32m   1374\u001b[0m     \u001b[0;32mtry\u001b[0m\u001b[0;34m:\u001b[0m\u001b[0;34m\u001b[0m\u001b[0;34m\u001b[0m\u001b[0m\n\u001b[0;32m-> 1375\u001b[0;31m       \u001b[0;32mreturn\u001b[0m \u001b[0mfn\u001b[0m\u001b[0;34m(\u001b[0m\u001b[0;34m*\u001b[0m\u001b[0margs\u001b[0m\u001b[0;34m)\u001b[0m\u001b[0;34m\u001b[0m\u001b[0;34m\u001b[0m\u001b[0m\n\u001b[0m\u001b[1;32m   1376\u001b[0m     \u001b[0;32mexcept\u001b[0m \u001b[0merrors\u001b[0m\u001b[0;34m.\u001b[0m\u001b[0mOpError\u001b[0m \u001b[0;32mas\u001b[0m \u001b[0me\u001b[0m\u001b[0;34m:\u001b[0m\u001b[0;34m\u001b[0m\u001b[0;34m\u001b[0m\u001b[0m\n\u001b[1;32m   1377\u001b[0m       \u001b[0mmessage\u001b[0m \u001b[0;34m=\u001b[0m \u001b[0mcompat\u001b[0m\u001b[0;34m.\u001b[0m\u001b[0mas_text\u001b[0m\u001b[0;34m(\u001b[0m\u001b[0me\u001b[0m\u001b[0;34m.\u001b[0m\u001b[0mmessage\u001b[0m\u001b[0;34m)\u001b[0m\u001b[0;34m\u001b[0m\u001b[0;34m\u001b[0m\u001b[0m\n",
      "\u001b[0;32m~/anaconda3/envs/BCS/lib/python3.9/site-packages/tensorflow/python/client/session.py\u001b[0m in \u001b[0;36m_run_fn\u001b[0;34m(feed_dict, fetch_list, target_list, options, run_metadata)\u001b[0m\n\u001b[1;32m   1357\u001b[0m       \u001b[0;31m# Ensure any changes to the graph are reflected in the runtime.\u001b[0m\u001b[0;34m\u001b[0m\u001b[0;34m\u001b[0m\u001b[0;34m\u001b[0m\u001b[0m\n\u001b[1;32m   1358\u001b[0m       \u001b[0mself\u001b[0m\u001b[0;34m.\u001b[0m\u001b[0m_extend_graph\u001b[0m\u001b[0;34m(\u001b[0m\u001b[0;34m)\u001b[0m\u001b[0;34m\u001b[0m\u001b[0;34m\u001b[0m\u001b[0m\n\u001b[0;32m-> 1359\u001b[0;31m       return self._call_tf_sessionrun(options, feed_dict, fetch_list,\n\u001b[0m\u001b[1;32m   1360\u001b[0m                                       target_list, run_metadata)\n\u001b[1;32m   1361\u001b[0m \u001b[0;34m\u001b[0m\u001b[0m\n",
      "\u001b[0;32m~/anaconda3/envs/BCS/lib/python3.9/site-packages/tensorflow/python/client/session.py\u001b[0m in \u001b[0;36m_call_tf_sessionrun\u001b[0;34m(self, options, feed_dict, fetch_list, target_list, run_metadata)\u001b[0m\n\u001b[1;32m   1449\u001b[0m   def _call_tf_sessionrun(self, options, feed_dict, fetch_list, target_list,\n\u001b[1;32m   1450\u001b[0m                           run_metadata):\n\u001b[0;32m-> 1451\u001b[0;31m     return tf_session.TF_SessionRun_wrapper(self._session, options, feed_dict,\n\u001b[0m\u001b[1;32m   1452\u001b[0m                                             \u001b[0mfetch_list\u001b[0m\u001b[0;34m,\u001b[0m \u001b[0mtarget_list\u001b[0m\u001b[0;34m,\u001b[0m\u001b[0;34m\u001b[0m\u001b[0;34m\u001b[0m\u001b[0m\n\u001b[1;32m   1453\u001b[0m                                             run_metadata)\n",
      "\u001b[0;31mKeyboardInterrupt\u001b[0m: "
     ]
    }
   ],
   "metadata": {}
  },
  {
   "cell_type": "code",
   "execution_count": null,
   "source": [
    "modelo1=\"model/modelo3.ckpt-\"+str(passos)\n",
    "#modelo1=\"model/modelo3.ckpt-2000\"\n",
    "# model.compile(\"L-BFGS-B\")\n",
    "# model.train(callbacks=[variable,checker])\n",
    "#print(\"L2 relative error:\", dde.metrics.l2_relative_error(y_true, y_pred))\n",
    "#previsao(modelo1,[x1,x2,x3],tempo)\n",
    "\n",
    "previsao(2,[x1,x2,x3],tempo)\n",
    "\n",
    "parametro,epocas=ler_dados(\"rho.dat\")\n",
    "#plt.plot(epocas,parametro)\n",
    "plt.show()"
   ],
   "outputs": [
    {
     "output_type": "stream",
     "name": "stdout",
     "text": [
      "Predicting...\n",
      "'predict' took 0.479010 s\n",
      "\n"
     ]
    },
    {
     "output_type": "display_data",
     "data": {
      "text/plain": [
       "<Figure size 432x288 with 3 Axes>"
      ],
      "image/png": "[encoded data removed]"
     },
     "metadata": {
      "needs_background": "light"
     }
    },
    {
     "output_type": "display_data",
     "data": {
      "text/plain": [
       "<Figure size 432x288 with 1 Axes>"
      ],
      "image/png": "[encoded data removed]"
     },
     "metadata": {
      "needs_background": "light"
     }
    }
   ],
   "metadata": {}
  }
 ],
 "metadata": {
  "kernelspec": {
   "name": "python3",
   "display_name": "Python 3.9.2 64-bit ('RC': conda)"
  },
  "language_info": {
   "codemirror_mode": {
    "name": "ipython",
    "version": 3
   },
   "file_extension": ".py",
   "mimetype": "text/x-python",
   "name": "python",
   "nbconvert_exporter": "python",
   "pygments_lexer": "ipython3",
   "version": "3.9.2"
  },
  "interpreter": {
   "hash": "a59f41f3ef12012b70f6a1f3ecf73a63c6cecb3e37cf88460a242e42c8aa7523"
  }
 },
 "nbformat": 4,
 "nbformat_minor": 1
}