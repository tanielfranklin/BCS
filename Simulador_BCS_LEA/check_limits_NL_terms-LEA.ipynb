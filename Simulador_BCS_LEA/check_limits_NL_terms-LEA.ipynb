{
 "cells": [
  {
   "cell_type": "markdown",
   "source": [
    "Normalização do modelo BCS não linear"
   ],
   "metadata": {
    "collapsed": true,
    "pycharm": {
     "name": "#%% md\n"
    }
   }
  },
  {
   "cell_type": "code",
   "execution_count": 2,
   "source": [
    "import matplotlib.pyplot as plt\n",
    "from matplotlib import cm\n",
    "#import importlib\n",
    "import numpy as np\n",
    "#import subrotinas\n",
    "\n",
    "#importlib.import_module('subrotinas')\n",
    "%matplotlib tk\n",
    "path_subrotinas=\"/home/taniel/Desktop/Projetos_Deep/BCS/subrotinas.py\"\n",
    "exec(compile(open('param_LEA.py', \"rb\").read(), 'param_LEA.py', 'exec')) #% Roda arquivo com parâmetros do modelo BCS\n",
    "exec(compile(open(path_subrotinas, \"rb\").read(), path_subrotinas, 'exec'))\n",
    "\n"
   ],
   "outputs": [
    {
     "output_type": "stream",
     "name": "stdout",
     "text": [
      "Dados carregados\n"
     ]
    }
   ],
   "metadata": {
    "pycharm": {
     "name": "#%%\n"
    }
   }
  },
  {
   "cell_type": "code",
   "execution_count": 3,
   "source": [
    "pbi=np.arange(1e5,pr,1000)\n",
    "qr=PI*(pr-pbi)\n",
    "# fig=plt.figure()\n",
    "# ax=fig.add_axes()\n",
    "# ax.plot(pbi,qr)"
   ],
   "outputs": [],
   "metadata": {
    "pycharm": {
     "name": "#%%\n"
    }
   }
  },
  {
   "cell_type": "code",
   "execution_count": 8,
   "source": [
    "# Calculo dos limites do HEAD e delta de press�o\n",
    "def LimH(fL,qL):\n",
    "    def funcaoH(fi,qm): #vazão em m3/s\n",
    "        qi=qm/3600\n",
    "        #================================\n",
    "        #== Função de cálculo do H LEA\n",
    "        q0 = (qi) / Cq * (f0 / fi)\n",
    "        H0 =  Head[0]*q0**4 +  Head[1]*q0**3 +  Head[2]*q0**2 + Head[3]*q0 + Head[4];\n",
    "        H = CH * H0 * (fi / f0) ** 2  # Head\n",
    "        #================================\n",
    "        return H\n",
    "\n",
    "    qx = np.arange(fL[0],fL[1],1) # 35 a 65\n",
    "    fx = np.arange(qL[0],qL[1],1)\n",
    "    X,Y = np.meshgrid(fx, qx) # grid of point\n",
    "    Z = funcaoH(X, Y) # evaluation of the function on the grid\n",
    "    return[min([valor for linha in Z for valor in linha]),max([valor for linha in Z for valor in linha])]"
   ],
   "outputs": [],
   "metadata": {
    "pycharm": {
     "name": "#%%\n"
    }
   }
  },
  {
   "cell_type": "code",
   "execution_count": 10,
   "source": [
    "LimH([35,75],[0.5,4])"
   ],
   "outputs": [
    {
     "output_type": "execute_result",
     "data": {
      "text/plain": [
       "[225595526.018284, 224646995967.39743]"
      ]
     },
     "metadata": {},
     "execution_count": 10
    }
   ],
   "metadata": {}
  },
  {
   "cell_type": "code",
   "execution_count": 12,
   "source": [
    "# Definimos duas variáveis para teste nas funções qch\n",
    "# Make data.\n",
    "def LimQch(zL,pwL):\n",
    "    zL=np.array(zL)\n",
    "    def funcaoqch(zi,pwi): #vazão em m3/s\n",
    "        return Cc*(zi/100)*np.sqrt(abs(pwi - pm))\n",
    "\n",
    "    zx = np.arange(zL[0],zL[1],5) # 35 a 65\n",
    "    px = np.arange(pwL[0],pwL[1],1000)\n",
    "    X,Y = np.meshgrid(zx, px) # grid of point\n",
    "    W = funcaoqch(X, Y) # evaluation of the function on the grid\n",
    "    return [min([valor for linha in W for valor in linha]),max([valor for linha in W for valor in linha])]\n",
    "\n",
    "\n",
    "LimQch([0,100],[1e5,10e5])\n"
   ],
   "outputs": [
    {
     "output_type": "execute_result",
     "data": {
      "text/plain": [
       "[0.0, 0.02618969262897142]"
      ]
     },
     "metadata": {},
     "execution_count": 12
    }
   ],
   "metadata": {}
  }
 ],
 "metadata": {
  "interpreter": {
   "hash": "698028ab42453737c47168816c82f0f42fda53eb4af1ce48d8f09e53da2613ea"
  },
  "kernelspec": {
   "name": "python3",
   "display_name": "Python 3.9.2 64-bit ('BCS': conda)"
  },
  "language_info": {
   "codemirror_mode": {
    "name": "ipython",
    "version": 3
   },
   "file_extension": ".py",
   "mimetype": "text/x-python",
   "name": "python",
   "nbconvert_exporter": "python",
   "pygments_lexer": "ipython3",
   "version": "3.9.2"
  }
 },
 "nbformat": 4,
 "nbformat_minor": 1
}