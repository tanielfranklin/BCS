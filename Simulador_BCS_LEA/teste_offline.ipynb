{
 "cells": [
  {
   "cell_type": "code",
   "execution_count": 27,
   "source": [
    "from __future__ import absolute_import\n",
    "from __future__ import division\n",
    "from __future__ import print_function\n",
    "import numpy as np\n",
    "#!pip install deepxde==0.10.0\n",
    "import deepxde as dde\n",
    "import scipy as sp\n",
    "import scipy.interpolate as interp\n",
    "from deepxde.backend import tf\n",
    "from matplotlib import pyplot as plt\n",
    "from numpy.core.shape_base import hstack\n",
    "from scipy import signal\n",
    "# from param import *\n",
    "loc_drive=\"\"\n",
    "path_subrotinas=\"/home/taniel/Desktop/Projetos_Deep/BCS/subrotinas.py\"\n",
    "exec(compile(open('param_LEA.py', \"rb\").read(), 'param_LEA.py', 'exec')) #% Roda arquivo com parâmetros do modelo BCS\n",
    "exec(compile(open(path_subrotinas, \"rb\").read(), path_subrotinas, 'exec'))\n",
    "exec(compile(open('exp_LEA.py', \"rb\").read(), 'exp_LEA.py', 'exec')) "
   ],
   "outputs": [
    {
     "output_type": "stream",
     "name": "stdout",
     "text": [
      "0.24108276567583545 7.559321788388188 [-11.492505101438962, 204.43014465827954]\n",
      "Dados carregados\n"
     ]
    }
   ],
   "metadata": {
    "pycharm": {
     "name": "#%%\n"
    }
   }
  },
  {
   "cell_type": "code",
   "execution_count": 28,
   "source": [
    "# =========================================================================\n",
    "#  Define as entradas do BCS LEA   \n",
    "# =========================================================================\n",
    "#   freq = Cexp.referencia_frequencia_inversor(1:nsim)*0.1;                   % [Hz] frequencia de operacao\n",
    "intervalo=np.array([int(1*3600),int(5*3600)])\n",
    "#intervalo=np.array([int(0*3600),int(7.8*3600)])\n",
    "\n",
    "#intervalo=np.array([1.8,3])\n",
    "LEA=dados_LEA_Exp(loc_drive+'Dados_BCSLEA_20210818.mat',intervalo)\n",
    "pm=LEA['pressao_manifold_coriolis']*1e5\n",
    "pr=LEA['pressao_reservatorio']*1e5\n",
    "pm_0=pm[0]\n",
    "pr_0=pr[0]\n",
    "u_0=np.array([LEA['referencia_frequencia_inversor'][0],LEA['valvula_pneumatica_topo'][0],pm_0,pr_0])\n",
    "x_0=np.array([LEA['pressao_fundo'][0]*1e5,LEA['pressao_choke'][0]*1e5,LEA['vazao'][0]/3600])\n",
    "u_0\n",
    "nsim=LEA['tempo']+1\n",
    "ts=LEA['Ts']\n",
    "tempo_hora = np.arange(0,nsim*ts,ts)/3600\n",
    "\n",
    "fk=LEA['referencia_frequencia_inversor']\n",
    "zc=LEA['valvula_pneumatica_topo']\n",
    "fk=np.reshape(fk, (nsim,1))\n",
    "zc=np.reshape(zc, (nsim,1))\n",
    "pm=np.reshape(pm, (nsim,1))\n",
    "pr=np.reshape(pr, (nsim,1))\n",
    "# time points\n",
    "maxtime = nsim\n",
    "time = np.linspace(0, nsim, nsim)\n",
    "time.shape\n",
    "nsim"
   ],
   "outputs": [
    {
     "output_type": "stream",
     "name": "stdout",
     "text": [
      "1\n"
     ]
    },
    {
     "output_type": "execute_result",
     "data": {
      "text/plain": [
       "144"
      ]
     },
     "metadata": {},
     "execution_count": 28
    }
   ],
   "metadata": {}
  },
  {
   "cell_type": "code",
   "execution_count": 29,
   "source": [
    "def constante(valor,time_vector):\n",
    "    return np.ones_like(time_vector)*valor\n",
    "\n",
    "def ex_func(t):\n",
    "  # loads exogenous inputs and interpolates intersample if necessary\n",
    "    spline_f = sp.interpolate.Rbf(\n",
    "        time, fk, function=\"thin_plate\", smooth=0, episilon=0\n",
    "    )\n",
    "    spline_zc = sp.interpolate.Rbf(\n",
    "        time, zc, function=\"thin_plate\", smooth=0, episilon=0\n",
    "    )\n",
    "    spline_pman = sp.interpolate.Rbf(\n",
    "        time, pm, function=\"thin_plate\", smooth=0, episilon=0\n",
    "    )\n",
    "    spline_pres = sp.interpolate.Rbf(\n",
    "        time, pr, function=\"thin_plate\", smooth=0, episilon=0\n",
    "    )\n",
    "    #out=np.array([spline_f(t), spline_zc(t), spline_pman(t), spline_pres(t)])\n",
    "    return [spline_f(t), spline_zc(t), spline_pman(t), spline_pres(t)]\n",
    "    # out=np.hstack([np.array([spline_f(t)]).T,np.array([spline_zc(t)]).T,np.array([spline_pman(t)]).T,np.array([spline_pres(t)]).T ])\n",
    "    # return out #np.transpose(out)\n"
   ],
   "outputs": [],
   "metadata": {}
  },
  {
   "cell_type": "code",
   "execution_count": 30,
   "source": [
    "# Entradas\n",
    "# Valores máximos e mínimos para normalização\n",
    "#Entradas - conforme binder e pavlov\n",
    "#========================================\n",
    "pbc=Lim_c(pbhlim)\n",
    "pwc=Lim_c(pwhlim)\n",
    "qc=Lim_c(qlim)\n",
    "pbmin=pbhlim[0]\n",
    "pwmin=pwhlim[0]\n",
    "qmin=qlim[0]\n",
    "\n",
    "\n",
    "#rho=tf.log(tf.Variable(tf.exp(8.18)))*100 #836.8898 log(exp) impede valores negativos\n",
    "rho=tf.exp(tf.Variable(6.7))\n",
    "#rho=tf.Variable(tf.exp(818.0))\n",
    "PI = tf.Variable(2.5)*1e-8 ##PI = 2.7e-8; # Well productivy index [m3/s/Pa]\n",
    "xc=np.array([pbc,pwc,qc])\n",
    "x0=np.array([pbmin,pwmin,qmin])\n",
    "x_0=np.array([LEA['pressao_fundo'][0]*1e5,LEA['pressao_choke'][0]*1e5,LEA['vazao'][0]/3600])\n",
    "x1=(LEA['pressao_fundo']*1e5-x0[0])/xc[0]\n",
    "x2=(LEA['pressao_choke']*1e5-x0[1])/xc[1]\n",
    "x3=(LEA['vazao']/3600-x0[2])/xc[2]\n",
    "x1=x1.reshape(nsim,1)\n",
    "x2=x2.reshape(nsim,1)\n",
    "x3=x3.reshape(nsim,1)\n",
    "tempo=np.arange(0,nsim)\n",
    "tempo=tempo.reshape(len(x1),1)\n",
    "\n",
    "\n",
    "# Fig_LEA_data(LEA)\n",
    "\n",
    "# a=np.array([1,2,3,4,5,6,7])\n",
    "# a[:3]\n",
    "xss=x_0\n",
    "xss\n",
    "math.log(3.57e3)"
   ],
   "outputs": [
    {
     "output_type": "execute_result",
     "data": {
      "text/plain": [
       "8.180320874773685"
      ]
     },
     "metadata": {},
     "execution_count": 30
    }
   ],
   "metadata": {}
  },
  {
   "cell_type": "code",
   "execution_count": 31,
   "source": [
    "F1c=2.92634e-05\n",
    "F2c=0.000738599\n",
    "Hc=215.9226497597185\n",
    "qcc=0.0020328441729756536\n",
    "F1lim=(0.000439365,0.000439365)\n",
    "F2lim=(0.0110894,0.0110894)"
   ],
   "outputs": [],
   "metadata": {}
  },
  {
   "cell_type": "code",
   "execution_count": 32,
   "source": [
    "\n",
    "def ED_BCS(t,x,ex_func):\n",
    "    ## Montado o sistema de equa��es\n",
    "    # Tensores (Estados)\n",
    "    pbh = x[:,0:1]\n",
    "    pwh = x[:,1:2]\n",
    "    q = x[:,2:] #Vazão\n",
    "\n",
    "    # fq=ex_func[:,0:1]\n",
    "    # zc=ex_func[:,1:2]\n",
    "    # pman=ex_func[:,2:3];#pman=0.12e5\n",
    "    # pres=ex_func[:,3:4]\n",
    "\n",
    "    # fq=ex_func[:,0]\n",
    "    # zc=ex_func[:,1]\n",
    "    # pman=ex_func[:,2];#pman=0.12e5\n",
    "    # pres=ex_func[:,3]\n",
    "\n",
    "    fq=ex_func[0]\n",
    "    zc=ex_func[1]\n",
    "    pman=ex_func[2];#pman=0.12e5\n",
    "    pres=ex_func[3]\n",
    "\n",
    "    # fq=50\n",
    "    # zc=35\n",
    "    # pman=0.12e5\n",
    "    # pres=1.8e5\n",
    "\n",
    "    #=============================================\n",
    "    # Computing HEAD and pump pressure gain of LEA\n",
    "    q0 = (qc*q+qmin) / Cq * (f0 / fq)\n",
    "    H0 =  Head[0]*q0**4 +  Head[1]*q0**3 +  Head[2]*q0**2 + Head[3]*q0 + Head[4];\n",
    "    H = CH * H0 * (fq / f0) ** 2  # Head\n",
    "    #Pp = rho * g * H  # Dp\n",
    "    #==============================================\n",
    "    # Electrical power and electrical current computing\n",
    "    #P0 = -2.3599e9 * q0 ** 3 - 1.8082e7 * q0 ** 2 + 4.3346e6 * q0 + 9.4355e4\n",
    "    #P = Cp * P0 * (fq / f0) ** 3;  \n",
    "    #I = Inp * P / Pnp  \n",
    "    #==============================================\n",
    "    # Computing two volumes frictions in LEA piping\n",
    "    qan=q*qc+qmin # non normalized flow\n",
    "    Re =(4*rho*qan)/(0.219*pi*mu); # Assuming volumes density are identicals\n",
    "    fric=64/Re \n",
    "     \n",
    "    F1 = (fric*qan**2*rho)/(2*pi*r1**3) #Frictional pressure drop above ESP (Assuming laminar flow)\n",
    "    F2 = (fric*qan**2*rho)/(2*pi*r2**3) #Frictional pressure drop above ESP (Assuming laminar flow)\n",
    "    #===========================================\n",
    "    #===========================================\n",
    "    # Computing intake pressure\n",
    "    #pin = pbh*pbc+pbmin - rho * g * h1 - F1;\n",
    "    # Computing Reservoir flow\n",
    "    qr = PI * (pres - (pbh*pbc+pbmin));\n",
    "    # Computing flow across Choke valvule\n",
    "    qch = Cc * (zc) * tf.sqrt(tf.abs(pwh*pwc+pwmin - pman)); # Algumas operações precisam usar o prefixo do tensorflow \n",
    "    #============================================\n",
    "\n",
    "    #Normalizing nonlinear terms\n",
    "    ##########################\n",
    "    qch=(qch-qch_lim[0])/qcc\n",
    "    F1=(F1-F1lim[0])/F1c\n",
    "    F2=(F2-F2lim[0])/F2c\n",
    "    H=(H-H_lim[0])/Hc\n",
    "    ###########################\n",
    "    #xss=np.float32(np.array([2.0197e5,4.9338e5,4.2961e-4]));\n",
    "  \n",
    "    # SEDO\n",
    "\n",
    "    dpbhdt = dde.grad.jacobian(x, t, i=0)\n",
    "    dpwhdt = dde.grad.jacobian(x, t, i=1)\n",
    "    dqdt = dde.grad.jacobian(x, t, i=2)\n",
    "\n",
    "    return [\n",
    "        dpbhdt - (1/pbc)*b1/V1*(qr - (q*qc+qmin)),\n",
    "        dpwhdt - (1/pwc)*b2/V2*((q*qc+qmin) - (qcc*qch+qch_lim[0])),\n",
    "        dqdt - (1/(qc*M))*(pbh*pbc+pbmin - (pwh*pwc+pwmin) - rho*g*hw - (F1c*F1+F1lim[0]) - (F2c*F2+F2lim[0]) + rho * g * (H*Hc+H_lim[0]))\n",
    "        ]\n",
    "\n"
   ],
   "outputs": [],
   "metadata": {}
  },
  {
   "cell_type": "code",
   "execution_count": 33,
   "source": [
    "def boundary(_, on_initial):\n",
    "    return on_initial\n",
    "\n",
    "\n",
    "x_0 = np.float32(xss)\n",
    "xssn = (x_0-x0)/xc\n",
    "geom = dde.geometry.TimeDomain(0, nsim)\n",
    "\n",
    "ic1 = dde.IC(geom, lambda v: xssn[0], boundary, component=0)\n",
    "ic2 = dde.IC(geom, lambda v: xssn[1], boundary, component=1)\n",
    "ic3 = dde.IC(geom, lambda v: xssn[2], boundary, component=2)\n",
    "\n",
    "\n",
    "\n",
    "observe_x1 = dde.PointSetBC(tempo, x1, component=0)\n",
    "observe_x2 = dde.PointSetBC(tempo, x2, component=1)\n",
    "observe_x3 = dde.PointSetBC(tempo, x3, component=2)\n",
    "\n",
    "data = dde.data.PDE(\n",
    "    #geom, ED_BCS, [ic1,ic2,ic3],\n",
    "    #geom, ED_BCS, [ic1,ic2,ic3,observe_x1,observe_x2,observe_x3],\n",
    "    #geom, ED_BCS, [ic1,ic2,ic3,observe_x1,observe_x2],\n",
    "    geom, ED_BCS, [observe_x1,observe_x2],\n",
    "    #geom, ED_BCS, [ic1,ic2,ic3,observe_x1],\n",
    "    #solution=func,\n",
    "    num_test=2000,\n",
    "    num_domain=6000,\n",
    "    #num_boundary=2,\n",
    "    #anchors=tempo,\n",
    "    auxiliary_var_function=ex_func\n",
    "    )"
   ],
   "outputs": [],
   "metadata": {}
  },
  {
   "cell_type": "code",
   "execution_count": 34,
   "source": [
    "\n",
    "passos=10000\n",
    "\n",
    "layer_size = [1] + [30]*6 + [3]\n",
    "activation = \"tanh\" # \n",
    "#activation = \"sigmoid\"\n",
    "initializer = \"Glorot uniform\"\n",
    "net = dde.maps.FNN(layer_size, activation, initializer)\n",
    "#                   batch_normalization=\"before\")\n",
    "# callbacks for storing results\n",
    "fnamevar = \"LEA_rho_PI.dat\"\n",
    "variable = dde.callbacks.VariableValue([rho,PI], period=100, filename=fnamevar)\n",
    "model = dde.Model(data, net)\n",
    "checker = dde.callbacks.ModelCheckpoint(\n",
    "        \"model_norm/modelo.ckpt\", save_better_only=True)\n",
    "early_stopping = dde.callbacks.EarlyStopping(min_delta=1e-4, patience=2000)\n",
    "cb=[variable,checker,early_stopping]\n",
    "#cb=[checker]\n",
    "#cb=None"
   ],
   "outputs": [],
   "metadata": {}
  },
  {
   "cell_type": "code",
   "execution_count": 39,
   "source": [
    "model.compile(\"adam\", lr=0.001)"
   ],
   "outputs": [
    {
     "output_type": "stream",
     "name": "stdout",
     "text": [
      "Compiling model...\n",
      "'compile' took 1.043390 s\n",
      "\n"
     ]
    }
   ],
   "metadata": {}
  },
  {
   "cell_type": "code",
   "execution_count": 38,
   "source": [
    "path_models='/home/taniel/Desktop/Projetos_Deep/BCS/Simulador_BCS_LEA/model_norm/'\n",
    "model.restore(path_models+'modelo.ckpt-43000',verbose=1)"
   ],
   "outputs": [
    {
     "output_type": "stream",
     "name": "stdout",
     "text": [
      "Restoring model from /home/taniel/Desktop/Projetos_Deep/BCS/Simulador_BCS_LEA/model_norm/modelo.ckpt-43000 ...\n",
      "\n",
      "INFO:tensorflow:Restoring parameters from /home/taniel/Desktop/Projetos_Deep/BCS/Simulador_BCS_LEA/model_norm/modelo.ckpt-43000\n"
     ]
    },
    {
     "output_type": "error",
     "ename": "NotFoundError",
     "evalue": "Restoring from checkpoint failed. This is most likely due to a Variable name or other graph key that is missing from the checkpoint. Please ensure that you have not altered the graph expected based on the checkpoint. Original error:\n\nKey Variable_2/Adam not found in checkpoint\n\t [[node save_1/RestoreV2 (defined at /home/taniel/anaconda3/envs/BCS/lib/python3.9/site-packages/deepxde/model.py:206) ]]\n\nOriginal stack trace for 'save_1/RestoreV2':\n  File \"/home/taniel/anaconda3/envs/BCS/lib/python3.9/runpy.py\", line 197, in _run_module_as_main\n    return _run_code(code, main_globals, None,\n  File \"/home/taniel/anaconda3/envs/BCS/lib/python3.9/runpy.py\", line 87, in _run_code\n    exec(code, run_globals)\n  File \"/home/taniel/anaconda3/envs/BCS/lib/python3.9/site-packages/ipykernel_launcher.py\", line 16, in <module>\n    app.launch_new_instance()\n  File \"/home/taniel/anaconda3/envs/BCS/lib/python3.9/site-packages/traitlets/config/application.py\", line 845, in launch_instance\n    app.start()\n  File \"/home/taniel/anaconda3/envs/BCS/lib/python3.9/site-packages/ipykernel/kernelapp.py\", line 612, in start\n    self.io_loop.start()\n  File \"/home/taniel/anaconda3/envs/BCS/lib/python3.9/site-packages/tornado/platform/asyncio.py\", line 199, in start\n    self.asyncio_loop.run_forever()\n  File \"/home/taniel/anaconda3/envs/BCS/lib/python3.9/asyncio/base_events.py\", line 596, in run_forever\n    self._run_once()\n  File \"/home/taniel/anaconda3/envs/BCS/lib/python3.9/asyncio/base_events.py\", line 1890, in _run_once\n    handle._run()\n  File \"/home/taniel/anaconda3/envs/BCS/lib/python3.9/asyncio/events.py\", line 80, in _run\n    self._context.run(self._callback, *self._args)\n  File \"/home/taniel/anaconda3/envs/BCS/lib/python3.9/site-packages/tornado/ioloop.py\", line 688, in <lambda>\n    lambda f: self._run_callback(functools.partial(callback, future))\n  File \"/home/taniel/anaconda3/envs/BCS/lib/python3.9/site-packages/tornado/ioloop.py\", line 741, in _run_callback\n    ret = callback()\n  File \"/home/taniel/anaconda3/envs/BCS/lib/python3.9/site-packages/tornado/gen.py\", line 814, in inner\n    self.ctx_run(self.run)\n  File \"/home/taniel/anaconda3/envs/BCS/lib/python3.9/site-packages/tornado/gen.py\", line 775, in run\n    yielded = self.gen.send(value)\n  File \"/home/taniel/anaconda3/envs/BCS/lib/python3.9/site-packages/ipykernel/kernelbase.py\", line 365, in process_one\n    yield gen.maybe_future(dispatch(*args))\n  File \"/home/taniel/anaconda3/envs/BCS/lib/python3.9/site-packages/tornado/gen.py\", line 234, in wrapper\n    yielded = ctx_run(next, result)\n  File \"/home/taniel/anaconda3/envs/BCS/lib/python3.9/site-packages/ipykernel/kernelbase.py\", line 268, in dispatch_shell\n    yield gen.maybe_future(handler(stream, idents, msg))\n  File \"/home/taniel/anaconda3/envs/BCS/lib/python3.9/site-packages/tornado/gen.py\", line 234, in wrapper\n    yielded = ctx_run(next, result)\n  File \"/home/taniel/anaconda3/envs/BCS/lib/python3.9/site-packages/ipykernel/kernelbase.py\", line 543, in execute_request\n    self.do_execute(\n  File \"/home/taniel/anaconda3/envs/BCS/lib/python3.9/site-packages/tornado/gen.py\", line 234, in wrapper\n    yielded = ctx_run(next, result)\n  File \"/home/taniel/anaconda3/envs/BCS/lib/python3.9/site-packages/ipykernel/ipkernel.py\", line 306, in do_execute\n    res = shell.run_cell(code, store_history=store_history, silent=silent)\n  File \"/home/taniel/anaconda3/envs/BCS/lib/python3.9/site-packages/ipykernel/zmqshell.py\", line 536, in run_cell\n    return super(ZMQInteractiveShell, self).run_cell(*args, **kwargs)\n  File \"/home/taniel/anaconda3/envs/BCS/lib/python3.9/site-packages/IPython/core/interactiveshell.py\", line 2894, in run_cell\n    result = self._run_cell(\n  File \"/home/taniel/anaconda3/envs/BCS/lib/python3.9/site-packages/IPython/core/interactiveshell.py\", line 2940, in _run_cell\n    return runner(coro)\n  File \"/home/taniel/anaconda3/envs/BCS/lib/python3.9/site-packages/IPython/core/async_helpers.py\", line 68, in _pseudo_sync_runner\n    coro.send(None)\n  File \"/home/taniel/anaconda3/envs/BCS/lib/python3.9/site-packages/IPython/core/interactiveshell.py\", line 3165, in run_cell_async\n    has_raised = await self.run_ast_nodes(code_ast.body, cell_name,\n  File \"/home/taniel/anaconda3/envs/BCS/lib/python3.9/site-packages/IPython/core/interactiveshell.py\", line 3357, in run_ast_nodes\n    if (await self.run_code(code, result,  async_=asy)):\n  File \"/home/taniel/anaconda3/envs/BCS/lib/python3.9/site-packages/IPython/core/interactiveshell.py\", line 3437, in run_code\n    exec(code_obj, self.user_global_ns, self.user_ns)\n  File \"<ipython-input-35-5196a86f3834>\", line 1, in <module>\n    model.compile(\"adam\", lr=0.001)\n  File \"/home/taniel/anaconda3/envs/BCS/lib/python3.9/site-packages/deepxde/utils.py\", line 52, in wrapper\n    result = f(*args, **kwargs)\n  File \"/home/taniel/anaconda3/envs/BCS/lib/python3.9/site-packages/deepxde/model.py\", line 82, in compile\n    self._open_tfsession()\n  File \"/home/taniel/anaconda3/envs/BCS/lib/python3.9/site-packages/deepxde/model.py\", line 206, in _open_tfsession\n    self.saver = tf.train.Saver(max_to_keep=None)\n  File \"/home/taniel/anaconda3/envs/BCS/lib/python3.9/site-packages/tensorflow/python/training/saver.py\", line 835, in __init__\n    self.build()\n  File \"/home/taniel/anaconda3/envs/BCS/lib/python3.9/site-packages/tensorflow/python/training/saver.py\", line 847, in build\n    self._build(self._filename, build_save=True, build_restore=True)\n  File \"/home/taniel/anaconda3/envs/BCS/lib/python3.9/site-packages/tensorflow/python/training/saver.py\", line 875, in _build\n    self.saver_def = self._builder._build_internal(  # pylint: disable=protected-access\n  File \"/home/taniel/anaconda3/envs/BCS/lib/python3.9/site-packages/tensorflow/python/training/saver.py\", line 514, in _build_internal\n    restore_op = self._AddRestoreOps(filename_tensor, saveables,\n  File \"/home/taniel/anaconda3/envs/BCS/lib/python3.9/site-packages/tensorflow/python/training/saver.py\", line 334, in _AddRestoreOps\n    all_tensors = self.bulk_restore(filename_tensor, saveables, preferred_shard,\n  File \"/home/taniel/anaconda3/envs/BCS/lib/python3.9/site-packages/tensorflow/python/training/saver.py\", line 582, in bulk_restore\n    return io_ops.restore_v2(filename_tensor, names, slices, dtypes)\n  File \"/home/taniel/anaconda3/envs/BCS/lib/python3.9/site-packages/tensorflow/python/ops/gen_io_ops.py\", line 1508, in restore_v2\n    _, _, _op, _outputs = _op_def_library._apply_op_helper(\n  File \"/home/taniel/anaconda3/envs/BCS/lib/python3.9/site-packages/tensorflow/python/framework/op_def_library.py\", line 748, in _apply_op_helper\n    op = g._create_op_internal(op_type_name, inputs, dtypes=None,\n  File \"/home/taniel/anaconda3/envs/BCS/lib/python3.9/site-packages/tensorflow/python/framework/ops.py\", line 3528, in _create_op_internal\n    ret = Operation(\n  File \"/home/taniel/anaconda3/envs/BCS/lib/python3.9/site-packages/tensorflow/python/framework/ops.py\", line 1990, in __init__\n    self._traceback = tf_stack.extract_stack()\n",
     "traceback": [
      "\u001b[0;31m---------------------------------------------------------------------------\u001b[0m",
      "\u001b[0;31mNotFoundError\u001b[0m                             Traceback (most recent call last)",
      "\u001b[0;32m~/anaconda3/envs/BCS/lib/python3.9/site-packages/tensorflow/python/client/session.py\u001b[0m in \u001b[0;36m_do_call\u001b[0;34m(self, fn, *args)\u001b[0m\n\u001b[1;32m   1374\u001b[0m     \u001b[0;32mtry\u001b[0m\u001b[0;34m:\u001b[0m\u001b[0;34m\u001b[0m\u001b[0;34m\u001b[0m\u001b[0m\n\u001b[0;32m-> 1375\u001b[0;31m       \u001b[0;32mreturn\u001b[0m \u001b[0mfn\u001b[0m\u001b[0;34m(\u001b[0m\u001b[0;34m*\u001b[0m\u001b[0margs\u001b[0m\u001b[0;34m)\u001b[0m\u001b[0;34m\u001b[0m\u001b[0;34m\u001b[0m\u001b[0m\n\u001b[0m\u001b[1;32m   1376\u001b[0m     \u001b[0;32mexcept\u001b[0m \u001b[0merrors\u001b[0m\u001b[0;34m.\u001b[0m\u001b[0mOpError\u001b[0m \u001b[0;32mas\u001b[0m \u001b[0me\u001b[0m\u001b[0;34m:\u001b[0m\u001b[0;34m\u001b[0m\u001b[0;34m\u001b[0m\u001b[0m\n",
      "\u001b[0;32m~/anaconda3/envs/BCS/lib/python3.9/site-packages/tensorflow/python/client/session.py\u001b[0m in \u001b[0;36m_run_fn\u001b[0;34m(feed_dict, fetch_list, target_list, options, run_metadata)\u001b[0m\n\u001b[1;32m   1358\u001b[0m       \u001b[0mself\u001b[0m\u001b[0;34m.\u001b[0m\u001b[0m_extend_graph\u001b[0m\u001b[0;34m(\u001b[0m\u001b[0;34m)\u001b[0m\u001b[0;34m\u001b[0m\u001b[0;34m\u001b[0m\u001b[0m\n\u001b[0;32m-> 1359\u001b[0;31m       return self._call_tf_sessionrun(options, feed_dict, fetch_list,\n\u001b[0m\u001b[1;32m   1360\u001b[0m                                       target_list, run_metadata)\n",
      "\u001b[0;32m~/anaconda3/envs/BCS/lib/python3.9/site-packages/tensorflow/python/client/session.py\u001b[0m in \u001b[0;36m_call_tf_sessionrun\u001b[0;34m(self, options, feed_dict, fetch_list, target_list, run_metadata)\u001b[0m\n\u001b[1;32m   1450\u001b[0m                           run_metadata):\n\u001b[0;32m-> 1451\u001b[0;31m     return tf_session.TF_SessionRun_wrapper(self._session, options, feed_dict,\n\u001b[0m\u001b[1;32m   1452\u001b[0m                                             \u001b[0mfetch_list\u001b[0m\u001b[0;34m,\u001b[0m \u001b[0mtarget_list\u001b[0m\u001b[0;34m,\u001b[0m\u001b[0;34m\u001b[0m\u001b[0;34m\u001b[0m\u001b[0m\n",
      "\u001b[0;31mNotFoundError\u001b[0m: Key Variable_2/Adam not found in checkpoint\n\t [[{{node save_1/RestoreV2}}]]",
      "\nDuring handling of the above exception, another exception occurred:\n",
      "\u001b[0;31mNotFoundError\u001b[0m                             Traceback (most recent call last)",
      "\u001b[0;32m~/anaconda3/envs/BCS/lib/python3.9/site-packages/tensorflow/python/training/saver.py\u001b[0m in \u001b[0;36mrestore\u001b[0;34m(self, sess, save_path)\u001b[0m\n\u001b[1;32m   1296\u001b[0m       \u001b[0;32melse\u001b[0m\u001b[0;34m:\u001b[0m\u001b[0;34m\u001b[0m\u001b[0;34m\u001b[0m\u001b[0m\n\u001b[0;32m-> 1297\u001b[0;31m         sess.run(self.saver_def.restore_op_name,\n\u001b[0m\u001b[1;32m   1298\u001b[0m                  {self.saver_def.filename_tensor_name: save_path})\n",
      "\u001b[0;32m~/anaconda3/envs/BCS/lib/python3.9/site-packages/tensorflow/python/client/session.py\u001b[0m in \u001b[0;36mrun\u001b[0;34m(self, fetches, feed_dict, options, run_metadata)\u001b[0m\n\u001b[1;32m    966\u001b[0m     \u001b[0;32mtry\u001b[0m\u001b[0;34m:\u001b[0m\u001b[0;34m\u001b[0m\u001b[0;34m\u001b[0m\u001b[0m\n\u001b[0;32m--> 967\u001b[0;31m       result = self._run(None, fetches, feed_dict, options_ptr,\n\u001b[0m\u001b[1;32m    968\u001b[0m                          run_metadata_ptr)\n",
      "\u001b[0;32m~/anaconda3/envs/BCS/lib/python3.9/site-packages/tensorflow/python/client/session.py\u001b[0m in \u001b[0;36m_run\u001b[0;34m(self, handle, fetches, feed_dict, options, run_metadata)\u001b[0m\n\u001b[1;32m   1189\u001b[0m     \u001b[0;32mif\u001b[0m \u001b[0mfinal_fetches\u001b[0m \u001b[0;32mor\u001b[0m \u001b[0mfinal_targets\u001b[0m \u001b[0;32mor\u001b[0m \u001b[0;34m(\u001b[0m\u001b[0mhandle\u001b[0m \u001b[0;32mand\u001b[0m \u001b[0mfeed_dict_tensor\u001b[0m\u001b[0;34m)\u001b[0m\u001b[0;34m:\u001b[0m\u001b[0;34m\u001b[0m\u001b[0;34m\u001b[0m\u001b[0m\n\u001b[0;32m-> 1190\u001b[0;31m       results = self._do_run(handle, final_targets, final_fetches,\n\u001b[0m\u001b[1;32m   1191\u001b[0m                              feed_dict_tensor, options, run_metadata)\n",
      "\u001b[0;32m~/anaconda3/envs/BCS/lib/python3.9/site-packages/tensorflow/python/client/session.py\u001b[0m in \u001b[0;36m_do_run\u001b[0;34m(self, handle, target_list, fetch_list, feed_dict, options, run_metadata)\u001b[0m\n\u001b[1;32m   1367\u001b[0m     \u001b[0;32mif\u001b[0m \u001b[0mhandle\u001b[0m \u001b[0;32mis\u001b[0m \u001b[0;32mNone\u001b[0m\u001b[0;34m:\u001b[0m\u001b[0;34m\u001b[0m\u001b[0;34m\u001b[0m\u001b[0m\n\u001b[0;32m-> 1368\u001b[0;31m       return self._do_call(_run_fn, feeds, fetches, targets, options,\n\u001b[0m\u001b[1;32m   1369\u001b[0m                            run_metadata)\n",
      "\u001b[0;32m~/anaconda3/envs/BCS/lib/python3.9/site-packages/tensorflow/python/client/session.py\u001b[0m in \u001b[0;36m_do_call\u001b[0;34m(self, fn, *args)\u001b[0m\n\u001b[1;32m   1393\u001b[0m                     'disable_meta_optimizer = True')\n\u001b[0;32m-> 1394\u001b[0;31m       \u001b[0;32mraise\u001b[0m \u001b[0mtype\u001b[0m\u001b[0;34m(\u001b[0m\u001b[0me\u001b[0m\u001b[0;34m)\u001b[0m\u001b[0;34m(\u001b[0m\u001b[0mnode_def\u001b[0m\u001b[0;34m,\u001b[0m \u001b[0mop\u001b[0m\u001b[0;34m,\u001b[0m \u001b[0mmessage\u001b[0m\u001b[0;34m)\u001b[0m\u001b[0;34m\u001b[0m\u001b[0;34m\u001b[0m\u001b[0m\n\u001b[0m\u001b[1;32m   1395\u001b[0m \u001b[0;34m\u001b[0m\u001b[0m\n",
      "\u001b[0;31mNotFoundError\u001b[0m: Key Variable_2/Adam not found in checkpoint\n\t [[node save_1/RestoreV2 (defined at /home/taniel/anaconda3/envs/BCS/lib/python3.9/site-packages/deepxde/model.py:206) ]]\n\nOriginal stack trace for 'save_1/RestoreV2':\n  File \"/home/taniel/anaconda3/envs/BCS/lib/python3.9/runpy.py\", line 197, in _run_module_as_main\n    return _run_code(code, main_globals, None,\n  File \"/home/taniel/anaconda3/envs/BCS/lib/python3.9/runpy.py\", line 87, in _run_code\n    exec(code, run_globals)\n  File \"/home/taniel/anaconda3/envs/BCS/lib/python3.9/site-packages/ipykernel_launcher.py\", line 16, in <module>\n    app.launch_new_instance()\n  File \"/home/taniel/anaconda3/envs/BCS/lib/python3.9/site-packages/traitlets/config/application.py\", line 845, in launch_instance\n    app.start()\n  File \"/home/taniel/anaconda3/envs/BCS/lib/python3.9/site-packages/ipykernel/kernelapp.py\", line 612, in start\n    self.io_loop.start()\n  File \"/home/taniel/anaconda3/envs/BCS/lib/python3.9/site-packages/tornado/platform/asyncio.py\", line 199, in start\n    self.asyncio_loop.run_forever()\n  File \"/home/taniel/anaconda3/envs/BCS/lib/python3.9/asyncio/base_events.py\", line 596, in run_forever\n    self._run_once()\n  File \"/home/taniel/anaconda3/envs/BCS/lib/python3.9/asyncio/base_events.py\", line 1890, in _run_once\n    handle._run()\n  File \"/home/taniel/anaconda3/envs/BCS/lib/python3.9/asyncio/events.py\", line 80, in _run\n    self._context.run(self._callback, *self._args)\n  File \"/home/taniel/anaconda3/envs/BCS/lib/python3.9/site-packages/tornado/ioloop.py\", line 688, in <lambda>\n    lambda f: self._run_callback(functools.partial(callback, future))\n  File \"/home/taniel/anaconda3/envs/BCS/lib/python3.9/site-packages/tornado/ioloop.py\", line 741, in _run_callback\n    ret = callback()\n  File \"/home/taniel/anaconda3/envs/BCS/lib/python3.9/site-packages/tornado/gen.py\", line 814, in inner\n    self.ctx_run(self.run)\n  File \"/home/taniel/anaconda3/envs/BCS/lib/python3.9/site-packages/tornado/gen.py\", line 775, in run\n    yielded = self.gen.send(value)\n  File \"/home/taniel/anaconda3/envs/BCS/lib/python3.9/site-packages/ipykernel/kernelbase.py\", line 365, in process_one\n    yield gen.maybe_future(dispatch(*args))\n  File \"/home/taniel/anaconda3/envs/BCS/lib/python3.9/site-packages/tornado/gen.py\", line 234, in wrapper\n    yielded = ctx_run(next, result)\n  File \"/home/taniel/anaconda3/envs/BCS/lib/python3.9/site-packages/ipykernel/kernelbase.py\", line 268, in dispatch_shell\n    yield gen.maybe_future(handler(stream, idents, msg))\n  File \"/home/taniel/anaconda3/envs/BCS/lib/python3.9/site-packages/tornado/gen.py\", line 234, in wrapper\n    yielded = ctx_run(next, result)\n  File \"/home/taniel/anaconda3/envs/BCS/lib/python3.9/site-packages/ipykernel/kernelbase.py\", line 543, in execute_request\n    self.do_execute(\n  File \"/home/taniel/anaconda3/envs/BCS/lib/python3.9/site-packages/tornado/gen.py\", line 234, in wrapper\n    yielded = ctx_run(next, result)\n  File \"/home/taniel/anaconda3/envs/BCS/lib/python3.9/site-packages/ipykernel/ipkernel.py\", line 306, in do_execute\n    res = shell.run_cell(code, store_history=store_history, silent=silent)\n  File \"/home/taniel/anaconda3/envs/BCS/lib/python3.9/site-packages/ipykernel/zmqshell.py\", line 536, in run_cell\n    return super(ZMQInteractiveShell, self).run_cell(*args, **kwargs)\n  File \"/home/taniel/anaconda3/envs/BCS/lib/python3.9/site-packages/IPython/core/interactiveshell.py\", line 2894, in run_cell\n    result = self._run_cell(\n  File \"/home/taniel/anaconda3/envs/BCS/lib/python3.9/site-packages/IPython/core/interactiveshell.py\", line 2940, in _run_cell\n    return runner(coro)\n  File \"/home/taniel/anaconda3/envs/BCS/lib/python3.9/site-packages/IPython/core/async_helpers.py\", line 68, in _pseudo_sync_runner\n    coro.send(None)\n  File \"/home/taniel/anaconda3/envs/BCS/lib/python3.9/site-packages/IPython/core/interactiveshell.py\", line 3165, in run_cell_async\n    has_raised = await self.run_ast_nodes(code_ast.body, cell_name,\n  File \"/home/taniel/anaconda3/envs/BCS/lib/python3.9/site-packages/IPython/core/interactiveshell.py\", line 3357, in run_ast_nodes\n    if (await self.run_code(code, result,  async_=asy)):\n  File \"/home/taniel/anaconda3/envs/BCS/lib/python3.9/site-packages/IPython/core/interactiveshell.py\", line 3437, in run_code\n    exec(code_obj, self.user_global_ns, self.user_ns)\n  File \"<ipython-input-35-5196a86f3834>\", line 1, in <module>\n    model.compile(\"adam\", lr=0.001)\n  File \"/home/taniel/anaconda3/envs/BCS/lib/python3.9/site-packages/deepxde/utils.py\", line 52, in wrapper\n    result = f(*args, **kwargs)\n  File \"/home/taniel/anaconda3/envs/BCS/lib/python3.9/site-packages/deepxde/model.py\", line 82, in compile\n    self._open_tfsession()\n  File \"/home/taniel/anaconda3/envs/BCS/lib/python3.9/site-packages/deepxde/model.py\", line 206, in _open_tfsession\n    self.saver = tf.train.Saver(max_to_keep=None)\n  File \"/home/taniel/anaconda3/envs/BCS/lib/python3.9/site-packages/tensorflow/python/training/saver.py\", line 835, in __init__\n    self.build()\n  File \"/home/taniel/anaconda3/envs/BCS/lib/python3.9/site-packages/tensorflow/python/training/saver.py\", line 847, in build\n    self._build(self._filename, build_save=True, build_restore=True)\n  File \"/home/taniel/anaconda3/envs/BCS/lib/python3.9/site-packages/tensorflow/python/training/saver.py\", line 875, in _build\n    self.saver_def = self._builder._build_internal(  # pylint: disable=protected-access\n  File \"/home/taniel/anaconda3/envs/BCS/lib/python3.9/site-packages/tensorflow/python/training/saver.py\", line 514, in _build_internal\n    restore_op = self._AddRestoreOps(filename_tensor, saveables,\n  File \"/home/taniel/anaconda3/envs/BCS/lib/python3.9/site-packages/tensorflow/python/training/saver.py\", line 334, in _AddRestoreOps\n    all_tensors = self.bulk_restore(filename_tensor, saveables, preferred_shard,\n  File \"/home/taniel/anaconda3/envs/BCS/lib/python3.9/site-packages/tensorflow/python/training/saver.py\", line 582, in bulk_restore\n    return io_ops.restore_v2(filename_tensor, names, slices, dtypes)\n  File \"/home/taniel/anaconda3/envs/BCS/lib/python3.9/site-packages/tensorflow/python/ops/gen_io_ops.py\", line 1508, in restore_v2\n    _, _, _op, _outputs = _op_def_library._apply_op_helper(\n  File \"/home/taniel/anaconda3/envs/BCS/lib/python3.9/site-packages/tensorflow/python/framework/op_def_library.py\", line 748, in _apply_op_helper\n    op = g._create_op_internal(op_type_name, inputs, dtypes=None,\n  File \"/home/taniel/anaconda3/envs/BCS/lib/python3.9/site-packages/tensorflow/python/framework/ops.py\", line 3528, in _create_op_internal\n    ret = Operation(\n  File \"/home/taniel/anaconda3/envs/BCS/lib/python3.9/site-packages/tensorflow/python/framework/ops.py\", line 1990, in __init__\n    self._traceback = tf_stack.extract_stack()\n",
      "\nDuring handling of the above exception, another exception occurred:\n",
      "\u001b[0;31mRuntimeError\u001b[0m                              Traceback (most recent call last)",
      "\u001b[0;32m~/anaconda3/envs/BCS/lib/python3.9/site-packages/tensorflow/python/training/py_checkpoint_reader.py\u001b[0m in \u001b[0;36mget_tensor\u001b[0;34m(self, tensor_str)\u001b[0m\n\u001b[1;32m     68\u001b[0m   \u001b[0;32mtry\u001b[0m\u001b[0;34m:\u001b[0m\u001b[0;34m\u001b[0m\u001b[0;34m\u001b[0m\u001b[0m\n\u001b[0;32m---> 69\u001b[0;31m     return CheckpointReader.CheckpointReader_GetTensor(\n\u001b[0m\u001b[1;32m     70\u001b[0m         self, compat.as_bytes(tensor_str))\n",
      "\u001b[0;31mRuntimeError\u001b[0m: Key _CHECKPOINTABLE_OBJECT_GRAPH not found in checkpoint",
      "\nDuring handling of the above exception, another exception occurred:\n",
      "\u001b[0;31mNotFoundError\u001b[0m                             Traceback (most recent call last)",
      "\u001b[0;32m~/anaconda3/envs/BCS/lib/python3.9/site-packages/tensorflow/python/training/saver.py\u001b[0m in \u001b[0;36mrestore\u001b[0;34m(self, sess, save_path)\u001b[0m\n\u001b[1;32m   1307\u001b[0m       \u001b[0;32mtry\u001b[0m\u001b[0;34m:\u001b[0m\u001b[0;34m\u001b[0m\u001b[0;34m\u001b[0m\u001b[0m\n\u001b[0;32m-> 1308\u001b[0;31m         \u001b[0mnames_to_keys\u001b[0m \u001b[0;34m=\u001b[0m \u001b[0mobject_graph_key_mapping\u001b[0m\u001b[0;34m(\u001b[0m\u001b[0msave_path\u001b[0m\u001b[0;34m)\u001b[0m\u001b[0;34m\u001b[0m\u001b[0;34m\u001b[0m\u001b[0m\n\u001b[0m\u001b[1;32m   1309\u001b[0m       \u001b[0;32mexcept\u001b[0m \u001b[0merrors\u001b[0m\u001b[0;34m.\u001b[0m\u001b[0mNotFoundError\u001b[0m\u001b[0;34m:\u001b[0m\u001b[0;34m\u001b[0m\u001b[0;34m\u001b[0m\u001b[0m\n",
      "\u001b[0;32m~/anaconda3/envs/BCS/lib/python3.9/site-packages/tensorflow/python/training/saver.py\u001b[0m in \u001b[0;36mobject_graph_key_mapping\u001b[0;34m(checkpoint_path)\u001b[0m\n\u001b[1;32m   1625\u001b[0m   \u001b[0mreader\u001b[0m \u001b[0;34m=\u001b[0m \u001b[0mpy_checkpoint_reader\u001b[0m\u001b[0;34m.\u001b[0m\u001b[0mNewCheckpointReader\u001b[0m\u001b[0;34m(\u001b[0m\u001b[0mcheckpoint_path\u001b[0m\u001b[0;34m)\u001b[0m\u001b[0;34m\u001b[0m\u001b[0;34m\u001b[0m\u001b[0m\n\u001b[0;32m-> 1626\u001b[0;31m   \u001b[0mobject_graph_string\u001b[0m \u001b[0;34m=\u001b[0m \u001b[0mreader\u001b[0m\u001b[0;34m.\u001b[0m\u001b[0mget_tensor\u001b[0m\u001b[0;34m(\u001b[0m\u001b[0mtrackable\u001b[0m\u001b[0;34m.\u001b[0m\u001b[0mOBJECT_GRAPH_PROTO_KEY\u001b[0m\u001b[0;34m)\u001b[0m\u001b[0;34m\u001b[0m\u001b[0;34m\u001b[0m\u001b[0m\n\u001b[0m\u001b[1;32m   1627\u001b[0m   \u001b[0mobject_graph_proto\u001b[0m \u001b[0;34m=\u001b[0m \u001b[0;34m(\u001b[0m\u001b[0mtrackable_object_graph_pb2\u001b[0m\u001b[0;34m.\u001b[0m\u001b[0mTrackableObjectGraph\u001b[0m\u001b[0;34m(\u001b[0m\u001b[0;34m)\u001b[0m\u001b[0;34m)\u001b[0m\u001b[0;34m\u001b[0m\u001b[0;34m\u001b[0m\u001b[0m\n",
      "\u001b[0;32m~/anaconda3/envs/BCS/lib/python3.9/site-packages/tensorflow/python/training/py_checkpoint_reader.py\u001b[0m in \u001b[0;36mget_tensor\u001b[0;34m(self, tensor_str)\u001b[0m\n\u001b[1;32m     73\u001b[0m   \u001b[0;32mexcept\u001b[0m \u001b[0mRuntimeError\u001b[0m \u001b[0;32mas\u001b[0m \u001b[0me\u001b[0m\u001b[0;34m:\u001b[0m\u001b[0;34m\u001b[0m\u001b[0;34m\u001b[0m\u001b[0m\n\u001b[0;32m---> 74\u001b[0;31m     \u001b[0merror_translator\u001b[0m\u001b[0;34m(\u001b[0m\u001b[0me\u001b[0m\u001b[0;34m)\u001b[0m\u001b[0;34m\u001b[0m\u001b[0;34m\u001b[0m\u001b[0m\n\u001b[0m\u001b[1;32m     75\u001b[0m \u001b[0;34m\u001b[0m\u001b[0m\n",
      "\u001b[0;32m~/anaconda3/envs/BCS/lib/python3.9/site-packages/tensorflow/python/training/py_checkpoint_reader.py\u001b[0m in \u001b[0;36merror_translator\u001b[0;34m(e)\u001b[0m\n\u001b[1;32m     34\u001b[0m       'matching files for') in error_message:\n\u001b[0;32m---> 35\u001b[0;31m     \u001b[0;32mraise\u001b[0m \u001b[0merrors_impl\u001b[0m\u001b[0;34m.\u001b[0m\u001b[0mNotFoundError\u001b[0m\u001b[0;34m(\u001b[0m\u001b[0;32mNone\u001b[0m\u001b[0;34m,\u001b[0m \u001b[0;32mNone\u001b[0m\u001b[0;34m,\u001b[0m \u001b[0merror_message\u001b[0m\u001b[0;34m)\u001b[0m\u001b[0;34m\u001b[0m\u001b[0;34m\u001b[0m\u001b[0m\n\u001b[0m\u001b[1;32m     36\u001b[0m   elif 'Sliced checkpoints are not supported' in error_message or (\n",
      "\u001b[0;31mNotFoundError\u001b[0m: Key _CHECKPOINTABLE_OBJECT_GRAPH not found in checkpoint",
      "\nDuring handling of the above exception, another exception occurred:\n",
      "\u001b[0;31mNotFoundError\u001b[0m                             Traceback (most recent call last)",
      "\u001b[0;32m<ipython-input-38-84e0ea589ef4>\u001b[0m in \u001b[0;36m<module>\u001b[0;34m\u001b[0m\n\u001b[1;32m      1\u001b[0m \u001b[0mpath_models\u001b[0m\u001b[0;34m=\u001b[0m\u001b[0;34m'/home/taniel/Desktop/Projetos_Deep/BCS/Simulador_BCS_LEA/model_norm/'\u001b[0m\u001b[0;34m\u001b[0m\u001b[0;34m\u001b[0m\u001b[0m\n\u001b[0;32m----> 2\u001b[0;31m \u001b[0mmodel\u001b[0m\u001b[0;34m.\u001b[0m\u001b[0mrestore\u001b[0m\u001b[0;34m(\u001b[0m\u001b[0mpath_models\u001b[0m\u001b[0;34m+\u001b[0m\u001b[0;34m'modelo.ckpt-43000'\u001b[0m\u001b[0;34m,\u001b[0m\u001b[0mverbose\u001b[0m\u001b[0;34m=\u001b[0m\u001b[0;36m1\u001b[0m\u001b[0;34m)\u001b[0m\u001b[0;34m\u001b[0m\u001b[0;34m\u001b[0m\u001b[0m\n\u001b[0m",
      "\u001b[0;32m~/anaconda3/envs/BCS/lib/python3.9/site-packages/deepxde/model.py\u001b[0m in \u001b[0;36mrestore\u001b[0;34m(self, save_path, verbose)\u001b[0m\n\u001b[1;32m    377\u001b[0m         \u001b[0;32mif\u001b[0m \u001b[0mverbose\u001b[0m \u001b[0;34m>\u001b[0m \u001b[0;36m0\u001b[0m\u001b[0;34m:\u001b[0m\u001b[0;34m\u001b[0m\u001b[0;34m\u001b[0m\u001b[0m\n\u001b[1;32m    378\u001b[0m             \u001b[0mprint\u001b[0m\u001b[0;34m(\u001b[0m\u001b[0;34m\"Restoring model from {} ...\\n\"\u001b[0m\u001b[0;34m.\u001b[0m\u001b[0mformat\u001b[0m\u001b[0;34m(\u001b[0m\u001b[0msave_path\u001b[0m\u001b[0;34m)\u001b[0m\u001b[0;34m)\u001b[0m\u001b[0;34m\u001b[0m\u001b[0;34m\u001b[0m\u001b[0m\n\u001b[0;32m--> 379\u001b[0;31m         \u001b[0mself\u001b[0m\u001b[0;34m.\u001b[0m\u001b[0msaver\u001b[0m\u001b[0;34m.\u001b[0m\u001b[0mrestore\u001b[0m\u001b[0;34m(\u001b[0m\u001b[0mself\u001b[0m\u001b[0;34m.\u001b[0m\u001b[0msess\u001b[0m\u001b[0;34m,\u001b[0m \u001b[0msave_path\u001b[0m\u001b[0;34m)\u001b[0m\u001b[0;34m\u001b[0m\u001b[0;34m\u001b[0m\u001b[0m\n\u001b[0m\u001b[1;32m    380\u001b[0m \u001b[0;34m\u001b[0m\u001b[0m\n\u001b[1;32m    381\u001b[0m \u001b[0;34m\u001b[0m\u001b[0m\n",
      "\u001b[0;32m~/anaconda3/envs/BCS/lib/python3.9/site-packages/tensorflow/python/training/saver.py\u001b[0m in \u001b[0;36mrestore\u001b[0;34m(self, sess, save_path)\u001b[0m\n\u001b[1;32m   1311\u001b[0m         \u001b[0;31m# is a graph mismatch. Re-raise the original error with\u001b[0m\u001b[0;34m\u001b[0m\u001b[0;34m\u001b[0m\u001b[0;34m\u001b[0m\u001b[0m\n\u001b[1;32m   1312\u001b[0m         \u001b[0;31m# a helpful message (b/110263146)\u001b[0m\u001b[0;34m\u001b[0m\u001b[0;34m\u001b[0m\u001b[0;34m\u001b[0m\u001b[0m\n\u001b[0;32m-> 1313\u001b[0;31m         raise _wrap_restore_error_with_msg(\n\u001b[0m\u001b[1;32m   1314\u001b[0m             err, \"a Variable name or other graph key that is missing\")\n\u001b[1;32m   1315\u001b[0m \u001b[0;34m\u001b[0m\u001b[0m\n",
      "\u001b[0;31mNotFoundError\u001b[0m: Restoring from checkpoint failed. This is most likely due to a Variable name or other graph key that is missing from the checkpoint. Please ensure that you have not altered the graph expected based on the checkpoint. Original error:\n\nKey Variable_2/Adam not found in checkpoint\n\t [[node save_1/RestoreV2 (defined at /home/taniel/anaconda3/envs/BCS/lib/python3.9/site-packages/deepxde/model.py:206) ]]\n\nOriginal stack trace for 'save_1/RestoreV2':\n  File \"/home/taniel/anaconda3/envs/BCS/lib/python3.9/runpy.py\", line 197, in _run_module_as_main\n    return _run_code(code, main_globals, None,\n  File \"/home/taniel/anaconda3/envs/BCS/lib/python3.9/runpy.py\", line 87, in _run_code\n    exec(code, run_globals)\n  File \"/home/taniel/anaconda3/envs/BCS/lib/python3.9/site-packages/ipykernel_launcher.py\", line 16, in <module>\n    app.launch_new_instance()\n  File \"/home/taniel/anaconda3/envs/BCS/lib/python3.9/site-packages/traitlets/config/application.py\", line 845, in launch_instance\n    app.start()\n  File \"/home/taniel/anaconda3/envs/BCS/lib/python3.9/site-packages/ipykernel/kernelapp.py\", line 612, in start\n    self.io_loop.start()\n  File \"/home/taniel/anaconda3/envs/BCS/lib/python3.9/site-packages/tornado/platform/asyncio.py\", line 199, in start\n    self.asyncio_loop.run_forever()\n  File \"/home/taniel/anaconda3/envs/BCS/lib/python3.9/asyncio/base_events.py\", line 596, in run_forever\n    self._run_once()\n  File \"/home/taniel/anaconda3/envs/BCS/lib/python3.9/asyncio/base_events.py\", line 1890, in _run_once\n    handle._run()\n  File \"/home/taniel/anaconda3/envs/BCS/lib/python3.9/asyncio/events.py\", line 80, in _run\n    self._context.run(self._callback, *self._args)\n  File \"/home/taniel/anaconda3/envs/BCS/lib/python3.9/site-packages/tornado/ioloop.py\", line 688, in <lambda>\n    lambda f: self._run_callback(functools.partial(callback, future))\n  File \"/home/taniel/anaconda3/envs/BCS/lib/python3.9/site-packages/tornado/ioloop.py\", line 741, in _run_callback\n    ret = callback()\n  File \"/home/taniel/anaconda3/envs/BCS/lib/python3.9/site-packages/tornado/gen.py\", line 814, in inner\n    self.ctx_run(self.run)\n  File \"/home/taniel/anaconda3/envs/BCS/lib/python3.9/site-packages/tornado/gen.py\", line 775, in run\n    yielded = self.gen.send(value)\n  File \"/home/taniel/anaconda3/envs/BCS/lib/python3.9/site-packages/ipykernel/kernelbase.py\", line 365, in process_one\n    yield gen.maybe_future(dispatch(*args))\n  File \"/home/taniel/anaconda3/envs/BCS/lib/python3.9/site-packages/tornado/gen.py\", line 234, in wrapper\n    yielded = ctx_run(next, result)\n  File \"/home/taniel/anaconda3/envs/BCS/lib/python3.9/site-packages/ipykernel/kernelbase.py\", line 268, in dispatch_shell\n    yield gen.maybe_future(handler(stream, idents, msg))\n  File \"/home/taniel/anaconda3/envs/BCS/lib/python3.9/site-packages/tornado/gen.py\", line 234, in wrapper\n    yielded = ctx_run(next, result)\n  File \"/home/taniel/anaconda3/envs/BCS/lib/python3.9/site-packages/ipykernel/kernelbase.py\", line 543, in execute_request\n    self.do_execute(\n  File \"/home/taniel/anaconda3/envs/BCS/lib/python3.9/site-packages/tornado/gen.py\", line 234, in wrapper\n    yielded = ctx_run(next, result)\n  File \"/home/taniel/anaconda3/envs/BCS/lib/python3.9/site-packages/ipykernel/ipkernel.py\", line 306, in do_execute\n    res = shell.run_cell(code, store_history=store_history, silent=silent)\n  File \"/home/taniel/anaconda3/envs/BCS/lib/python3.9/site-packages/ipykernel/zmqshell.py\", line 536, in run_cell\n    return super(ZMQInteractiveShell, self).run_cell(*args, **kwargs)\n  File \"/home/taniel/anaconda3/envs/BCS/lib/python3.9/site-packages/IPython/core/interactiveshell.py\", line 2894, in run_cell\n    result = self._run_cell(\n  File \"/home/taniel/anaconda3/envs/BCS/lib/python3.9/site-packages/IPython/core/interactiveshell.py\", line 2940, in _run_cell\n    return runner(coro)\n  File \"/home/taniel/anaconda3/envs/BCS/lib/python3.9/site-packages/IPython/core/async_helpers.py\", line 68, in _pseudo_sync_runner\n    coro.send(None)\n  File \"/home/taniel/anaconda3/envs/BCS/lib/python3.9/site-packages/IPython/core/interactiveshell.py\", line 3165, in run_cell_async\n    has_raised = await self.run_ast_nodes(code_ast.body, cell_name,\n  File \"/home/taniel/anaconda3/envs/BCS/lib/python3.9/site-packages/IPython/core/interactiveshell.py\", line 3357, in run_ast_nodes\n    if (await self.run_code(code, result,  async_=asy)):\n  File \"/home/taniel/anaconda3/envs/BCS/lib/python3.9/site-packages/IPython/core/interactiveshell.py\", line 3437, in run_code\n    exec(code_obj, self.user_global_ns, self.user_ns)\n  File \"<ipython-input-35-5196a86f3834>\", line 1, in <module>\n    model.compile(\"adam\", lr=0.001)\n  File \"/home/taniel/anaconda3/envs/BCS/lib/python3.9/site-packages/deepxde/utils.py\", line 52, in wrapper\n    result = f(*args, **kwargs)\n  File \"/home/taniel/anaconda3/envs/BCS/lib/python3.9/site-packages/deepxde/model.py\", line 82, in compile\n    self._open_tfsession()\n  File \"/home/taniel/anaconda3/envs/BCS/lib/python3.9/site-packages/deepxde/model.py\", line 206, in _open_tfsession\n    self.saver = tf.train.Saver(max_to_keep=None)\n  File \"/home/taniel/anaconda3/envs/BCS/lib/python3.9/site-packages/tensorflow/python/training/saver.py\", line 835, in __init__\n    self.build()\n  File \"/home/taniel/anaconda3/envs/BCS/lib/python3.9/site-packages/tensorflow/python/training/saver.py\", line 847, in build\n    self._build(self._filename, build_save=True, build_restore=True)\n  File \"/home/taniel/anaconda3/envs/BCS/lib/python3.9/site-packages/tensorflow/python/training/saver.py\", line 875, in _build\n    self.saver_def = self._builder._build_internal(  # pylint: disable=protected-access\n  File \"/home/taniel/anaconda3/envs/BCS/lib/python3.9/site-packages/tensorflow/python/training/saver.py\", line 514, in _build_internal\n    restore_op = self._AddRestoreOps(filename_tensor, saveables,\n  File \"/home/taniel/anaconda3/envs/BCS/lib/python3.9/site-packages/tensorflow/python/training/saver.py\", line 334, in _AddRestoreOps\n    all_tensors = self.bulk_restore(filename_tensor, saveables, preferred_shard,\n  File \"/home/taniel/anaconda3/envs/BCS/lib/python3.9/site-packages/tensorflow/python/training/saver.py\", line 582, in bulk_restore\n    return io_ops.restore_v2(filename_tensor, names, slices, dtypes)\n  File \"/home/taniel/anaconda3/envs/BCS/lib/python3.9/site-packages/tensorflow/python/ops/gen_io_ops.py\", line 1508, in restore_v2\n    _, _, _op, _outputs = _op_def_library._apply_op_helper(\n  File \"/home/taniel/anaconda3/envs/BCS/lib/python3.9/site-packages/tensorflow/python/framework/op_def_library.py\", line 748, in _apply_op_helper\n    op = g._create_op_internal(op_type_name, inputs, dtypes=None,\n  File \"/home/taniel/anaconda3/envs/BCS/lib/python3.9/site-packages/tensorflow/python/framework/ops.py\", line 3528, in _create_op_internal\n    ret = Operation(\n  File \"/home/taniel/anaconda3/envs/BCS/lib/python3.9/site-packages/tensorflow/python/framework/ops.py\", line 1990, in __init__\n    self._traceback = tf_stack.extract_stack()\n"
     ]
    }
   ],
   "metadata": {}
  },
  {
   "cell_type": "code",
   "execution_count": null,
   "source": [
    "plot_rho_PI('LEA_rho_PI.dat',43000,str_model='LEA')\n",
    "modelo1='model_norm/modelo.ckpt-43000'\n",
    "previsao(modelo1,[x1,x2,x3],tempo)"
   ],
   "outputs": [
    {
     "output_type": "error",
     "ename": "NameError",
     "evalue": "name 'plot_rho_PI' is not defined",
     "traceback": [
      "\u001b[0;31m---------------------------------------------------------------------------\u001b[0m",
      "\u001b[0;31mNameError\u001b[0m                                 Traceback (most recent call last)",
      "\u001b[0;32m<ipython-input-26-a7e783c1b7e0>\u001b[0m in \u001b[0;36m<module>\u001b[0;34m\u001b[0m\n\u001b[0;32m----> 1\u001b[0;31m \u001b[0mplot_rho_PI\u001b[0m\u001b[0;34m(\u001b[0m\u001b[0;34m'LEA_rho_PI.dat'\u001b[0m\u001b[0;34m,\u001b[0m\u001b[0;36m43000\u001b[0m\u001b[0;34m,\u001b[0m\u001b[0mstr_model\u001b[0m\u001b[0;34m=\u001b[0m\u001b[0;34m'LEA'\u001b[0m\u001b[0;34m)\u001b[0m\u001b[0;34m\u001b[0m\u001b[0;34m\u001b[0m\u001b[0m\n\u001b[0m\u001b[1;32m      2\u001b[0m \u001b[0mmodelo1\u001b[0m\u001b[0;34m=\u001b[0m\u001b[0;34m'model_norm/modelo.ckpt-43000'\u001b[0m\u001b[0;34m\u001b[0m\u001b[0;34m\u001b[0m\u001b[0m\n\u001b[1;32m      3\u001b[0m \u001b[0mprevisao\u001b[0m\u001b[0;34m(\u001b[0m\u001b[0mmodelo1\u001b[0m\u001b[0;34m,\u001b[0m\u001b[0;34m[\u001b[0m\u001b[0mx1\u001b[0m\u001b[0;34m,\u001b[0m\u001b[0mx2\u001b[0m\u001b[0;34m,\u001b[0m\u001b[0mx3\u001b[0m\u001b[0;34m]\u001b[0m\u001b[0;34m,\u001b[0m\u001b[0mtempo\u001b[0m\u001b[0;34m)\u001b[0m\u001b[0;34m\u001b[0m\u001b[0;34m\u001b[0m\u001b[0m\n",
      "\u001b[0;31mNameError\u001b[0m: name 'plot_rho_PI' is not defined"
     ]
    }
   ],
   "metadata": {}
  }
 ],
 "metadata": {
  "interpreter": {
   "hash": "698028ab42453737c47168816c82f0f42fda53eb4af1ce48d8f09e53da2613ea"
  },
  "kernelspec": {
   "name": "python3",
   "display_name": "Python 3.9.2 64-bit ('BCS': conda)"
  },
  "language_info": {
   "codemirror_mode": {
    "name": "ipython",
    "version": 3
   },
   "file_extension": ".py",
   "mimetype": "text/x-python",
   "name": "python",
   "nbconvert_exporter": "python",
   "pygments_lexer": "ipython3",
   "version": "3.9.2"
  }
 },
 "nbformat": 4,
 "nbformat_minor": 1
}