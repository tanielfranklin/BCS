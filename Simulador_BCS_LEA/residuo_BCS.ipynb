def ED_BCS(self,x,xk,u):
        ## Montado o sistema de equa��es
        # Tensores (Estados atuais preditos)
        pbh = x[:,0:1]
        pwh = x[:,1:2]
        q = x[:,2:] #Vazão
        #Valores passados de x
        pbhk = xk[:,0:1]
        pwhk = xk[:,1:2]
        qk = xk[:,2:] #Vazão

        #Entradas exógenas atuais
        fq=u[:,0:1]
        zc=u[:,1:2]
        pman=u[:,2:3];#pman=0.12e5
        pres=u[:,3:4]

        #=============================================
        # Computing HEAD and pump pressure gain of LEA
        q0 = (qc*q+qmin) / Cq * (f0 / fq)
        H0 =  Head[0]*q0**4 +  Head[1]*q0**3 +  Head[2]*q0**2 + Head[3]*q0 + Head[4];
        H = CH * H0 * (fq / f0) ** 2  # Head
        #Pp = rho * g * H  # Dp
        #==============================================
        # Electrical power and electrical current computing
        #P0 = -2.3599e9 * q0 ** 3 - 1.8082e7 * q0 ** 2 + 4.3346e6 * q0 + 9.4355e4
        #P = Cp * P0 * (fq / f0) ** 3;  
        #I = Inp * P / Pnp  
        #==============================================
        # Computing two volumes frictions in LEA piping
        qan=q*qc+qmin # non normalized flow
        Re =(4*rho*qan)/(0.219*pi*mu); # Assuming volumes density are identicals
        fric=64/Re 
        
        F1 = (fric*qan**2*rho)/(2*pi*r1**3) #Frictional pressure drop above ESP (Assuming laminar flow)
        F2 = (fric*qan**2*rho)/(2*pi*r2**3) #Frictional pressure drop above ESP (Assuming laminar flow)
        #===========================================
        #===========================================
        # Computing intake pressure
        #pin = pbh*pbc+pbmin - rho * g * h1 - F1;
        # Computing Reservoir flow
        qr = PI * (pres - (pbh*pbc+pbmin));
        # Computing flow across Choke valvule
        qch = Cc * (zc) * tf.sqrt(tf.abs(pwh*pwc+pwmin - pman)); # Algumas operações precisam usar o prefixo do tensorflow 
        #============================================

        #Normalizing nonlinear terms
        ##########################
        qch=(qch-qch_lim[0])/qcc
        F1=(F1-F1lim[0])/F1c
        F2=(F2-F2lim[0])/F2c
        H=(H-H_lim[0])/Hc
        ###########################
        #xss=np.float32(np.array([2.0197e5,4.9338e5,4.2961e-4]));
    
        # SEDO

        return tf.stack((
            (pbh-pbhk)/ts - (1/pbc)*b1/V1*(qr - (q*qc+qmin)),
            (pwh-pwhk)/ts - (1/pwc)*b2/V2*((q*qc+qmin) - (qcc*qch+qch_lim[0])),
            (q-qk)/ts - (1/(qc*M))*(pbh*pbc+pbmin - (pwh*pwc+pwmin) - rho*g*hw - (F1c*F1+F1lim[0]) - (F2c*F2+F2lim[0]) + rho * g * (H*Hc+H_lim[0]))
        ))
        