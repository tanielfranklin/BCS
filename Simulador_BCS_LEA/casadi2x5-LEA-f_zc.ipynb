{
 "cells": [
  {
   "cell_type": "markdown",
   "source": [
    "Normalização do modelo BCS não linear"
   ],
   "metadata": {
    "collapsed": true,
    "pycharm": {
     "name": "#%% md\n"
    }
   }
  },
  {
   "cell_type": "code",
   "execution_count": 12,
   "source": [
    "import matplotlib.pyplot as plt\n",
    "import numpy as np\n",
    "from pathlib import Path\n",
    "path_subrotinas=\"/home/taniel/Desktop/Projetos_Deep/BCS/subrotinas.py\""
   ],
   "outputs": [],
   "metadata": {
    "pycharm": {
     "name": "#%%\n"
    }
   }
  },
  {
   "cell_type": "code",
   "execution_count": 13,
   "source": [
    "\n",
    "exec(compile(open('param_LEA.py', \"rb\").read(), 'param_LEA.py', 'exec')) #% Roda arquivo com parâmetros do modelo BCS\n",
    "exec(compile(open(path_subrotinas, \"rb\").read(), path_subrotinas, 'exec'))\n",
    "%matplotlib tk"
   ],
   "outputs": [
    {
     "output_type": "stream",
     "name": "stdout",
     "text": [
      "0.24108276567583545 7.559321788388188 [-11.492505101438962, 204.43014465827954]\n",
      "Dados carregados\n"
     ]
    }
   ],
   "metadata": {}
  },
  {
   "cell_type": "code",
   "execution_count": 14,
   "source": [
    "print(V1,V2)"
   ],
   "outputs": [
    {
     "output_type": "stream",
     "name": "stdout",
     "text": [
      "0.35352342130845943 0.10028552798881166\n"
     ]
    }
   ],
   "metadata": {}
  },
  {
   "cell_type": "markdown",
   "source": [
    "### Variáveis de entrada\n",
    "f $\\in$ (35,65) Hz <br>\n",
    "zc $\\in$ (0,100)% <br>\n",
    "pm $\\in$ ($2\\cdot 10^6$) <br>\n",
    "\n",
    "### Variáveis de estado\n",
    "pbh $\\in$ ($10^5, 8.5 \\cdot 10^6$) <br>\n",
    "pwh $\\in$ ($2 \\cdot 10^6, 5.2\\cdot10^6$) <br>\n",
    "q $\\in (10^{-2},3\\cdot 10^{⁻2})$ <br>\n",
    "\n"
   ],
   "metadata": {
    "pycharm": {
     "name": "#%% md\n"
    }
   }
  },
  {
   "cell_type": "markdown",
   "source": [
    "Definindo os fatores de ajuste de escala a partir dos limites operacionais"
   ],
   "metadata": {
    "pycharm": {
     "name": "#%% md\n"
    }
   }
  },
  {
   "cell_type": "code",
   "execution_count": 15,
   "source": [
    "# Valores máximos e mínimos para normalização\n",
    "#Entradas - conforme binder e pavlov\n",
    "def Lim_c(x):\n",
    "    return x[1]-x[0]\n",
    "\n",
    "#========================================\n",
    "pbc=Lim_c(pbhlim)\n",
    "pwc=Lim_c(pwhlim)\n",
    "qc=Lim_c(qlim)\n",
    "pbmin=pbhlim[0]\n",
    "pwmin=pwhlim[0]\n",
    "qmin=qlim[0]\n",
    "\n",
    "\n",
    "\n",
    "\n"
   ],
   "outputs": [],
   "metadata": {
    "collapsed": false,
    "pycharm": {
     "name": "#%%\n"
    }
   }
  },
  {
   "cell_type": "code",
   "execution_count": 16,
   "source": [
    "#pm=20e5; #Simplificando pm fixo\n",
    "#pbh  - pressão na bomba\n",
    "#pwh - Pressão de fundo do poço,\n",
    "#q - vazão\n",
    "#PI índice de produtividade do poço\n",
    "#PinC  pressão na choke\n",
    "# Pressão de manifold"
   ],
   "outputs": [],
   "metadata": {
    "pycharm": {
     "name": "#%%\n"
    }
   }
  },
  {
   "cell_type": "markdown",
   "source": [
    "Definindo as variáveis simbólicas"
   ],
   "metadata": {
    "pycharm": {
     "name": "#%% md\n"
    }
   }
  },
  {
   "cell_type": "code",
   "execution_count": 17,
   "source": [
    "# Criando simbolica\n",
    "from casadi import *\n",
    "nx = 3; nu = 2;\n",
    "x = MX.sym(\"x\",nx); # Estados\n",
    "u = MX.sym(\"u\",nu); # Exogena\n",
    "dudt_max = MX.sym(\"dudt_max\",2); # Exogena\n",
    "pbh = x[0]\n",
    "pwh = x[1]\n",
    "q = x[2]\n",
    "#fq = x[3]; zc = x[4];"
   ],
   "outputs": [],
   "metadata": {
    "pycharm": {
     "name": "#%%\n"
    }
   }
  },
  {
   "cell_type": "code",
   "execution_count": 18,
   "source": [
    "# Entradas\n",
    "\n",
    "fqref = u[0]; zcref = u[1];\n",
    "#pm = 0.139365196228027*1e05;  # manifold pressure\n",
    "zc=zcref \n",
    "fq=fqref"
   ],
   "outputs": [],
   "metadata": {
    "pycharm": {
     "name": "#%%\n"
    }
   }
  },
  {
   "cell_type": "code",
   "execution_count": 19,
   "source": [
    "# =========================================================================\n",
    "# Curva da bomba\n",
    "# ========================================================================= \n",
    "Pot  = np.array([3.14,3.41,3.57,3.60]).T*745.7 # Hp to Watts\n",
    "Head = np.array([78255575038455.9,-243021891442.447,154711075.976357,-63654.8760768729,187.303058039876]).T #corrigido fminsearch (11_04_2021)\n",
    "Eff =  np.array([-38000037638726.0,76885738063.1052,-104037865.052405,92277.4570774092,-0.000102311045885796])\n",
    "    \n"
   ],
   "outputs": [],
   "metadata": {}
  },
  {
   "cell_type": "code",
   "execution_count": 20,
   "source": [
    "H_aguabep = 4.330800000000000e+02; #ft\n",
    "Q_aguabep = 4.401900000000000e+02; #bpd\n",
    "\n",
    "y = -112.1374+6.6504*log(H_aguabep)+12.8429*log(Q_aguabep);\n",
    "Q = exp((39.5276+26.5605*log(mu*1000)-y)/51.6565); #Pa.s to Cp;\n",
    "Cq = (1.0-4.0327e-3*Q-1.7240e-4*Q**2);\n",
    "CH = 1.0-4.4723e-3*Q -4.1800e-5*Q**2; # 80%\n",
    "q_0a = (q*qc+qmin)/Cq*(f0/fq);\n",
    "\n"
   ],
   "outputs": [],
   "metadata": {}
  },
  {
   "cell_type": "code",
   "execution_count": 21,
   "source": [
    "\n",
    "# Calculo da Potencia e corrente da bomba\n",
    "#P0 = -2.3599e9 * q0 ** 3 - 1.8082e7 * q0 ** 2 + 4.3346e6 * q0 + 9.4355e4\n",
    "#P = Cp * P0 * (fq / f0) ** 3;  # Potencia\n",
    "#I = Inp * P / Pnp  # Corrente\n",
    "#L1=l1;L2=l2; D1=2*r1;D2=2*r2;A1=2*pi*r1**2;A2=2*pi*r2**2\n",
    "# Calculo da press�o de intake\n",
    "F1 = 0.158 * ((rho_1 * L1 * ((q*qc+qmin)) ** 2) / (D1 * A1 ** 2)) * (mu / (rho_1  * D1 * ((q*qc+qmin)))) ** (1 / 4)\n",
    "F2 = 0.158 * ((rho_2 * L2 * ((q*qc+qmin)) ** 2) / (D2 * A2 ** 2)) * (mu / (rho_2 * D2 * ((q*qc+qmin)))) ** (1 / 4)\n",
    "\n",
    "# Vazao do reservatorio e vazao na choke\n",
    "qr = PI * (pr - (pbh*pbc+pbmin))\n",
    "qch = (zc/100)*Cc * sqrt(fabs(pwh*pwc+pwmin - pm));\n",
    "\n",
    "# Termos não lineares\n",
    "#menor q implica em menor F\n",
    "\n",
    "funcF1=Function('funcF1',[x],[F1])\n",
    "funcF2=Function('funcF2',[x],[F2])\n",
    "F1lim=(funcF1([0,0,qlim[0]]),funcF1([0,0,qlim[1]]))\n",
    "F2lim=(funcF2([0,0,qlim[0]]),funcF2([0,0,qlim[1]]))\n",
    "F1c=Lim_c(F1lim)\n",
    "F2c=Lim_c(F2lim)\n",
    "Hc=Lim_c(H_lim)\n",
    "qcc=Lim_c(qch_lim)\n",
    "print('Limites: pbh,pwh,q')\n",
    "print(pbhlim,pwhlim,qlim)\n",
    "print('Limites: F1,F2,H,qch')\n",
    "print(F1lim,F2lim,H_lim,qch_lim)\n"
   ],
   "outputs": [
    {
     "output_type": "stream",
     "name": "stdout",
     "text": [
      "Limites: pbh,pwh,q\n",
      "(100000.0, 250000.0) (200000.0, 1100000.0) (2.777777777777778e-05, 0.001388888888888889)\n",
      "Limites: F1,F2,H,qch\n",
      "(DM(0.0037029), DM(0.00414522)) (DM(2.56881), DM(2.87566)) [-11.492505101438962, 204.43014465827954] [6.69674349099543e-05, 0.0020998116078856078]\n"
     ]
    }
   ],
   "metadata": {
    "pycharm": {
     "name": "#%%\n"
    }
   }
  },
  {
   "cell_type": "code",
   "execution_count": 22,
   "source": [
    "# F1c=941799.5331\n",
    "# F2c=2260318.8795\n",
    "#qcc=0.033987702\n",
    "#Hc=1511.97\n",
    "#Normalizar termos não lineares\n",
    "##########################\n",
    "qch=(qch-qch_lim[0])/qcc\n",
    "F1=(F1-F1lim[0])/F1c\n",
    "F2=(F2-F2lim[0])/F2c\n",
    "H=(H-H_lim[0])/Hc\n",
    "###########################\n",
    "\n",
    "H = CH * H0 * (fq / f0) ** 2  # Head\n",
    "dp = H*rho_1*g; # Delta de press�o Pp\n",
    "\n",
    "#pr*b1*PI/V1\n",
    "qch=qch*qcc\n",
    "# F1=F1c*F1\n",
    "# F2=F2c*F2\n",
    "# H=Hc*H\n",
    "dpbhdt = (1/pbc)*(qr - (q*qc+qmin))\n",
    "dpwhdt = (1/pwc)*b2/V2*((q*qc+qmin) - (qcc*qch+qch_lim[0]))\n",
    "dqdt = (1/(qc*M))*(pbh*pbc+pbmin - (pwh*pwc+pwmin) - rho*g*hw - (F1c*F1+F1lim[0]) - (F2c*F2+F2lim[0]) + rho * g * (H*Hc+H_lim[0]))\n",
    "#dqdt = (A_bar/(rho_bar*l_bar))*(pbh - pwh - F1 - F2 - (rho_1*g*(h_r-h_p))-(rho_2*g*(h_p-h_c))+ (dp));\n",
    "\n",
    "# dfqdt = (fqref - fq)/tp[0];\n",
    "# dzcdt = (zcref - zc)/tp[1];\n",
    "\n",
    "#dxdt = vertcat(dpbhdt,dpwhdt,dqdt,dfqdt,dzcdt);\n",
    "dxdt = casadi.vertcat(dpbhdt,dpwhdt,dqdt)#,dfqdt,dzcdt);\n",
    "\n",
    "# # Restricao do Elemento Final\n",
    "# dudt = vertcat(if_else(fabs(dfqdt)>dudt_max[0],sign(dfqdt)*dudt_max[0],dfqdt),\n",
    "#        if_else(fabs(dzcdt)>dudt_max[1],sign(dzcdt)*dudt_max[1],dzcdt));"
   ],
   "outputs": [
    {
     "output_type": "error",
     "ename": "NameError",
     "evalue": "name 'H' is not defined",
     "traceback": [
      "\u001b[0;31m---------------------------------------------------------------------------\u001b[0m",
      "\u001b[0;31mNameError\u001b[0m                                 Traceback (most recent call last)",
      "\u001b[0;32m<ipython-input-22-d86b70586a78>\u001b[0m in \u001b[0;36m<module>\u001b[0;34m\u001b[0m\n\u001b[1;32m      8\u001b[0m \u001b[0mF1\u001b[0m\u001b[0;34m=\u001b[0m\u001b[0;34m(\u001b[0m\u001b[0mF1\u001b[0m\u001b[0;34m-\u001b[0m\u001b[0mF1lim\u001b[0m\u001b[0;34m[\u001b[0m\u001b[0;36m0\u001b[0m\u001b[0;34m]\u001b[0m\u001b[0;34m)\u001b[0m\u001b[0;34m/\u001b[0m\u001b[0mF1c\u001b[0m\u001b[0;34m\u001b[0m\u001b[0;34m\u001b[0m\u001b[0m\n\u001b[1;32m      9\u001b[0m \u001b[0mF2\u001b[0m\u001b[0;34m=\u001b[0m\u001b[0;34m(\u001b[0m\u001b[0mF2\u001b[0m\u001b[0;34m-\u001b[0m\u001b[0mF2lim\u001b[0m\u001b[0;34m[\u001b[0m\u001b[0;36m0\u001b[0m\u001b[0;34m]\u001b[0m\u001b[0;34m)\u001b[0m\u001b[0;34m/\u001b[0m\u001b[0mF2c\u001b[0m\u001b[0;34m\u001b[0m\u001b[0;34m\u001b[0m\u001b[0m\n\u001b[0;32m---> 10\u001b[0;31m \u001b[0mH\u001b[0m\u001b[0;34m=\u001b[0m\u001b[0;34m(\u001b[0m\u001b[0mH\u001b[0m\u001b[0;34m-\u001b[0m\u001b[0mH_lim\u001b[0m\u001b[0;34m[\u001b[0m\u001b[0;36m0\u001b[0m\u001b[0;34m]\u001b[0m\u001b[0;34m)\u001b[0m\u001b[0;34m/\u001b[0m\u001b[0mHc\u001b[0m\u001b[0;34m\u001b[0m\u001b[0;34m\u001b[0m\u001b[0m\n\u001b[0m\u001b[1;32m     11\u001b[0m \u001b[0;31m###########################\u001b[0m\u001b[0;34m\u001b[0m\u001b[0;34m\u001b[0m\u001b[0;34m\u001b[0m\u001b[0m\n\u001b[1;32m     12\u001b[0m \u001b[0;34m\u001b[0m\u001b[0m\n",
      "\u001b[0;31mNameError\u001b[0m: name 'H' is not defined"
     ]
    }
   ],
   "metadata": {}
  },
  {
   "cell_type": "code",
   "execution_count": null,
   "source": [
    "xss = np.float32(np.array([8311024.82175957,2990109.06207437,0.00995042241351780]))#,50,50]))\n",
    "x0=np.array([pbmin,pwmin,qmin])#,0,0])\n",
    "xc=np.array([pbc,pwc,qc])#,1,1])\n",
    "xssn = (xss-x0)/xc\n",
    "xssn\n"
   ],
   "outputs": [
    {
     "output_type": "execute_result",
     "data": {
      "text/plain": [
       "array([68.42520833,  0.58981816, 10.09186333])"
      ]
     },
     "metadata": {},
     "execution_count": 213
    }
   ],
   "metadata": {}
  },
  {
   "cell_type": "code",
   "execution_count": null,
   "source": [
    "uss = np.array([50,50])\n"
   ],
   "outputs": [],
   "metadata": {}
  },
  {
   "cell_type": "code",
   "execution_count": null,
   "source": [
    "# Função casadi\n",
    "#dxdt = casadi.vertcat(dpbhdt,dpwhdt,dqdt) \n",
    "Eq_Estado = casadi.Function('Eq_Estado',[x,u],[dxdt],\n",
    "                     ['x','u'],['dxdt'])\n",
    "\n",
    "y=vertcat(H);\n",
    "ny = y.size1()\n",
    "# Equações algébricas\n",
    "sea_nl = casadi.Function('sea_nl',[x,u],[y,H],\\\n",
    "                 ['x','u'],['y','H']); # Sistema de Eq. Algebricas variaveis de sa�da\n",
    "\n",
    "BCS={\n",
    "     'x': x,\n",
    "     'u': u,\n",
    "     'y': y,\n",
    "     'nx': nx,\n",
    "     'nu': nu,\n",
    "     'ny': ny,\n",
    "     'NaoLinear': {'sedo_nl': Eq_Estado(x,u),\n",
    "                   'sea_nl': sea_nl\n",
    "                   }\n",
    "}\n",
    "#%% Calculo do estacionario\n",
    "#% Func��o objetivo\n",
    "dxdt_0 = Eq_Estado(BCS['x'], BCS['u']);\n",
    "J = sum1(dxdt_0**2);\n",
    "#% Otimizador\n",
    "opt={\n",
    "     'ipopt':{\n",
    "         'print_level':0,\n",
    "         'acceptable_tol':1e-8,\n",
    "         'acceptable_obj_change_tol':1e-6,\n",
    "         'max_iter':50\n",
    "         },\n",
    "     'print_time':0,\n",
    "     }\n",
    "\n",
    "opt['ipopt']['print_level']=0;# %0,3\n",
    "opt['print_time']=0;\n",
    "opt['ipopt']['acceptable_tol']=1e-8;\n",
    "opt['ipopt']['acceptable_obj_change_tol']=1e-6;\n",
    "opt['ipopt']['max_iter']=50;\n",
    "print(u.shape)\n",
    "print(BCS['u'].shape)\n",
    "dxdt\n",
    "y\n"
   ],
   "outputs": [
    {
     "output_type": "stream",
     "name": "stdout",
     "text": [
      "(2, 1)\n",
      "(2, 1)\n"
     ]
    },
    {
     "output_type": "execute_result",
     "data": {
      "text/plain": [
       "MX(@1=x[3], @2=(((0.000138889+(0.000972222*x[2]))/0.964528)*(60/@1)), ((0.967594*(187.303+((((7.82556e+13*pow(@2,4))+(-2.43022e+11*pow(@2,3)))+(1.54711e+08*sq(@2)))+(-63654.9*@2))))*sq((@1/60))))"
      ]
     },
     "metadata": {},
     "execution_count": 222
    }
   ],
   "metadata": {}
  },
  {
   "cell_type": "code",
   "execution_count": null,
   "source": [
    "MMQ = {'x':BCS['x'], 'f':J, 'p':BCS['u']}\n",
    "MMQ"
   ],
   "outputs": [
    {
     "output_type": "execute_result",
     "data": {
      "text/plain": [
       "{'x': MX(x),\n",
       " 'f': MX(@1=x[0], @2=x[2], @3=x[1], @4=x[3], @5=(((0.000138889+(0.000972222*@2))/0.964528)*(60/@4)), mac(ones(1x3),sq(vertcat(((8.33333e-06*((2.7e-08*(220000-(100000+(120000*@1))))-(0.000138889+(0.000972222*@2))))/0.033595), (3052.51*((0.000138889+(0.000972222*@2))-(0.00222222*(((2e-05*(x[4]/100))*sqrt(fabs(((100000+(4900000*@3))-13936.5))))/0.00222222)))), (0.123053*((((((@1-@3)-((((0.158*((7783.08*sq((0.000138889+(0.000972222*@2))))/0.00127161))*pow((0.012/(184.116*(0.000138889+(0.000972222*@2)))),0.25))-0.0154662)/0.000184488))-((((0.158*((18997.4*sq((0.000138889+(0.000972222*@2))))/5.85526e-06))*pow((0.012/(62.7667*(0.000138889+(0.000972222*@2)))),0.25))-10.7294)/0.127985))-76352)-186364)+(9.81*(836.89*((0.967594*(187.303+((((7.82556e+13*pow(@5,4))+(-2.43022e+11*pow(@5,3)))+(1.54711e+08*sq(@5)))+(-63654.9*@5))))*sq((@4/60))))))))),0)),\n",
       " 'p': MX(u)}"
      ]
     },
     "metadata": {},
     "execution_count": 220
    }
   ],
   "metadata": {}
  },
  {
   "cell_type": "code",
   "execution_count": null,
   "source": [
    "#nlp={'x':vertcat(BCS['x'],BCS['u']), 'f':J} #variáveis de decisão, função f, g (N/A)\n",
    "#nlp={'x':BCS['x'], 'f':J}\n",
    "solver = nlpsol('solver', 'ipopt', MMQ, opt)"
   ],
   "outputs": [
    {
     "output_type": "error",
     "ename": "RuntimeError",
     "evalue": ".../casadi/core/nlpsol.cpp:120: Cannot create 'solver' since [x] are free.",
     "traceback": [
      "\u001b[0;31m---------------------------------------------------------------------------\u001b[0m",
      "\u001b[0;31mRuntimeError\u001b[0m                              Traceback (most recent call last)",
      "\u001b[0;32m<ipython-input-223-6eefdef52713>\u001b[0m in \u001b[0;36m<module>\u001b[0;34m\u001b[0m\n\u001b[1;32m      1\u001b[0m \u001b[0;31m#nlp={'x':vertcat(BCS['x'],BCS['u']), 'f':J} #variáveis de decisão, função f, g (N/A)\u001b[0m\u001b[0;34m\u001b[0m\u001b[0;34m\u001b[0m\u001b[0;34m\u001b[0m\u001b[0m\n\u001b[1;32m      2\u001b[0m \u001b[0;31m#nlp={'x':BCS['x'], 'f':J}\u001b[0m\u001b[0;34m\u001b[0m\u001b[0;34m\u001b[0m\u001b[0;34m\u001b[0m\u001b[0m\n\u001b[0;32m----> 3\u001b[0;31m \u001b[0msolver\u001b[0m \u001b[0;34m=\u001b[0m \u001b[0mnlpsol\u001b[0m\u001b[0;34m(\u001b[0m\u001b[0;34m'solver'\u001b[0m\u001b[0;34m,\u001b[0m \u001b[0;34m'ipopt'\u001b[0m\u001b[0;34m,\u001b[0m \u001b[0mMMQ\u001b[0m\u001b[0;34m,\u001b[0m \u001b[0mopt\u001b[0m\u001b[0;34m)\u001b[0m\u001b[0;34m\u001b[0m\u001b[0;34m\u001b[0m\u001b[0m\n\u001b[0m",
      "\u001b[0;32m~/anaconda3/envs/BCS/lib/python3.9/site-packages/casadi/casadi.py\u001b[0m in \u001b[0;36mnlpsol\u001b[0;34m(*args)\u001b[0m\n\u001b[1;32m   9964\u001b[0m     \u001b[0mnlpsol\u001b[0m\u001b[0;34m(\u001b[0m\u001b[0mstd\u001b[0m\u001b[0;34m:\u001b[0m\u001b[0;34m:\u001b[0m\u001b[0mstring\u001b[0m \u001b[0mconst\u001b[0m \u001b[0;34m&\u001b[0m \u001b[0mname\u001b[0m\u001b[0;34m,\u001b[0m \u001b[0mstd\u001b[0m\u001b[0;34m:\u001b[0m\u001b[0;34m:\u001b[0m\u001b[0mstring\u001b[0m \u001b[0mconst\u001b[0m \u001b[0;34m&\u001b[0m \u001b[0msolver\u001b[0m\u001b[0;34m,\u001b[0m \u001b[0mNlpBuilder\u001b[0m \u001b[0mnl\u001b[0m\u001b[0;34m,\u001b[0m \u001b[0mcasadi\u001b[0m\u001b[0;34m:\u001b[0m\u001b[0;34m:\u001b[0m\u001b[0mDict\u001b[0m \u001b[0mconst\u001b[0m \u001b[0;34m&\u001b[0m \u001b[0mopts\u001b[0m\u001b[0;34m=\u001b[0m\u001b[0mcasadi\u001b[0m\u001b[0;34m:\u001b[0m\u001b[0;34m:\u001b[0m\u001b[0mDict\u001b[0m\u001b[0;34m(\u001b[0m\u001b[0;34m)\u001b[0m\u001b[0;34m)\u001b[0m \u001b[0;34m->\u001b[0m \u001b[0mFunction\u001b[0m\u001b[0;34m\u001b[0m\u001b[0;34m\u001b[0m\u001b[0m\n\u001b[1;32m   9965\u001b[0m     \"\"\"\n\u001b[0;32m-> 9966\u001b[0;31m     \u001b[0;32mreturn\u001b[0m \u001b[0m_casadi\u001b[0m\u001b[0;34m.\u001b[0m\u001b[0mnlpsol\u001b[0m\u001b[0;34m(\u001b[0m\u001b[0;34m*\u001b[0m\u001b[0margs\u001b[0m\u001b[0;34m)\u001b[0m\u001b[0;34m\u001b[0m\u001b[0;34m\u001b[0m\u001b[0m\n\u001b[0m\u001b[1;32m   9967\u001b[0m \u001b[0;34m\u001b[0m\u001b[0m\n\u001b[1;32m   9968\u001b[0m \u001b[0;32mdef\u001b[0m \u001b[0mnlpsol_in\u001b[0m\u001b[0;34m(\u001b[0m\u001b[0;34m*\u001b[0m\u001b[0margs\u001b[0m\u001b[0;34m)\u001b[0m \u001b[0;34m->\u001b[0m \u001b[0;34m\"std::string\"\u001b[0m\u001b[0;34m:\u001b[0m\u001b[0;34m\u001b[0m\u001b[0;34m\u001b[0m\u001b[0m\n",
      "\u001b[0;31mRuntimeError\u001b[0m: .../casadi/core/nlpsol.cpp:120: Cannot create 'solver' since [x] are free."
     ]
    }
   ],
   "metadata": {}
  },
  {
   "cell_type": "code",
   "execution_count": null,
   "source": [
    "\n",
    "# Restrições das variaveis de decis�o\n",
    "# minimo\n",
    "args={\n",
    "      'lbx': np.zeros((nx,1)),\n",
    "# m�ximo\n",
    "      'ubx':np.full((nx, 1), np.inf)\n",
    "      }\n",
    "\n",
    "# Solu��o do otimizador\n",
    "sol=solver(x0=BCS['x'], lbx=args['lbx'], ubx=args['ubx'], p=BCS['u']);\n",
    "yss=sea_nl(sol['x'],BCS['u'])\n",
    "Estacionario = Function('Estacionario',[BCS['x'],BCS['u']],\\\n",
    "    [sol['x'],yss[0]],\\\n",
    "    ['x0','uss'],['xss','yss']);\n",
    "\n",
    "BCS['Estacionario'] = Estacionario;\n",
    "f_ss,zc_ss= (np.array([50, 50]))\n",
    "uss = np.array([f_ss,zc_ss]); # Entradas do estacionario\n",
    "# uss_n=normalizar_u(uss,unorm)\n",
    "# uss_n"
   ],
   "outputs": [
    {
     "output_type": "error",
     "ename": "RuntimeError",
     "evalue": ".../casadi/core/nlpsol.cpp:120: Cannot create 'solver' since [x] are free.",
     "traceback": [
      "\u001b[0;31m---------------------------------------------------------------------------\u001b[0m",
      "\u001b[0;31mRuntimeError\u001b[0m                              Traceback (most recent call last)",
      "\u001b[0;32m<ipython-input-216-a7c9c989feb5>\u001b[0m in \u001b[0;36m<module>\u001b[0;34m\u001b[0m\n\u001b[1;32m      2\u001b[0m \u001b[0;31m#nlp={'x':vertcat(BCS['x'],BCS['u']), 'f':J} #variáveis de decisão, função f, g (N/A)\u001b[0m\u001b[0;34m\u001b[0m\u001b[0;34m\u001b[0m\u001b[0;34m\u001b[0m\u001b[0m\n\u001b[1;32m      3\u001b[0m \u001b[0;31m#nlp={'x':BCS['x'], 'f':J}\u001b[0m\u001b[0;34m\u001b[0m\u001b[0;34m\u001b[0m\u001b[0;34m\u001b[0m\u001b[0m\n\u001b[0;32m----> 4\u001b[0;31m \u001b[0msolver\u001b[0m \u001b[0;34m=\u001b[0m \u001b[0mnlpsol\u001b[0m\u001b[0;34m(\u001b[0m\u001b[0;34m'solver'\u001b[0m\u001b[0;34m,\u001b[0m \u001b[0;34m'ipopt'\u001b[0m\u001b[0;34m,\u001b[0m \u001b[0mMMQ\u001b[0m\u001b[0;34m,\u001b[0m \u001b[0mopt\u001b[0m\u001b[0;34m)\u001b[0m\u001b[0;34m\u001b[0m\u001b[0;34m\u001b[0m\u001b[0m\n\u001b[0m\u001b[1;32m      5\u001b[0m \u001b[0;31m# Restrições das variaveis de decis�o\u001b[0m\u001b[0;34m\u001b[0m\u001b[0;34m\u001b[0m\u001b[0;34m\u001b[0m\u001b[0m\n\u001b[1;32m      6\u001b[0m \u001b[0;31m# minimo\u001b[0m\u001b[0;34m\u001b[0m\u001b[0;34m\u001b[0m\u001b[0;34m\u001b[0m\u001b[0m\n",
      "\u001b[0;32m~/anaconda3/envs/BCS/lib/python3.9/site-packages/casadi/casadi.py\u001b[0m in \u001b[0;36mnlpsol\u001b[0;34m(*args)\u001b[0m\n\u001b[1;32m   9964\u001b[0m     \u001b[0mnlpsol\u001b[0m\u001b[0;34m(\u001b[0m\u001b[0mstd\u001b[0m\u001b[0;34m:\u001b[0m\u001b[0;34m:\u001b[0m\u001b[0mstring\u001b[0m \u001b[0mconst\u001b[0m \u001b[0;34m&\u001b[0m \u001b[0mname\u001b[0m\u001b[0;34m,\u001b[0m \u001b[0mstd\u001b[0m\u001b[0;34m:\u001b[0m\u001b[0;34m:\u001b[0m\u001b[0mstring\u001b[0m \u001b[0mconst\u001b[0m \u001b[0;34m&\u001b[0m \u001b[0msolver\u001b[0m\u001b[0;34m,\u001b[0m \u001b[0mNlpBuilder\u001b[0m \u001b[0mnl\u001b[0m\u001b[0;34m,\u001b[0m \u001b[0mcasadi\u001b[0m\u001b[0;34m:\u001b[0m\u001b[0;34m:\u001b[0m\u001b[0mDict\u001b[0m \u001b[0mconst\u001b[0m \u001b[0;34m&\u001b[0m \u001b[0mopts\u001b[0m\u001b[0;34m=\u001b[0m\u001b[0mcasadi\u001b[0m\u001b[0;34m:\u001b[0m\u001b[0;34m:\u001b[0m\u001b[0mDict\u001b[0m\u001b[0;34m(\u001b[0m\u001b[0;34m)\u001b[0m\u001b[0;34m)\u001b[0m \u001b[0;34m->\u001b[0m \u001b[0mFunction\u001b[0m\u001b[0;34m\u001b[0m\u001b[0;34m\u001b[0m\u001b[0m\n\u001b[1;32m   9965\u001b[0m     \"\"\"\n\u001b[0;32m-> 9966\u001b[0;31m     \u001b[0;32mreturn\u001b[0m \u001b[0m_casadi\u001b[0m\u001b[0;34m.\u001b[0m\u001b[0mnlpsol\u001b[0m\u001b[0;34m(\u001b[0m\u001b[0;34m*\u001b[0m\u001b[0margs\u001b[0m\u001b[0;34m)\u001b[0m\u001b[0;34m\u001b[0m\u001b[0;34m\u001b[0m\u001b[0m\n\u001b[0m\u001b[1;32m   9967\u001b[0m \u001b[0;34m\u001b[0m\u001b[0m\n\u001b[1;32m   9968\u001b[0m \u001b[0;32mdef\u001b[0m \u001b[0mnlpsol_in\u001b[0m\u001b[0;34m(\u001b[0m\u001b[0;34m*\u001b[0m\u001b[0margs\u001b[0m\u001b[0;34m)\u001b[0m \u001b[0;34m->\u001b[0m \u001b[0;34m\"std::string\"\u001b[0m\u001b[0;34m:\u001b[0m\u001b[0;34m\u001b[0m\u001b[0;34m\u001b[0m\u001b[0m\n",
      "\u001b[0;31mRuntimeError\u001b[0m: .../casadi/core/nlpsol.cpp:120: Cannot create 'solver' since [x] are free."
     ]
    }
   ],
   "metadata": {}
  },
  {
   "cell_type": "code",
   "execution_count": null,
   "source": [
    "\n",
    "\n",
    "sol=solver(x0=xssn, p=uss);\n",
    "\n",
    "sol['x']*xc+x0\n",
    "#sol['x']*xc\n",
    "\n"
   ],
   "outputs": [
    {
     "output_type": "error",
     "ename": "RuntimeError",
     "evalue": ".../casadi/core/function_internal.hpp:1257: Input 0 (x0) has mismatching shape. Got 3-by-1. Allowed dimensions, in general, are:\n - The input dimension N-by-M (here 5-by-1)\n - A scalar, i.e. 1-by-1\n - M-by-N if N=1 or M=1 (i.e. a transposed vector)\n - N-by-M1 if K*M1=M for some K (argument repeated horizontally)\n - N-by-P*M, indicating evaluation with multiple arguments (P must be a multiple of 1 for consistency with previous inputs)",
     "traceback": [
      "\u001b[0;31m---------------------------------------------------------------------------\u001b[0m",
      "\u001b[0;31mRuntimeError\u001b[0m                              Traceback (most recent call last)",
      "\u001b[0;32m<ipython-input-62-3bb957758330>\u001b[0m in \u001b[0;36m<module>\u001b[0;34m\u001b[0m\n\u001b[1;32m     24\u001b[0m \u001b[0;31m# uss_n\u001b[0m\u001b[0;34m\u001b[0m\u001b[0;34m\u001b[0m\u001b[0;34m\u001b[0m\u001b[0m\n\u001b[1;32m     25\u001b[0m \u001b[0;34m\u001b[0m\u001b[0m\n\u001b[0;32m---> 26\u001b[0;31m \u001b[0msol\u001b[0m\u001b[0;34m=\u001b[0m\u001b[0msolver\u001b[0m\u001b[0;34m(\u001b[0m\u001b[0mx0\u001b[0m\u001b[0;34m=\u001b[0m\u001b[0mxssn\u001b[0m\u001b[0;34m,\u001b[0m \u001b[0mp\u001b[0m\u001b[0;34m=\u001b[0m\u001b[0muss\u001b[0m\u001b[0;34m)\u001b[0m\u001b[0;34m;\u001b[0m\u001b[0;34m\u001b[0m\u001b[0;34m\u001b[0m\u001b[0m\n\u001b[0m\u001b[1;32m     27\u001b[0m \u001b[0;34m\u001b[0m\u001b[0m\n\u001b[1;32m     28\u001b[0m \u001b[0msol\u001b[0m\u001b[0;34m[\u001b[0m\u001b[0;34m'x'\u001b[0m\u001b[0;34m]\u001b[0m\u001b[0;34m*\u001b[0m\u001b[0mxc\u001b[0m\u001b[0;34m+\u001b[0m\u001b[0mx0\u001b[0m\u001b[0;34m\u001b[0m\u001b[0;34m\u001b[0m\u001b[0m\n",
      "\u001b[0;32m~/anaconda3/envs/BCS/lib/python3.9/site-packages/casadi/casadi.py\u001b[0m in \u001b[0;36m__call__\u001b[0;34m(self, *args, **kwargs)\u001b[0m\n\u001b[1;32m   8504\u001b[0m       \u001b[0;32melse\u001b[0m\u001b[0;34m:\u001b[0m\u001b[0;34m\u001b[0m\u001b[0;34m\u001b[0m\u001b[0m\n\u001b[1;32m   8505\u001b[0m     \u001b[0;31m# Named inputs -> return dictionary\u001b[0m\u001b[0;34m\u001b[0m\u001b[0;34m\u001b[0m\u001b[0;34m\u001b[0m\u001b[0m\n\u001b[0;32m-> 8506\u001b[0;31m         \u001b[0;32mreturn\u001b[0m \u001b[0mself\u001b[0m\u001b[0;34m.\u001b[0m\u001b[0mcall\u001b[0m\u001b[0;34m(\u001b[0m\u001b[0mkwargs\u001b[0m\u001b[0;34m)\u001b[0m\u001b[0;34m\u001b[0m\u001b[0;34m\u001b[0m\u001b[0m\n\u001b[0m\u001b[1;32m   8507\u001b[0m \u001b[0;34m\u001b[0m\u001b[0m\n\u001b[1;32m   8508\u001b[0m     \u001b[0;32mdef\u001b[0m \u001b[0mbuffer\u001b[0m\u001b[0;34m(\u001b[0m\u001b[0mself\u001b[0m\u001b[0;34m)\u001b[0m\u001b[0;34m:\u001b[0m\u001b[0;34m\u001b[0m\u001b[0;34m\u001b[0m\u001b[0m\n",
      "\u001b[0;32m~/anaconda3/envs/BCS/lib/python3.9/site-packages/casadi/casadi.py\u001b[0m in \u001b[0;36mcall\u001b[0;34m(self, *args)\u001b[0m\n\u001b[1;32m   7677\u001b[0m \u001b[0;34m\u001b[0m\u001b[0m\n\u001b[1;32m   7678\u001b[0m         \"\"\"\n\u001b[0;32m-> 7679\u001b[0;31m         \u001b[0;32mreturn\u001b[0m \u001b[0m_casadi\u001b[0m\u001b[0;34m.\u001b[0m\u001b[0mFunction_call\u001b[0m\u001b[0;34m(\u001b[0m\u001b[0mself\u001b[0m\u001b[0;34m,\u001b[0m \u001b[0;34m*\u001b[0m\u001b[0margs\u001b[0m\u001b[0;34m)\u001b[0m\u001b[0;34m\u001b[0m\u001b[0;34m\u001b[0m\u001b[0m\n\u001b[0m\u001b[1;32m   7680\u001b[0m \u001b[0;34m\u001b[0m\u001b[0m\n\u001b[1;32m   7681\u001b[0m     \u001b[0;32mdef\u001b[0m \u001b[0mmapsum\u001b[0m\u001b[0;34m(\u001b[0m\u001b[0mself\u001b[0m\u001b[0;34m,\u001b[0m \u001b[0;34m*\u001b[0m\u001b[0margs\u001b[0m\u001b[0;34m)\u001b[0m \u001b[0;34m->\u001b[0m \u001b[0;34m\"std::vector< casadi::MX,std::allocator< casadi::MX > >\"\u001b[0m\u001b[0;34m:\u001b[0m\u001b[0;34m\u001b[0m\u001b[0;34m\u001b[0m\u001b[0m\n",
      "\u001b[0;31mRuntimeError\u001b[0m: .../casadi/core/function_internal.hpp:1257: Input 0 (x0) has mismatching shape. Got 3-by-1. Allowed dimensions, in general, are:\n - The input dimension N-by-M (here 5-by-1)\n - A scalar, i.e. 1-by-1\n - M-by-N if N=1 or M=1 (i.e. a transposed vector)\n - N-by-M1 if K*M1=M for some K (argument repeated horizontally)\n - N-by-P*M, indicating evaluation with multiple arguments (P must be a multiple of 1 for consistency with previous inputs)"
     ]
    }
   ],
   "metadata": {}
  },
  {
   "cell_type": "code",
   "execution_count": null,
   "source": [
    "# Definir variaveis manipuladas e controladas e disturbio externo\n",
    "mv = [0,1]    #% [f, Zc]\n",
    "pv = [0,1]  #% [pin, H]  #% [P, I]\n",
    "#pv = [2,3];  #% [pin, H]\n",
    "de = 2;      #% [pm]\n",
    "tg = 2;      #% MV target\n",
    "#% Parametros\n",
    "ts = 1;\n",
    "#%Modelo de predição\n",
    "#% Criando o objeto para predição do modelo\n",
    "# Iniciando variavel dicionário para a construção da EDO\n",
    "# sedo = {'x': BCS['x'][0:3], # Estados\n",
    "#         'p': BCS['u'], #Variáveis exogenas\n",
    "#         'ode': BCS['NaoLinear']['sedo_nl'] # SEDO (Gerado no bcs_settings)\n",
    "#         };\n",
    "\n",
    "sedo = {'x': BCS['x'], # Estados\n",
    "        'p': BCS['u'], #Variáveis exogenas\n",
    "        'ode': Eq_Estado(x,u,[dfq_max,dzc_max]) # SEDO (Gerado no bcs_settings)\n",
    "        };\n",
    "\n",
    "#% Criando o objeto p,ra integração da Eq_estado\n",
    "opt = {'tf':ts,\n",
    "       't0':0\n",
    "\n",
    "       };   #% opções do integrador"
   ],
   "outputs": [],
   "metadata": {}
  },
  {
   "cell_type": "code",
   "execution_count": null,
   "source": [
    "int_odes = integrator('int_odes','cvodes',sedo,opt);\n",
    "# objeto integrador\n",
    "res = int_odes(x0=BCS['x'],p=BCS['u']);             #   % solução um passo a frente\n",
    "npv = len(pv); nmv = len(mv);"
   ],
   "outputs": [],
   "metadata": {}
  },
  {
   "cell_type": "code",
   "execution_count": null,
   "source": [
    "# Criando o objeto para solução da equação de medição\n",
    "Eq_medicao = Function('Eq_medicao',[BCS['x'],BCS['u']],[BCS['y'][pv]],['x','u'],['y']);\n",
    "# Criacao do objeto para simulacao do BCS Eq de estado + Eq de Medicao\n",
    "Modelo_Predicao = Function('Modelo_Predicao',[BCS['x'],BCS['u']],[res['xf'],Eq_medicao(res['xf'],BCS['u'])],['xk_1','uk_1'],['xk','yk']);\n",
    "Modelo_Predicao2 = Function('Modelo_Predicao2',[BCS['x'],BCS['u']],[res['xf']],['xk_1','uk_1'],['xk']);"
   ],
   "outputs": [],
   "metadata": {}
  },
  {
   "cell_type": "code",
   "execution_count": null,
   "source": [
    "xpk = xss;\n",
    "uss\n",
    "#xpk=normalizar(xss,xnorm)\n",
    "\n",
    "#uk_1 = normaliza_u(uss[mv],unorm)\n",
    "#uk_1=(uss[mv]-unorm[:,0])/unorm[:,1]\n",
    "# MVS\n",
    "# Aloca��o de variaveis\n",
    "Xk = np.zeros((nx,1))"
   ],
   "outputs": [],
   "metadata": {}
  },
  {
   "cell_type": "code",
   "execution_count": null,
   "source": [
    "Yk = np.zeros((npv,1))\n",
    "Uk = np.zeros((nmv,1))\n",
    "Ymk = Yk\n",
    "Ys = Yk\n",
    "Ymin = Yk\n",
    "Ymax = Yk"
   ],
   "outputs": [],
   "metadata": {}
  },
  {
   "cell_type": "code",
   "execution_count": null,
   "source": [
    "tsim = 200;\n",
    "nsim=int(round(tsim/ts)+1)\n",
    "xss_n=xssn"
   ],
   "outputs": [],
   "metadata": {}
  },
  {
   "cell_type": "code",
   "execution_count": null,
   "source": [
    "#Valores iniciais de simulação\n",
    "tss=5 # Tempo inicial no estacionário\n",
    "Uk= uss\n",
    "# Povoar vetor de X com dados não normalizados\n"
   ],
   "outputs": [],
   "metadata": {}
  },
  {
   "cell_type": "code",
   "execution_count": null,
   "source": [
    "xpk = Modelo_Predicao2(xssn,uss) #valores normalizados\n",
    "ypk=sea_nl(xpk,uss)[0]\n",
    "Yk=ypk*np.array([1,Hc])+[0,H_lim[0]]\n",
    "ypk[1]*Hc+H_lim[0]"
   ],
   "outputs": [
    {
     "output_type": "execute_result",
     "data": {
      "text/plain": [
       "DM(592.126)"
      ]
     },
     "metadata": {},
     "execution_count": 70
    }
   ],
   "metadata": {}
  },
  {
   "cell_type": "code",
   "execution_count": null,
   "source": [
    "uk_1 = np.array([[60], [50]]);\n",
    "nstep = tsim\n",
    "a_range = [35,65]\n",
    "b_range = [30,50]\n",
    "\n",
    "u_f,prbs=APRBS(a_range,b_range,nstep)\n",
    "u_z,prbs=APRBS(a_range,b_range,nstep)\n",
    "\n",
    "#dados = np.load('BCS_data_train_limitado.npz')\n",
    "#u_f=dados['fk']\n",
    "uk_1 = np.array([u_f,u_z]);\n",
    "xi=(np.arange(0,int(nsim*ts)-1,ts));\n",
    "#xi=np.arange(0,10,ts)\n",
    "xi.shape\n",
    "Xk=xpk*xc+x0\n",
    "# uss\n",
    "# Modelo_Predicao2(xssn,uss)\n"
   ],
   "outputs": [],
   "metadata": {}
  },
  {
   "cell_type": "code",
   "execution_count": null,
   "source": [
    "print(\"Simulação iniciada\")\n",
    "\n",
    "#for k in range(1,5):\n",
    "for k in range(1,nsim-1):\n",
    "    xpk = Modelo_Predicao2(xpk,uk_1[:,k])\n",
    "    Xk = hcat([Xk,xpk*xc+x0]) #desnormalizar x e preencher vetor\n",
    "    ypk=sea_nl(xpk,uk_1[:,k])[0]\n",
    "    Yk = hcat([Yk,ypk*np.array([1,Hc])+[0,H_lim[0]]]);\n",
    "    Uk = hcat([Uk,uk_1[:,k]])\n",
    "\n",
    "print(\"Xk shape =\"+str(Xk.shape))\n",
    "# print(\"Uk shape =\"+str(Uk.shape))\n",
    "# print(\"Yk shape =\"+str(Uk.shape))\n",
    "# print(\"xi shape =\"+str(xi.shape))\n",
    "print(\"Ok.simulação concluida\")\n",
    "Xk[0,:].shape"
   ],
   "outputs": [
    {
     "output_type": "stream",
     "name": "stdout",
     "text": [
      "Simulação iniciada\n",
      "Xk shape =(5, 200)\n",
      "Ok.simulação concluida\n"
     ]
    },
    {
     "output_type": "execute_result",
     "data": {
      "text/plain": [
       "(1, 200)"
      ]
     },
     "metadata": {},
     "execution_count": 72
    }
   ],
   "metadata": {}
  },
  {
   "cell_type": "code",
   "execution_count": null,
   "source": [
    "fig1=plt.figure()\n",
    "label = [r'$p_{in}(bar)$','H(m)','P','I','qc','qr' ];\n",
    "for iy in range(0,npv):\n",
    "    ax = fig1.add_subplot(npv,1,iy+1)\n",
    "    #print(iy)\n",
    "    if iy == 0: # Pin\n",
    "        ax.plot(xi,(Yk[iy,:].T)/1e5, label='Medição')\n",
    "        #ax.plot(xi,Ymk[iy,:].T/1e5, label='EKF')\n",
    "        ax.set_ylabel(label[iy])\n",
    "        ax.set(xlim=(xi[0], nsim*ts))\n",
    "       # ax.set(ylim=(40,62))\n",
    "        plt.grid(True)\n",
    "    else: # H\n",
    "        ax.plot(xi,Yk[iy,:].T, label='Medição')\n",
    "        #ax.plot(xi,Ymk[iy,:].T,label='EKF')\n",
    "        ax.set_ylabel(label[iy])\n",
    "        ax.set(xlim=(xi[0], nsim*ts))\n",
    "       # ax.set(ylim=(580, 850))\n",
    "        plt.grid(True)\n",
    "#ax.plot(xi,Yk[2,:].T, label='EKF')\n",
    "ax.legend();\n",
    "ax.set_xlabel('Time (nT)')\n",
    "fig1.show()\n"
   ],
   "outputs": [],
   "metadata": {}
  },
  {
   "cell_type": "code",
   "execution_count": null,
   "source": [
    "# #% Restrição\n",
    "umin  = np.array([35, 0]); np.transpose(umin);  # lower bounds of inputs\n",
    "umax  = np.array([65, 100]); np.transpose(umax); # upper bounds of inputs\n",
    "dumax = np.array([0.5, dzc_max]); np.transpose(dumax);\n",
    "fig2=plt.figure()\n",
    "label = ['f(Hz)',r'$z_c$(%)'];\n",
    "for iu in range(0,nmv):\n",
    "    ax2=fig2.add_subplot(nmv,1,iu+1)\n",
    "    ax2.plot(xi,Uk[iu,:].T, label='Medição')\n",
    "    ax2.plot([1,nsim],[umin[iu], umin[iu]],'--r')\n",
    "    ax2.plot([1,nsim],[umax[iu], umax[iu]],'--r', label='Restrição')\n",
    "    ax2.set_ylabel(label[iu])\n",
    "    ax2.set(xlim=(xi[0], nsim*ts))\n",
    "    if iu==0:\n",
    "        ax2.set(ylim=(30, 70))\n",
    "\n",
    "    plt.grid(True)\n"
   ],
   "outputs": [],
   "metadata": {}
  },
  {
   "cell_type": "code",
   "execution_count": null,
   "source": [
    "fig3=plt.figure()\n",
    "label = ['Pbh (bar)','Pwh (bar)','q(m3/s)'];\n",
    "for iu in range(0,3):\n",
    "    ax3=fig3.add_subplot(3,1,iu+1)\n",
    "    if iu==2:\n",
    "        ax3.plot(xi,(Xk[iu,:].T/xc[iu]), label='Medição')\n",
    "        #ax3.plot([1,nsim],[umin[iu], umin[iu]],'--r')\n",
    "        #ax3.plot([1,nsim],[umax[iu], umax[iu]],'--r', label='Restrição')\n",
    "        ax3.set_ylabel(label[iu])\n",
    "        #ax3.set(xlim=(xi[0], nsim*ts))\n",
    "        # if iu==0:\n",
    "        #     #ax2.set(ylim=(30, 70))\n",
    "        #     print(iu)\n",
    "        plt.grid(True)\n",
    "    else:\n",
    "        ax3.plot(xi,Xk[iu,:].T/xc[iu], label='Medição')\n",
    "        #ax3.plot([1,nsim],[umin[iu], umin[iu]],'--r')\n",
    "        #ax3.plot([1,nsim],[umax[iu], umax[iu]],'--r', label='Restrição')\n",
    "        ax3.set_ylabel(label[iu])\n",
    "        #ax3.set(xlim=(xi[0], nsim*ts))\n",
    "        # if iu==0:\n",
    "        #     #ax2.set(ylim=(30, 70))\n",
    "        #     print(iu)\n",
    "        plt.grid(True)\n"
   ],
   "outputs": [],
   "metadata": {}
  },
  {
   "cell_type": "code",
   "execution_count": null,
   "source": [
    "# Xk[2,:]=Xk[2,:]*xc[2] #desnormalizar vazão\n",
    "# Yk[1,:]=Yk[1,:]*Hc #desnormalizar Head"
   ],
   "outputs": [],
   "metadata": {}
  },
  {
   "cell_type": "code",
   "execution_count": null,
   "source": [
    "exec(compile(open('envelope.py', \"rb\").read(), 'envelope.py', 'exec')) #% Roda arquivo com parâmetros do modelo BCS\n",
    "fig4,ax4=plt.subplots()\n",
    "plt.grid(True)\n",
    "BCS['Envelope']['fig'](ax4); # grafico do envelope\n",
    "#\n",
    "# Evolução dentro do envelope\n",
    "ax4.plot(Xk[2,0:].T*3600,Yk[1,0:].T,'--k')\n",
    "ax4.plot(Xk[2,0]*3600,Yk[1,0],'o')#,'MarkerFaceColor',[0,1,0],'MarkerEdgeColor',[0,0,0])\n",
    "ax4.plot(Xk[2,-1]*3600,Yk[1,-1],'o')#,'MarkerFaceColor',[1,0,0],'MarkerEdgeColor',[0,0,0])\n",
    "ax4.annotate('t=0',\n",
    "             xy=(float(Xk[2,0]*3600),float(Yk[1,0])),\n",
    "             xytext=(float(Xk[2,0]*3600)-5,float(Yk[1,0])+10),\n",
    "             arrowprops=dict(facecolor='green', shrink=0.01))\n",
    "\n",
    "ax4.annotate('t='+str(nsim),\n",
    "             xy=(float(Xk[2,-1]*3600),float(Yk[1,-1])),\n",
    "             xytext=(float(Xk[2,-1]*3600)-7,float(Yk[1,-1])+10),\n",
    "             arrowprops=dict(facecolor='red', shrink=0.01))\n",
    "plt.show()\n",
    "\n",
    "#np.savez('BCS_data_train_limitado_f_zc3.npz', t=xi, x1=Xk[0,:].T,x2=Xk[1,:].T,x3=Xk[2,:].T,x4=Xk[3,:].T,x5=Xk[4,:].T,f=u_f, zc=u_z)"
   ],
   "outputs": [
    {
     "output_type": "stream",
     "name": "stdout",
     "text": [
      "Envelope carregado\n"
     ]
    }
   ],
   "metadata": {}
  }
 ],
 "metadata": {
  "interpreter": {
   "hash": "698028ab42453737c47168816c82f0f42fda53eb4af1ce48d8f09e53da2613ea"
  },
  "kernelspec": {
   "name": "python3",
   "display_name": "Python 3.9.2 64-bit ('BCS': conda)"
  },
  "language_info": {
   "codemirror_mode": {
    "name": "ipython",
    "version": 3
   },
   "file_extension": ".py",
   "mimetype": "text/x-python",
   "name": "python",
   "nbconvert_exporter": "python",
   "pygments_lexer": "ipython3",
   "version": "3.9.2"
  }
 },
 "nbformat": 4,
 "nbformat_minor": 1
}