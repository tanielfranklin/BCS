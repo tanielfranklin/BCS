{
  "nbformat": 4,
  "nbformat_minor": 2,
  "metadata": {
    "colab": {
      "name": "Identify_PI_rho_BCS_LEA - ok.ipynb",
      "provenance": [],
      "collapsed_sections": []
    },
    "interpreter": {
      "hash": "a59f41f3ef12012b70f6a1f3ecf73a63c6cecb3e37cf88460a242e42c8aa7523"
    },
    "kernelspec": {
      "name": "python3",
      "display_name": "Python 3.9.2 64-bit ('RC': conda)"
    },
    "language_info": {
      "codemirror_mode": {
        "name": "ipython",
        "version": 3
      },
      "file_extension": ".py",
      "mimetype": "text/x-python",
      "name": "python",
      "nbconvert_exporter": "python",
      "pygments_lexer": "ipython3",
      "version": "3.9.2"
    }
  },
  "cells": [
    {
      "cell_type": "code",
      "execution_count": 49,
      "source": [
        "from __future__ import absolute_import\n",
        "from __future__ import division\n",
        "from __future__ import print_function\n",
        "import numpy as np\n",
        "#!pip install deepxde==0.10.0\n",
        "import deepxde as dde\n",
        "import scipy as sp\n",
        "import scipy.interpolate as interp\n",
        "from deepxde.backend import tf\n",
        "from matplotlib import pyplot as plt\n",
        "from numpy.core.shape_base import hstack\n",
        "from scipy import signal\n",
        "# from param import *\n",
        "loc_drive=\"\"\n",
        "path_subrotinas=\"/home/taniel/Desktop/Projetos_Deep/BCS/subrotinas.py\"\n",
        "exec(compile(open('param_LEA.py', \"rb\").read(), 'param_LEA.py', 'exec')) #% Roda arquivo com parâmetros do modelo BCS\n",
        "exec(compile(open(path_subrotinas, \"rb\").read(), path_subrotinas, 'exec'))\n",
        "exec(compile(open('exp_LEA.py', \"rb\").read(), 'exp_LEA.py', 'exec')) "
      ],
      "outputs": [
        {
          "output_type": "stream",
          "name": "stdout",
          "text": [
            "0.24108276567583545 7.559321788388188 [-11.492505101438962, 204.43014465827954]\n",
            "Dados carregados\n"
          ]
        }
      ],
      "metadata": {
        "colab": {
          "base_uri": "https://localhost:8080/"
        },
        "id": "F3ab02Jy5Prl",
        "outputId": "558534a4-5073-419e-e94c-724213ee83b2"
      }
    },
    {
      "cell_type": "code",
      "execution_count": 3,
      "source": [
        "# =========================================================================\n",
        "#  Define as entradas do BCS LEA   \n",
        "# =========================================================================\n",
        "#   freq = Cexp.referencia_frequencia_inversor(1:nsim)*0.1;                   % [Hz] frequencia de operacao\n",
        "intervalo=np.array([int(1*3600),int(5*3600)])\n",
        "#intervalo=np.array([int(0*3600),int(7.8*3600)])\n",
        "\n",
        "#intervalo=np.array([1.8,3])\n",
        "LEA=dados_LEA_Exp(loc_drive+'Dados_BCSLEA_20210818.mat',intervalo)\n",
        "pm=LEA['pressao_manifold_coriolis']*1e5\n",
        "pr=LEA['pressao_reservatorio']*1e5\n",
        "pm_0=pm[0]\n",
        "pr_0=pr[0]\n",
        "u_0=np.array([LEA['referencia_frequencia_inversor'][0],LEA['valvula_pneumatica_topo'][0],pm_0,pr_0])\n",
        "x_0=np.array([LEA['pressao_fundo'][0]*1e5,LEA['pressao_choke'][0]*1e5,LEA['vazao'][0]/3600])\n",
        "u_0\n",
        "nsim=LEA['tempo']+1\n",
        "ts=LEA['Ts']\n",
        "tempo_hora = np.arange(0,nsim*ts,ts)/3600"
      ],
      "outputs": [
        {
          "output_type": "stream",
          "name": "stdout",
          "text": [
            "1\n"
          ]
        }
      ],
      "metadata": {
        "colab": {
          "base_uri": "https://localhost:8080/"
        },
        "id": "DkUjICbJw1kn",
        "outputId": "fde01fbb-2976-4194-b5e8-5fe6ff4c3a78"
      }
    },
    {
      "cell_type": "code",
      "execution_count": 4,
      "source": [
        "#========================\n",
        "# Filtragem Pman=========\n",
        "fs=1/ts\n",
        "fs\n",
        "Wn=2*pi*fs/1.2\n",
        "input_signal=np.reshape(pm,(1,nsim))\n",
        "b, a = sp.signal.butter(2, Wn, 'low')\n",
        "output_signal = np.reshape(sp.signal.filtfilt(b, a, input_signal),(nsim))"
      ],
      "outputs": [],
      "metadata": {
        "id": "VsUZkiY_urvv"
      }
    },
    {
      "cell_type": "code",
      "execution_count": 5,
      "source": [
        "fig3=plt.figure()\n",
        "label = ['Pman','Pr','f','z'];\n",
        "ax1=fig3.add_subplot(2,2,1)\n",
        "ax1.plot(tempo_hora,pm/1e5, label='Pman')\n",
        "ax1.plot(tempo_hora,output_signal/1e5, ':r')\n",
        "ax1.set_ylabel(label[0])\n",
        "plt.grid(True)\n",
        "ax2=fig3.add_subplot(2,2,3)\n",
        "ax2.plot(tempo_hora,pr/1e5, label='Pr')\n",
        "ax2.set_ylabel(label[1])\n",
        "plt.grid(True)\n",
        "ax3=fig3.add_subplot(2,2,2)\n",
        "ax3.plot(tempo_hora,LEA['referencia_frequencia_inversor'], label='f')\n",
        "ax3.set_ylabel(label[2])\n",
        "plt.grid(True)\n",
        "ax4=fig3.add_subplot(2,2,4)\n",
        "ax4.plot(tempo_hora,LEA['valvula_pneumatica_topo'], label='z')\n",
        "ax4.set_ylabel(label[3])\n",
        "plt.grid(True)"
      ],
      "outputs": [
        {
          "output_type": "display_data",
          "data": {
            "image/png": "[encoded data removed]",
            "text/plain": [
              "<Figure size 432x288 with 4 Axes>"
            ]
          },
          "metadata": {
            "needs_background": "light"
          }
        }
      ],
      "metadata": {
        "colab": {
          "base_uri": "https://localhost:8080/",
          "height": 265
        },
        "id": "VWKNwWzHyHL3",
        "outputId": "a30458c8-4a22-409d-a484-4f865d9104f8"
      }
    },
    {
      "cell_type": "code",
      "execution_count": 6,
      "source": [
        "fig4=plt.figure()\n",
        "label = ['Pbh','Pbw','q'];\n",
        "ax1=fig4.add_subplot(3,1,1)\n",
        "ax1.plot(tempo_hora ,LEA['pressao_fundo'], label='Pman')\n",
        "ax1.set_ylabel(label[0])\n",
        "plt.grid(True)\n",
        "ax2=fig4.add_subplot(3,1,2)\n",
        "ax2.plot(tempo_hora,LEA['pressao_choke'], label='Pr')\n",
        "ax2.set_ylabel(label[1])\n",
        "plt.grid(True)\n",
        "ax3=fig4.add_subplot(3,1,3)\n",
        "ax3.plot(tempo_hora,LEA['vazao'], label='q')\n",
        "ax3.set_ylabel(label[2])\n",
        "plt.grid(True)\n"
      ],
      "outputs": [
        {
          "output_type": "display_data",
          "data": {
            "image/png": "[encoded data removed]",
            "text/plain": [
              "<Figure size 432x288 with 3 Axes>"
            ]
          },
          "metadata": {
            "needs_background": "light"
          }
        }
      ],
      "metadata": {
        "colab": {
          "base_uri": "https://localhost:8080/",
          "height": 265
        },
        "id": "50O5DxdFtkoP",
        "outputId": "9e4b91f5-303b-4ead-80d5-f8a0d5692335"
      }
    },
    {
      "cell_type": "code",
      "execution_count": null,
      "source": [],
      "outputs": [],
      "metadata": {
        "id": "FVAC3wHNu9ca"
      }
    },
    {
      "cell_type": "markdown",
      "source": [
        "Estudo das Fricções\n",
        "Turbulento - Laminar"
      ],
      "metadata": {
        "id": "08ocuGTSYPhj"
      }
    },
    {
      "cell_type": "code",
      "execution_count": null,
      "source": [],
      "outputs": [],
      "metadata": {
        "id": "xSDu3dzAemik"
      }
    },
    {
      "cell_type": "code",
      "execution_count": 7,
      "source": [
        "# def Friction(qan):\n",
        "#   Re_1 =(4*rho_1*qan)/(0.219*pi*mu); # Assuming identicals rho and same Re and fric as consequence\n",
        "#   F_2=np.zeros_like(qan)\n",
        "#   F_1=F_2\n",
        "#   for i in np.arange(0,len(qan)):\n",
        "#     if Re_1[i]<4000:\n",
        "#       fric_1=64/Re_1[i]\n",
        "#     else:\n",
        "#       fric_1=0.36*Re_1[i]**(-0.25)\n",
        "#     F_1[i] = (fric_1*qan[i]**2*rho_1)/(2*pi*r2**3)\n",
        "#     F_2[i] = (fric_1*qan[i]**2*rho_1)/(2*pi*r1**3)\n",
        "#   return F_1,F_2\n",
        "\n",
        "# qi=np.linspace(qlim[0],qlim[1],100)\n",
        "# qi=np.linspace(qlim[0],40/3600,100)\n",
        "# F1,F2=Friction(qi)\n",
        "\n",
        "\n",
        "# fig=plt.figure()\n",
        "# label = ['F1','F2','Re'];\n",
        "# ax1=fig.add_subplot(3,1,1)\n",
        "# ax1.plot(qi*3600 ,F1, label='F1')\n",
        "# ax1.set_ylabel(label[0])\n",
        "# plt.grid(True)\n",
        "# ax2=fig.add_subplot(3,1,2)\n",
        "# ax2.plot(qi*3600 ,F2, label='F2')\n",
        "# ax2.set_ylabel(label[1])\n",
        "# plt.grid(True)\n",
        "# ax3=fig.add_subplot(3,1,3)\n",
        "# ax3.plot(qi*3600 ,(4*rho_1*qi)/(0.219*pi*mu), label='Re')\n",
        "# ax3.set_ylabel(label[2])\n",
        "# ax3.set_xlabel(\"m³/h\")\n",
        "# plt.grid(True)\n",
        "\n",
        "# print(\"Limite Laminar 4000 implica em q <\",((0.219*pi*mu/(4*rho_1))*4000)*3600)\n",
        "# print(\"Limite Laminar 2000 implica em q <\",((0.219*pi*mu/(4*rho_1))*2000)*3600)"
      ],
      "outputs": [],
      "metadata": {
        "id": "YHZqg2jnYVmn"
      }
    },
    {
      "cell_type": "code",
      "execution_count": 8,
      "source": [
        "fk=LEA['referencia_frequencia_inversor']\n",
        "zc=LEA['valvula_pneumatica_topo']\n",
        "fk=np.reshape(fk, (nsim,1))\n",
        "zc=np.reshape(zc, (nsim,1))\n",
        "pm=np.reshape(pm, (nsim,1))\n",
        "pr=np.reshape(pr, (nsim,1))\n",
        "# time points\n",
        "maxtime = nsim\n",
        "time = np.linspace(0, nsim, nsim)\n",
        "time.shape\n",
        "nsim"
      ],
      "outputs": [
        {
          "output_type": "execute_result",
          "data": {
            "text/plain": [
              "144"
            ]
          },
          "metadata": {},
          "execution_count": 8
        }
      ],
      "metadata": {
        "colab": {
          "base_uri": "https://localhost:8080/"
        },
        "id": "PUWbFmo_tZr9",
        "outputId": "6fa654e9-2dfc-46d1-ad61-aabecca317e9"
      }
    },
    {
      "cell_type": "code",
      "execution_count": 9,
      "source": [
        "def constante(valor,time_vector):\n",
        "    return np.ones_like(time_vector)*valor\n",
        "\n",
        "def ex_func(t):\n",
        "  # loads exogenous inputs and interpolates intersample if necessary\n",
        "    spline_f = sp.interpolate.Rbf(\n",
        "        time, fk, function=\"thin_plate\", smooth=0, episilon=0\n",
        "    )\n",
        "    spline_zc = sp.interpolate.Rbf(\n",
        "        time, zc, function=\"thin_plate\", smooth=0, episilon=0\n",
        "    )\n",
        "    spline_pman = sp.interpolate.Rbf(\n",
        "        time, pm, function=\"thin_plate\", smooth=0, episilon=0\n",
        "    )\n",
        "    spline_pres = sp.interpolate.Rbf(\n",
        "        time, pr, function=\"thin_plate\", smooth=0, episilon=0\n",
        "    )\n",
        "    #out=np.array([spline_f(t), spline_zc(t), spline_pman(t), spline_pres(t)])\n",
        "    return [spline_f(t), spline_zc(t), spline_pman(t), spline_pres(t)]\n",
        "    # out=np.hstack([np.array([spline_f(t)]).T,np.array([spline_zc(t)]).T,np.array([spline_pman(t)]).T,np.array([spline_pres(t)]).T ])\n",
        "    # return out #np.transpose(out)\n"
      ],
      "outputs": [],
      "metadata": {
        "id": "Tym68xIZ3ge-"
      }
    },
    {
      "cell_type": "code",
      "execution_count": 10,
      "source": [
        "#ex=ex_func(time)\n",
        "#ex.shape\n",
        "# a=np.array([[4],[5],[3]])\n",
        "# a.T"
      ],
      "outputs": [],
      "metadata": {
        "id": "4s7KYazGk9d2"
      }
    },
    {
      "cell_type": "code",
      "execution_count": null,
      "source": [],
      "outputs": [],
      "metadata": {
        "id": "Yn7dIVc8oRaT"
      }
    },
    {
      "cell_type": "code",
      "execution_count": 11,
      "source": [
        "\n",
        "# fx=ex[:,0:1]; \n",
        "# zx=ex[:,1:2];\n",
        "# pmx=ex[:,2:3];\n",
        "# prx=ex[:,3:]\n",
        "# output_signal.shape\n",
        "\n",
        "# ex[:,0:1].shape\n",
        "# #prx.shape"
      ],
      "outputs": [],
      "metadata": {
        "id": "xN_6iY32U0bu"
      }
    },
    {
      "cell_type": "code",
      "execution_count": 12,
      "source": [
        "# #Teste das ex_func\n",
        "# fig3=plt.figure()\n",
        "\n",
        "# label = ['Pman','Pr','f','z'];\n",
        "# ax1=fig3.add_subplot(2,2,1)\n",
        "# ax1.plot(time/3600 ,pmx/1e5, label='Pman')\n",
        "# ax1.plot(time/3600,output_signal/1e5, ':r')\n",
        "# ax1.set_ylabel(label[0])\n",
        "# plt.grid(True)\n",
        "# ax2=fig3.add_subplot(2,2,3)\n",
        "# ax2.plot(time/3600,prx/1e5, label='Pr')\n",
        "# ax2.set_ylabel(label[1])\n",
        "# plt.grid(True)\n",
        "# ax3=fig3.add_subplot(2,2,2)\n",
        "# ax3.plot(time/3600,fx, label='f')\n",
        "# ax3.set_ylabel(label[2])\n",
        "# plt.grid(True)\n",
        "# ax4=fig3.add_subplot(2,2,4)\n",
        "# ax4.plot(time/3600,zx, label='z')\n",
        "# ax4.set_ylabel(label[3])\n",
        "# plt.grid(True)"
      ],
      "outputs": [],
      "metadata": {
        "id": "mdoCPOYrxc68"
      }
    },
    {
      "cell_type": "code",
      "execution_count": null,
      "source": [],
      "outputs": [],
      "metadata": {
        "id": "kDA8BZ3LVlDn"
      }
    },
    {
      "cell_type": "code",
      "execution_count": 13,
      "source": [
        "math.log(818)"
      ],
      "outputs": [
        {
          "output_type": "execute_result",
          "data": {
            "text/plain": [
              "6.706862336602747"
            ]
          },
          "metadata": {},
          "execution_count": 13
        }
      ],
      "metadata": {
        "id": "cKhmwM8n2T7F",
        "colab": {
          "base_uri": "https://localhost:8080/"
        },
        "outputId": "76f3fb68-9446-47b0-a40e-d2f1af08015c"
      }
    },
    {
      "cell_type": "code",
      "execution_count": null,
      "source": [],
      "outputs": [],
      "metadata": {
        "colab": {
          "base_uri": "https://localhost:8080/"
        },
        "id": "l1bgMAAludfA",
        "outputId": "54a4fd8a-9b2e-431d-ce35-d0292832a7da"
      }
    },
    {
      "cell_type": "code",
      "execution_count": 14,
      "source": [
        "# Entradas\n",
        "# Valores máximos e mínimos para normalização\n",
        "#Entradas - conforme binder e pavlov\n",
        "#========================================\n",
        "pbc=Lim_c(pbhlim)\n",
        "pwc=Lim_c(pwhlim)\n",
        "qc=Lim_c(qlim)\n",
        "pbmin=pbhlim[0]\n",
        "pwmin=pwhlim[0]\n",
        "qmin=qlim[0]\n",
        "\n",
        "\n",
        "#rho=tf.log(tf.Variable(tf.exp(8.18)))*100 #836.8898 log(exp) impede valores negativos\n",
        "rho=tf.exp(tf.Variable(6.7))\n",
        "#rho=tf.Variable(tf.exp(818.0))\n",
        "PI = tf.Variable(2.5)*1e-8 ##PI = 2.7e-8; # Well productivy index [m3/s/Pa]\n",
        "xc=np.array([pbc,pwc,qc])\n",
        "x0=np.array([pbmin,pwmin,qmin])\n",
        "x_0=np.array([LEA['pressao_fundo'][0]*1e5,LEA['pressao_choke'][0]*1e5,LEA['vazao'][0]/3600])\n",
        "x1=(LEA['pressao_fundo']*1e5-x0[0])/xc[0]\n",
        "x2=(LEA['pressao_choke']*1e5-x0[1])/xc[1]\n",
        "x3=(LEA['vazao']/3600-x0[2])/xc[2]\n",
        "x1=x1.reshape(nsim,1)\n",
        "x2=x2.reshape(nsim,1)\n",
        "x3=x3.reshape(nsim,1)\n",
        "tempo=np.arange(0,nsim)\n",
        "tempo=tempo.reshape(len(x1),1)\n",
        "\n",
        "\n",
        "# Fig_LEA_data(LEA)\n",
        "\n",
        "# a=np.array([1,2,3,4,5,6,7])\n",
        "# a[:3]\n",
        "xss=x_0\n",
        "xss\n",
        "math.log(3.57e3)"
      ],
      "outputs": [
        {
          "output_type": "execute_result",
          "data": {
            "text/plain": [
              "8.180320874773685"
            ]
          },
          "metadata": {},
          "execution_count": 14
        }
      ],
      "metadata": {
        "colab": {
          "base_uri": "https://localhost:8080/"
        },
        "id": "iKkWwy2I-yEX",
        "outputId": "509ab158-920a-4930-a224-fa395e09b198"
      }
    },
    {
      "cell_type": "code",
      "execution_count": 15,
      "source": [
        "fig4=plt.figure()\n",
        "label = ['Pbh','Pbw','q'];\n",
        "ax1=fig4.add_subplot(3,1,1)\n",
        "ax1.plot(tempo ,x1, label='x1n')\n",
        "ax1.set_ylabel(label[0])\n",
        "plt.grid(True)\n",
        "ax2=fig4.add_subplot(3,1,2)\n",
        "ax2.plot(tempo ,x2, label='x2n')\n",
        "ax2.set_ylabel(label[1])\n",
        "plt.grid(True)\n",
        "ax3=fig4.add_subplot(3,1,3)\n",
        "ax3.plot(tempo ,x3, label='x3n')\n",
        "ax3.set_ylabel(label[2])\n",
        "plt.grid(True)"
      ],
      "outputs": [
        {
          "output_type": "display_data",
          "data": {
            "image/png": "[encoded data removed]",
            "text/plain": [
              "<Figure size 432x288 with 3 Axes>"
            ]
          },
          "metadata": {
            "needs_background": "light"
          }
        }
      ],
      "metadata": {
        "colab": {
          "base_uri": "https://localhost:8080/",
          "height": 265
        },
        "id": "m4Hzc44xSE2N",
        "outputId": "36716c8a-9bbb-410b-eaa4-8688ea5f0c54"
      }
    },
    {
      "cell_type": "code",
      "execution_count": 16,
      "source": [
        "# #Teste das ex_func\n",
        "# fig3=plt.figure()\n",
        "# uu=np.transpose(ex_func(time))\n",
        "# label = ['Pman','Pr','f','z'];\n",
        "# ax1=fig3.add_subplot(2,2,1)\n",
        "# ax1.plot(time/3600 ,uu[2]/1e5, label='Pman')\n",
        "# ax1.set_ylabel(label[0])\n",
        "# plt.grid(True)\n",
        "# ax2=fig3.add_subplot(2,2,3)\n",
        "# ax2.plot(time/3600,uu[3]/1e5, label='Pr')\n",
        "# ax2.set_ylabel(label[1])\n",
        "# plt.grid(True)\n",
        "# ax3=fig3.add_subplot(2,2,2)\n",
        "# ax3.plot(time/3600,uu[0], label='f')\n",
        "# ax3.set_ylabel(label[2])\n",
        "# plt.grid(True)\n",
        "# ax4=fig3.add_subplot(2,2,4)\n",
        "# ax4.plot(time/3600,uu[1], label='z')\n",
        "# ax4.set_ylabel(label[3])\n",
        "# plt.grid(True)"
      ],
      "outputs": [],
      "metadata": {
        "id": "B3HtipooVnPx"
      }
    },
    {
      "cell_type": "code",
      "execution_count": null,
      "source": [
        "\n"
      ],
      "outputs": [],
      "metadata": {
        "id": "814H0AztfCLb"
      }
    },
    {
      "cell_type": "code",
      "execution_count": 17,
      "source": [
        "F1c=2.92634e-05\n",
        "F2c=0.000738599\n",
        "Hc=215.9226497597185\n",
        "qcc=0.0020328441729756536\n",
        "F1lim=(0.000439365,0.000439365)\n",
        "F2lim=(0.0110894,0.0110894)"
      ],
      "outputs": [],
      "metadata": {
        "id": "MidRgj81MKbq"
      }
    },
    {
      "cell_type": "code",
      "execution_count": 18,
      "source": [
        "\n",
        "def ED_BCS(t,x,ex_func):\n",
        "    ## Montado o sistema de equa��es\n",
        "    # Tensores (Estados)\n",
        "    pbh = x[:,0:1]\n",
        "    pwh = x[:,1:2]\n",
        "    q = x[:,2:] #Vazão\n",
        "\n",
        "    # fq=ex_func[:,0:1]\n",
        "    # zc=ex_func[:,1:2]\n",
        "    # pman=ex_func[:,2:3];#pman=0.12e5\n",
        "    # pres=ex_func[:,3:4]\n",
        "\n",
        "    # fq=ex_func[:,0]\n",
        "    # zc=ex_func[:,1]\n",
        "    # pman=ex_func[:,2];#pman=0.12e5\n",
        "    # pres=ex_func[:,3]\n",
        "\n",
        "    fq=ex_func[0]\n",
        "    zc=ex_func[1]\n",
        "    pman=ex_func[2];#pman=0.12e5\n",
        "    pres=ex_func[3]\n",
        "\n",
        "    # fq=50\n",
        "    # zc=35\n",
        "    # pman=0.12e5\n",
        "    # pres=1.8e5\n",
        "\n",
        "    #=============================================\n",
        "    # Computing HEAD and pump pressure gain of LEA\n",
        "    q0 = (qc*q+qmin) / Cq * (f0 / fq)\n",
        "    H0 =  Head[0]*q0**4 +  Head[1]*q0**3 +  Head[2]*q0**2 + Head[3]*q0 + Head[4];\n",
        "    H = CH * H0 * (fq / f0) ** 2  # Head\n",
        "    #Pp = rho * g * H  # Dp\n",
        "    #==============================================\n",
        "    # Electrical power and electrical current computing\n",
        "    #P0 = -2.3599e9 * q0 ** 3 - 1.8082e7 * q0 ** 2 + 4.3346e6 * q0 + 9.4355e4\n",
        "    #P = Cp * P0 * (fq / f0) ** 3;  \n",
        "    #I = Inp * P / Pnp  \n",
        "    #==============================================\n",
        "    # Computing two volumes frictions in LEA piping\n",
        "    qan=q*qc+qmin # non normalized flow\n",
        "    Re =(4*rho*qan)/(0.219*pi*mu); # Assuming volumes density are identicals\n",
        "    fric=64/Re \n",
        "     \n",
        "    F1 = (fric*qan**2*rho)/(2*pi*r1**3) #Frictional pressure drop above ESP (Assuming laminar flow)\n",
        "    F2 = (fric*qan**2*rho)/(2*pi*r2**3) #Frictional pressure drop above ESP (Assuming laminar flow)\n",
        "    #===========================================\n",
        "    #===========================================\n",
        "    # Computing intake pressure\n",
        "    #pin = pbh*pbc+pbmin - rho * g * h1 - F1;\n",
        "    # Computing Reservoir flow\n",
        "    qr = PI * (pres - (pbh*pbc+pbmin));\n",
        "    # Computing flow across Choke valvule\n",
        "    qch = Cc * (zc) * tf.sqrt(tf.abs(pwh*pwc+pwmin - pman)); # Algumas operações precisam usar o prefixo do tensorflow \n",
        "    #============================================\n",
        "\n",
        "    #Normalizing nonlinear terms\n",
        "    ##########################\n",
        "    qch=(qch-qch_lim[0])/qcc\n",
        "    F1=(F1-F1lim[0])/F1c\n",
        "    F2=(F2-F2lim[0])/F2c\n",
        "    H=(H-H_lim[0])/Hc\n",
        "    ###########################\n",
        "    #xss=np.float32(np.array([2.0197e5,4.9338e5,4.2961e-4]));\n",
        "  \n",
        "    # SEDO\n",
        "\n",
        "    dpbhdt = dde.grad.jacobian(x, t, i=0)\n",
        "    dpwhdt = dde.grad.jacobian(x, t, i=1)\n",
        "    dqdt = dde.grad.jacobian(x, t, i=2)\n",
        "\n",
        "    return [\n",
        "        dpbhdt - (1/pbc)*b1/V1*(qr - (q*qc+qmin)),\n",
        "        dpwhdt - (1/pwc)*b2/V2*((q*qc+qmin) - (qcc*qch+qch_lim[0])),\n",
        "        dqdt - (1/(qc*M))*(pbh*pbc+pbmin - (pwh*pwc+pwmin) - rho*g*hw - (F1c*F1+F1lim[0]) - (F2c*F2+F2lim[0]) + rho * g * (H*Hc+H_lim[0]))\n",
        "        ]\n",
        "\n",
        "\n",
        "    "
      ],
      "outputs": [],
      "metadata": {
        "id": "K4FvXFB83ge_"
      }
    },
    {
      "cell_type": "code",
      "execution_count": 19,
      "source": [
        "# #==========================\n",
        "# #Testar EDOs = Calcular alguns resíduos =========\n",
        "# n=10\n",
        "# fq=fx[n];zc=zx[n];pman=pmx[n];pres=prx[n]\n",
        "# q=x3[n];pbh=x1[n];pwh=x2[n]\n",
        "# rho=rho_1\n",
        "# PI=2.7e-8\n",
        "# #=============================================\n",
        "# # Computing HEAD and pump pressure gain of LEA\n",
        "# q0 = (qc*q+qmin) / Cq * (f0 / fq)\n",
        "# H0 =  Head[0]*q0**4 +  Head[1]*q0**3 +  Head[2]*q0**2 + Head[3]*q0 + Head[4];\n",
        "# H = CH * H0 * (fq / f0) ** 2  # Head\n",
        "# Pp = rho * g * H  # Dp\n",
        "# #==============================================\n",
        "# # Electrical power and electrical current computing\n",
        "# P0 = -2.3599e9 * q0 ** 3 - 1.8082e7 * q0 ** 2 + 4.3346e6 * q0 + 9.4355e4\n",
        "# #P = Cp * P0 * (fq / f0) ** 3;  \n",
        "# #I = Inp * P / Pnp  \n",
        "# #==============================================\n",
        "# # Computing two volumes frictions in LEA piping\n",
        "# qan=q*qc+qmin # non normalized flow\n",
        "# Re =(4*rho*qan)/(0.219*pi*mu); # Assuming volumes density are identicals\n",
        "# fric=64/Re \n",
        "  \n",
        "# F1 = (fric*qan**2*rho)/(2*pi*r1**3) #Frictional pressure drop above ESP (Assuming laminar flow)\n",
        "# F2 = (fric*qan**2*rho)/(2*pi*r2**3) #Frictional pressure drop above ESP (Assuming laminar flow)\n",
        "# #===========================================\n",
        "# #===========================================\n",
        "# # Computing intake pressure\n",
        "# pin = pbh*pbc+pbmin - rho * g * h1 - F1;\n",
        "# # Computing Reservoir flow\n",
        "# qr = PI * (pres - (pbh*pbc+pbmin));\n",
        "# # Computing flow across Choke valvule\n",
        "# qch = Cc * (zc) * math.sqrt(abs(pwh*pwc+pwmin - pman)); # Algumas operações precisam usar o prefixo do tensorflow \n",
        "# #============================================\n",
        "# # Nonlinear terms analysis\n",
        "# # funcF1=Function('funcF1',[x],[F1])\n",
        "# # funcF2=Function('funcF2',[x],[F2])\n",
        "# # funcH=Function('funcH',[x,u],[H])\n",
        "# # funcqch=Function('funqch',[x,u],[qch])\n",
        "# #F1lim=(funcF1([0,0,qlim[0]]),funcF1([0,0,qlim[1]])) # Limits  F1\n",
        "# #F2lim=(funcF2([0,0,qlim[0]]),funcF2([0,0,qlim[1]])) # Limits  F2\n",
        "# # F1c=Lim_c(F1lim) # characteristic value F1\n",
        "# # F2c=Lim_c(F2lim) # characteristic value F2\n",
        "# # Hc=Lim_c(H_lim) # characteristic value H\n",
        "# #qcc=Lim_c(qch_lim) # characteristic value qch\n",
        "# F1c=2.92634e-05\n",
        "# F2c=0.000738599\n",
        "# Hc=215.9226497597185\n",
        "# qcc=0.0020328441729756536\n",
        "# F1lim=(0.000439365,0.000439365)\n",
        "# F2lim=(0.0110894,0.0110894)\n",
        "# #Normalizing nonlinear terms\n",
        "# ##########################\n",
        "# qch=(qch-qch_lim[0])/qcc\n",
        "# F1=(F1-F1lim[0])/F1c\n",
        "# F2=(F2-F2lim[0])/F2c\n",
        "# H=(H-H_lim[0])/Hc\n",
        "# [(1/pbc)*b1/V1*(qr - (q*qc+qmin)),\n",
        "# (1/pwc)*b2/V2*((q*qc+qmin) - (qcc*qch+qch_lim[0])),\n",
        "# (1/(qc*M))*(pbh*pbc+pbmin - (pwh*pwc+pwmin) - rho*g*hw - (F1c*F1+F1lim[0]) - (F2c*F2+F2lim[0]) + rho * g * (H*Hc+H_lim[0]))]\n"
      ],
      "outputs": [],
      "metadata": {
        "id": "tfoBoWWP1nmD"
      }
    },
    {
      "cell_type": "code",
      "execution_count": null,
      "source": [
        "\n"
      ],
      "outputs": [],
      "metadata": {
        "id": "Xuqp24f14grF"
      }
    },
    {
      "cell_type": "code",
      "execution_count": 20,
      "source": [
        "def boundary(_, on_initial):\n",
        "    return on_initial\n",
        "\n",
        "\n",
        "x_0 = np.float32(xss)\n",
        "xssn = (x_0-x0)/xc\n",
        "geom = dde.geometry.TimeDomain(0, nsim)\n",
        "\n",
        "ic1 = dde.IC(geom, lambda v: xssn[0], boundary, component=0)\n",
        "ic2 = dde.IC(geom, lambda v: xssn[1], boundary, component=1)\n",
        "ic3 = dde.IC(geom, lambda v: xssn[2], boundary, component=2)\n",
        "\n",
        "\n",
        "\n",
        "observe_x1 = dde.PointSetBC(tempo, x1, component=0)\n",
        "observe_x2 = dde.PointSetBC(tempo, x2, component=1)\n",
        "observe_x3 = dde.PointSetBC(tempo, x3, component=2)\n"
      ],
      "outputs": [],
      "metadata": {
        "id": "VmTI37WD3gfB"
      }
    },
    {
      "cell_type": "code",
      "execution_count": 21,
      "source": [
        "data = dde.data.PDE(\n",
        "    #geom, ED_BCS, [ic1,ic2,ic3],\n",
        "    #geom, ED_BCS, [ic1,ic2,ic3,observe_x1,observe_x2,observe_x3],\n",
        "    #geom, ED_BCS, [ic1,ic2,ic3,observe_x1,observe_x2],\n",
        "    geom, ED_BCS, [observe_x1,observe_x2],\n",
        "    #geom, ED_BCS, [ic1,ic2,ic3,observe_x1],\n",
        "    #solution=func,\n",
        "    num_test=2000,\n",
        "    num_domain=6000,\n",
        "    #num_boundary=2,\n",
        "    #anchors=tempo,\n",
        "    auxiliary_var_function=ex_func\n",
        "    )"
      ],
      "outputs": [],
      "metadata": {
        "id": "UREVeAKCRkqc"
      }
    },
    {
      "cell_type": "code",
      "execution_count": 22,
      "source": [
        "\n",
        "passos=10000\n",
        "\n",
        "layer_size = [1] + [30]*6 + [3]\n",
        "activation = \"tanh\" # \n",
        "#activation = \"sigmoid\"\n",
        "initializer = \"Glorot uniform\"\n",
        "net = dde.maps.FNN(layer_size, activation, initializer)\n",
        "#                   batch_normalization=\"before\")\n",
        "# callbacks for storing results\n",
        "fnamevar = \"LEA_rho_PI.dat\"\n",
        "variable = dde.callbacks.VariableValue([rho,PI], period=100, filename=fnamevar)\n",
        "model = dde.Model(data, net)\n",
        "checker = dde.callbacks.ModelCheckpoint(\n",
        "        \"model_norm/modelo.ckpt\", save_better_only=True)\n",
        "early_stopping = dde.callbacks.EarlyStopping(min_delta=1e-4, patience=2000)\n",
        "cb=[variable,checker,early_stopping]\n",
        "#cb=[checker]\n",
        "#cb=None\n"
      ],
      "outputs": [],
      "metadata": {
        "id": "3s8yHLrh3gfB"
      }
    },
    {
      "cell_type": "code",
      "execution_count": 23,
      "source": [
        "model.compile(\"adam\", lr=0.001)\n",
        "\n"
      ],
      "outputs": [
        {
          "output_type": "stream",
          "name": "stdout",
          "text": [
            "Compiling model...\n",
            "Building feed-forward neural network...\n",
            "'build' took 0.113706 s\n",
            "\n"
          ]
        },
        {
          "output_type": "stream",
          "name": "stderr",
          "text": [
            "/home/taniel/anaconda3/envs/RC/lib/python3.9/site-packages/tensorflow/python/keras/legacy_tf_layers/core.py:171: UserWarning: `tf.layers.dense` is deprecated and will be removed in a future version. Please use `tf.keras.layers.Dense` instead.\n",
            "  warnings.warn('`tf.layers.dense` is deprecated and '\n",
            "/home/taniel/anaconda3/envs/RC/lib/python3.9/site-packages/tensorflow/python/keras/engine/base_layer_v1.py:1719: UserWarning: `layer.apply` is deprecated and will be removed in a future version. Please use `layer.__call__` method instead.\n",
            "  warnings.warn('`layer.apply` is deprecated and '\n"
          ]
        },
        {
          "output_type": "stream",
          "name": "stdout",
          "text": [
            "'compile' took 1.483881 s\n",
            "\n"
          ]
        }
      ],
      "metadata": {
        "colab": {
          "base_uri": "https://localhost:8080/"
        },
        "id": "Xp65B5EPiSOW",
        "outputId": "69781b75-efaf-47d8-e41d-ae6947c29dd0"
      }
    },
    {
      "cell_type": "code",
      "execution_count": 24,
      "source": [
        "c."
      ],
      "outputs": [
        {
          "output_type": "error",
          "ename": "SyntaxError",
          "evalue": "invalid syntax (<ipython-input-24-cf463a5954f9>, line 1)",
          "traceback": [
            "\u001b[0;36m  File \u001b[0;32m\"<ipython-input-24-cf463a5954f9>\"\u001b[0;36m, line \u001b[0;32m1\u001b[0m\n\u001b[0;31m    c.\u001b[0m\n\u001b[0m      ^\u001b[0m\n\u001b[0;31mSyntaxError\u001b[0m\u001b[0;31m:\u001b[0m invalid syntax\n"
          ]
        }
      ],
      "metadata": {
        "colab": {
          "base_uri": "https://localhost:8080/",
          "height": 135
        },
        "id": "Uvenucs2qP_C",
        "outputId": "e9c028f3-e987-4bf8-dde7-ae8af714a712"
      }
    },
    {
      "cell_type": "code",
      "execution_count": null,
      "source": [
        "model.compile(\"adam\", lr=0.001, loss_weights=[1.6,1.6,1.8,2.5,2.5])\n",
        "losshistory, train_state=model.train(epochs=25000, callbacks=cb)\n",
        "dde.saveplot(losshistory, train_state, issave=True, isplot=True)\n"
      ],
      "outputs": [
        {
          "output_type": "stream",
          "name": "stdout",
          "text": [
            "Compiling model...\n",
            "'compile' took 1.375032 s\n",
            "\n",
            "Initializing variables...\n",
            "Training model...\n",
            "\n",
            "Step      Train loss                                            Test loss                                             Test metric\n",
            "0         [3.66e+03, 5.19e+01, 1.20e+05, 4.10e-01, 2.12e-01]    [3.67e+03, 5.20e+01, 1.20e+05, 0.00e+00, 0.00e+00]    []  \n",
            "INFO:tensorflow:model_norm/modelo.ckpt-1 is not in all_model_checkpoint_paths. Manually adding it.\n",
            "1000      [1.15e+02, 1.01e+02, 2.05e+03, 2.28e-02, 4.35e-02]    [1.15e+02, 1.01e+02, 2.05e+03, 0.00e+00, 0.00e+00]    []  \n",
            "INFO:tensorflow:model_norm/modelo.ckpt-1000 is not in all_model_checkpoint_paths. Manually adding it.\n",
            "2000      [3.49e+01, 1.36e+01, 4.75e+02, 3.16e-02, 1.05e-01]    [3.50e+01, 1.36e+01, 4.76e+02, 0.00e+00, 0.00e+00]    []  \n",
            "INFO:tensorflow:model_norm/modelo.ckpt-2000 is not in all_model_checkpoint_paths. Manually adding it.\n",
            "3000      [1.65e+01, 1.13e+01, 2.43e+02, 4.41e-02, 1.18e-01]    [1.65e+01, 1.13e+01, 2.43e+02, 0.00e+00, 0.00e+00]    []  \n",
            "INFO:tensorflow:model_norm/modelo.ckpt-3000 is not in all_model_checkpoint_paths. Manually adding it.\n",
            "4000      [9.43e+00, 9.09e+00, 1.87e+02, 7.03e-02, 1.46e-01]    [9.43e+00, 9.10e+00, 1.87e+02, 0.00e+00, 0.00e+00]    []  \n",
            "INFO:tensorflow:model_norm/modelo.ckpt-4000 is not in all_model_checkpoint_paths. Manually adding it.\n",
            "5000      [5.45e+00, 6.56e+00, 1.55e+02, 1.31e-01, 1.92e-01]    [5.45e+00, 6.57e+00, 1.55e+02, 0.00e+00, 0.00e+00]    []  \n",
            "INFO:tensorflow:model_norm/modelo.ckpt-5000 is not in all_model_checkpoint_paths. Manually adding it.\n",
            "6000      [3.48e+00, 4.78e+00, 1.45e+02, 2.61e-01, 2.51e-01]    [3.48e+00, 4.78e+00, 1.45e+02, 0.00e+00, 0.00e+00]    []  \n",
            "INFO:tensorflow:model_norm/modelo.ckpt-6000 is not in all_model_checkpoint_paths. Manually adding it.\n",
            "7000      [2.29e+00, 4.29e+00, 9.31e+01, 4.61e-01, 3.28e-01]    [2.29e+00, 4.29e+00, 9.30e+01, 0.00e+00, 0.00e+00]    []  \n",
            "INFO:tensorflow:model_norm/modelo.ckpt-7000 is not in all_model_checkpoint_paths. Manually adding it.\n",
            "8000      [1.51e+00, 3.02e+00, 9.08e+01, 6.93e-01, 4.15e-01]    [1.52e+00, 3.02e+00, 9.09e+01, 0.00e+00, 0.00e+00]    []  \n",
            "INFO:tensorflow:model_norm/modelo.ckpt-8000 is not in all_model_checkpoint_paths. Manually adding it.\n",
            "9000      [1.32e+00, 2.13e+00, 7.01e+01, 8.77e-01, 4.83e-01]    [1.33e+00, 2.13e+00, 6.99e+01, 0.00e+00, 0.00e+00]    []  \n",
            "INFO:tensorflow:model_norm/modelo.ckpt-9000 is not in all_model_checkpoint_paths. Manually adding it.\n",
            "10000     [9.92e-01, 1.81e+00, 4.04e+01, 9.79e-01, 5.53e-01]    [9.92e-01, 1.81e+00, 4.03e+01, 0.00e+00, 0.00e+00]    []  \n",
            "INFO:tensorflow:model_norm/modelo.ckpt-10000 is not in all_model_checkpoint_paths. Manually adding it.\n",
            "11000     [8.29e-01, 1.50e+00, 5.05e+01, 1.02e+00, 6.15e-01]    [8.30e-01, 1.50e+00, 5.05e+01, 0.00e+00, 0.00e+00]    []  \n",
            "12000     [8.51e-01, 6.79e-01, 3.13e+01, 1.08e+00, 6.62e-01]    [8.51e-01, 6.81e-01, 3.13e+01, 0.00e+00, 0.00e+00]    []  \n",
            "INFO:tensorflow:model_norm/modelo.ckpt-12000 is not in all_model_checkpoint_paths. Manually adding it.\n",
            "13000     [7.71e-01, 6.32e-01, 2.43e+01, 1.02e+00, 6.97e-01]    [7.71e-01, 6.34e-01, 2.43e+01, 0.00e+00, 0.00e+00]    []  \n",
            "INFO:tensorflow:model_norm/modelo.ckpt-13000 is not in all_model_checkpoint_paths. Manually adding it.\n",
            "14000     [7.11e-01, 5.39e-01, 1.87e+01, 9.26e-01, 7.35e-01]    [7.11e-01, 5.40e-01, 1.88e+01, 0.00e+00, 0.00e+00]    []  \n",
            "INFO:tensorflow:model_norm/modelo.ckpt-14000 is not in all_model_checkpoint_paths. Manually adding it.\n",
            "15000     [6.50e-01, 4.82e-01, 3.44e+01, 8.09e-01, 7.44e-01]    [6.49e-01, 4.82e-01, 3.43e+01, 0.00e+00, 0.00e+00]    []  \n",
            "16000     [5.99e-01, 7.23e-01, 1.20e+01, 6.69e-01, 7.59e-01]    [5.98e-01, 7.23e-01, 1.20e+01, 0.00e+00, 0.00e+00]    []  \n",
            "INFO:tensorflow:model_norm/modelo.ckpt-16000 is not in all_model_checkpoint_paths. Manually adding it.\n",
            "17000     [5.70e-01, 7.53e-01, 7.01e+00, 5.70e-01, 7.68e-01]    [5.69e-01, 7.53e-01, 7.02e+00, 0.00e+00, 0.00e+00]    []  \n",
            "INFO:tensorflow:model_norm/modelo.ckpt-17000 is not in all_model_checkpoint_paths. Manually adding it.\n",
            "18000     [4.98e-01, 7.18e-01, 9.69e+00, 5.40e-01, 7.90e-01]    [4.97e-01, 7.17e-01, 9.69e+00, 0.00e+00, 0.00e+00]    []  \n",
            "19000     [4.82e-01, 6.49e-01, 1.46e+01, 5.26e-01, 7.97e-01]    [4.81e-01, 6.48e-01, 1.46e+01, 0.00e+00, 0.00e+00]    []  \n",
            "Epoch 19000: early stopping\n",
            "\n",
            "Best model at step 17000:\n",
            "  train loss: 9.67e+00\n",
            "  test loss: 8.34e+00\n",
            "  test metric: []\n",
            "\n",
            "'train' took 925.049567 s\n",
            "\n",
            "Saving loss history to loss.dat ...\n",
            "Saving training data to train.dat ...\n",
            "Saving test data to test.dat ...\n"
          ]
        },
        {
          "output_type": "display_data",
          "data": {
            "image/png": "[encoded data removed]",
            "text/plain": [
              "<Figure size 432x288 with 1 Axes>"
            ]
          },
          "metadata": {
            "needs_background": "light"
          }
        },
        {
          "output_type": "display_data",
          "data": {
            "image/png": "[encoded data removed]",
            "text/plain": [
              "<Figure size 432x288 with 1 Axes>"
            ]
          },
          "metadata": {
            "needs_background": "light"
          }
        }
      ],
      "metadata": {
        "id": "oTRPU0TgTZlT",
        "colab": {
          "base_uri": "https://localhost:8080/",
          "height": 1000
        },
        "outputId": "7c55dfc4-294e-4597-8818-c5e4a589d6cc"
      }
    },
    {
      "cell_type": "code",
      "execution_count": null,
      "source": [
        "\n",
        "model.compile(\"L-BFGS-B\",loss_weights=[1,1,1,2,2])\n",
        "losshistory, train_state = model.train(callbacks=cb,model_save_path='model_norm/modelo.ckpt')\n",
        "modelo1='model_norm/modelo.ckpt-'+str(train_state.best_step)\n",
        "previsao(modelo1,[x1,x2,x3],tempo)\n"
      ],
      "outputs": [
        {
          "output_type": "stream",
          "name": "stdout",
          "text": [
            "Compiling model...\n",
            "'compile' took 1.003224 s\n",
            "\n",
            "Training model...\n",
            "\n",
            "Step      Train loss                                            Test loss                                             Test metric\n",
            "19000     [3.01e-01, 4.06e-01, 8.12e+00, 4.21e-01, 6.37e-01]    [3.01e-01, 4.05e-01, 8.12e+00, 0.00e+00, 0.00e+00]    []  \n",
            "INFO:tensorflow:Optimization terminated with:\n",
            "  Message: b'ABNORMAL_TERMINATION_IN_LNSRCH'\n",
            "  Objective function value: nan\n",
            "  Number of iterations: 0\n",
            "  Number of functions evaluations: 51\n",
            "19101     [3.01e-01, 4.06e-01, 8.12e+00, 4.21e-01, 6.37e-01]    [3.01e-01, 4.05e-01, 8.12e+00, 0.00e+00, 0.00e+00]    []  \n",
            "\n",
            "Best model at step 17000:\n",
            "  train loss: 9.67e+00\n",
            "  test loss: 8.34e+00\n",
            "  test metric: []\n",
            "\n",
            "Epoch 19101: saving model to model_norm/modelo.ckpt-19101 ...\n",
            "\n",
            "INFO:tensorflow:model_norm/modelo.ckpt-19101 is not in all_model_checkpoint_paths. Manually adding it.\n",
            "'train' took 6.786936 s\n",
            "\n",
            "Restoring model from model_norm/modelo.ckpt-17000 ...\n",
            "\n",
            "INFO:tensorflow:Restoring parameters from model_norm/modelo.ckpt-17000\n",
            "Predicting...\n",
            "'predict' took 0.054765 s\n",
            "\n"
          ]
        },
        {
          "output_type": "display_data",
          "data": {
            "image/png": "[encoded data removed]",
            "text/plain": [
              "<Figure size 432x288 with 3 Axes>"
            ]
          },
          "metadata": {
            "needs_background": "light"
          }
        }
      ],
      "metadata": {
        "id": "VZjvR9gc013x",
        "colab": {
          "base_uri": "https://localhost:8080/",
          "height": 823
        },
        "outputId": "ab4bf4f0-4429-44bf-9922-54ff1bc90f04"
      }
    },
    {
      "cell_type": "code",
      "execution_count": 25,
      "source": [
        "model.restore('model_norm/modelo.ckpt-43000',verbose=1)"
      ],
      "outputs": [
        {
          "output_type": "stream",
          "name": "stdout",
          "text": [
            "Restoring model from model_norm/modelo.ckpt-43000 ...\n",
            "\n",
            "INFO:tensorflow:Restoring parameters from model_norm/modelo.ckpt-43000\n"
          ]
        }
      ],
      "metadata": {}
    },
    {
      "cell_type": "code",
      "execution_count": 50,
      "source": [
        "modelo1='model_norm/modelo.ckpt-43000'\n",
        "previsao(modelo1,[x1,x2,x3],tempo)"
      ],
      "outputs": [
        {
          "output_type": "stream",
          "name": "stdout",
          "text": [
            "Restoring model from model_norm/modelo.ckpt-43000 ...\n",
            "\n",
            "INFO:tensorflow:Restoring parameters from model_norm/modelo.ckpt-43000\n",
            "Predicting...\n",
            "'predict' took 0.011574 s\n",
            "\n"
          ]
        },
        {
          "output_type": "display_data",
          "data": {
            "image/png": "[encoded data removed]",
            "text/plain": [
              "<Figure size 432x288 with 3 Axes>"
            ]
          },
          "metadata": {
            "needs_background": "light"
          }
        }
      ],
      "metadata": {}
    },
    {
      "cell_type": "code",
      "execution_count": 80,
      "source": [
        "  X = geom.random_points(300)\n",
        "  f = model.predict(X, operator=ED_BCS)\n",
        "  \n",
        "\n",
        " "
      ],
      "outputs": [
        {
          "output_type": "stream",
          "name": "stdout",
          "text": [
            "Predicting...\n",
            "'predict' took 0.669813 s\n",
            "\n"
          ]
        }
      ],
      "metadata": {}
    },
    {
      "cell_type": "code",
      "execution_count": 84,
      "source": [
        "eixo=2\n",
        "\n",
        "err_eq = np.absolute(f[eixo])\n",
        "err = np.mean(err_eq)\n",
        "err_eq.shape\n",
        "x_id = np.argmax(err_eq,0)\n",
        "x_id.shape\n",
        "#print(err_eq.shape)\n",
        "x_id"
      ],
      "outputs": [
        {
          "output_type": "execute_result",
          "data": {
            "text/plain": [
              "array([182])"
            ]
          },
          "metadata": {},
          "execution_count": 84
        }
      ],
      "metadata": {}
    },
    {
      "cell_type": "code",
      "execution_count": 85,
      "source": [
        "24*8,1"
      ],
      "outputs": [
        {
          "output_type": "execute_result",
          "data": {
            "text/plain": [
              "(192, 1)"
            ]
          },
          "metadata": {},
          "execution_count": 85
        }
      ],
      "metadata": {}
    }
  ]
}