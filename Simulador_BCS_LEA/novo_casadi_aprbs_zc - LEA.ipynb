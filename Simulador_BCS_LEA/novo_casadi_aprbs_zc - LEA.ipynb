{
 "cells": [
  {
   "cell_type": "code",
   "execution_count": 10,
   "metadata": {
    "pycharm": {
     "name": "#%%\n"
    }
   },
   "outputs": [
    {
     "name": "stdout",
     "output_type": "stream",
     "text": [
      "0.24108276567583545 7.559321788388188 [-11.492505101438962, 204.43014465827954]\n",
      "Dados carregados\n"
     ]
    }
   ],
   "source": [
    "import matplotlib.pyplot as plt\n",
    "import numpy as np\n",
    "path_subrotinas=\"/home/taniel/Desktop/Projetos_Deep/BCS/subrotinas.py\"\n",
    "exec(compile(open('param_LEA.py', \"rb\").read(), 'param_LEA.py', 'exec')) #% Roda arquivo com parâmetros do modelo BCS\n",
    "exec(compile(open('subrotinas.py', \"rb\").read(), 'subrotinas.py', 'exec'))\n",
    "exec(compile(open('exp_LEA.py', \"rb\").read(), 'exp_LEA.py', 'exec')) # Carrega função para leitura de dados experimentais\n",
    "%matplotlib tk"
   ]
  },
  {
   "cell_type": "markdown",
   "metadata": {
    "pycharm": {
     "name": "#%% md\n"
    }
   },
   "source": [
    "Definindo as variáveis simbólicas"
   ]
  },
  {
   "cell_type": "code",
   "execution_count": 11,
   "metadata": {
    "pycharm": {
     "name": "#%%\n"
    }
   },
   "outputs": [],
   "source": [
    "# Criando simbolica\n",
    "from casadi import *\n",
    "nx = 3; nu = 4;\n",
    "x = MX.sym(\"x\",nx); # Estados\n",
    "u = MX.sym(\"u\",nu); # Exogena\n",
    "dudt_max = MX.sym(\"dudt_max\",2); # Exogena\n"
   ]
  },
  {
   "cell_type": "code",
   "execution_count": 12,
   "metadata": {
    "pycharm": {
     "name": "#%%\n"
    }
   },
   "outputs": [
    {
     "name": "stdout",
     "output_type": "stream",
     "text": [
      "0\n"
     ]
    }
   ],
   "source": [
    "pbh = x[0]\n",
    "pwh = x[1]\n",
    "q = x[2]\n",
    "# =========================================================================\n",
    "#  Define as entradas do BCS LEA   \n",
    "# =========================================================================\n",
    "#   freq = Cexp.referencia_frequencia_inversor(1:nsim)*0.1;                   % [Hz] frequencia de operacao\n",
    "intervalo=np.array([int(0*3600),int(7.9*3600)])\n",
    "\n",
    "#intervalo=np.array([1.8,3])\n",
    "LEA=dados_LEA_Exp('Dados_BCSLEA_20210818.mat',intervalo)\n",
    "pman=LEA['pressao_manifold_coriolis']*1e5\n",
    "pres=LEA['pressao_reservatorio']*1e5\n",
    "pm_0=pman[0]\n",
    "pr_0=pres[0]\n",
    "u_0=np.array([LEA['referencia_frequencia_inversor'][0],LEA['valvula_pneumatica_topo'][0],pm_0,pr_0])\n",
    "x_0=np.array([LEA['pressao_fundo'][0]*1e5,LEA['pressao_choke'][0]*1e5,LEA['vazao'][0]/3600])\n",
    "u_0\n",
    "nsim=LEA['tempo']+1\n",
    "ts=LEA['Ts']\n",
    "tempo_hora = np.arange(0,nsim*ts,ts)/3600"
   ]
  },
  {
   "cell_type": "code",
   "execution_count": 13,
   "metadata": {},
   "outputs": [],
   "source": [
    "fig3=plt.figure()\n",
    "label = ['Pman','Pr','f','z'];\n",
    "ax1=fig3.add_subplot(2,2,1)\n",
    "ax1.plot(tempo_hora ,pman/1e5, label='Pman')\n",
    "ax1.set_ylabel(label[0])\n",
    "plt.grid(True)\n",
    "ax2=fig3.add_subplot(2,2,2)\n",
    "ax2.plot(tempo_hora,pres/1e5, label='Pr')\n",
    "ax2.set_ylabel(label[1])\n",
    "plt.grid(True)\n",
    "ax3=fig3.add_subplot(2,2,3)\n",
    "ax3.plot(tempo_hora,LEA['referencia_frequencia_inversor']*0.1, label='f')\n",
    "ax3.set_ylabel(label[2])\n",
    "plt.grid(True)\n",
    "ax4=fig3.add_subplot(2,2,4)\n",
    "ax4.plot(tempo_hora,LEA['valvula_pneumatica_topo'], label='z')\n",
    "ax4.set_ylabel(label[3])\n",
    "plt.grid(True)\n",
    "\n",
    "\n"
   ]
  },
  {
   "cell_type": "code",
   "execution_count": null,
   "metadata": {},
   "outputs": [],
   "source": []
  },
  {
   "cell_type": "code",
   "execution_count": 14,
   "metadata": {
    "pycharm": {
     "name": "#%%\n"
    }
   },
   "outputs": [],
   "source": [
    "# Entradas\n",
    "# Valores máximos e mínimos para normalização\n",
    "#Entradas - conforme binder e pavlov\n",
    "#========================================\n",
    "pbc=Lim_c(pbhlim)\n",
    "pwc=Lim_c(pwhlim)\n",
    "qc=Lim_c(qlim)\n",
    "pbmin=pbhlim[0]\n",
    "pwmin=pwhlim[0]\n",
    "qmin=qlim[0]\n",
    "#=============================\n",
    "#Disabling normalization (some actions are necessary ahead to disable Hc, F1c, F2c, qcc)\n",
    "# pbc=1;pwc=1;qc=1\n",
    "# pbmin=0;pwmin=0;qmin=0\n",
    "#=============================\n",
    "\n",
    "fqref = u[0]; zcref = u[1]; pm=u[2]; pr=u[3]\n",
    "#pm=2e6;\n",
    "zc=zcref\n",
    "fq=fqref"
   ]
  },
  {
   "cell_type": "code",
   "execution_count": 15,
   "metadata": {
    "pycharm": {
     "name": "#%%\n"
    }
   },
   "outputs": [
    {
     "name": "stdout",
     "output_type": "stream",
     "text": [
      "Limites: pbh,pwh,q\n",
      "(100000.0, 250000.0) (200000.0, 1100000.0) (0.1, 5.0)\n",
      "Limites: F1,F2,H,qch\n",
      "(DM(0.000439365), DM(0.000468628)) (DM(0.0110894), DM(0.011828)) [-11.492505101438962, 204.43014465827954] [6.69674349099543e-05, 0.0020998116078856078]\n"
     ]
    }
   ],
   "source": [
    "#=============================================\n",
    "# Computing HEAD and pump pressure gain of LEA\n",
    "q0 = (qc*q+qmin) / Cq * (f0 / fq)\n",
    "H0 =  Head[0]*q0**4 +  Head[1]*q0**3 +  Head[2]*q0**2 + Head[3]*q0 + Head[4];\n",
    "H = CH * H0 * (fq / f0) ** 2  # Head\n",
    "Pp = rho * g * H  # Dp\n",
    "#==============================================\n",
    "# Electrical power and electrical current computing\n",
    "P0 = -2.3599e9 * q0 ** 3 - 1.8082e7 * q0 ** 2 + 4.3346e6 * q0 + 9.4355e4\n",
    "#P = Cp * P0 * (fq / f0) ** 3;  \n",
    "#I = Inp * P / Pnp  \n",
    "#==============================================\n",
    "# Computing two volumes frictions in LEA piping\n",
    "qan=q*qc+qmin # non normalized flow\n",
    "Re_1 = (4*rho_1*qan)/(0.219*pi*mu);\n",
    "Re_2 = (4*rho_2*qan)/(0.219*pi*mu);\n",
    "fric_1=if_else(Re_1<4000, 64/Re_1,0.36*Re_1**(-0.25))\n",
    "fric_2=if_else(Re_1<4000, 64/Re_2,0.36*Re_2**(-0.25))\n",
    "F1 = (fric_1*qan**2*rho_1)/(2*pi*r1**3) #Frictional pressure drop below ESP\n",
    "F2 = (fric_2*qan**2*rho_2)/(2*pi*r2**3) #Frictional pressure drop above ESP\n",
    "#===========================================\n",
    "#===========================================\n",
    "# Computing intake pressure\n",
    "pin = pbh*pbc+pbmin - rho * g * h1 - F1;\n",
    "# Computing Reservoir flow\n",
    "qr = PI * (pr - (pbh*pbc+pbmin));\n",
    "# Computing flow across Choke valvule\n",
    "qch = Cc * (zc / 100) * sqrt(fabs(pwh*pwc+pwmin - pm));\n",
    "#============================================\n",
    "# Nonlinear terms analysis\n",
    "funcF1=Function('funcF1',[x],[F1])\n",
    "funcF2=Function('funcF2',[x],[F2])\n",
    "funcH=Function('funcH',[x,u],[H])\n",
    "funcqch=Function('funqch',[x,u],[qch])\n",
    "F1lim=(funcF1([0,0,qlim[0]]),funcF1([0,0,qlim[1]])) # Limits  F1\n",
    "F2lim=(funcF2([0,0,qlim[0]]),funcF2([0,0,qlim[1]])) # Limits  F2\n",
    "F1c=Lim_c(F1lim) # characteristic value F1\n",
    "F2c=Lim_c(F2lim) # characteristic value F2\n",
    "Hc=Lim_c(H_lim) # characteristic value H\n",
    "qcc=Lim_c(qch_lim) # characteristic value qch\n",
    "\n",
    "#=============================\n",
    "#Disabling normalization (other actions is necessary ahead to disable pbc,pwc,qc)\n",
    "# F1c=1;F1lim=(0,1) # characteristic value F1\n",
    "# F2c=1;F2lim=(0,1) # characteristic value F2\n",
    "# Hc=1;H_lim=(0,1) # characteristic value H\n",
    "# qcc=1;qch_lim=(0,1) # characteristic value qch\n",
    "\n",
    "\n",
    "#Normalizing nonlinear terms\n",
    "##########################\n",
    "qch=(qch-qch_lim[0])/qcc\n",
    "F1=(F1-F1lim[0])/F1c\n",
    "F2=(F2-F2lim[0])/F2c\n",
    "H=(H-H_lim[0])/Hc\n",
    "###########################\n",
    "\n",
    "xss=x_0;uss=u_0\n",
    "\n",
    "dpbhdt = (1/pbc)*b1/V1*(qr - (q*qc+qmin))\n",
    "dpwhdt = (1/pwc)*b2/V2*((q*qc+qmin) - (qcc*qch+qch_lim[0]))\n",
    "dqdt = (1/(qc*M))*(pbh*pbc+pbmin + rho * g * (H*Hc+H_lim[0]) - (pwh*pwc+pwmin) - rho*g*hw - (F1c*F1+F1lim[0]) - (F2c*F2+F2lim[0]))\n",
    "\n",
    "dx=[dpbhdt,dpwhdt,dqdt]\n",
    "print('Limites: pbh,pwh,q')\n",
    "print(pbhlim,pwhlim,(qlim[0]*3600,qlim[1]*3600))\n",
    "print('Limites: F1,F2,H,qch')\n",
    "print(F1lim,F2lim,H_lim,qch_lim)\n",
    "\n",
    "# print(u_0[3]/1e5,xss[0]/1e5)\n",
    "# PI*(u_0[3]-xss[0])/1e5"
   ]
  },
  {
   "cell_type": "code",
   "execution_count": null,
   "metadata": {},
   "outputs": [],
   "source": []
  },
  {
   "cell_type": "code",
   "execution_count": 16,
   "metadata": {},
   "outputs": [
    {
     "data": {
      "text/plain": [
       "[DM(-2.81218e+07), DM(-83.1811), DM(-2.53029e+08)]"
      ]
     },
     "execution_count": 16,
     "metadata": {},
     "output_type": "execute_result"
    }
   ],
   "source": [
    "#xss = np.float32(np.array([8311024.82175957,2990109.06207437,0.00995042241351780]))\n",
    "\n",
    "x0=np.array([pbmin,pwmin,qmin])#,0,0])\n",
    "xc=np.array([pbc,pwc,qc])#,1,1])\n",
    "xssn = (xss-x0)/xc\n",
    "xssn\n",
    "\n",
    "#xssn=xss\n",
    "funcx1dot=Function('funcx1dot',[u,x],[dx[0]])\n",
    "funcx2dot=Function('funcx2dot',[u,x],[dx[1]])\n",
    "funcx3dot=Function('funcx3dot',[u,x],[dx[2]])\n",
    "#dxout=[funcx1dot(uss,xssn), funcx2dot(uss,xssn),funcx3dot(uss,xssn)]\n",
    "dxout=[funcx1dot(uss,xss), funcx2dot(uss,xss),funcx3dot(uss,xss)]\n",
    "dxout\n"
   ]
  },
  {
   "cell_type": "code",
   "execution_count": 17,
   "metadata": {},
   "outputs": [
    {
     "data": {
      "text/plain": [
       "40.0"
      ]
     },
     "execution_count": 17,
     "metadata": {},
     "output_type": "execute_result"
    }
   ],
   "source": [
    "u_0[0]\n"
   ]
  },
  {
   "cell_type": "code",
   "execution_count": 18,
   "metadata": {},
   "outputs": [],
   "source": [
    "# Função casadi\n",
    "dxdt = casadi.vertcat(dpbhdt,dpwhdt,dqdt) \n",
    "Eq_Estado = casadi.Function('Eq_Estado',[x,u],[dxdt],\n",
    "                     ['x','u'],['dxdt'])\n",
    "\n",
    "y=vertcat(pin,H);\n",
    "ny = y.size1()\n",
    "# Equações algébricas\n",
    "sea_nl = casadi.Function('sea_nl',[x,u],[y,pin,H],\\\n",
    "                 ['x','u'],['y','pin','H']); # Sistema de Eq. Algebricas variaveis de sa�da\n",
    "\n",
    "BCS={\n",
    "     'x': x,\n",
    "     'u': u,\n",
    "     'y': y,\n",
    "     'nx': nx,\n",
    "     'nu': nu,\n",
    "     'ny': ny,\n",
    "     'NaoLinear': {'sedo_nl': Eq_Estado(x,u),\n",
    "                   'sea_nl': sea_nl\n",
    "                   }\n",
    "}\n",
    "#%% Calculo do estacionario\n",
    "#% Func��o objetivo\n",
    "dxdt_0 = Eq_Estado(BCS['x'], BCS['u']);\n",
    "J = sum1(dxdt_0**2);\n",
    "#% Otimizador\n",
    "opt={\n",
    "     'ipopt':{\n",
    "         'print_level':0,\n",
    "         'acceptable_tol':1e-8,\n",
    "         'acceptable_obj_change_tol':1e-6,\n",
    "         'max_iter':50\n",
    "         },\n",
    "     'print_time':0,\n",
    "     }\n",
    "\n",
    "opt['ipopt']['print_level']=0;# %0,3\n",
    "opt['print_time']=0;\n",
    "opt['ipopt']['acceptable_tol']=1e-8;\n",
    "opt['ipopt']['acceptable_obj_change_tol']=1e-6;\n",
    "opt['ipopt']['max_iter']=50;\n"
   ]
  },
  {
   "cell_type": "code",
   "execution_count": 19,
   "metadata": {},
   "outputs": [],
   "source": [
    "MMQ = {'x':BCS['x'], 'f':J, 'p':BCS['u']}\n",
    "#nlp={'x':vertcat(BCS['x'],BCS['u']), 'f':J} #variáveis de decisão, função f, g (N/A)\n",
    "#nlp={'x':BCS['x'], 'f':J}\n",
    "solver = nlpsol('solver', 'ipopt', MMQ, opt)\n",
    "# Restrições das variaveis de decis�o\n",
    "# minimo\n",
    "args={\n",
    "      'lbx': np.zeros((nx,1)),\n",
    "# m�ximo\n",
    "      'ubx':np.full((nx, 1), np.inf)\n",
    "      }\n",
    "\n",
    "# Solu��o do otimizador\n",
    "sol=solver(x0=BCS['x'], lbx=args['lbx'], ubx=args['ubx'], p=BCS['u']);\n",
    "yss=sea_nl(sol['x'],BCS['u'])\n",
    "Estacionario = Function('Estacionario',[BCS['x'],BCS['u']],[sol['x']],['x0','uss'],['xss']);\n",
    "\n",
    "\n"
   ]
  },
  {
   "cell_type": "code",
   "execution_count": 20,
   "metadata": {},
   "outputs": [
    {
     "name": "stdout",
     "output_type": "stream",
     "text": [
      "\n",
      "******************************************************************************\n",
      "This program contains Ipopt, a library for large-scale nonlinear optimization.\n",
      " Ipopt is released as open source code under the Eclipse Public License (EPL).\n",
      "         For more information visit https://github.com/coin-or/Ipopt\n",
      "******************************************************************************\n",
      "\n"
     ]
    },
    {
     "data": {
      "text/plain": [
       "DM([0.778975, 0.451849, 0])"
      ]
     },
     "execution_count": 20,
     "metadata": {},
     "output_type": "execute_result"
    }
   ],
   "source": [
    "BCS['Estacionario'] = Estacionario;\n",
    "xss2=Estacionario(xssn,uss)\n",
    "xss2\n"
   ]
  },
  {
   "cell_type": "code",
   "execution_count": 21,
   "metadata": {},
   "outputs": [
    {
     "name": "stdout",
     "output_type": "stream",
     "text": [
      "[3.06844781e+10 4.58588934e+11 2.83303039e-05] [4.0000000e+01 2.0000000e+01 1.3393538e+04 2.1787500e+05]\n"
     ]
    }
   ],
   "source": [
    "print(xss*xc+x0,uss)"
   ]
  },
  {
   "cell_type": "code",
   "execution_count": 22,
   "metadata": {},
   "outputs": [
    {
     "data": {
      "text/plain": [
       "array([2.04562521e+05, 5.09543037e+05, 4.05937533e-04])"
      ]
     },
     "execution_count": 22,
     "metadata": {},
     "output_type": "execute_result"
    }
   ],
   "source": [
    "xss"
   ]
  },
  {
   "cell_type": "code",
   "execution_count": 23,
   "metadata": {},
   "outputs": [],
   "source": [
    "# Definir variaveis manipuladas e controladas e disturbio externo\n",
    "mv = [0,1]    #% [f, Zc]\n",
    "pv = [0,1]  #% [pin, H]  #% [P, I]\n",
    "#pv = [2,3];  #% [pin, H]\n",
    "de = 2;      #% [pm]\n",
    "tg = 2;      #% MV target\n",
    "#% Parametros\n",
    "\n",
    "#nsim=286\n",
    "#%Modelo de predição\n",
    "#% Criando o objeto para predição do modelo\n",
    "# Iniciando variavel dicionário para a construção da EDO\n",
    "# sedo = {'x': BCS['x'][0:3], # Estados\n",
    "#         'p': BCS['u'], #Variáveis exogenas\n",
    "#         'ode': BCS['NaoLinear']['sedo_nl'] # SEDO (Gerado no bcs_settings)\n",
    "#         };\n",
    "\n",
    "sedo = {'x': BCS['x'], # Estados\n",
    "        'p': BCS['u'], #Variáveis exogenas\n",
    "        'ode': Eq_Estado(x,u) # SEDO (Gerado no bcs_settings)\n",
    "        };\n",
    "\n",
    "#% Criando o objeto p,ra integração da Eq_estado\n",
    "opt = {'tf':ts,\n",
    "       't0':0\n",
    "\n",
    "       };   #% opções do integrador"
   ]
  },
  {
   "cell_type": "code",
   "execution_count": 24,
   "metadata": {},
   "outputs": [],
   "source": [
    "int_odes = integrator('int_odes','cvodes',sedo,opt);\n",
    "# objeto integrador\n",
    "res = int_odes(x0=BCS['x'],p=BCS['u']);             #   % solução um passo a frente\n",
    "npv = len(pv); nmv = len(mv);\n"
   ]
  },
  {
   "cell_type": "code",
   "execution_count": 25,
   "metadata": {},
   "outputs": [],
   "source": [
    "# Criando o objeto para solução da equação de medição\n",
    "Eq_medicao = Function('Eq_medicao',[BCS['x'],BCS['u']],[BCS['y'][pv]],['x','u'],['y']);\n",
    "# Criacao do objeto para simulacao do BCS Eq de estado + Eq de Medicao\n",
    "Modelo_Predicao = Function('Modelo_Predicao',[BCS['x'],BCS['u']],[res['xf'],Eq_medicao(res['xf'],BCS['u'])],['xk_1','uk_1'],['xk','yk']);\n",
    "Modelo_Predicao2 = Function('Modelo_Predicao2',[BCS['x'],BCS['u']],[res['xf']],['xk_1','uk_1'],['xk']);"
   ]
  },
  {
   "cell_type": "code",
   "execution_count": 26,
   "metadata": {},
   "outputs": [],
   "source": [
    "xpk = xss;\n",
    "uss\n",
    "#xpk=normalizar(xss,xnorm)\n",
    "\n",
    "#uk_1 = normaliza_u(uss[mv],unorm)\n",
    "#uk_1=(uss[mv]-unorm[:,0])/unorm[:,1]\n",
    "# MVS\n",
    "# Aloca��o de variaveis\n",
    "Xk = np.zeros((nx,1))"
   ]
  },
  {
   "cell_type": "code",
   "execution_count": 27,
   "metadata": {},
   "outputs": [],
   "source": [
    "Yk = np.zeros((npv,1))\n",
    "Uk = np.zeros((nmv,1))\n",
    "Ymk = Yk\n",
    "Ys = Yk\n",
    "Ymin = Yk\n",
    "Ymax = Yk"
   ]
  },
  {
   "cell_type": "code",
   "execution_count": 28,
   "metadata": {},
   "outputs": [],
   "source": [
    "#Valores iniciais de simulação\n",
    "tss=5 # Tempo inicial no estacionário\n",
    "Uk= uss\n",
    "# Povoar vetor de X com dados não normalizados\n",
    "\n"
   ]
  },
  {
   "cell_type": "code",
   "execution_count": 29,
   "metadata": {},
   "outputs": [
    {
     "name": "stdout",
     "output_type": "stream",
     "text": [
      "(285,) (285,)\n"
     ]
    }
   ],
   "source": [
    "#======================================================\n",
    "#Entradas aplicadas no LEA\n",
    "val_pneumatica = LEA['valvula_pneumatica_topo']#[0:nsim]\n",
    "frequencia = LEA['referencia_frequencia_inversor']#[0:nsim]\n",
    "print(frequencia.shape,val_pneumatica.shape) \n",
    "#plt.plot(val_pneumatica)\n",
    "#val_pneumatica\n",
    "    "
   ]
  },
  {
   "cell_type": "code",
   "execution_count": 30,
   "metadata": {},
   "outputs": [
    {
     "ename": "IndexError",
     "evalue": "index 285 is out of bounds for axis 0 with size 285",
     "output_type": "error",
     "traceback": [
      "\u001b[0;31m---------------------------------------------------------------------------\u001b[0m",
      "\u001b[0;31mIndexError\u001b[0m                                Traceback (most recent call last)",
      "\u001b[0;32m<ipython-input-30-bc95d1568ec0>\u001b[0m in \u001b[0;36m<module>\u001b[0;34m\u001b[0m\n\u001b[1;32m      4\u001b[0m \u001b[0mb_range\u001b[0m \u001b[0;34m=\u001b[0m \u001b[0;34m[\u001b[0m\u001b[0;36m30\u001b[0m\u001b[0;34m,\u001b[0m\u001b[0;36m50\u001b[0m\u001b[0;34m]\u001b[0m \u001b[0;31m# periodo de retenção em cada amplitude\u001b[0m\u001b[0;34m\u001b[0m\u001b[0;34m\u001b[0m\u001b[0m\n\u001b[1;32m      5\u001b[0m \u001b[0;34m\u001b[0m\u001b[0m\n\u001b[0;32m----> 6\u001b[0;31m \u001b[0mu_f\u001b[0m\u001b[0;34m,\u001b[0m\u001b[0mprbs\u001b[0m\u001b[0;34m=\u001b[0m\u001b[0mAPRBS\u001b[0m\u001b[0;34m(\u001b[0m\u001b[0ma_range\u001b[0m\u001b[0;34m,\u001b[0m\u001b[0mb_range\u001b[0m\u001b[0;34m,\u001b[0m\u001b[0mnstep\u001b[0m\u001b[0;34m)\u001b[0m\u001b[0;34m\u001b[0m\u001b[0;34m\u001b[0m\u001b[0m\n\u001b[0m\u001b[1;32m      7\u001b[0m \u001b[0mu_z\u001b[0m\u001b[0;34m,\u001b[0m\u001b[0mprbs\u001b[0m\u001b[0;34m=\u001b[0m\u001b[0mAPRBS\u001b[0m\u001b[0;34m(\u001b[0m\u001b[0ma_range\u001b[0m\u001b[0;34m,\u001b[0m\u001b[0mb_range\u001b[0m\u001b[0;34m,\u001b[0m\u001b[0mnstep\u001b[0m\u001b[0;34m)\u001b[0m\u001b[0;34m\u001b[0m\u001b[0;34m\u001b[0m\u001b[0m\n\u001b[1;32m      8\u001b[0m \u001b[0;34m\u001b[0m\u001b[0m\n",
      "\u001b[0;32m~/Desktop/Projetos_Deep/BCS/Simulador_BCS_LEA/subrotinas.py\u001b[0m in \u001b[0;36mAPRBS\u001b[0;34m(a_range, b_range, nstep)\u001b[0m\n\u001b[1;32m    195\u001b[0m     \u001b[0;32mwhile\u001b[0m \u001b[0mj\u001b[0m \u001b[0;34m<\u001b[0m \u001b[0mnstep\u001b[0m\u001b[0;34m:\u001b[0m\u001b[0;34m\u001b[0m\u001b[0;34m\u001b[0m\u001b[0m\n\u001b[1;32m    196\u001b[0m         \u001b[0ma\u001b[0m\u001b[0;34m[\u001b[0m\u001b[0mj\u001b[0m\u001b[0;34m]\u001b[0m \u001b[0;34m=\u001b[0m \u001b[0;36m5\u001b[0m\u001b[0;34m\u001b[0m\u001b[0;34m\u001b[0m\u001b[0m\n\u001b[0;32m--> 197\u001b[0;31m         \u001b[0ma\u001b[0m\u001b[0;34m[\u001b[0m\u001b[0mj\u001b[0m\u001b[0;34m+\u001b[0m\u001b[0;36m1\u001b[0m\u001b[0;34m]\u001b[0m \u001b[0;34m=\u001b[0m \u001b[0;34m-\u001b[0m\u001b[0;36m5\u001b[0m\u001b[0;34m\u001b[0m\u001b[0;34m\u001b[0m\u001b[0m\n\u001b[0m\u001b[1;32m    198\u001b[0m         \u001b[0mj\u001b[0m \u001b[0;34m=\u001b[0m \u001b[0mj\u001b[0m\u001b[0;34m+\u001b[0m\u001b[0;36m2\u001b[0m\u001b[0;34m\u001b[0m\u001b[0;34m\u001b[0m\u001b[0m\n\u001b[1;32m    199\u001b[0m \u001b[0;34m\u001b[0m\u001b[0m\n",
      "\u001b[0;31mIndexError\u001b[0m: index 285 is out of bounds for axis 0 with size 285"
     ]
    }
   ],
   "source": [
    "nstep = nsim\n",
    "\n",
    "a_range = [35,65]\n",
    "b_range = [30,50] # periodo de retenção em cada amplitude\n",
    "\n",
    "u_f,prbs=APRBS(a_range,b_range,nstep)\n",
    "u_z,prbs=APRBS(a_range,b_range,nstep)\n",
    "\n",
    "uk_1 = np.array([np.ones_like(u_z)*40,u_z]);\n",
    "uk_1 = np.array([frequencia,val_pneumatica,pmam,pres]);\n",
    "# uk_1 = np.array([np.ones_like(u_z)*40,np.ones_like(u_z)*20]);\n",
    "# uk_1 = np.array([u_f,u_z]);\n"
   ]
  },
  {
   "cell_type": "code",
   "execution_count": null,
   "metadata": {},
   "outputs": [],
   "source": []
  },
  {
   "cell_type": "code",
   "execution_count": null,
   "metadata": {},
   "outputs": [],
   "source": [
    "#xpk = Modelo_Predicao2(xssn,uss) #valores normalizados\n",
    "xpk = Modelo_Predicao2(xss,uss) #valores normalizados\n",
    "Xk=xpk*xc+x0\n",
    "# ypk=sea_nl(xpk,uss)[0]\n",
    "# Yk=ypk*np.array([1,Hc])\n",
    "# ypk[1]*Hc"
   ]
  },
  {
   "cell_type": "code",
   "execution_count": null,
   "metadata": {},
   "outputs": [],
   "source": [
    "# xpk = Modelo_Predicao2(xss,uk_1[:,0])\n",
    "# xi=(np.arange(0,int(nsim*ts),ts));\n",
    "# #xi=np.arange(0,10,ts)\n",
    "# xi.shape\n",
    "# \n",
    "# uss\n",
    "# Uk=uk_1[:,1]\n",
    "# uk_1[:,2]\n",
    "\n",
    "# print(xpk)\n",
    "# k=1\n",
    "# print(xss)\n",
    "# k"
   ]
  },
  {
   "cell_type": "code",
   "execution_count": null,
   "metadata": {},
   "outputs": [],
   "source": [
    "# print(xpk,uk_1[:,k])\n",
    "# xpk = Modelo_Predicao2(xpk,uk_1[:,k])\n",
    "\n",
    "# k+=1\n",
    "# Xk = hcat([Xk,xpk])\n",
    "# Uk = hcat([Uk,uk_1[:,k]])\n",
    "# print(Xk)\n",
    "# print(Uk)\n",
    "# print(k)\n",
    "print(Uk)\n",
    "print(vcat([Xk[0,:],Xk[1,:],Xk[2,:]*3600]))\n",
    "\n"
   ]
  },
  {
   "cell_type": "code",
   "execution_count": null,
   "metadata": {},
   "outputs": [],
   "source": [
    "print(\"Simulação iniciada\")\n",
    "teste=20\n",
    "xi=tempo_hora[:teste]\n",
    "#teste=nsim;xi=tempo_hora\n",
    "#for k in range(1,5):\n",
    "for k in range(1,teste):\n",
    "    xpk = Modelo_Predicao2(xpk,uk_1[:,k])\n",
    "    Xk = hcat([Xk,xpk*xc+x0]) #desnormalizar x e preencher vetor\n",
    "    #ypk=sea_nl(xpk,uk_1[:,k])[0]\n",
    "    #Yk = hcat([Yk,ypk*np.array([1,Hc])]);\n",
    "    Uk = hcat([Uk,uk_1[:,k]])\n",
    "\n",
    "print(\"Xk shape =\"+str(Xk.shape))\n",
    "# print(\"Uk shape =\"+str(Uk.shape))\n",
    "# print(\"Yk shape =\"+str(Uk.shape))\n",
    "# print(\"xi shape =\"+str(xi.shape))\n",
    "print(\"Ok.simulação concluida\")\n",
    "Xk[0,:].shape"
   ]
  },
  {
   "cell_type": "code",
   "execution_count": null,
   "metadata": {},
   "outputs": [],
   "source": [
    "xi"
   ]
  },
  {
   "cell_type": "code",
   "execution_count": null,
   "metadata": {},
   "outputs": [],
   "source": [
    "# fig1=plt.figure()\n",
    "# label = [r'$p_{in}(bar)$','H(m)','P','I','qc','qr' ];\n",
    "# for iy in range(0,npv):\n",
    "#     ax = fig1.add_subplot(npv,1,iy+1)\n",
    "#     #print(iy)\n",
    "#     if iy == 0: # Pin\n",
    "#         ax.plot(xi,(Yk[iy,:].T)/1e5, label='Medição')\n",
    "#         #ax.plot(xi,Ymk[iy,:].T/1e5, label='EKF')\n",
    "#         ax.set_ylabel(label[iy])\n",
    "#         ax.set(xlim=(xi[0], nsim*ts))\n",
    "#        # ax.set(ylim=(40,62))\n",
    "#         plt.grid(True)\n",
    "#     else: # H\n",
    "#         ax.plot(xi,Yk[iy,:].T, label='Medição')\n",
    "#         #ax.plot(xi,Ymk[iy,:].T,label='EKF')\n",
    "#         ax.set_ylabel(label[iy])\n",
    "#         ax.set(xlim=(xi[0], nsim*ts))\n",
    "#        # ax.set(ylim=(580, 850))\n",
    "#         plt.grid(True)\n",
    "# #ax.plot(xi,Yk[2,:].T, label='EKF')\n",
    "# ax.legend();\n",
    "# ax.set_xlabel('Time (nT)')\n",
    "# fig1.show()\n"
   ]
  },
  {
   "cell_type": "code",
   "execution_count": null,
   "metadata": {},
   "outputs": [],
   "source": [
    "# #% Restrição\n",
    "umin  = np.array([35, 0]); np.transpose(umin);  # lower bounds of inputs\n",
    "umax  = np.array([65, 100]); np.transpose(umax); # upper bounds of inputs\n",
    "dumax = np.array([0.5, dzc_max]); np.transpose(dumax);\n",
    "fig2=plt.figure()\n",
    "label = ['f(Hz)',r'$z_c$(%)'];\n",
    "for iu in range(0,nmv):\n",
    "    ax2=fig2.add_subplot(nmv,1,iu+1)\n",
    "    ax2.plot(xi,Uk[iu,:].T, label='Medição')\n",
    "    # ax2.plot([1,nsim*ts],[umin[iu], umin[iu]],'--r')\n",
    "    # ax2.plot([1,nsim*ts],[umax[iu], umax[iu]],'--r', label='Restrição')\n",
    "    ax2.set_ylabel(label[iu])\n",
    "    #ax2.set(xlim=(xi[0], nsim*ts))\n",
    "    if iu==0:\n",
    "        ax2.set(ylim=(30, 70))\n",
    "\n",
    "    plt.grid(True)\n"
   ]
  },
  {
   "cell_type": "code",
   "execution_count": null,
   "metadata": {},
   "outputs": [],
   "source": [
    "# fig3=plt.figure()\n",
    "# label = ['Pbh (bar)','Pwh (bar)','q(m3/s)'];\n",
    "# for iu in range(0,3):\n",
    "#     ax3=fig3.add_subplot(3,1,iu+1)\n",
    "#     if iu==2:\n",
    "#         ax3.plot(xi,(Xk[iu,:].T)*3600, label='Medição')\n",
    "#         #ax3.plot([1,nsim],[umin[iu], umin[iu]],'--r')\n",
    "#         #ax3.plot([1,nsim],[umax[iu], umax[iu]],'--r', label='Restrição')\n",
    "#         ax3.set_ylabel(label[iu])\n",
    "#         #ax3.set(xlim=(xi[0], nsim*ts))\n",
    "#         # if iu==0:\n",
    "#         #     #ax2.set(ylim=(30, 70))\n",
    "#         #     print(iu)\n",
    "#         plt.grid(True)\n",
    "#     else:\n",
    "#         ax3.plot(xi,Xk[iu,:].T/1e5, label='Medição')\n",
    "#         #ax3.plot([1,nsim],[umin[iu], umin[iu]],'--r')\n",
    "#         #ax3.plot([1,nsim],[umax[iu], umax[iu]],'--r', label='Restrição')\n",
    "#         ax3.set_ylabel(label[iu])\n",
    "#         #ax3.set(xlim=(xi[0], nsim*ts))\n",
    "#         # if iu==0:\n",
    "#         #     #ax2.set(ylim=(30, 70))\n",
    "#         #     print(iu)\n",
    "#         plt.grid(True)\n",
    "\n",
    "fig3=plt.figure()\n",
    "label = ['Pbh (bar)','Pwh (bar)','q(m3/s)'];\n",
    "for iu in range(0,3):\n",
    "    ax3=fig3.add_subplot(3,1,iu+1)\n",
    "    if iu==2:\n",
    "        ax3.plot(xi,(Xk[iu,:].T*3600), label='Medição')\n",
    "        #ax3.plot([1,nsim],[umin[iu], umin[iu]],'--r')\n",
    "        #ax3.plot([1,nsim],[umax[iu], umax[iu]],'--r', label='Restrição')\n",
    "        ax3.set_ylabel(label[iu])\n",
    "        #ax3.set(xlim=(xi[0], nsim*ts))\n",
    "        # if iu==0:\n",
    "        #     #ax2.set(ylim=(30, 70))\n",
    "        #     print(iu)\n",
    "        plt.grid(True)\n",
    "    else:\n",
    "        ax3.plot(xi,Xk[iu,:].T/1e5, label='Medição')\n",
    "        #ax3.plot([1,nsim],[umin[iu], umin[iu]],'--r')\n",
    "        #ax3.plot([1,nsim],[umax[iu], umax[iu]],'--r', label='Restrição')\n",
    "        ax3.set_ylabel(label[iu])\n",
    "        #ax3.set(xlim=(xi[0], nsim*ts))\n",
    "        # if iu==0:\n",
    "        #     #ax2.set(ylim=(30, 70))\n",
    "        #     print(iu)\n",
    "        plt.grid(True)\n"
   ]
  },
  {
   "cell_type": "code",
   "execution_count": null,
   "metadata": {},
   "outputs": [],
   "source": [
    "# Xk[2,:]=Xk[2,:]*xc[2] #desnormalizar vazão\n",
    "# Yk[1,:]=Yk[1,:]*Hc #desnormalizar Head"
   ]
  },
  {
   "cell_type": "code",
   "execution_count": null,
   "metadata": {},
   "outputs": [],
   "source": [
    "exec(compile(open('envelope.py', \"rb\").read(), 'envelope.py', 'exec')) #% Roda arquivo com parâmetros do modelo BCS\n",
    "fig4,ax4=plt.subplots()\n",
    "plt.grid(True)\n",
    "BCS['Envelope']['fig'](ax4); # grafico do envelope\n",
    "#\n",
    "# Evolução dentro do envelope\n",
    "ax4.plot(Xk[2,0:].T*3600,Yk[1,0:].T,'--k')\n",
    "ax4.plot(Xk[2,0]*3600,Yk[1,0],'o')#,'MarkerFaceColor',[0,1,0],'MarkerEdgeColor',[0,0,0])\n",
    "ax4.plot(Xk[2,-1]*3600,Yk[1,-1],'o')#,'MarkerFaceColor',[1,0,0],'MarkerEdgeColor',[0,0,0])\n",
    "ax4.annotate('t=0',\n",
    "             xy=(float(Xk[2,0]*3600),float(Yk[1,0])),\n",
    "             xytext=(float(Xk[2,0]*3600)-5,float(Yk[1,0])+10),\n",
    "             arrowprops=dict(facecolor='green', shrink=0.01))\n",
    "\n",
    "ax4.annotate('t='+str(nsim),\n",
    "             xy=(float(Xk[2,-1]*3600),float(Yk[1,-1])),\n",
    "             xytext=(float(Xk[2,-1]*3600)-7,float(Yk[1,-1])+10),\n",
    "             arrowprops=dict(facecolor='red', shrink=0.01))\n",
    "plt.show()\n",
    "\n",
    "np.savez('BCS_data_train_aprbs_zc.npz', t=xi, x1=Xk[0,:].T,x2=Xk[1,:].T,x3=Xk[2,:].T,zc=z_f)"
   ]
  },
  {
   "cell_type": "code",
   "execution_count": null,
   "metadata": {},
   "outputs": [],
   "source": [
    "def ler_dados(str):\n",
    "    with open(str, 'r') as f:\n",
    "        d = f.readlines()\n",
    "        epocas = np.zeros(len(d));\n",
    "        tau = np.zeros(len(d));\n",
    "        j = 0;\n",
    "        data = []\n",
    "        for i in d:\n",
    "            k = i.rstrip().split(\" \")\n",
    "            data.append([float(i) if is_float(i) else i for i in k])\n",
    "            epocas[j] = float(k[0])\n",
    "            tau[j] = float(k[1])\n",
    "            j += 1;\n",
    "    \n",
    "    return tau, epocas\n"
   ]
  },
  {
   "cell_type": "code",
   "execution_count": null,
   "metadata": {},
   "outputs": [],
   "source": [
    "qcc/qc"
   ]
  }
 ],
 "metadata": {
  "interpreter": {
   "hash": "b797e030574f33a5ed9740f772301991f2e7ad332878e65ebeae86f627530e78"
  },
  "kernelspec": {
   "display_name": "Python 3.9.2 64-bit ('BCS': conda)",
   "name": "python3"
  },
  "language_info": {
   "codemirror_mode": {
    "name": "ipython",
    "version": 3
   },
   "file_extension": ".py",
   "mimetype": "text/x-python",
   "name": "python",
   "nbconvert_exporter": "python",
   "pygments_lexer": "ipython3",
   "version": "3.9.2"
  }
 },
 "nbformat": 4,
 "nbformat_minor": 1
}
