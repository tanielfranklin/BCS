{
 "cells": [
  {
   "cell_type": "code",
   "execution_count": 1,
   "metadata": {
    "pycharm": {
     "name": "#%%\n"
    }
   },
   "outputs": [
    {
     "name": "stdout",
     "output_type": "stream",
     "text": [
      "0.24108276567583545 7.559321788388188 [-11.492505101438962, 204.43014465827954]\n",
      "Dados carregados\n"
     ]
    }
   ],
   "source": [
    "import matplotlib.pyplot as plt\n",
    "import numpy as np\n",
    "path_subrotinas=\"/home/taniel/Desktop/Projetos_Deep/BCS/subrotinas.py\"\n",
    "exec(compile(open('param_LEA.py', \"rb\").read(), 'param_LEA.py', 'exec')) #% Roda arquivo com parâmetros do modelo BCS\n",
    "exec(compile(open(path_subrotinas, \"rb\").read(), path_subrotinas, 'exec'))\n",
    "exec(compile(open('exp_LEA.py', \"rb\").read(), 'exp_LEA.py', 'exec')) # Carrega função para leitura de dados experimentais\n",
    "%matplotlib tk"
   ]
  },
  {
   "cell_type": "markdown",
   "metadata": {
    "pycharm": {
     "name": "#%% md\n"
    }
   },
   "source": [
    "Definindo as variáveis simbólicas"
   ]
  },
  {
   "cell_type": "code",
   "execution_count": 2,
   "metadata": {
    "pycharm": {
     "name": "#%%\n"
    }
   },
   "outputs": [],
   "source": [
    "# Criando simbolica\n",
    "from casadi import *\n",
    "nx = 3; nu = 4;\n",
    "x = MX.sym(\"x\",nx); # Estados\n",
    "u = MX.sym(\"u\",nu); # Exogena\n",
    "dudt_max = MX.sym(\"dudt_max\",2); # Exogena\n"
   ]
  },
  {
   "cell_type": "code",
   "execution_count": 3,
   "metadata": {
    "pycharm": {
     "name": "#%%\n"
    }
   },
   "outputs": [
    {
     "ename": "TypeError",
     "evalue": "dados_LEA_Exp() missing 2 required positional arguments: 'file_path' and 'interval'",
     "output_type": "error",
     "traceback": [
      "\u001b[0;31m---------------------------------------------------------------------------\u001b[0m",
      "\u001b[0;31mTypeError\u001b[0m                                 Traceback (most recent call last)",
      "\u001b[0;32m<ipython-input-3-446b37316f67>\u001b[0m in \u001b[0;36m<module>\u001b[0;34m\u001b[0m\n\u001b[1;32m      6\u001b[0m \u001b[0;31m# =========================================================================\u001b[0m\u001b[0;34m\u001b[0m\u001b[0;34m\u001b[0m\u001b[0;34m\u001b[0m\u001b[0m\n\u001b[1;32m      7\u001b[0m \u001b[0;31m#   freq = Cexp.referencia_frequencia_inversor(1:nsim)*0.1;                   % [Hz] frequencia de operacao\u001b[0m\u001b[0;34m\u001b[0m\u001b[0;34m\u001b[0m\u001b[0;34m\u001b[0m\u001b[0m\n\u001b[0;32m----> 8\u001b[0;31m \u001b[0mLEA\u001b[0m\u001b[0;34m=\u001b[0m\u001b[0mdados_LEA_Exp\u001b[0m\u001b[0;34m(\u001b[0m\u001b[0;34m)\u001b[0m\u001b[0;34m\u001b[0m\u001b[0;34m\u001b[0m\u001b[0m\n\u001b[0m\u001b[1;32m      9\u001b[0m \u001b[0mpman\u001b[0m\u001b[0;34m=\u001b[0m\u001b[0mLEA\u001b[0m\u001b[0;34m[\u001b[0m\u001b[0;34m'pressao_manifold_coriolis'\u001b[0m\u001b[0;34m]\u001b[0m\u001b[0;34m*\u001b[0m\u001b[0;36m1e5\u001b[0m\u001b[0;34m\u001b[0m\u001b[0;34m\u001b[0m\u001b[0m\n\u001b[1;32m     10\u001b[0m \u001b[0mpres\u001b[0m\u001b[0;34m=\u001b[0m\u001b[0mLEA\u001b[0m\u001b[0;34m[\u001b[0m\u001b[0;34m'pressao_reservatorio'\u001b[0m\u001b[0;34m]\u001b[0m\u001b[0;34m*\u001b[0m\u001b[0;36m1e5\u001b[0m\u001b[0;34m\u001b[0m\u001b[0;34m\u001b[0m\u001b[0m\n",
      "\u001b[0;31mTypeError\u001b[0m: dados_LEA_Exp() missing 2 required positional arguments: 'file_path' and 'interval'"
     ]
    }
   ],
   "source": [
    "pbh = x[0]\n",
    "pwh = x[1]\n",
    "q = x[2]\n",
    "# =========================================================================\n",
    "#  Define as entradas do BCS LEA   \n",
    "# =========================================================================\n",
    "#   freq = Cexp.referencia_frequencia_inversor(1:nsim)*0.1;                   % [Hz] frequencia de operacao\n",
    "LEA=dados_LEA_Exp()\n",
    "pman=LEA['pressao_manifold_coriolis']*1e5\n",
    "pres=LEA['pressao_reservatorio']*1e5\n",
    "pm_0=pman[0]\n",
    "pr_0=pres[0]\n",
    "u_0=np.array([LEA['referencia_frequencia_inversor'][0],LEA['valvula_pneumatica_topo'][0],pm_0,pr_0])\n",
    "x_0=np.array([LEA['pressao_fundo'][0]*1e5,LEA['pressao_choke'][0]*1e5,LEA['vazao'][0]/3600])\n",
    "u_0\n",
    "nsim=LEA['tempo']+1\n",
    "ts=LEA['Ts']\n",
    "tempo_hora = np.arange(0,nsim*ts,ts)/3600"
   ]
  },
  {
   "cell_type": "code",
   "execution_count": null,
   "metadata": {},
   "outputs": [],
   "source": [
    "# fig3=plt.figure()\n",
    "# label = ['Pman','Pr','f','z'];\n",
    "# ax1=fig3.add_subplot(2,2,1)\n",
    "# ax1.plot(tempo_hora ,pman/1e5, label='Pman')\n",
    "# ax1.set_ylabel(label[0])\n",
    "# plt.grid(True)\n",
    "# ax2=fig3.add_subplot(2,2,3)\n",
    "# ax2.plot(tempo_hora,pres/1e5, label='Pr')\n",
    "# ax2.set_ylabel(label[1])\n",
    "# plt.grid(True)\n",
    "# ax3=fig3.add_subplot(2,2,2)\n",
    "# ax3.plot(tempo_hora,LEA['referencia_frequencia_inversor'], label='f')\n",
    "# ax3.set_ylabel(label[2])\n",
    "# plt.grid(True)\n",
    "# ax4=fig3.add_subplot(2,2,4)\n",
    "# ax4.plot(tempo_hora,LEA['valvula_pneumatica_topo'], label='z')\n",
    "# ax4.set_ylabel(label[3])\n",
    "# plt.grid(True)\n",
    "\n",
    "\n"
   ]
  },
  {
   "cell_type": "code",
   "execution_count": null,
   "metadata": {},
   "outputs": [
    {
     "data": {
      "text/plain": [
       "5.091600418828963"
      ]
     },
     "execution_count": 5,
     "metadata": {},
     "output_type": "execute_result"
    }
   ],
   "source": []
  },
  {
   "cell_type": "code",
   "execution_count": null,
   "metadata": {},
   "outputs": [
    {
     "data": {
      "text/plain": [
       "0.012"
      ]
     },
     "execution_count": 6,
     "metadata": {},
     "output_type": "execute_result"
    }
   ],
   "source": [
    "mu\n",
    "\n"
   ]
  },
  {
   "cell_type": "code",
   "execution_count": null,
   "metadata": {
    "pycharm": {
     "name": "#%%\n"
    }
   },
   "outputs": [],
   "source": [
    "# Entradas\n",
    "# Valores máximos e mínimos para normalização\n",
    "#Entradas - conforme binder e pavlov\n",
    "#========================================\n",
    "pbc=Lim_c(pbhlim)\n",
    "pwc=Lim_c(pwhlim)\n",
    "qc=Lim_c(qlim)\n",
    "pbmin=pbhlim[0]\n",
    "pwmin=pwhlim[0]\n",
    "qmin=qlim[0]\n",
    "#=============================\n",
    "#Disabling normalization (other actions is necessary ahead to disable Hc, F1c, F2c, qcc)\n",
    "pbc=1;pwc=1;qc=1\n",
    "pbmin=0;pwmin=0;qmin=0\n",
    "#=============================\n",
    "\n",
    "fqref = u[0]; zcref = u[1]; pm=u[2]; pr=u[3]\n",
    "#pm=2e6;\n",
    "zc=zcref\n",
    "fq=fqref"
   ]
  },
  {
   "cell_type": "code",
   "execution_count": null,
   "metadata": {
    "pycharm": {
     "name": "#%%\n"
    }
   },
   "outputs": [
    {
     "name": "stdout",
     "output_type": "stream",
     "text": [
      "2.17875 2.0456252098083496\n"
     ]
    },
    {
     "data": {
      "text/plain": [
       "3.5943693351745607e-09"
      ]
     },
     "execution_count": 8,
     "metadata": {},
     "output_type": "execute_result"
    }
   ],
   "source": [
    "#=============================================\n",
    "# Computing HEAD and pump pressure gain of LEA\n",
    "q0 = (qc*q+qmin) / Cq * (f0 / fq)\n",
    "H0 =  Head[0]*q0**4 +  Head[1]*q0**3 +  Head[2]*q0**2 + Head[3]*q0 + Head[4];\n",
    "H = CH * H0 * (fq / f0) ** 2  # Head\n",
    "Pp = rho * g * H  # Dp\n",
    "#==============================================\n",
    "# Electrical power and electrical current computing\n",
    "P0 = -2.3599e9 * q0 ** 3 - 1.8082e7 * q0 ** 2 + 4.3346e6 * q0 + 9.4355e4\n",
    "#P = Cp * P0 * (fq / f0) ** 3;  \n",
    "#I = Inp * P / Pnp  \n",
    "#==============================================\n",
    "# Computing two volumes frictions in LEA piping\n",
    "qan=q*qc+qmin # non normalized flow\n",
    "Re_1 = (4*rho_1*qan)/(0.219*pi*mu);\n",
    "Re_2 = (4*rho_2*qan)/(0.219*pi*mu);\n",
    "fric_1=if_else(Re_1<4000, 64/Re_1,0.36*Re_1**(-0.25))\n",
    "fric_2=if_else(Re_1<4000, 64/Re_2,0.36*Re_2**(-0.25))\n",
    "F1 = (fric_1*qan**2*rho_1)/(2*pi*r1**3) #Frictional pressure drop below ESP\n",
    "F2 = (fric_2*qan**2*rho_2)/(2*pi*r2**3) #Frictional pressure drop above ESP\n",
    "#===========================================\n",
    "#===========================================\n",
    "# Computing intake pressure\n",
    "pin = pbh*pbc+pbmin - rho * g * h1 - F1;\n",
    "# Computing Reservoir flow\n",
    "qr = PI * (pr - (pbh*pbc+pbmin));\n",
    "# Computing flow across Choke valvule\n",
    "qch = Cc * (zc) * sqrt(fabs(pwh*pwc+pwmin - pm));\n",
    "#============================================\n",
    "# Nonlinear terms analysis\n",
    "funcF1=Function('funcF1',[x],[F1])\n",
    "funcF2=Function('funcF2',[x],[F2])\n",
    "funcH=Function('funcH',[x,u],[H])\n",
    "funcqch=Function('funqch',[x,u],[qch])\n",
    "F1lim=(funcF1([0,0,qlim[0]]),funcF1([0,0,qlim[1]])) # Limits  F1\n",
    "F2lim=(funcF2([0,0,qlim[0]]),funcF2([0,0,qlim[1]])) # Limits  F2\n",
    "F1c=Lim_c(F1lim) # characteristic value F1\n",
    "F2c=Lim_c(F2lim) # characteristic value F2\n",
    "Hc=Lim_c(H_lim) # characteristic value H\n",
    "qcc=Lim_c(qch_lim) # characteristic value qch\n",
    "\n",
    "#=============================\n",
    "#Disabling normalization (other actions is necessary ahead to disable pbc,pwc,qc)\n",
    "F1c=1;F1lim=(0,1) # characteristic value F1\n",
    "F2c=1;F2lim=(0,1) # characteristic value F2\n",
    "Hc=1;H_lim=(0,1) # characteristic value H\n",
    "qcc=1;qch_lim=(0,1) # characteristic value qch\n",
    "\n",
    "\n",
    "#Normalizing nonlinear terms\n",
    "##########################\n",
    "# qch=(qch-qch_lim[0])/qcc\n",
    "# F1=(F1-F1lim[0])/F1c\n",
    "# F2=(F2-F2lim[0])/F2c\n",
    "# H=(H-H_lim[0])/Hc\n",
    "###########################\n",
    "#xss=np.float32(np.array([2.0197e5,4.9338e5,4.2961e-4]));\n",
    "xss=x_0;uss=u_0\n",
    "#pr*b1*PI/V1\n",
    "# qch=qch*qcc\n",
    "# F1=F1c*F1\n",
    "# F2=F2c*F2\n",
    "# H=Hc*H\n",
    "dpbhdt = b1/V1*(qr - q)\n",
    "dpwhdt = b2/V2*(q - qch)\n",
    "dqdt = (1/M)*(pbh - pwh - rho*g*hw - F1-F2 + rho*g*H)\n",
    "#dqdt = (1/(qc*M))*(pbh*pbc+pbmin + rho * g * (H*Hc+H_lim[0]))# - (pwh*pwc+pwmin) - rho*g*hw - (F1c*F1+F1lim[0]) - (F2c*F2+F2lim[0]))\n",
    "# dqdt = (1/(qc*M))*(- (pwh*pwc+pwmin) - rho*g*hw - (F1c*F1+F1lim[0]) - (F2c*F2+F2lim[0]))\n",
    "# dpwhdt = (1/pwc)*b2/V2*((q*qc+qmin) - (qcc*qch+qch_lim[0]))\n",
    "dx=[dpbhdt,dpwhdt,dqdt]\n",
    "# print('Limites: pbh,pwh,q')\n",
    "# print(pbhlim,pwhlim,qlim)\n",
    "# print('Limites: F1,F2,H,qch')\n",
    "# print(F1lim,F2lim,H_lim,qch_lim)\n",
    "\n",
    "print(u_0[3]/1e5,xss[0]/1e5)\n",
    "PI*(u_0[3]-xss[0])/1e5"
   ]
  },
  {
   "cell_type": "code",
   "execution_count": null,
   "metadata": {},
   "outputs": [],
   "source": []
  },
  {
   "cell_type": "code",
   "execution_count": null,
   "metadata": {},
   "outputs": [
    {
     "name": "stdout",
     "output_type": "stream",
     "text": [
      "=============\n",
      "Termos de dx1\n",
      "=============\n",
      "1830109.2412400777 2066871.7109224412\n",
      "-236762.46968236356\n",
      "=============\n",
      "=============\n",
      "Termos de dx2\n",
      "=============\n",
      "-3.08469e-05\n",
      "7286071.812200954 7.83973e+06\n",
      "-553663\n",
      "78397.34808404912\n",
      "=============\n",
      "Termos de dx3\n",
      "=============\n",
      "0.1646428081876843 0.4101073655631847 5.16075e-09 1.30256e-07 0.2114481832828743 0.454834\n",
      "-0.0020787\n",
      "=============\n"
     ]
    }
   ],
   "source": [
    "print('=============')\n",
    "print('Termos de dx1')\n",
    "print('=============')\n",
    "\n",
    "print(b1/V1*(PI*(u_0[3]-xss[0])), b1/V1*xss[2])\n",
    "print(b1/V1*(PI*(u_0[3]-xss[0]))- b1/V1*xss[2])\n",
    "print('=============')\n",
    "\n",
    "print('=============')\n",
    "print('Termos de dx2')\n",
    "print('=============')\n",
    "print(xss[2]-funcqch(xss,uss))\n",
    "print(b2/V2*xss[2], b2/V2*funcqch(xss,uss))\n",
    "print(b2/V2*xss[2]- b2/V2*funcqch(xss,uss))\n",
    "print(b2/V2*Cc * (20 / 100) * sqrt(abs(xss[1] - pm_0)));\n",
    "print('=============')\n",
    "\n",
    "print('Termos de dx3')\n",
    "print('=============')\n",
    "print((1/M)*xss[0],(1/M)*xss[1],(1/M)*funcF1(xss),(1/M)*funcF2(xss),(1/M)*rho*g*hw,(1/M)*rho*g*funcH(xss,uss))\n",
    "print((1/M)*xss[0]-(1/M)*xss[1]-(1/M)*funcF1(xss)-(1/M)*funcF2(xss)-(1/M)*rho*g*hw+(1/M)*rho*g*funcH(xss,uss))\n",
    "print('=============')\n"
   ]
  },
  {
   "cell_type": "code",
   "execution_count": null,
   "metadata": {},
   "outputs": [
    {
     "data": {
      "text/plain": [
       "[DM(-236762), DM(-553663), DM(-0.0020787)]"
      ]
     },
     "execution_count": 10,
     "metadata": {},
     "output_type": "execute_result"
    }
   ],
   "source": [
    "#xss = np.float32(np.array([8311024.82175957,2990109.06207437,0.00995042241351780]))\n",
    "\n",
    "x0=np.array([pbmin,pwmin,qmin])#,0,0])\n",
    "xc=np.array([pbc,pwc,qc])#,1,1])\n",
    "xssn = (xss-x0)/xc\n",
    "xssn\n",
    "\n",
    "#xssn=xss\n",
    "funcx1dot=Function('funcx1dot',[u,x],[dx[0]])\n",
    "funcx2dot=Function('funcx2dot',[u,x],[dx[1]])\n",
    "funcx3dot=Function('funcx3dot',[u,x],[dx[2]])\n",
    "#dxout=[funcx1dot(uss,xssn), funcx2dot(uss,xssn),funcx3dot(uss,xssn)]\n",
    "dxout=[funcx1dot(uss,xss), funcx2dot(uss,xss),funcx3dot(uss,xss)]\n",
    "dxout\n"
   ]
  },
  {
   "cell_type": "code",
   "execution_count": null,
   "metadata": {},
   "outputs": [
    {
     "data": {
      "text/plain": [
       "DM(0.000436784)"
      ]
     },
     "execution_count": 11,
     "metadata": {},
     "output_type": "execute_result"
    }
   ],
   "source": [
    "funcqch(xss,uss)\n",
    "\n"
   ]
  },
  {
   "cell_type": "code",
   "execution_count": null,
   "metadata": {},
   "outputs": [],
   "source": [
    "# Função casadi\n",
    "dxdt = casadi.vertcat(dpbhdt,dpwhdt,dqdt) \n",
    "Eq_Estado = casadi.Function('Eq_Estado',[x,u],[dxdt],\n",
    "                     ['x','u'],['dxdt'])\n",
    "\n",
    "y=vertcat(pin,H);\n",
    "ny = y.size1()\n",
    "# Equações algébricas\n",
    "sea_nl = casadi.Function('sea_nl',[x,u],[y,pin,H],\\\n",
    "                 ['x','u'],['y','pin','H']); # Sistema de Eq. Algebricas variaveis de sa�da\n",
    "\n",
    "BCS={\n",
    "     'x': x,\n",
    "     'u': u,\n",
    "     'y': y,\n",
    "     'nx': nx,\n",
    "     'nu': nu,\n",
    "     'ny': ny,\n",
    "     'NaoLinear': {'sedo_nl': Eq_Estado(x,u),\n",
    "                   'sea_nl': sea_nl\n",
    "                   }\n",
    "}\n",
    "#%% Calculo do estacionario\n",
    "#% Func��o objetivo\n",
    "dxdt_0 = Eq_Estado(BCS['x'], BCS['u']);\n",
    "J = sum1(dxdt_0**2);\n",
    "#% Otimizador\n",
    "opt={\n",
    "     'ipopt':{\n",
    "         'print_level':0,\n",
    "         'acceptable_tol':1e-8,\n",
    "         'acceptable_obj_change_tol':1e-6,\n",
    "         'max_iter':150\n",
    "         },\n",
    "     'print_time':0,\n",
    "     }\n",
    "\n",
    "opt['ipopt']['print_level']=0;# %0,3\n",
    "opt['print_time']=0;\n",
    "opt['ipopt']['acceptable_tol']=1e-8;\n",
    "opt['ipopt']['acceptable_obj_change_tol']=1e-6;\n",
    "opt['ipopt']['max_iter']=50;\n"
   ]
  },
  {
   "cell_type": "code",
   "execution_count": null,
   "metadata": {},
   "outputs": [],
   "source": [
    "MMQ = {'x':BCS['x'], 'f':J, 'p':BCS['u']}\n",
    "#nlp={'x':vertcat(BCS['x'],BCS['u']), 'f':J} #variáveis de decisão, função f, g (N/A)\n",
    "#nlp={'x':BCS['x'], 'f':J}\n",
    "solver = nlpsol('solver', 'ipopt', MMQ, opt)\n",
    "# Restrições das variaveis de decis�o\n",
    "# minimo\n",
    "args={\n",
    "      'lbx': np.zeros((nx,1)),\n",
    "# m�ximo\n",
    "      'ubx':np.full((nx, 1), np.inf)\n",
    "      }\n",
    "\n",
    "# Solu��o do otimizador\n",
    "sol=solver(x0=BCS['x'], lbx=args['lbx'], ubx=args['ubx'], p=BCS['u']);\n",
    "yss=sea_nl(sol['x'],BCS['u'])\n",
    "Estacionario = Function('Estacionario',[BCS['x'],BCS['u']],[sol['x']],['x0','uss'],['xss']);\n",
    "\n",
    "\n"
   ]
  },
  {
   "cell_type": "code",
   "execution_count": null,
   "metadata": {},
   "outputs": [
    {
     "name": "stdout",
     "output_type": "stream",
     "text": [
      "\n",
      "******************************************************************************\n",
      "This program contains Ipopt, a library for large-scale nonlinear optimization.\n",
      " Ipopt is released as open source code under the Eclipse Public License (EPL).\n",
      "         For more information visit https://github.com/coin-or/Ipopt\n",
      "******************************************************************************\n",
      "\n"
     ]
    },
    {
     "data": {
      "text/plain": [
       "DM([207164, 230871, 0.00028919])"
      ]
     },
     "execution_count": 14,
     "metadata": {},
     "output_type": "execute_result"
    }
   ],
   "source": [
    "BCS['Estacionario'] = Estacionario;\n",
    "xss2=Estacionario(xss,uss)\n",
    "est=solver(x0=xss, lbx=args['lbx'], ubx=args['ubx'], p=uss)\n",
    "est['x']"
   ]
  },
  {
   "cell_type": "code",
   "execution_count": null,
   "metadata": {},
   "outputs": [
    {
     "name": "stdout",
     "output_type": "stream",
     "text": [
      "x_opt:  [207164, 230871, 0.00028919]\n",
      "{'f': DM(33361), 'g': DM([]), 'lam_g': DM([]), 'lam_p': DM([-0.0131329, 9.48028e+07, -4359.2, -51.7291]), 'lam_x': DM([-48.2528, -43.8835, -3.48227e+10]), 'x': DM([207164, 230871, 0.00028919])}\n"
     ]
    }
   ],
   "source": [
    "x_opt = est['x']\n",
    "print('x_opt: ', x_opt)\n",
    "print(est)"
   ]
  },
  {
   "cell_type": "code",
   "execution_count": null,
   "metadata": {},
   "outputs": [
    {
     "data": {
      "text/plain": [
       "DM([209167, 157147, 0.000235109])"
      ]
     },
     "execution_count": 16,
     "metadata": {},
     "output_type": "execute_result"
    }
   ],
   "source": [
    "xss3=Estacionario(xss2,uss)\n",
    "xss3"
   ]
  },
  {
   "cell_type": "code",
   "execution_count": null,
   "metadata": {},
   "outputs": [],
   "source": [
    "# x = SX.sym('x'); y = SX.sym('y'); z = SX.sym('z')\n",
    "# nlp = {'x':vertcat(x,y,z), 'f':x**2+100*z**2, 'g':z+(1-x)**2-y}\n",
    "# S = nlpsol('S', 'ipopt', nlp)\n",
    "# print(S)\n",
    "# r = S(x0=[2.5,3.0,0.75],\\\n",
    "#       lbg=0, ubg=0)\n",
    "# x_opt = r['x']\n",
    "# print('x_opt: ', x_opt)"
   ]
  },
  {
   "cell_type": "code",
   "execution_count": null,
   "metadata": {},
   "outputs": [
    {
     "data": {
      "text/plain": [
       "DM([209162, 157331, 0.000235259])"
      ]
     },
     "execution_count": 18,
     "metadata": {},
     "output_type": "execute_result"
    }
   ],
   "source": [
    "Estacionario(xss3,uss)"
   ]
  },
  {
   "cell_type": "code",
   "execution_count": null,
   "metadata": {},
   "outputs": [
    {
     "name": "stdout",
     "output_type": "stream",
     "text": [
      "[2.04562521e+05 5.09543037e+05 4.05937533e-04] [4.0000000e+01 2.0000000e+01 1.3393538e+04 2.1787500e+05]\n"
     ]
    }
   ],
   "source": [
    "print(xss,uss)"
   ]
  },
  {
   "cell_type": "code",
   "execution_count": null,
   "metadata": {},
   "outputs": [
    {
     "data": {
      "text/plain": [
       "array([2.04562521e+05, 5.09543037e+05, 4.05937533e-04])"
      ]
     },
     "execution_count": 20,
     "metadata": {},
     "output_type": "execute_result"
    }
   ],
   "source": [
    "xss"
   ]
  },
  {
   "cell_type": "code",
   "execution_count": null,
   "metadata": {},
   "outputs": [],
   "source": [
    "# Definir variaveis manipuladas e controladas e disturbio externo\n",
    "mv = [0,1]    #% [f, Zc]\n",
    "pv = [0,1]  #% [pin, H]  #% [P, I]\n",
    "#pv = [2,3];  #% [pin, H]\n",
    "de = 2;      #% [pm]\n",
    "tg = 2;      #% MV target\n",
    "#% Parametros\n",
    "\n",
    "#nsim=286\n",
    "#%Modelo de predição\n",
    "#% Criando o objeto para predição do modelo\n",
    "# Iniciando variavel dicionário para a construção da EDO\n",
    "# sedo = {'x': BCS['x'][0:3], # Estados\n",
    "#         'p': BCS['u'], #Variáveis exogenas\n",
    "#         'ode': BCS['NaoLinear']['sedo_nl'] # SEDO (Gerado no bcs_settings)\n",
    "#         };\n",
    "\n",
    "sedo = {'x': BCS['x'], # Estados\n",
    "        'p': BCS['u'], #Variáveis exogenas\n",
    "        'ode': Eq_Estado(x,u) # SEDO (Gerado no bcs_settings)\n",
    "        };\n",
    "\n",
    "#% Criando o objeto p,ra integração da Eq_estado\n",
    "opt = {'tf':ts,\n",
    "       't0':0\n",
    "\n",
    "       };   #% opções do integrador"
   ]
  },
  {
   "cell_type": "code",
   "execution_count": null,
   "metadata": {},
   "outputs": [],
   "source": [
    "int_odes = integrator('int_odes','cvodes',sedo,opt);\n",
    "# objeto integrador\n",
    "res = int_odes(x0=BCS['x'],p=BCS['u']);             #   % solução um passo a frente\n",
    "npv = len(pv); nmv = len(mv);\n"
   ]
  },
  {
   "cell_type": "code",
   "execution_count": null,
   "metadata": {},
   "outputs": [],
   "source": [
    "# Criando o objeto para solução da equação de medição\n",
    "Eq_medicao = Function('Eq_medicao',[BCS['x'],BCS['u']],[BCS['y'][pv]],['x','u'],['y']);\n",
    "# Criacao do objeto para simulacao do BCS Eq de estado + Eq de Medicao\n",
    "Modelo_Predicao = Function('Modelo_Predicao',[BCS['x'],BCS['u']],[res['xf'],Eq_medicao(res['xf'],BCS['u'])],['xk_1','uk_1'],['xk','yk']);\n",
    "Modelo_Predicao2 = Function('Modelo_Predicao2',[BCS['x'],BCS['u']],[res['xf']],['xk_1','uk_1'],['xk']);"
   ]
  },
  {
   "cell_type": "code",
   "execution_count": null,
   "metadata": {},
   "outputs": [],
   "source": [
    "xpk = xss;\n",
    "uss\n",
    "#xpk=normalizar(xss,xnorm)\n",
    "\n",
    "#uk_1 = normaliza_u(uss[mv],unorm)\n",
    "#uk_1=(uss[mv]-unorm[:,0])/unorm[:,1]\n",
    "# MVS\n",
    "# Aloca��o de variaveis\n",
    "Xk = np.zeros((nx,1))"
   ]
  },
  {
   "cell_type": "code",
   "execution_count": null,
   "metadata": {},
   "outputs": [],
   "source": [
    "Yk = np.zeros((npv,1))\n",
    "Uk = np.zeros((nmv,1))\n",
    "Ymk = Yk\n",
    "Ys = Yk\n",
    "Ymin = Yk\n",
    "Ymax = Yk"
   ]
  },
  {
   "cell_type": "code",
   "execution_count": null,
   "metadata": {},
   "outputs": [],
   "source": [
    "#Valores iniciais de simulação\n",
    "tss=5 # Tempo inicial no estacionário\n",
    "Uk= uss\n",
    "# Povoar vetor de X com dados não normalizados\n",
    "\n"
   ]
  },
  {
   "cell_type": "code",
   "execution_count": null,
   "metadata": {},
   "outputs": [
    {
     "name": "stdout",
     "output_type": "stream",
     "text": [
      "(286,) (286,)\n"
     ]
    }
   ],
   "source": [
    "#======================================================\n",
    "#Entradas aplicadas no LEA\n",
    "val_pneumatica = LEA['valvula_pneumatica_topo']#[0:nsim]\n",
    "frequencia = LEA['referencia_frequencia_inversor']#[0:nsim]\n",
    "print(frequencia.shape,val_pneumatica.shape) \n",
    "#plt.plot(val_pneumatica)\n",
    "#val_pneumatica\n",
    "    "
   ]
  },
  {
   "cell_type": "code",
   "execution_count": null,
   "metadata": {},
   "outputs": [],
   "source": [
    "nstep = nsim\n",
    "\n",
    "a_range = [35,65]\n",
    "b_range = [30,50] # periodo de retenção em cada amplitude\n",
    "\n",
    "u_f,prbs=APRBS(a_range,b_range,nstep)\n",
    "u_z,prbs=APRBS(a_range,b_range,nstep)\n",
    "\n",
    "uk_1 = np.array([np.ones_like(u_z)*40,u_z]);\n",
    "uk_1 = np.array([frequencia,val_pneumatica,pman,pres]);\n",
    "#uk_1 = np.array([frequencia,val_pneumatica,np.ones_like(frequencia)*0.12*1e5,np.ones_like(frequencia)*1.9*1e5]);\n",
    "#uk_1 = np.array([u_f,u_z,np.ones_like(frequencia)*0.12*1e5,np.ones_like(frequencia)*1.9*1e5]);\n",
    "#uk_1 = np.array([np.ones_like(frequencia)*30,np.ones_like(frequencia)*30,np.ones_like(frequencia)*0.12*1e5,np.ones_like(frequencia)*1.9*1e5]);\n",
    "# uk_1 = np.array([u_f,u_z]);\n",
    "#Uss e xss simples\n",
    "#uss=np.array([30,30,0.12*1e5,1.9*1e5]);\n",
    "xss=Estacionario(x_0,uss)\n",
    "xss\n",
    "xss=Estacionario(xss,uss)"
   ]
  },
  {
   "cell_type": "code",
   "execution_count": null,
   "metadata": {},
   "outputs": [
    {
     "data": {
      "text/plain": [
       "DM([201964, 493374, 0.000429608])"
      ]
     },
     "execution_count": 29,
     "metadata": {},
     "output_type": "execute_result"
    }
   ],
   "source": [
    "#xpk = Modelo_Predicao2(xssn,uss) #valores normalizados\n",
    "xpk = Modelo_Predicao2(xss,uss) #valores normalizados\n",
    "Xk=xpk*xc+x0\n",
    "# ypk=sea_nl(xpk,uss)[0]\n",
    "# Yk=ypk*np.array([1,Hc])\n",
    "# ypk[1]*Hc\n",
    "xpk"
   ]
  },
  {
   "cell_type": "code",
   "execution_count": null,
   "metadata": {},
   "outputs": [],
   "source": [
    "# xpk = Modelo_Predicao2(xss,uk_1[:,0])\n",
    "# xi=(np.arange(0,int(nsim*ts),ts));\n",
    "# #xi=np.arange(0,10,ts)\n",
    "# xi.shape\n",
    "# \n",
    "# uss\n",
    "# Uk=uk_1[:,1]\n",
    "# uk_1[:,2]\n",
    "\n",
    "# print(xpk)\n",
    "# k=1\n",
    "# print(xss)\n",
    "# k"
   ]
  },
  {
   "cell_type": "code",
   "execution_count": null,
   "metadata": {},
   "outputs": [
    {
     "name": "stdout",
     "output_type": "stream",
     "text": [
      "[4.0000000e+01 2.0000000e+01 1.3393538e+04 2.1787500e+05]\n",
      "[201964, 493374, 1.54659]\n"
     ]
    }
   ],
   "source": [
    "# print(xpk,uk_1[:,k])\n",
    "# xpk = Modelo_Predicao2(xpk,uk_1[:,k])\n",
    "\n",
    "# k+=1\n",
    "# Xk = hcat([Xk,xpk])\n",
    "# Uk = hcat([Uk,uk_1[:,k]])\n",
    "# print(Xk)\n",
    "# print(Uk)\n",
    "# print(k)\n",
    "print(Uk)\n",
    "print(vcat([Xk[0,:],Xk[1,:],Xk[2,:]*3600]))\n",
    "\n"
   ]
  },
  {
   "cell_type": "code",
   "execution_count": null,
   "metadata": {},
   "outputs": [
    {
     "name": "stdout",
     "output_type": "stream",
     "text": [
      "Simulação iniciada\n",
      "Xk shape =(3, 286)\n",
      "Ok.simulação concluida\n"
     ]
    },
    {
     "data": {
      "text/plain": [
       "(1, 286)"
      ]
     },
     "execution_count": 32,
     "metadata": {},
     "output_type": "execute_result"
    }
   ],
   "source": [
    "print(\"Simulação iniciada\")\n",
    "teste=5\n",
    "xi=tempo_hora[:teste]\n",
    "teste=nsim;xi=tempo_hora\n",
    "#for k in range(1,5):\n",
    "for k in range(1,teste):\n",
    "    # print(uk_1[:,k])\n",
    "    # print(xpk)\n",
    "    xpk = Modelo_Predicao2(xpk,uk_1[:,k])\n",
    "    Xk = hcat([Xk,xpk*xc+x0]) #desnormalizar x e preencher vetor\n",
    "    #ypk=sea_nl(xpk,uk_1[:,k])[0]\n",
    "    #Yk = hcat([Yk,ypk*np.array([1,Hc])]);\n",
    "    Uk = hcat([Uk,uk_1[:,k]])\n",
    "\n",
    "print(\"Xk shape =\"+str(Xk.shape))\n",
    "# print(\"Uk shape =\"+str(Uk.shape))\n",
    "# print(\"Yk shape =\"+str(Uk.shape))\n",
    "# print(\"xi shape =\"+str(xi.shape))\n",
    "print(\"Ok.simulação concluida\")\n",
    "Xk[0,:].shape"
   ]
  },
  {
   "cell_type": "code",
   "execution_count": null,
   "metadata": {},
   "outputs": [],
   "source": [
    "# fig1=plt.figure()\n",
    "# label = [r'$p_{in}(bar)$','H(m)','P','I','qc','qr' ];\n",
    "# for iy in range(0,npv):\n",
    "#     ax = fig1.add_subplot(npv,1,iy+1)\n",
    "#     #print(iy)\n",
    "#     if iy == 0: # Pin\n",
    "#         ax.plot(xi,(Yk[iy,:].T)/1e5, label='Medição')\n",
    "#         #ax.plot(xi,Ymk[iy,:].T/1e5, label='EKF')\n",
    "#         ax.set_ylabel(label[iy])\n",
    "#         ax.set(xlim=(xi[0], nsim*ts))\n",
    "#        # ax.set(ylim=(40,62))\n",
    "#         plt.grid(True)\n",
    "#     else: # H\n",
    "#         ax.plot(xi,Yk[iy,:].T, label='Medição')\n",
    "#         #ax.plot(xi,Ymk[iy,:].T,label='EKF')\n",
    "#         ax.set_ylabel(label[iy])\n",
    "#         ax.set(xlim=(xi[0], nsim*ts))\n",
    "#        # ax.set(ylim=(580, 850))\n",
    "#         plt.grid(True)\n",
    "# #ax.plot(xi,Yk[2,:].T, label='EKF')\n",
    "# ax.legend();\n",
    "# ax.set_xlabel('Time (nT)')\n",
    "# fig1.show()\n"
   ]
  },
  {
   "cell_type": "code",
   "execution_count": null,
   "metadata": {},
   "outputs": [],
   "source": [
    "# #% Restrição\n",
    "umin  = np.array([35, 0]); np.transpose(umin);  # lower bounds of inputs\n",
    "umax  = np.array([65, 100]); np.transpose(umax); # upper bounds of inputs\n",
    "dumax = np.array([0.5, dzc_max]); np.transpose(dumax);\n",
    "fig2=plt.figure()\n",
    "label = ['f(Hz)',r'$z_c$(%)'];\n",
    "for iu in range(0,nmv):\n",
    "    ax2=fig2.add_subplot(nmv,1,iu+1)\n",
    "    ax2.plot(xi,Uk[iu,:].T, label='Medição')\n",
    "    # ax2.plot([1,nsim*ts],[umin[iu], umin[iu]],'--r')\n",
    "    # ax2.plot([1,nsim*ts],[umax[iu], umax[iu]],'--r', label='Restrição')\n",
    "    ax2.set_ylabel(label[iu])\n",
    "    #ax2.set(xlim=(xi[0], nsim*ts))\n",
    "    if iu==0:\n",
    "        ax2.set(ylim=(30, 70))\n",
    "\n",
    "    plt.grid(True)\n"
   ]
  },
  {
   "cell_type": "code",
   "execution_count": null,
   "metadata": {},
   "outputs": [],
   "source": [
    "# fig3=plt.figure()\n",
    "# label = ['Pbh (bar)','Pwh (bar)','q(m3/s)'];\n",
    "# for iu in range(0,3):\n",
    "#     ax3=fig3.add_subplot(3,1,iu+1)\n",
    "#     if iu==2:\n",
    "#         ax3.plot(xi,(Xk[iu,:].T)*3600, label='Medição')\n",
    "#         #ax3.plot([1,nsim],[umin[iu], umin[iu]],'--r')\n",
    "#         #ax3.plot([1,nsim],[umax[iu], umax[iu]],'--r', label='Restrição')\n",
    "#         ax3.set_ylabel(label[iu])\n",
    "#         #ax3.set(xlim=(xi[0], nsim*ts))\n",
    "#         # if iu==0:\n",
    "#         #     #ax2.set(ylim=(30, 70))\n",
    "#         #     print(iu)\n",
    "#         plt.grid(True)\n",
    "#     else:\n",
    "#         ax3.plot(xi,Xk[iu,:].T/1e5, label='Medição')\n",
    "#         #ax3.plot([1,nsim],[umin[iu], umin[iu]],'--r')\n",
    "#         #ax3.plot([1,nsim],[umax[iu], umax[iu]],'--r', label='Restrição')\n",
    "#         ax3.set_ylabel(label[iu])\n",
    "#         #ax3.set(xlim=(xi[0], nsim*ts))\n",
    "#         # if iu==0:\n",
    "#         #     #ax2.set(ylim=(30, 70))\n",
    "#         #     print(iu)\n",
    "#         plt.grid(True)\n",
    "\n",
    "fig3=plt.figure()\n",
    "label = ['Pbh (bar)','Pwh (bar)','q(m3/s)'];\n",
    "for iu in range(0,3):\n",
    "    ax3=fig3.add_subplot(3,1,iu+1)\n",
    "    if iu==2:\n",
    "        ax3.plot(xi,(Xk[iu,:].T*3600), label='Medição')\n",
    "        ax3.plot(xi,(LEA['vazao']), ':r')\n",
    "        #ax3.plot([1,nsim],[umin[iu], umin[iu]],'--r')\n",
    "        #ax3.plot([1,nsim],[umax[iu], umax[iu]],'--r', label='Restrição')\n",
    "        ax3.set_ylabel(label[iu])\n",
    "        #ax3.set(xlim=(xi[0], nsim*ts))\n",
    "        # if iu==0:\n",
    "        #     #ax2.set(ylim=(30, 70))\n",
    "        #     print(iu)\n",
    "        plt.grid(True)\n",
    "    elif iu==0:\n",
    "        ax3.plot(xi,Xk[iu,:].T/1e5)\n",
    "        ax3.plot(xi,LEA['pressao_fundo'],':r', label='Medição')\n",
    "        #ax3.plot([1,nsim],[umin[iu], umin[iu]],'--r')\n",
    "        #ax3.plot([1,nsim],[umax[iu], umax[iu]],'--r', label='Restrição')\n",
    "        ax3.set_ylabel(label[iu])\n",
    "        #ax3.set(xlim=(xi[0], nsim*ts))\n",
    "        # if iu==0:\n",
    "        #     #ax2.set(ylim=(30, 70))\n",
    "        #     print(iu)\n",
    "        ax3.legend()\n",
    "        plt.grid(True)\n",
    "    else:\n",
    "        ax3.plot(xi,Xk[iu,:].T/1e5)\n",
    "        ax3.plot(xi,LEA['pressao_choke'],':r', label='Medição')\n",
    "        #ax3.plot([1,nsim],[umin[iu], umin[iu]],'--r')\n",
    "        #ax3.plot([1,nsim],[umax[iu], umax[iu]],'--r', label='Restrição')\n",
    "        ax3.set_ylabel(label[iu])\n",
    "        #ax3.set(xlim=(xi[0], nsim*ts))\n",
    "        # if iu==0:\n",
    "        #     #ax2.set(ylim=(30, 70))\n",
    "        #     print(iu)\n",
    "        plt.grid(True)\n",
    "        \n"
   ]
  },
  {
   "cell_type": "code",
   "execution_count": null,
   "metadata": {},
   "outputs": [],
   "source": [
    "# Xk[2,:]=Xk[2,:]*xc[2] #desnormalizar vazão\n",
    "# Yk[1,:]=Yk[1,:]*Hc #desnormalizar Head"
   ]
  },
  {
   "cell_type": "code",
   "execution_count": null,
   "metadata": {},
   "outputs": [
    {
     "ename": "FileNotFoundError",
     "evalue": "[Errno 2] No such file or directory: 'envelope.py'",
     "output_type": "error",
     "traceback": [
      "\u001b[0;31m---------------------------------------------------------------------------\u001b[0m",
      "\u001b[0;31mFileNotFoundError\u001b[0m                         Traceback (most recent call last)",
      "\u001b[0;32m<ipython-input-38-806f9974540a>\u001b[0m in \u001b[0;36m<module>\u001b[0;34m\u001b[0m\n\u001b[0;32m----> 1\u001b[0;31m \u001b[0mexec\u001b[0m\u001b[0;34m(\u001b[0m\u001b[0mcompile\u001b[0m\u001b[0;34m(\u001b[0m\u001b[0mopen\u001b[0m\u001b[0;34m(\u001b[0m\u001b[0;34m'envelope.py'\u001b[0m\u001b[0;34m,\u001b[0m \u001b[0;34m\"rb\"\u001b[0m\u001b[0;34m)\u001b[0m\u001b[0;34m.\u001b[0m\u001b[0mread\u001b[0m\u001b[0;34m(\u001b[0m\u001b[0;34m)\u001b[0m\u001b[0;34m,\u001b[0m \u001b[0;34m'envelope.py'\u001b[0m\u001b[0;34m,\u001b[0m \u001b[0;34m'exec'\u001b[0m\u001b[0;34m)\u001b[0m\u001b[0;34m)\u001b[0m \u001b[0;31m#% Roda arquivo com parâmetros do modelo BCS\u001b[0m\u001b[0;34m\u001b[0m\u001b[0;34m\u001b[0m\u001b[0m\n\u001b[0m\u001b[1;32m      2\u001b[0m \u001b[0mfig4\u001b[0m\u001b[0;34m,\u001b[0m\u001b[0max4\u001b[0m\u001b[0;34m=\u001b[0m\u001b[0mplt\u001b[0m\u001b[0;34m.\u001b[0m\u001b[0msubplots\u001b[0m\u001b[0;34m(\u001b[0m\u001b[0;34m)\u001b[0m\u001b[0;34m\u001b[0m\u001b[0;34m\u001b[0m\u001b[0m\n\u001b[1;32m      3\u001b[0m \u001b[0mplt\u001b[0m\u001b[0;34m.\u001b[0m\u001b[0mgrid\u001b[0m\u001b[0;34m(\u001b[0m\u001b[0;32mTrue\u001b[0m\u001b[0;34m)\u001b[0m\u001b[0;34m\u001b[0m\u001b[0;34m\u001b[0m\u001b[0m\n\u001b[1;32m      4\u001b[0m \u001b[0mBCS\u001b[0m\u001b[0;34m[\u001b[0m\u001b[0;34m'Envelope'\u001b[0m\u001b[0;34m]\u001b[0m\u001b[0;34m[\u001b[0m\u001b[0;34m'fig'\u001b[0m\u001b[0;34m]\u001b[0m\u001b[0;34m(\u001b[0m\u001b[0max4\u001b[0m\u001b[0;34m)\u001b[0m\u001b[0;34m;\u001b[0m \u001b[0;31m# grafico do envelope\u001b[0m\u001b[0;34m\u001b[0m\u001b[0;34m\u001b[0m\u001b[0m\n\u001b[1;32m      5\u001b[0m \u001b[0;31m#\u001b[0m\u001b[0;34m\u001b[0m\u001b[0;34m\u001b[0m\u001b[0;34m\u001b[0m\u001b[0m\n",
      "\u001b[0;31mFileNotFoundError\u001b[0m: [Errno 2] No such file or directory: 'envelope.py'"
     ]
    }
   ],
   "source": [
    "exec(compile(open('envelope.py', \"rb\").read(), 'envelope.py', 'exec')) #% Roda arquivo com parâmetros do modelo BCS\n",
    "fig4,ax4=plt.subplots()\n",
    "plt.grid(True)\n",
    "BCS['Envelope']['fig'](ax4); # grafico do envelope\n",
    "#\n",
    "# Evolução dentro do envelope\n",
    "ax4.plot(Xk[2,0:].T*3600,Yk[1,0:].T,'--k')\n",
    "ax4.plot(Xk[2,0]*3600,Yk[1,0],'o')#,'MarkerFaceColor',[0,1,0],'MarkerEdgeColor',[0,0,0])\n",
    "ax4.plot(Xk[2,-1]*3600,Yk[1,-1],'o')#,'MarkerFaceColor',[1,0,0],'MarkerEdgeColor',[0,0,0])\n",
    "ax4.annotate('t=0',\n",
    "             xy=(float(Xk[2,0]*3600),float(Yk[1,0])),\n",
    "             xytext=(float(Xk[2,0]*3600)-5,float(Yk[1,0])+10),\n",
    "             arrowprops=dict(facecolor='green', shrink=0.01))\n",
    "\n",
    "ax4.annotate('t='+str(nsim),\n",
    "             xy=(float(Xk[2,-1]*3600),float(Yk[1,-1])),\n",
    "             xytext=(float(Xk[2,-1]*3600)-7,float(Yk[1,-1])+10),\n",
    "             arrowprops=dict(facecolor='red', shrink=0.01))\n",
    "plt.show()\n",
    "\n",
    "np.savez('BCS_data_train_aprbs_zc.npz', t=xi, x1=Xk[0,:].T,x2=Xk[1,:].T,x3=Xk[2,:].T,zc=z_f)"
   ]
  },
  {
   "cell_type": "code",
   "execution_count": null,
   "metadata": {},
   "outputs": [],
   "source": [
    "def ler_dados(str):\n",
    "    with open(str, 'r') as f:\n",
    "        d = f.readlines()\n",
    "        epocas = np.zeros(len(d));\n",
    "        tau = np.zeros(len(d));\n",
    "        j = 0;\n",
    "        data = []\n",
    "        for i in d:\n",
    "            k = i.rstrip().split(\" \")\n",
    "            data.append([float(i) if is_float(i) else i for i in k])\n",
    "            epocas[j] = float(k[0])\n",
    "            tau[j] = float(k[1])\n",
    "            j += 1;\n",
    "    \n",
    "    return tau, epocas\n"
   ]
  },
  {
   "cell_type": "code",
   "execution_count": null,
   "metadata": {},
   "outputs": [],
   "source": [
    "qcc/qc"
   ]
  }
 ],
 "metadata": {
  "interpreter": {
   "hash": "698028ab42453737c47168816c82f0f42fda53eb4af1ce48d8f09e53da2613ea"
  },
  "kernelspec": {
   "display_name": "Python 3.9.2 64-bit ('BCS': conda)",
   "name": "python3"
  },
  "language_info": {
   "codemirror_mode": {
    "name": "ipython",
    "version": 3
   },
   "file_extension": ".py",
   "mimetype": "text/x-python",
   "name": "python",
   "nbconvert_exporter": "python",
   "pygments_lexer": "ipython3",
   "version": "3.9.2"
  }
 },
 "nbformat": 4,
 "nbformat_minor": 1
}
