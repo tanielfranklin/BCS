{
 "cells": [
  {
   "cell_type": "markdown",
   "metadata": {
    "collapsed": true,
    "pycharm": {
     "name": "#%% md\n"
    }
   },
   "source": [
    "Normalização do modelo BCS não linear"
   ]
  },
  {
   "cell_type": "code",
   "execution_count": 1,
   "metadata": {
    "pycharm": {
     "name": "#%%\n"
    }
   },
   "outputs": [],
   "source": [
    "import matplotlib.pyplot as plt\n",
    "import numpy as np\n",
    "exec(compile(open('param.py', \"rb\").read(), 'param.py', 'exec')) #% Roda arquivo com parâmetros do modelo BCS"
   ]
  },
  {
   "cell_type": "markdown",
   "metadata": {
    "pycharm": {
     "name": "#%% md\n"
    }
   },
   "source": [
    "### Variáveis de entrada\n",
    "f $\\in$ (35,65) Hz <br>\n",
    "zc $\\in$ (0,100)% <br>\n",
    "pm $\\in$ ($2\\cdot 10^6$) <br>\n",
    "\n",
    "### Variáveis de estado\n",
    "pbh $\\in$ ($10^5, 8.5 \\cdot 10^6$) <br>\n",
    "pwh $\\in$ ($2 \\cdot 10^6, 5.2\\cdot10^6$) <br>\n",
    "q $\\in (10^{-2},3\\cdot 10^{⁻2})$ <br>\n",
    "\n",
    "### Saídas\n",
    "pin $\\in$ ($40, 60.5) \\cdot 10^6$ <br>\n",
    "H $\\in$ ($590, 850$) <br>"
   ]
  },
  {
   "cell_type": "markdown",
   "metadata": {},
   "source": [
    "Função para retornar os valores de xc e x0 dado que<br>\n",
    "$x_{min}<x<x_{max}$ <br>\n",
    "\n",
    "Nova variável<br>\n",
    "\n",
    "$xb=\\frac{x-x0}{xc}$\n",
    "\n",
    "Assim <br>\n",
    "\n",
    "$x=xb\\cdot xc+x0$\n",
    "\n",
    "Fazendo com que a nova variável $0<xb<1$ <br>\n"
   ]
  },
  {
   "cell_type": "code",
   "execution_count": 2,
   "metadata": {
    "pycharm": {
     "name": "#%%\n"
    }
   },
   "outputs": [],
   "source": [
    "def Fnorm(xlim):\n",
    "    # Encontrar o fator de normalização\n",
    "    # tal que xb=(x-x0)/xc\n",
    "    # xmin<x<xmax\n",
    "    # fazendo com que 0<xb<1\n",
    "    x=(xlim[0],xlim[1]-xlim[0])\n",
    "    return x\n",
    "def normalizar(x,xnorm):\n",
    "    xs=np.zeros((nx,1))\n",
    "    for i in range(0,nx):\n",
    "        xs[i]=(x[i]-xnorm[i,0])/xnorm[i,1]\n",
    "    return xs\n",
    "def desnormalizar(x,xnorm):\n",
    "    xs=np.zeros((nx,1))\n",
    "    for i in range(0,nx):\n",
    "        xs[i]=x[i]*xnorm[i,1]+xnorm[i,0]\n",
    "    return xs\n",
    "def AplicaEscala(var,i):\n",
    "    aux=var*xnorm[i,1]+xnorm[i,0]\n",
    "    return aux\n",
    "def normaliza_u(ux,unorm):\n",
    "    aux=np.zeros((nu,1))\n",
    "    for i in range(0,len(ux)):\n",
    "       # aux[i]=(ux[i]-unorm[i,0])/unorm[i,1]\n",
    "        aux[i,0]=(ux[i,0]-unorm[i,0])/unorm[i,1]\n",
    "       # print(aux)\n",
    "    return aux\n",
    "def desnormalizar_u(ux,unorm):\n",
    "    aux=np.zeros((nu,1))\n",
    "    for i in range(0,len(ux)):\n",
    "       # aux[i]=(ux[i]-unorm[i,0])/unorm[i,1]\n",
    "        aux[i,0]=ux[i,0]*unorm[i,1]+unorm[i,0]\n",
    "       # print(aux)\n",
    "    return aux"
   ]
  },
  {
   "cell_type": "markdown",
   "metadata": {
    "pycharm": {
     "name": "#%% md\n"
    }
   },
   "source": [
    "Definindo os fatores de ajuste de escala a partir dos limites operacionais"
   ]
  },
  {
   "cell_type": "code",
   "execution_count": 3,
   "metadata": {
    "pycharm": {
     "name": "#%%\n"
    }
   },
   "outputs": [],
   "source": [
    "# Valores máximos e mínimos para normalização\n",
    "#Entradas\n",
    "f_lim=(30,75); zclim=(0,100);pmlim=(1e6,2e6); H_lim=(590,850); pinlim=(40e6,60.5e6)\n",
    "pbhlim=(100000,8.5e6); pwhlim=(2e6,5.2e6); qlim=(12/3600,55/3600)"
   ]
  },
  {
   "cell_type": "code",
   "execution_count": 4,
   "outputs": [],
   "source": [
    "normaliza=False\n",
    "normaliza=True\n",
    "pm=2e6; #Simplificando pm fixo\n",
    "unorm=np.array([Fnorm(f_lim),Fnorm(zclim)])\n",
    "xnorm= np.array([Fnorm(pbhlim),Fnorm(pwhlim),Fnorm(qlim), unorm[0,:],unorm[1,:]])\n",
    "ynorm=np.array([Fnorm(pinlim),Fnorm(H_lim)])\n",
    "xnorm\n",
    "if normaliza==False:\n",
    "    xnorm=np.array([[0,1],[0,1],[0,1],[0,1],[0,1]])\n",
    "    unorm=np.array([[0,1],[0,1]])\n",
    "    ynorm=np.array([[0,1],[0,1]])\n",
    "\n",
    "#pbh  - pressão na bomba\n",
    "#pwh - Pressão de fundo do poço,\n",
    "#q - vazão\n",
    "#PI índice de produtividade do poço\n",
    "#PinC  pressão na choke\n",
    "# Pressão de manifold"
   ],
   "metadata": {
    "collapsed": false,
    "pycharm": {
     "name": "#%%\n"
    }
   }
  },
  {
   "cell_type": "markdown",
   "metadata": {
    "pycharm": {
     "name": "#%% md\n"
    }
   },
   "source": [
    "Definindo as variáveis simbólicas"
   ]
  },
  {
   "cell_type": "code",
   "execution_count": 5,
   "metadata": {
    "pycharm": {
     "name": "#%%\n"
    }
   },
   "outputs": [],
   "source": [
    "# Criando simbolica\n",
    "from casadi import *\n",
    "nx = 3; nu = 2;\n",
    "x = MX.sym(\"x\",nx); # Estados\n",
    "u = MX.sym(\"u\",nu); # Exogena\n",
    "dudt_max = MX.sym(\"dudt_max\",2); # Exogena\n"
   ]
  },
  {
   "cell_type": "code",
   "execution_count": 6,
   "metadata": {
    "pycharm": {
     "name": "#%%\n"
    }
   },
   "outputs": [],
   "source": [
    "pbh = AplicaEscala(x[0],0)\n",
    "pwh = AplicaEscala(x[1],1)\n",
    "q = AplicaEscala(x[2],2)\n",
    "fq = u[0]\n",
    "zc = u[1]\n",
    "#zc = AplicaEscala(x[4],4)"
   ]
  },
  {
   "cell_type": "code",
   "execution_count": 7,
   "metadata": {
    "pycharm": {
     "name": "#%%\n"
    }
   },
   "outputs": [
    {
     "data": {
      "text/plain": "2000000.0"
     },
     "execution_count": 7,
     "metadata": {},
     "output_type": "execute_result"
    }
   ],
   "source": [
    "# Entradas\n",
    "\n",
    "fqref = u[0]*unorm[0,1]+unorm[0,0]; zcref = u[1]*unorm[1,1]+unorm[1,0];\n",
    "pm=2e6;\n",
    "#fq=fqref; zc=zcref;\n",
    "#pm=(pm-xnorm[0,0])/xnorm[0,1]\n",
    "pm\n",
    "#pm = u[2];\n"
   ]
  },
  {
   "cell_type": "markdown",
   "metadata": {
    "pycharm": {
     "name": "#%% md\n"
    }
   },
   "source": [
    "Normalizando variáveis dependentes"
   ]
  },
  {
   "cell_type": "code",
   "execution_count": 8,
   "metadata": {
    "pycharm": {
     "name": "#%%\n"
    }
   },
   "outputs": [],
   "source": [
    "# Calculo do HEAD e delta de press�o\n",
    "q0 = q/Cq*(f0/fq);\n",
    "H0 = -1.2454e6*q0**2 + 7.4959e3*q0 + 9.5970e2;\n",
    "\n",
    "H = CH*H0*(fq/f0)**2; # Head\n",
    "Pp = rho*g*H;\n",
    "# Calculo da press�o de intake\n",
    "F1 = 0.158*((rho*L1*q**2)/(D1*A1**2))*(mu/(rho*D1*q))**(1/4);\n",
    "F2 = 0.158*((rho*L2*q**2)/(D2*A2**2))*(mu/(rho*D2*q))**(1/4);"
   ]
  },
  {
   "cell_type": "code",
   "execution_count": 9,
   "metadata": {
    "pycharm": {
     "name": "#%%\n"
    }
   },
   "outputs": [],
   "source": [
    "P0 = -2.3599e9*q0**3 -1.8082e7*q0**2 +4.3346e6*q0 + 9.4355e4;\n",
    "pin = pbh - rho*g*h1 - F1\n",
    "P = Cp*P0*(fq/f0)**3; # Potencia\n",
    "I = Inp*P/Pnp;      # Corrente"
   ]
  },
  {
   "cell_type": "code",
   "execution_count": 10,
   "outputs": [
    {
     "data": {
      "text/plain": "MX(@1=(0.00333333+(0.0119444*x[2])), ((0.158*((475000*sq(@1))/6.6775e-06))*pow((0.025/(96.52*@1)),0.25)))"
     },
     "execution_count": 10,
     "metadata": {},
     "output_type": "execute_result"
    }
   ],
   "source": [
    "F1"
   ],
   "metadata": {
    "collapsed": false,
    "pycharm": {
     "name": "#%%\n"
    }
   }
  },
  {
   "cell_type": "code",
   "execution_count": 11,
   "metadata": {},
   "outputs": [
    {
     "data": {
      "text/plain": "MX((2.32e-09*(12600000-(100000+(8400000*x[0])))))"
     },
     "execution_count": 11,
     "metadata": {},
     "output_type": "execute_result"
    }
   ],
   "source": [
    "# Vazao do reservatorio e vazao da choke\n",
    "qr  = PI*(pr - pbh);\n",
    "qr\n"
   ]
  },
  {
   "cell_type": "code",
   "execution_count": 12,
   "metadata": {},
   "outputs": [],
   "source": [
    "qc  = Cc*(zc/100)*sign((pwh - pm))*sqrt(casadi.fabs(pwh - pm));"
   ]
  },
  {
   "cell_type": "code",
   "execution_count": 13,
   "metadata": {
    "pycharm": {
     "name": "#%%\n"
    }
   },
   "outputs": [],
   "source": [
    "dpbhdt = b1/V1*(qr - q);\n",
    "dpwhdt = b2/V2*(q - qc);\n",
    "dqdt = 1/M*(pbh - pwh - rho*g*hw - F1 - F2 + Pp);"
   ]
  },
  {
   "cell_type": "markdown",
   "metadata": {
    "pycharm": {
     "name": "#%% md\n"
    }
   },
   "source": [
    "\n",
    "Aplicar escala nas derivadas"
   ]
  },
  {
   "cell_type": "code",
   "execution_count": 14,
   "metadata": {
    "pycharm": {
     "name": "#%%\n"
    }
   },
   "outputs": [],
   "source": [
    "if normaliza==True:\n",
    "    dpbhdt=dpbhdt*xnorm[0,1]\n",
    "    dpwhdt=dpwhdt*xnorm[1,1]\n",
    "    dqdt=dqdt*xnorm[2,1]\n",
    "\n"
   ]
  },
  {
   "cell_type": "code",
   "execution_count": 15,
   "metadata": {},
   "outputs": [],
   "source": [
    "# Função casadi\n",
    "dxdt = vertcat(dpbhdt,dpwhdt,dqdt)\n",
    "Eq_Estado = Function('Eq_Estado',[x,u],[dxdt],\n",
    "                     ['x','u'],['dxdt'])\n",
    "\n",
    "y=vertcat(pin,H);\n",
    "ny = y.size1()"
   ]
  },
  {
   "cell_type": "code",
   "execution_count": 16,
   "outputs": [],
   "source": [
    "# Equações algébricas\n",
    "sea_nl = Function('sea_nl',[x,u],[y,pin,H],\\\n",
    "                  ['x','u'],['y','pin','H']); # Sistema de Eq. Algebricas variaveis de sa�da\n",
    "\n"
   ],
   "metadata": {
    "collapsed": false,
    "pycharm": {
     "name": "#%%\n"
    }
   }
  },
  {
   "cell_type": "code",
   "execution_count": 17,
   "metadata": {
    "pycharm": {
     "name": "#%%\n"
    }
   },
   "outputs": [],
   "source": [
    "BCS={\n",
    "     'x': x,\n",
    "     'u': u,\n",
    "     'y': y,\n",
    "     'nx': nx,\n",
    "     'nu': nu,\n",
    "     'ny': ny,\n",
    "     'NaoLinear': {'sedo_nl': Eq_Estado(x,u),\n",
    "                   'sea_nl': sea_nl\n",
    "                   }\n",
    "}\n"
   ]
  },
  {
   "cell_type": "code",
   "execution_count": 18,
   "metadata": {
    "pycharm": {
     "name": "#%% Calculo do estacionario\n"
    }
   },
   "outputs": [],
   "source": [
    "#% Função objetivo\n",
    "dxdt_0 = Eq_Estado(BCS['x'], BCS['u'])\n",
    "J = sum1(dxdt_0**2)"
   ]
  },
  {
   "cell_type": "code",
   "execution_count": 19,
   "metadata": {
    "pycharm": {
     "name": "#%%\n"
    }
   },
   "outputs": [],
   "source": [
    "#% Otimizador\n",
    "opt={\n",
    "     'ipopt':{\n",
    "         'print_level':0,\n",
    "         'acceptable_tol':1e-8,\n",
    "         'acceptable_obj_change_tol':1e-6,\n",
    "         'max_iter':50\n",
    "         },\n",
    "     'print_time':0,\n",
    "     }\n",
    "\n",
    "opt['ipopt']['print_level']=0;# %0,3\n",
    "opt['print_time']=0;\n",
    "opt['ipopt']['acceptable_tol']=1e-8;\n",
    "opt['ipopt']['acceptable_obj_change_tol']=1e-6;\n",
    "opt['ipopt']['max_iter']=50;"
   ]
  },
  {
   "cell_type": "code",
   "execution_count": 20,
   "outputs": [],
   "source": [
    "MMQ = {'x':BCS['x'], 'f':J, 'p':BCS['u']}"
   ],
   "metadata": {
    "collapsed": false,
    "pycharm": {
     "name": "#%%\n"
    }
   }
  },
  {
   "cell_type": "code",
   "execution_count": 21,
   "outputs": [],
   "source": [
    "solver = nlpsol('solver', 'ipopt', MMQ, opt)"
   ],
   "metadata": {
    "collapsed": false,
    "pycharm": {
     "name": "#%%\n"
    }
   }
  },
  {
   "cell_type": "code",
   "execution_count": 22,
   "metadata": {
    "pycharm": {
     "name": "#%%\n"
    }
   },
   "outputs": [],
   "source": [
    "# Restrições das variaveis de decis�o\n",
    "# minimo\n",
    "args={\n",
    "      'lbx': np.zeros((nx,1)),\n",
    "# m�ximo\n",
    "      'ubx':np.full((nx, 1), np.inf)\n",
    "      }\n",
    "\n",
    "# Solu��o do otimizador\n",
    "sol=solver(x0=BCS['x'], lbx=args['lbx'], ubx=args['ubx'], p=BCS['u']);\n",
    "#yss=sea_nl(sol['x'],BCS['u'])\n"
   ]
  },
  {
   "cell_type": "code",
   "execution_count": 23,
   "metadata": {
    "pycharm": {
     "name": "#%%\n"
    }
   },
   "outputs": [],
   "source": [
    "# Estacionario = Function('Estacionario',[BCS['x'],BCS['u']],\\\n",
    "#     [sol['x'],yss[0]],\\\n",
    "#     ['x0','uss'],['xss','yss']);\n",
    "\n",
    "# BCS['Estacionario'] = Estacionario;"
   ]
  },
  {
   "cell_type": "code",
   "execution_count": 24,
   "metadata": {
    "pycharm": {
     "name": "#%%\n"
    }
   },
   "outputs": [],
   "source": [
    "f_ss,zc_ss= (np.array([50, 50]))"
   ]
  },
  {
   "cell_type": "code",
   "execution_count": 25,
   "metadata": {
    "pycharm": {
     "name": "#%%\n"
    }
   },
   "outputs": [
    {
     "data": {
      "text/plain": "array([[50],\n       [50]])"
     },
     "execution_count": 25,
     "metadata": {},
     "output_type": "execute_result"
    }
   ],
   "source": [
    "uss = np.array([[f_ss],[zc_ss]]); # Entradas do estacionario\n",
    "\n",
    "uss\n"
   ]
  },
  {
   "cell_type": "code",
   "execution_count": 26,
   "metadata": {
    "pycharm": {
     "name": "#%%\n"
    }
   },
   "outputs": [],
   "source": [
    "#% Calculo do estacionario\n",
    "\n",
    "#x0 = [0.2,0.5,0.5,0.5,0.5]\n",
    "#x0 = np.array([8311024.82175957,2990109.06207437,0.00995042241351780,50,50]);\n",
    "\n",
    "x0 = np.array([8311024.82175957,2990109.06207437,0.00995042241351780]);"
   ]
  },
  {
   "cell_type": "code",
   "execution_count": 27,
   "metadata": {
    "pycharm": {
     "name": "#%%\n"
    }
   },
   "outputs": [],
   "source": [
    "if normaliza==True:\n",
    "    x0_n=normalizar(x0,xnorm)\n",
    "    uss_n=normaliza_u(uss,unorm)\n",
    "else:\n",
    "    x0_n=x0\n",
    "    uss_n=uss"
   ]
  },
  {
   "cell_type": "code",
   "execution_count": 28,
   "outputs": [
    {
     "data": {
      "text/plain": "MX(@1=u[0], @2=(((0.00333333+(0.0119444*x[2]))/0.937982)*(60/@1)), ((0.99925*(959.7+((-1245400*sq(@2))+(7495.9*@2))))*sq((@1/60))))"
     },
     "execution_count": 28,
     "metadata": {},
     "output_type": "execute_result"
    }
   ],
   "source": [
    "H"
   ],
   "metadata": {
    "collapsed": false,
    "pycharm": {
     "name": "#%%\n"
    }
   }
  },
  {
   "cell_type": "code",
   "execution_count": 28,
   "outputs": [],
   "source": [],
   "metadata": {
    "collapsed": false,
    "pycharm": {
     "name": "#%%\n"
    }
   }
  },
  {
   "cell_type": "markdown",
   "source": [],
   "metadata": {
    "collapsed": false,
    "pycharm": {
     "name": "#%% md\n"
    }
   }
  },
  {
   "cell_type": "code",
   "execution_count": 29,
   "outputs": [
    {
     "data": {
      "text/plain": "array([[0.44444444],\n       [0.5       ]])"
     },
     "execution_count": 29,
     "metadata": {},
     "output_type": "execute_result"
    }
   ],
   "source": [
    "uss_n"
   ],
   "metadata": {
    "collapsed": false,
    "pycharm": {
     "name": "#%%\n"
    }
   }
  },
  {
   "cell_type": "code",
   "execution_count": 30,
   "outputs": [
    {
     "data": {
      "text/plain": "array([[0.97750295],\n       [0.30940908],\n       [0.55398885]])"
     },
     "execution_count": 30,
     "metadata": {},
     "output_type": "execute_result"
    }
   ],
   "source": [
    "x0_n"
   ],
   "metadata": {
    "collapsed": false,
    "pycharm": {
     "name": "#%%\n"
    }
   }
  },
  {
   "cell_type": "code",
   "execution_count": 31,
   "metadata": {
    "pycharm": {
     "name": "#%%\n"
    }
   },
   "outputs": [
    {
     "name": "stdout",
     "output_type": "stream",
     "text": [
      "\n",
      "******************************************************************************\n",
      "This program contains Ipopt, a library for large-scale nonlinear optimization.\n",
      " Ipopt is released as open source code under the Eclipse Public License (EPL).\n",
      "         For more information visit https://github.com/coin-or/Ipopt\n",
      "******************************************************************************\n",
      "\n"
     ]
    }
   ],
   "source": [
    "# args['lbx'][3] = uss[0]\n",
    "# args['ubx'][3] = uss[0]  # bounds freq. solver\n",
    "# args['lbx'][4] = uss[1]\n",
    "# args['ubx'][4] = uss[1]   # bounds zc solver\n",
    "#sol=solver('x0',x0, 'lbx', args['lbx'], 'ubx', args['ubx'], 'p', uss);\n",
    "#sol=solver(x0=x0_n,lbx=args['lbx'], ubx=args['ubx'], p=uss_n)\n",
    "sol_n=solver(x0=x0_n, p=uss_n)\n",
    "xss_n=sol_n['x']"
   ]
  },
  {
   "cell_type": "code",
   "execution_count": 32,
   "outputs": [],
   "source": [
    "if normaliza==False:\n",
    "    sol=solver(x0=x0, p=uss)\n",
    "    xss=sol['x']"
   ],
   "metadata": {
    "collapsed": false,
    "pycharm": {
     "name": "#%%\n"
    }
   }
  },
  {
   "cell_type": "code",
   "execution_count": 33,
   "outputs": [],
   "source": [
    "#Eq de medição\n"
   ],
   "metadata": {
    "collapsed": false,
    "pycharm": {
     "name": "#%%\n"
    }
   }
  },
  {
   "cell_type": "code",
   "execution_count": 34,
   "metadata": {
    "pycharm": {
     "name": "#%%\n"
    }
   },
   "outputs": [
    {
     "data": {
      "text/plain": "DM([1.48299, 0.309409, -0.270739])"
     },
     "execution_count": 34,
     "metadata": {},
     "output_type": "execute_result"
    }
   ],
   "source": [
    "sol_n['x']"
   ]
  },
  {
   "cell_type": "code",
   "execution_count": 35,
   "metadata": {
    "pycharm": {
     "name": "#%%\n"
    }
   },
   "outputs": [
    {
     "data": {
      "text/plain": "array([[1.25571102e+07],\n       [2.99010906e+06],\n       [9.95042241e-05]])"
     },
     "execution_count": 35,
     "metadata": {},
     "output_type": "execute_result"
    }
   ],
   "source": [
    "xss = desnormalizar(sol_n['x'],xnorm)\n",
    "\n",
    "xss"
   ]
  },
  {
   "cell_type": "markdown",
   "source": [
    "xss correto = <br>\n",
    "6.97226e+06<br>\n",
    "2.86974e+06<br>\n",
    "0.0130564"
   ],
   "metadata": {
    "collapsed": false,
    "pycharm": {
     "name": "#%% md\n"
    }
   }
  },
  {
   "cell_type": "code",
   "execution_count": 36,
   "metadata": {
    "pycharm": {
     "name": "#%%\n"
    }
   },
   "outputs": [
    {
     "data": {
      "text/plain": "array([[8.31102482e+06],\n       [2.99010906e+06],\n       [9.95042241e-03]])"
     },
     "execution_count": 36,
     "metadata": {},
     "output_type": "execute_result"
    }
   ],
   "source": [
    "x0.reshape(3,1)"
   ]
  },
  {
   "cell_type": "code",
   "execution_count": 37,
   "outputs": [
    {
     "data": {
      "text/plain": "1"
     },
     "execution_count": 37,
     "metadata": {},
     "output_type": "execute_result"
    }
   ],
   "source": [
    "# Definir variaveis manipuladas e controladas e disturbio externo\n",
    "mv = [0,1];    #% [f, Zc]\n",
    "pv = [0,1];  #% [pin, H]  #% [P, I]\n",
    "#pv = [2,3];  #% [pin, H]\n",
    "de = 2;      #% [pm]\n",
    "tg = 2;      #% MV target\n",
    "#% Parametros\n",
    "ts = 1;\n",
    "ts"
   ],
   "metadata": {
    "collapsed": false,
    "pycharm": {
     "name": "#%%\n"
    }
   }
  },
  {
   "cell_type": "code",
   "execution_count": 57,
   "outputs": [
    {
     "data": {
      "text/plain": "(2, 1)"
     },
     "execution_count": 57,
     "metadata": {},
     "output_type": "execute_result"
    }
   ],
   "source": [
    "#%Modelo de predição\n",
    "#% Criando o objeto para predição do modelo\n",
    "# Iniciando variavel dicionário para a construção da EDO\n",
    "# sedo = {'x': BCS['x'][0:3], # Estados\n",
    "#         'p': BCS['u'], #Variáveis exogenas\n",
    "#         'ode': BCS['NaoLinear']['sedo_nl'] # SEDO (Gerado no bcs_settings)\n",
    "#         };\n",
    "\n",
    "sedo = {'x': BCS['x'][0:3], # Estados\n",
    "        'p': BCS['u'], #Variáveis exogenas\n",
    "        'ode': Eq_Estado(x[0:3],u) # SEDO (Gerado no bcs_settings)\n",
    "        };\n",
    "\n",
    "#% Criando o objeto para integração da Eq_estado\n",
    "opt = {'tf':ts,'t0':0};   #% opções do integrador\n",
    "# int_odes = integrator('int_odes','cvodes',{'x': x[0:3], # Estados\n",
    "#         'p': BCS['u'], #Variáveis exogenas\n",
    "#         'ode': BCS['NaoLinear']['sedo_nl']} ,opt);"
   ],
   "metadata": {
    "collapsed": false,
    "pycharm": {
     "name": "#%%\n"
    }
   }
  },
  {
   "cell_type": "code",
   "execution_count": 39,
   "outputs": [],
   "source": [
    "int_odes = integrator('int_odes','cvodes',sedo,opt);\n",
    "# objeto integrador"
   ],
   "metadata": {
    "collapsed": false,
    "pycharm": {
     "name": "#%%\n"
    }
   }
  },
  {
   "cell_type": "code",
   "execution_count": 40,
   "outputs": [],
   "source": [
    "res = int_odes(x0=BCS['x'],p=BCS['u']);             #   % solução um passo a frente"
   ],
   "metadata": {
    "collapsed": false,
    "pycharm": {
     "name": "#%%\n"
    }
   }
  },
  {
   "cell_type": "code",
   "execution_count": 41,
   "outputs": [],
   "source": [
    "npv = len(pv); nmv = len(mv);\n"
   ],
   "metadata": {
    "collapsed": false,
    "pycharm": {
     "name": "#%%\n"
    }
   }
  },
  {
   "cell_type": "code",
   "execution_count": 42,
   "outputs": [],
   "source": [
    "# Criando o objeto para solução da equação de medição\n",
    "Eq_medicao = Function('Eq_medicao',[BCS['x'],BCS['u']],[BCS['y'][pv]],['x','u'],['y']);\n",
    "# Criacao do objeto para simulacao do BCS Eq de estado + Eq de Medicao\n",
    "Modelo_Predicao = Function('Modelo_Predicao',[BCS['x'],BCS['u']],[res['xf'],Eq_medicao(res['xf'],BCS['u'])],['xk_1','uk_1'],['xk','yk']);"
   ],
   "metadata": {
    "collapsed": false,
    "pycharm": {
     "name": "#%%\n"
    }
   }
  },
  {
   "cell_type": "code",
   "execution_count": 43,
   "outputs": [
    {
     "data": {
      "text/plain": "array([[0.],\n       [0.]])"
     },
     "execution_count": 43,
     "metadata": {},
     "output_type": "execute_result"
    }
   ],
   "source": [
    "# Inicializa��o das variaveis\n",
    "\n",
    "xmk = xss;           # Estados\n",
    "xpk = xss;\n",
    "uk_1=uss[mv];\n",
    "if normaliza==True:\n",
    "    xpk=normalizar(xss,xnorm)\n",
    "    uk_1 = normaliza_u(uss[mv],unorm);\n",
    "\n",
    "     # MVS\n",
    "\n",
    "# Aloca��o de variaveis\n",
    "Xk = np.zeros((nx,1)); Yk = np.zeros((npv,1));\n",
    "Yk"
   ],
   "metadata": {
    "collapsed": false,
    "pycharm": {
     "name": "#%%\n"
    }
   }
  },
  {
   "cell_type": "code",
   "execution_count": 44,
   "outputs": [],
   "source": [
    "Uk = np.zeros((nmv,1))\n",
    "\n",
    "Ymk = Yk; Ys = Yk; Ymin = Yk; Ymax = Yk;\n"
   ],
   "metadata": {
    "collapsed": false,
    "pycharm": {
     "name": "#%%\n"
    }
   }
  },
  {
   "cell_type": "markdown",
   "source": [
    "### Simulando cenários"
   ],
   "metadata": {
    "collapsed": false,
    "pycharm": {
     "name": "#%% md\n"
    }
   }
  },
  {
   "cell_type": "code",
   "execution_count": 45,
   "outputs": [],
   "source": [
    "tsim = 10;\n",
    "nsim=int(round(tsim/ts)+1)\n",
    "if normaliza==True:\n",
    "    [xpk,ypk] = Modelo_Predicao(xss_n,uss_n)\n",
    "else:\n",
    "    [xpk,ypk] = Modelo_Predicao(xss,uss)"
   ],
   "metadata": {
    "collapsed": false,
    "pycharm": {
     "name": "#%%\n"
    }
   }
  },
  {
   "cell_type": "code",
   "execution_count": 46,
   "outputs": [],
   "source": [
    "xi=(np.arange(0,int(nsim*ts),ts));\n",
    "uk_1 = np.array([[60], [70]]);\n",
    "uk_1n = normaliza_u(uk_1,unorm)\n",
    "if normaliza==True:\n",
    "   uk_1=uk_1n\n",
    "   Uk= uk_1n\n",
    "   Xk=normalizar(xpk,xnorm);\n",
    "else:\n",
    "    Uk=uk_1\n",
    "    Xk=xpk\n",
    "Yk=ypk"
   ],
   "metadata": {
    "collapsed": false,
    "pycharm": {
     "name": "#%%\n"
    }
   }
  },
  {
   "cell_type": "code",
   "execution_count": 47,
   "outputs": [
    {
     "name": "stdout",
     "output_type": "stream",
     "text": [
      "Tempo: 0 k= 0\n",
      "Tempo: 1 k= 1\n",
      "Tempo: 2 k= 2\n",
      "Tempo: 3 k= 3\n",
      "Tempo: 4 k= 4\n",
      "Tempo: 5 k= 5\n",
      "Tempo: 6 k= 6\n",
      "Tempo: 7 k= 7\n",
      "Tempo: 8 k= 8\n",
      "Tempo: 9 k= 9\n",
      "Xk shape =(3, 11)\n",
      "Uk shape =(2, 11)\n",
      "Yk shape =(2, 11)\n",
      "xi shape =(11,)\n",
      "Ok.simulação concluida\n"
     ]
    },
    {
     "data": {
      "text/plain": "DM([[-22.9444, 0.000100202, 0.000100719, 0.000101233, 0.000101743, 0.000102249, 0.000102751, 0.000103249, 0.000103743, 0.000104233, 0.000104719]])"
     },
     "execution_count": 47,
     "metadata": {},
     "output_type": "execute_result"
    }
   ],
   "source": [
    "\n",
    "for k in range(0,nsim-1):\n",
    "    print('Tempo:',k*ts, 'k=',k)\n",
    "    [xpk,ypk] = Modelo_Predicao(xpk,uk_1)\n",
    "\n",
    "\n",
    "\n",
    "\n",
    "    if normaliza==True:\n",
    "        Xk = hcat([Xk,desnormalizar(xpk,xnorm)])\n",
    "        ypk=Eq_medicao(desnormalizar(xpk,xnorm),uk_1)\n",
    "        Yk = hcat([Yk,ypk]);\n",
    "        #Uk = hcat([Uk,uk_1n])\n",
    "    else:\n",
    "        Xk = hcat([Xk,xpk])\n",
    "        Yk = hcat([Yk,ypk])\n",
    "    Uk = hcat([Uk,uk_1])\n",
    "\n",
    "    #Ymk = hcat([Ymk,ymk]);\n",
    "    #print(\"Xk,Yk,Uk,xi shape =\"+str(Xk.shape)+\" \"+str(Yk.shape)+\" \"+str(Uk.shape)+\" \"+str(xi.shape))\n",
    "print(\"Xk shape =\"+str(Xk.shape))\n",
    "print(\"Uk shape =\"+str(Uk.shape))\n",
    "print(\"Yk shape =\"+str(Uk.shape))\n",
    "print(\"xi shape =\"+str(xi.shape))\n",
    "print(\"Ok.simulação concluida\")\n",
    "Uk\n",
    "Xk[2,:]"
   ],
   "metadata": {
    "collapsed": false,
    "pycharm": {
     "name": "#%%\n"
    }
   }
  },
  {
   "cell_type": "markdown",
   "source": [
    "## Produção dos gráficos"
   ],
   "metadata": {
    "collapsed": false,
    "pycharm": {
     "name": "#%% md\n"
    }
   }
  },
  {
   "cell_type": "code",
   "execution_count": 48,
   "outputs": [
    {
     "data": {
      "text/plain": "<Figure size 432x288 with 0 Axes>"
     },
     "metadata": {},
     "output_type": "display_data"
    }
   ],
   "source": [
    "fig1=plt.figure()\n",
    "label = [r'$p_{in}(bar)$','H(m)','P','I','qc','qr' ];\n",
    "\n"
   ],
   "metadata": {
    "collapsed": false,
    "pycharm": {
     "name": "#%%\n"
    }
   }
  },
  {
   "cell_type": "code",
   "execution_count": 49,
   "outputs": [
    {
     "name": "stderr",
     "output_type": "stream",
     "text": [
      "<ipython-input-49-01d6ab049d9c>:21: UserWarning: Matplotlib is currently using module://ipykernel.pylab.backend_inline, which is a non-GUI backend, so cannot show the figure.\n",
      "  fig1.show()\n"
     ]
    },
    {
     "data": {
      "text/plain": "<Figure size 432x288 with 1 Axes>",
      "image/png": "[encoded data removed]"
     },
     "metadata": {
      "needs_background": "light"
     },
     "output_type": "display_data"
    }
   ],
   "source": [
    "for iy in range(0,npv):\n",
    "    ax = fig1.add_subplot(npv,1,iy+1)\n",
    "\n",
    "    if iy == 0: # Pin\n",
    "        ax.plot(xi,(Yk[iy,:].T/1e5), label='Medição')\n",
    "        #ax.plot(xi,Ymk[iy,:].T/1e5, label='EKF')\n",
    "        ax.set_ylabel(label[iy])\n",
    "        ax.set(xlim=(xi[0], nsim*ts))\n",
    "        ax.set(ylim=(40,62))\n",
    "        plt.grid(True)\n",
    "    else: # H\n",
    "        ax.plot(xi,Yk[iy,:].T, label='Medição')\n",
    "        #ax.plot(xi,Ymk[iy,:].T,label='EKF')\n",
    "        ax.set_ylabel(label[iy])\n",
    "        ax.set(xlim=(xi[0], nsim*ts))\n",
    "       # ax.set(ylim=(580, 850))\n",
    "        plt.grid(True)\n",
    "#ax.plot(xi,Yk[2,:].T, label='EKF')\n",
    "ax.legend();\n",
    "ax.set_xlabel('Time (nT)')\n",
    "fig1.show()"
   ],
   "metadata": {
    "collapsed": false,
    "pycharm": {
     "name": "#%%\n"
    }
   }
  },
  {
   "cell_type": "code",
   "execution_count": 50,
   "outputs": [
    {
     "name": "stdout",
     "output_type": "stream",
     "text": [
      "0\n"
     ]
    },
    {
     "data": {
      "text/plain": "<Figure size 432x288 with 2 Axes>",
      "image/png": "[encoded data removed]"
     },
     "metadata": {
      "needs_background": "light"
     },
     "output_type": "display_data"
    }
   ],
   "source": [
    "#% Restrição\n",
    "umin  = np.array([35, 0]); np.transpose(umin);  # lower bounds of inputs\n",
    "umax  = np.array([65, 100]); np.transpose(umax); # upper bounds of inputs\n",
    "dumax = np.array([0.5, dzc_max]); np.transpose(dumax);\n",
    "fig2=plt.figure()\n",
    "label = ['f(Hz)',r'$z_c$(%)'];\n",
    "for iu in range(0,nmv):\n",
    "    ax2=fig2.add_subplot(nmv,1,iu+1)\n",
    "    ax2.plot(xi,Uk[iu,:].T, label='Medição')\n",
    "    ax2.plot([1,nsim],[umin[iu], umin[iu]],'--r')\n",
    "    ax2.plot([1,nsim],[umax[iu], umax[iu]],'--r', label='Restrição')\n",
    "    ax2.set_ylabel(label[iu])\n",
    "    ax2.set(xlim=(xi[0], nsim*ts))\n",
    "    if iu==0:\n",
    "        ax2.set(ylim=(30, 70))\n",
    "        print(iu)\n",
    "    plt.grid(True)"
   ],
   "metadata": {
    "collapsed": false,
    "pycharm": {
     "name": "#%%\n"
    }
   }
  }
 ],
 "metadata": {
  "kernelspec": {
   "display_name": "Python 3",
   "language": "python",
   "name": "python3"
  },
  "language_info": {
   "codemirror_mode": {
    "name": "ipython",
    "version": 3
   },
   "file_extension": ".py",
   "mimetype": "text/x-python",
   "name": "python",
   "nbconvert_exporter": "python",
   "pygments_lexer": "ipython3",
   "version": "3.9.2"
  }
 },
 "nbformat": 4,
 "nbformat_minor": 1
}