{
 "cells": [
  {
   "cell_type": "markdown",
   "metadata": {
    "collapsed": true,
    "pycharm": {
     "name": "#%% md\n"
    }
   },
   "source": [
    "Normalização do modelo BCS não linear"
   ]
  },
  {
   "cell_type": "code",
   "execution_count": 49,
   "metadata": {
    "pycharm": {
     "name": "#%%\n"
    }
   },
   "outputs": [
    {
     "name": "stdout",
     "output_type": "stream",
     "text": [
      "Dados carregados\n"
     ]
    }
   ],
   "source": [
    "import matplotlib.pyplot as plt\n",
    "import numpy as np\n",
    "exec(compile(open('param.py', \"rb\").read(), 'param.py', 'exec')) #% Roda arquivo com parâmetros do modelo BCS\n",
    "%matplotlib tk"
   ]
  },
  {
   "cell_type": "markdown",
   "metadata": {
    "pycharm": {
     "name": "#%% md\n"
    }
   },
   "source": [
    "### Variáveis de entrada\n",
    "f $\\in$ (35,65) Hz <br>\n",
    "zc $\\in$ (0,100)% <br>\n",
    "pm $\\in$ ($2\\cdot 10^6$) <br>\n",
    "\n",
    "### Variáveis de estado\n",
    "pbh $\\in$ ($10^5, 8.5 \\cdot 10^6$) <br>\n",
    "pwh $\\in$ ($2 \\cdot 10^6, 5.2\\cdot10^6$) <br>\n",
    "q $\\in (10^{-2},3\\cdot 10^{⁻2})$ <br>\n",
    "\n"
   ]
  },
  {
   "cell_type": "markdown",
   "metadata": {},
   "source": [
    "Função para retornar os valores de xc e x0 dado que<br>\n",
    "$x_{min}<x<x_{max}$ <br>\n",
    "\n",
    "Nova variável<br>\n",
    "\n",
    "$xb=\\frac{x-x0}{xc}$\n",
    "\n",
    "Assim <br>\n",
    "\n",
    "$x=xb\\cdot xc+x0$\n",
    "\n",
    "Fazendo com que a nova variável esteja no intervalo $0<xb<1$ <br>\n"
   ]
  },
  {
   "cell_type": "code",
   "execution_count": 50,
   "metadata": {
    "pycharm": {
     "name": "#%%\n"
    }
   },
   "outputs": [],
   "source": [
    "def Fnorm(xlim):\n",
    "    # Encontrar o fator de normalização\n",
    "    # tal que xb=(x-x0)/xc\n",
    "    # xmin<x<xmax\n",
    "    # fazendo com que 0<xb<1\n",
    "    x=(xlim[0],xlim[1]-xlim[0])\n",
    "    return x\n",
    "def normalizar(x,xnorm):\n",
    "    xs=np.zeros((nx,1))\n",
    "    for i in range(0,nx):\n",
    "        xs[i]=(x[i]-xnorm[i,0])/xnorm[i,1]\n",
    "    return xs\n",
    "def desnormalizar(x,xnorm):\n",
    "    xs=np.zeros((nx,1))\n",
    "    for i in range(0,nx):\n",
    "        xs[i]=x[i]*xnorm[i,1]+xnorm[i,0]\n",
    "    return xs\n",
    "def AplicaEscala(var,i):\n",
    "    aux=(var-xnorm[i,0])/xnorm[i,1]\n",
    "    return aux\n",
    "def normalizar_u(u,unorm):\n",
    "    return ((u - unorm[:, 0]) / unorm[:, 1])"
   ]
  },
  {
   "cell_type": "markdown",
   "metadata": {
    "pycharm": {
     "name": "#%% md\n"
    }
   },
   "source": [
    "Definindo os fatores de ajuste de escala a partir dos limites operacionais"
   ]
  },
  {
   "cell_type": "code",
   "execution_count": 51,
   "metadata": {
    "pycharm": {
     "name": "#%%\n"
    }
   },
   "outputs": [],
   "source": [
    "# #Teste\n",
    "\n",
    "# t=np.arange(0,10,0.1)\n",
    "# v=5*np.exp(-1*t)+3\n",
    "\n",
    "# v=(v-3)/5\n",
    "# plt.plot(t,v)"
   ]
  },
  {
   "cell_type": "code",
   "execution_count": 52,
   "metadata": {
    "collapsed": false,
    "pycharm": {
     "name": "#%%\n"
    }
   },
   "outputs": [],
   "source": [
    "# Valores máximos e mínimos para normalização\n",
    "#Entradas\n",
    "f_lim=(30,75); zclim=(0,100);pmlim=(1e6,2e6);\n",
    "pbhlim=(100000,8.5e6); pwhlim=(2e6,5.2e6); qlim=(12/3600,55/3600)\n",
    "pbhlim=(3e6,12.6e6);\n",
    "plim=(1e5,12.6e6) # pressão característica\n",
    "pbhlim=plim\n",
    "pwhlim=plim\n",
    "\n",
    "\n"
   ]
  },
  {
   "cell_type": "code",
   "execution_count": 53,
   "metadata": {
    "pycharm": {
     "name": "#%%\n"
    }
   },
   "outputs": [],
   "source": [
    "pm=2e6; #Simplificando pm fixo\n",
    "unorm=np.array([Fnorm(f_lim),Fnorm(zclim)])\n",
    "xnorm= np.array([Fnorm(pbhlim),Fnorm(pwhlim),Fnorm(qlim), unorm[0,:],unorm[1,:]])\n",
    "#pbh  - pressão na bomba\n",
    "#pwh - Pressão de fundo do poço,\n",
    "#q - vazão\n",
    "#PI índice de produtividade do poço\n",
    "#PinC  pressão na choke\n",
    "# Pressão de manifold"
   ]
  },
  {
   "cell_type": "markdown",
   "metadata": {
    "pycharm": {
     "name": "#%% md\n"
    }
   },
   "source": [
    "Definindo as variáveis simbólicas"
   ]
  },
  {
   "cell_type": "code",
   "execution_count": 54,
   "metadata": {
    "pycharm": {
     "name": "#%%\n"
    }
   },
   "outputs": [],
   "source": [
    "# Criando simbolica\n",
    "from casadi import *\n",
    "nx = 3; nu = 2;\n",
    "x = MX.sym(\"x\",nx); # Estados\n",
    "u = MX.sym(\"u\",nu); # Exogena\n",
    "dudt_max = MX.sym(\"dudt_max\",2); # Exogena\n"
   ]
  },
  {
   "cell_type": "code",
   "execution_count": 55,
   "metadata": {
    "pycharm": {
     "name": "#%%\n"
    }
   },
   "outputs": [],
   "source": [
    "pbh = x[0]\n",
    "pwh = x[1]\n",
    "q = x[2]\n"
   ]
  },
  {
   "cell_type": "code",
   "execution_count": 56,
   "metadata": {
    "pycharm": {
     "name": "#%%\n"
    }
   },
   "outputs": [
    {
     "data": {
      "text/plain": [
       "[12600000.0, 2.32e-09]"
      ]
     },
     "execution_count": 56,
     "metadata": {},
     "output_type": "execute_result"
    }
   ],
   "source": [
    "# Entradas\n",
    "\n",
    "fqref = u[0]; zcref = u[1];\n",
    "pm=2e6;\n",
    "[pr,PI]"
   ]
  },
  {
   "cell_type": "markdown",
   "metadata": {
    "collapsed": false,
    "pycharm": {
     "name": "#%% md\n"
    }
   },
   "source": [
    "#Simplificando modelo do matlab de bruno. Entradas não serão estados\n"
   ]
  },
  {
   "cell_type": "code",
   "execution_count": 57,
   "metadata": {},
   "outputs": [],
   "source": [
    "zc=zcref\n",
    "fq=fqref"
   ]
  },
  {
   "cell_type": "code",
   "execution_count": 58,
   "metadata": {},
   "outputs": [
    {
     "name": "stdout",
     "output_type": "stream",
     "text": [
      "12600000.0\n"
     ]
    },
    {
     "data": {
      "text/plain": [
       "MX((12600000*x[0]))"
      ]
     },
     "execution_count": 58,
     "metadata": {},
     "output_type": "execute_result"
    }
   ],
   "source": [
    "tc=1/(b1/V1*PI)\n",
    "F1c=941799.5331\n",
    "F2c=2260318.8795\n",
    "Ppc=14090869.6942\n",
    "pbc=pr\n",
    "qc1=pbc\n",
    "Hc=1511.97\n",
    "pwc=tc*qc1*b2/V2\n",
    "qcc=pwc*V2/tc/b2\n",
    "print(qcc)\n",
    "#qcc= 0.033987702\n",
    "pbh=pbc*pbh\n",
    "pwh=pwc*pwh\n",
    "q=q*qc1\n",
    "pbh\n",
    "#fq=fc*fq # duvida verificar?"
   ]
  },
  {
   "cell_type": "code",
   "execution_count": 84,
   "metadata": {},
   "outputs": [
    {
     "data": {
      "text/plain": [
       "MX((1.66759e+15*x[1]))"
      ]
     },
     "execution_count": 84,
     "metadata": {},
     "output_type": "execute_result"
    }
   ],
   "source": []
  },
  {
   "cell_type": "code",
   "execution_count": 59,
   "metadata": {
    "collapsed": false,
    "pycharm": {
     "name": "#%%\n"
    }
   },
   "outputs": [],
   "source": [
    "# Escalonando parâmetros que se relacionam diretamente com variáveis escalonadas previamente na mesma escala\n",
    "# pm=(pm-xnorm[1,0])/xnorm[1,1]\n",
    "# pr=(pr-xnorm[0,0])/xnorm[0,1]\n",
    "# f0=(f0-unorm[0,0])/unorm[0,1]\n",
    "# [pr,pm,f0]"
   ]
  },
  {
   "cell_type": "markdown",
   "metadata": {
    "pycharm": {
     "name": "#%% md\n"
    }
   },
   "source": [
    "Normalizando variáveis dependentes"
   ]
  },
  {
   "cell_type": "code",
   "execution_count": 60,
   "metadata": {
    "pycharm": {
     "name": "#%%\n"
    }
   },
   "outputs": [],
   "source": [
    "# Calculo do HEAD e delta de press�o\n",
    "q0 = q/Cq*(f0/fq);\n",
    "H0 = -1.2454e6*q0**2 + 7.4959e3*q0 + 9.5970e2;\n",
    "H = CH*H0*(fq/f0)**2; # Head\n",
    "Pp = rho*g*H;\n",
    "# Calculo da press�o de intake\n",
    "F1 = 0.158*((rho*L1*q**2)/(D1*A1**2))*(mu/(rho*D1*q))**(1/4);\n",
    "F2 = 0.158*((rho*L2*q**2)/(D2*A2**2))*(mu/(rho*D2*q))**(1/4);\n",
    "funcF1=Function('funcF1',[x],[F1])\n",
    "\n",
    "#[funcF1(np.array([0,0,0.01,0,0])),funcF1(np.array([0,0,1,0,0]))]"
   ]
  },
  {
   "cell_type": "code",
   "execution_count": 61,
   "metadata": {
    "pycharm": {
     "name": "#%%\n"
    }
   },
   "outputs": [],
   "source": [
    "P0 = -2.3599e9*q0**3 -1.8082e7*q0**2 +4.3346e6*q0 + 9.4355e4;\n",
    "pin = pbh - rho*g*h1 - F1\n",
    "P = Cp*P0*(fq/f0)**3; # Potencia\n",
    "I = Inp*P/Pnp;      # Corrente"
   ]
  },
  {
   "cell_type": "code",
   "execution_count": 62,
   "metadata": {},
   "outputs": [],
   "source": [
    "# Vazao do reservatorio e vazao da choke\n",
    "qr  = PI*(pr - pbh);"
   ]
  },
  {
   "cell_type": "code",
   "execution_count": 63,
   "metadata": {},
   "outputs": [],
   "source": [
    "qc  = Cc*(zc/100)*casadi.sign((pwh - pm))*casadi.sqrt(casadi.fabs(pwh - pm));\n",
    "#pr*b1*PI/V1"
   ]
  },
  {
   "cell_type": "code",
   "execution_count": 64,
   "metadata": {
    "collapsed": false,
    "pycharm": {
     "name": "#%%\n"
    }
   },
   "outputs": [],
   "source": [
    "qc=qc*qcc\n",
    "Pp=Pp*Ppc\n",
    "F1=F1c*F1\n",
    "F2=F2c*F2\n",
    "H=Hc*H\n",
    "#qr=qrc*qr\n",
    "\n",
    "dpbhdt = (tc/pbc)*b1/V1*(qr - q)\n",
    "dpwhdt = (tc/pwc)*b2/V2*(q - qc)\n",
    "dqdt = (tc/qc1)*1/M*(pbh - pwh - rho*g*hw - F1 - F2 + Pp);\n",
    "\n",
    "# #Novo vetor de estados\n",
    "# xn = MX.sym(\"xn\",nx); # Estados\n",
    "# un = MX.sym(\"un\",nu); # Exogena\n",
    "\n",
    "\n"
   ]
  },
  {
   "cell_type": "markdown",
   "metadata": {},
   "source": [
    "$$$$\\dot{\\overline{pbh}}=\\frac{t_cb_1}{V_1pb_c}PIP_r-\\frac{t_cb_1\\cdot  PI}{ V_1}\\overline{pbh}-\\overline{q}\\frac{q_c}{pb_c}$$\n",
    "$$\\dot{\\overline{pwh}}=\\frac{t_cb_2}{pw_cV_2}q_c\\overline{q}-\\frac{t_cb_2}{pw_cV_2}q_{cc}\\overline{q}_{ch}(\\overline{pwh}pw_c))$$\n",
    "\n",
    "$$\\dot{\\overline{q}}=\\overline{pbh}\\frac{t_cpb_c}{q_c}  -\\overline{pwh}\\frac{t_cpw_c}{q_c}  -\\rho gh_w\\frac{t_c}{q_c} -\\overline{F_1}(\\overline{q}q_c)\\frac{t_c{F_1}_c}{q_c} - \\overline{F_2}(\\overline{q}q_c)\\frac{t_c{F_2}_c}{q_c}+\\rho g H_c\\frac{t_c}{q_c}\\overline{H}(f_c\\overline{f},q_c\\overline{q})$$\n",
    "\n",
    "$F1_c=941799.53$, $F2_c=2260318.8795$, $Hc=1511.97$ e $g_{cc}=0,033987702$"
   ]
  },
  {
   "cell_type": "code",
   "execution_count": 65,
   "metadata": {},
   "outputs": [
    {
     "name": "stdout",
     "output_type": "stream",
     "text": [
      "Coeficientes\n",
      "eq1\n",
      "[1.0, 1.0, 1.0]\n",
      "eq2\n",
      "[0.9999999999999998, 0.9999999999999998]\n",
      "eq3\n",
      "[1.1649425287356323, 209233903.06151247, 0.861641420361248, 0.08707478806758348, 0.20897949136774768, 1.3027759783435964]\n"
     ]
    }
   ],
   "source": [
    "print('Coeficientes')\n",
    "print('eq1')\n",
    "print([tc*b1*PI*pr/V1/pbc,tc*b1*PI/V1, qc1/pbc])\n",
    "print('eq2')\n",
    "print([tc*b2*qc1/V2/pwc,tc*b2*qcc/V2/pwc])\n",
    "print('eq3')\n",
    "print([tc*pbc/qc1,tc*pwc/qc1,rho*g*hw*tc/qc1,F1c*tc/qc1,F2c*tc/qc1,rho*g*Hc*tc/qc1])\n",
    "\n"
   ]
  },
  {
   "cell_type": "code",
   "execution_count": 66,
   "metadata": {},
   "outputs": [
    {
     "ename": "SyntaxError",
     "evalue": "invalid syntax (<ipython-input-66-cf463a5954f9>, line 1)",
     "output_type": "error",
     "traceback": [
      "\u001b[0;36m  File \u001b[0;32m\"<ipython-input-66-cf463a5954f9>\"\u001b[0;36m, line \u001b[0;32m1\u001b[0m\n\u001b[0;31m    c.\u001b[0m\n\u001b[0m      ^\u001b[0m\n\u001b[0;31mSyntaxError\u001b[0m\u001b[0;31m:\u001b[0m invalid syntax\n"
     ]
    }
   ],
   "source": [
    "c."
   ]
  },
  {
   "cell_type": "markdown",
   "metadata": {
    "pycharm": {
     "name": "#%% md\n"
    }
   },
   "source": [
    "Aplicar escala nas derivadas"
   ]
  },
  {
   "cell_type": "code",
   "execution_count": 17,
   "metadata": {
    "pycharm": {
     "name": "#%%\n"
    }
   },
   "outputs": [],
   "source": [
    "# dpbhdt=dpbhdt/xnorm[0,1]\n",
    "# dpwhdt=dpwhdt/xnorm[1,1]\n",
    "# dqdt=dqdt/xnorm[2,1]"
   ]
  },
  {
   "cell_type": "code",
   "execution_count": 62,
   "metadata": {},
   "outputs": [
    {
     "ename": "RuntimeError",
     "evalue": "Error in Function::Function for 'Eq_Estado' [MXFunction] at .../casadi/core/function.cpp:235:\n.../casadi/core/function_internal.cpp:144: Error calling MXFunction::init for 'Eq_Estado':\n.../casadi/core/x_function.hpp:286: For Eq_Estado: Xfunction input arguments must be purely symbolic.\nArgument 0(x) is not symbolic.",
     "output_type": "error",
     "traceback": [
      "\u001b[0;31m---------------------------------------------------------------------------\u001b[0m",
      "\u001b[0;31mRuntimeError\u001b[0m                              Traceback (most recent call last)",
      "\u001b[0;32m<ipython-input-62-c208c12758df>\u001b[0m in \u001b[0;36m<module>\u001b[0;34m\u001b[0m\n\u001b[1;32m      1\u001b[0m \u001b[0;31m# Função casadi\u001b[0m\u001b[0;34m\u001b[0m\u001b[0;34m\u001b[0m\u001b[0;34m\u001b[0m\u001b[0m\n\u001b[1;32m      2\u001b[0m \u001b[0mdxdt\u001b[0m \u001b[0;34m=\u001b[0m \u001b[0mcasadi\u001b[0m\u001b[0;34m.\u001b[0m\u001b[0mvertcat\u001b[0m\u001b[0;34m(\u001b[0m\u001b[0mdpbhdt\u001b[0m\u001b[0;34m,\u001b[0m\u001b[0mdpwhdt\u001b[0m\u001b[0;34m,\u001b[0m\u001b[0mdqdt\u001b[0m\u001b[0;34m,\u001b[0m\u001b[0;36m0\u001b[0m\u001b[0;34m,\u001b[0m\u001b[0;36m0\u001b[0m\u001b[0;34m)\u001b[0m\u001b[0;34m\u001b[0m\u001b[0;34m\u001b[0m\u001b[0m\n\u001b[0;32m----> 3\u001b[0;31m Eq_Estado = casadi.Function('Eq_Estado',[vertcat(pbh,pwh,q),u],[dxdt],\n\u001b[0m\u001b[1;32m      4\u001b[0m                      ['x','u'],['dxdt'])\n",
      "\u001b[0;32m~/anaconda3/envs/BCS/lib/python3.9/site-packages/casadi/casadi.py\u001b[0m in \u001b[0;36m__init__\u001b[0;34m(self, *args)\u001b[0m\n\u001b[1;32m   8529\u001b[0m         \u001b[0m__init__\u001b[0m\u001b[0;34m(\u001b[0m\u001b[0mFunction\u001b[0m \u001b[0mself\u001b[0m\u001b[0;34m,\u001b[0m \u001b[0mFunction\u001b[0m \u001b[0mother\u001b[0m\u001b[0;34m)\u001b[0m \u001b[0;34m->\u001b[0m \u001b[0mFunction\u001b[0m\u001b[0;34m\u001b[0m\u001b[0;34m\u001b[0m\u001b[0m\n\u001b[1;32m   8530\u001b[0m         \"\"\"\n\u001b[0;32m-> 8531\u001b[0;31m         \u001b[0m_casadi\u001b[0m\u001b[0;34m.\u001b[0m\u001b[0mFunction_swiginit\u001b[0m\u001b[0;34m(\u001b[0m\u001b[0mself\u001b[0m\u001b[0;34m,\u001b[0m \u001b[0m_casadi\u001b[0m\u001b[0;34m.\u001b[0m\u001b[0mnew_Function\u001b[0m\u001b[0;34m(\u001b[0m\u001b[0;34m*\u001b[0m\u001b[0margs\u001b[0m\u001b[0;34m)\u001b[0m\u001b[0;34m)\u001b[0m\u001b[0;34m\u001b[0m\u001b[0;34m\u001b[0m\u001b[0m\n\u001b[0m\u001b[1;32m   8532\u001b[0m \u001b[0;34m\u001b[0m\u001b[0m\n\u001b[1;32m   8533\u001b[0m \u001b[0;31m# Register Function in _casadi:\u001b[0m\u001b[0;34m\u001b[0m\u001b[0;34m\u001b[0m\u001b[0;34m\u001b[0m\u001b[0m\n",
      "\u001b[0;31mRuntimeError\u001b[0m: Error in Function::Function for 'Eq_Estado' [MXFunction] at .../casadi/core/function.cpp:235:\n.../casadi/core/function_internal.cpp:144: Error calling MXFunction::init for 'Eq_Estado':\n.../casadi/core/x_function.hpp:286: For Eq_Estado: Xfunction input arguments must be purely symbolic.\nArgument 0(x) is not symbolic."
     ]
    }
   ],
   "source": [
    "# Função casadi\n",
    "dxdt = casadi.vertcat(dpbhdt,dpwhdt,dqdt,0,0)\n",
    "Eq_Estado = casadi.Function('Eq_Estado',[x,u],[dxdt],\n",
    "                     ['x','u'],['dxdt'])"
   ]
  },
  {
   "cell_type": "code",
   "execution_count": 19,
   "metadata": {
    "pycharm": {
     "name": "#%%\n"
    }
   },
   "outputs": [],
   "source": [
    "y=vertcat(pin,H);\n",
    "ny = y.size1()\n",
    "# Equações algébricas\n",
    "sea_nl = casadi.Function('sea_nl',[x,u],[y,pin,H],\\\n",
    "                 ['x','u'],['y','pin','H']); # Sistema de Eq. Algebricas variaveis de sa�da"
   ]
  },
  {
   "cell_type": "code",
   "execution_count": 20,
   "metadata": {
    "pycharm": {
     "name": "#%%\n"
    }
   },
   "outputs": [],
   "source": []
  },
  {
   "cell_type": "code",
   "execution_count": 20,
   "metadata": {
    "pycharm": {
     "name": "#%%\n"
    }
   },
   "outputs": [],
   "source": [
    "BCS={\n",
    "     'x': x,\n",
    "     'u': u,\n",
    "     'y': y,\n",
    "     'nx': nx,\n",
    "     'nu': nu,\n",
    "     'ny': ny,\n",
    "     'NaoLinear': {'sedo_nl': Eq_Estado(x,u),\n",
    "                   'sea_nl': sea_nl\n",
    "                   }\n",
    "}"
   ]
  },
  {
   "cell_type": "code",
   "execution_count": 22,
   "metadata": {
    "pycharm": {
     "name": "#%%\n"
    }
   },
   "outputs": [],
   "source": [
    "#% Otimizador\n",
    "opt={\n",
    "     'ipopt':{\n",
    "         'print_level':0,\n",
    "         'acceptable_tol':1e-8,\n",
    "         'acceptable_obj_change_tol':1e-6,\n",
    "         'max_iter':50\n",
    "         },\n",
    "     'print_time':0,\n",
    "     }\n",
    "\n",
    "opt['ipopt']['print_level']=0;# %0,3\n",
    "opt['print_time']=0;\n",
    "opt['ipopt']['acceptable_tol']=1e-8;\n",
    "opt['ipopt']['acceptable_obj_change_tol']=1e-6;\n",
    "opt['ipopt']['max_iter']=50;"
   ]
  },
  {
   "cell_type": "code",
   "execution_count": 23,
   "metadata": {
    "pycharm": {
     "name": "#%%\n"
    }
   },
   "outputs": [],
   "source": [
    "MMQ = {'x':BCS['x'], 'f':J, 'p':BCS['u']}\n",
    "#nlp={'x':vertcat(BCS['x'],BCS['u']), 'f':J} #variáveis de decisão, função f, g (N/A)\n",
    "#nlp={'x':BCS['x'], 'f':J}\n",
    "solver = nlpsol('solver', 'ipopt', MMQ, opt)\n",
    "# Restrições das variaveis de decis�o\n",
    "# minimo\n",
    "args={\n",
    "      'lbx': np.zeros((nx,1)),\n",
    "# m�ximo\n",
    "      'ubx':np.full((nx, 1), np.inf)\n",
    "      }\n",
    "\n",
    "# Solu��o do otimizador\n",
    "sol=solver(x0=BCS['x'], lbx=args['lbx'], ubx=args['ubx'], p=BCS['u']);\n",
    "yss=sea_nl(sol['x'],BCS['u'])\n",
    "Estacionario = Function('Estacionario',[BCS['x'],BCS['u']],\\\n",
    "    [sol['x'],yss[0]],\\\n",
    "    ['x0','uss'],['xss','yss']);\n",
    "\n",
    "BCS['Estacionario'] = Estacionario;\n",
    "f_ss,zc_ss= (np.array([50, 50]))\n",
    "uss = np.array([f_ss,zc_ss]); # Entradas do estacionario\n",
    "uss_n=normalizar_u(uss,unorm)\n",
    "uss_n"
   ]
  },
  {
   "cell_type": "code",
   "execution_count": 29,
   "metadata": {
    "pycharm": {
     "name": "#%%\n"
    }
   },
   "outputs": [],
   "source": [
    "#% Calculo do estacionario\n",
    "\n",
    "#x0 = [0.2,0.5,0.5,0.5,0.5]\n",
    "x0 = np.array([8311024.82175957,2990109.06207437,0.00995042241351780,50,50]);"
   ]
  },
  {
   "cell_type": "code",
   "execution_count": 30,
   "metadata": {
    "pycharm": {
     "name": "#%%\n"
    }
   },
   "outputs": [
    {
     "data": {
      "text/plain": [
       "array([[0.65688199],\n",
       "       [0.23120872],\n",
       "       [0.55398885],\n",
       "       [0.44444444],\n",
       "       [0.5       ]])"
      ]
     },
     "execution_count": 30,
     "metadata": {},
     "output_type": "execute_result"
    }
   ],
   "source": [
    "x0_n=normalizar(x0,xnorm)\n",
    "x0_n"
   ]
  },
  {
   "cell_type": "code",
   "execution_count": 31,
   "metadata": {
    "pycharm": {
     "name": "#%%\n"
    }
   },
   "outputs": [
    {
     "name": "stdout",
     "output_type": "stream",
     "text": [
      "\n",
      "******************************************************************************\n",
      "This program contains Ipopt, a library for large-scale nonlinear optimization.\n",
      " Ipopt is released as open source code under the Eclipse Public License (EPL).\n",
      "         For more information visit https://github.com/coin-or/Ipopt\n",
      "******************************************************************************\n",
      "\n"
     ]
    }
   ],
   "source": [
    "# args['lbx'][3] = uss_n[0]\n",
    "# args['ubx'][3] = uss_n[0]  # bounds freq. solver args['lbx'][4] = uss[1]\n",
    "# args['ubx'][4] = uss_n[1]   # bounds zc solver\n",
    "sol=solver(x0=x0_n, p=uss_n);\n",
    "#sol=solver(x0=x0_n,lbx=args['lbx'], ubx=args['ubx'], p=uss_n)"
   ]
  },
  {
   "cell_type": "code",
   "execution_count": 32,
   "metadata": {
    "collapsed": false,
    "pycharm": {
     "name": "#%%\n"
    }
   },
   "outputs": [],
   "source": [
    "xss_n=sol['x']"
   ]
  },
  {
   "cell_type": "code",
   "execution_count": 33,
   "metadata": {
    "pycharm": {
     "name": "#%%\n"
    }
   },
   "outputs": [
    {
     "data": {
      "text/plain": [
       "array([[0.65688245],\n",
       "       [0.23120831],\n",
       "       [0.00335081],\n",
       "       [0.44444444],\n",
       "       [0.5       ]])"
      ]
     },
     "execution_count": 33,
     "metadata": {},
     "output_type": "execute_result"
    }
   ],
   "source": [
    "np.array(sol['x'])"
   ]
  },
  {
   "cell_type": "code",
   "execution_count": 34,
   "metadata": {
    "pycharm": {
     "name": "#%%\n"
    }
   },
   "outputs": [],
   "source": [
    "xss = desnormalizar(sol['x'],xnorm)"
   ]
  },
  {
   "cell_type": "code",
   "execution_count": 35,
   "metadata": {},
   "outputs": [
    {
     "data": {
      "text/plain": [
       "array([[8.31103064e+06],\n",
       "       [2.99010385e+06],\n",
       "       [3.37335695e-03],\n",
       "       [5.00000000e+01],\n",
       "       [5.00000000e+01]])"
      ]
     },
     "execution_count": 35,
     "metadata": {},
     "output_type": "execute_result"
    }
   ],
   "source": [
    "xss"
   ]
  },
  {
   "cell_type": "code",
   "execution_count": 36,
   "metadata": {
    "pycharm": {
     "name": "#%%\n"
    }
   },
   "outputs": [
    {
     "data": {
      "text/plain": [
       "DM([0.656882, 0.231208, 0.00335081, 0.444444, 0.5])"
      ]
     },
     "execution_count": 36,
     "metadata": {},
     "output_type": "execute_result"
    }
   ],
   "source": [
    "x0.reshape(5,1)\n",
    "sol['x']"
   ]
  },
  {
   "cell_type": "code",
   "execution_count": 37,
   "metadata": {
    "collapsed": false,
    "pycharm": {
     "name": "#%%\n"
    }
   },
   "outputs": [
    {
     "data": {
      "text/plain": [
       "MX(@1=((x[2]-0.00333333)/0.0119444), ((((x[0]-100000)/12500000)-1863900)-((0.158*((475000*sq(@1))/6.6775e-06))*pow((0.025/(96.52*@1)),0.25))))"
      ]
     },
     "execution_count": 37,
     "metadata": {},
     "output_type": "execute_result"
    }
   ],
   "source": [
    "pin"
   ]
  },
  {
   "cell_type": "code",
   "execution_count": 38,
   "metadata": {
    "collapsed": false,
    "pycharm": {
     "name": "#%%\n"
    }
   },
   "outputs": [
    {
     "data": {
      "text/plain": [
       "DM([-1.87951e+06, 672.668])"
      ]
     },
     "execution_count": 38,
     "metadata": {},
     "output_type": "execute_result"
    }
   ],
   "source": [
    "yss=sea_nl(xss_n,uss_n)[0]\n",
    "yss\n"
   ]
  },
  {
   "cell_type": "code",
   "execution_count": 39,
   "metadata": {
    "collapsed": false,
    "pycharm": {
     "name": "#%%\n"
    }
   },
   "outputs": [
    {
     "data": {
      "text/plain": [
       "(2, 1)"
      ]
     },
     "execution_count": 39,
     "metadata": {},
     "output_type": "execute_result"
    }
   ],
   "source": [
    "# Definir variaveis manipuladas e controladas e disturbio externo\n",
    "mv = [0,1]    #% [f, Zc]\n",
    "pv = [0,1]  #% [pin, H]  #% [P, I]\n",
    "#pv = [2,3];  #% [pin, H]\n",
    "de = 2;      #% [pm]\n",
    "tg = 2;      #% MV target\n",
    "#% Parametros\n",
    "ts = 1;\n",
    "BCS['u'].shape"
   ]
  },
  {
   "cell_type": "code",
   "execution_count": 40,
   "metadata": {
    "collapsed": false,
    "pycharm": {
     "name": "#%%\n"
    }
   },
   "outputs": [],
   "source": [
    "#%Modelo de predição\n",
    "#% Criando o objeto para predição do modelo\n",
    "# Iniciando variavel dicionário para a construção da EDO\n",
    "# sedo = {'x': BCS['x'][0:3], # Estados\n",
    "#         'p': BCS['u'], #Variáveis exogenas\n",
    "#         'ode': BCS['NaoLinear']['sedo_nl'] # SEDO (Gerado no bcs_settings)\n",
    "#         };\n",
    "\n",
    "sedo = {'x': BCS['x'], # Estados\n",
    "        'p': BCS['u'], #Variáveis exogenas\n",
    "        'ode': Eq_Estado(x,u) # SEDO (Gerado no bcs_settings)\n",
    "        };\n",
    "\n",
    "#% Criando o objeto p,ra integração da Eq_estado\n",
    "opt = {'tf':ts,\n",
    "       't0':0\n",
    "\n",
    "       };   #% opções do integrador\n"
   ]
  },
  {
   "cell_type": "code",
   "execution_count": 41,
   "metadata": {
    "collapsed": false,
    "pycharm": {
     "name": "#%%\n"
    }
   },
   "outputs": [],
   "source": [
    "int_odes = integrator('int_odes','cvodes',sedo,opt);"
   ]
  },
  {
   "cell_type": "code",
   "execution_count": 42,
   "metadata": {
    "collapsed": false,
    "pycharm": {
     "name": "#%%\n"
    }
   },
   "outputs": [],
   "source": [
    "# objeto integrador\n",
    "res = int_odes(x0=BCS['x'],p=BCS['u']);             #   % solução um passo a frente\n",
    "npv = len(pv); nmv = len(mv);"
   ]
  },
  {
   "cell_type": "code",
   "execution_count": 43,
   "metadata": {
    "collapsed": false,
    "pycharm": {
     "name": "#%%\n"
    }
   },
   "outputs": [],
   "source": [
    "# Criando o objeto para solução da equação de medição\n",
    "Eq_medicao = Function('Eq_medicao',[BCS['x'],BCS['u']],[BCS['y'][pv]],['x','u'],['y']);\n",
    "# Criacao do objeto para simulacao do BCS Eq de estado + Eq de Medicao\n",
    "Modelo_Predicao = Function('Modelo_Predicao',[BCS['x'],BCS['u']],[res['xf'],Eq_medicao(res['xf'],BCS['u'])],['xk_1','uk_1'],['xk','yk']);\n",
    "Modelo_Predicao2 = Function('Modelo_Predicao2',[BCS['x'],BCS['u']],[res['xf']],['xk_1','uk_1'],['xk']);"
   ]
  },
  {
   "cell_type": "code",
   "execution_count": 44,
   "metadata": {
    "collapsed": false,
    "pycharm": {
     "name": "#%%\n"
    }
   },
   "outputs": [
    {
     "data": {
      "text/plain": [
       "array([50, 50])"
      ]
     },
     "execution_count": 44,
     "metadata": {},
     "output_type": "execute_result"
    }
   ],
   "source": [
    "# Inicializa��o das variaveis\n",
    "xss=x0_n\n",
    "xpk = xss;\n",
    "uss"
   ]
  },
  {
   "cell_type": "code",
   "execution_count": 45,
   "metadata": {
    "collapsed": false,
    "pycharm": {
     "name": "#%%\n"
    }
   },
   "outputs": [],
   "source": [
    "#xpk=normalizar(xss,xnorm)\n",
    "xpk=(xss-xnorm[:,0])/xnorm[:,1]\n",
    "#uk_1 = normaliza_u(uss[mv],unorm)\n",
    "#uk_1=(uss[mv]-unorm[:,0])/unorm[:,1]\n",
    "# MVS\n",
    "# Aloca��o de variaveis\n",
    "Xk = np.zeros((nx,1))"
   ]
  },
  {
   "cell_type": "code",
   "execution_count": 46,
   "metadata": {
    "collapsed": false,
    "pycharm": {
     "name": "#%%\n"
    }
   },
   "outputs": [],
   "source": [
    "Yk = np.zeros((npv,1))\n",
    "Uk = np.zeros((nmv,1))\n",
    "Ymk = Yk\n",
    "Ys = Yk\n",
    "Ymin = Yk\n",
    "Ymax = Yk"
   ]
  },
  {
   "cell_type": "markdown",
   "metadata": {
    "collapsed": false
   },
   "source": [
    "### Simulando cenários"
   ]
  },
  {
   "cell_type": "code",
   "execution_count": 47,
   "metadata": {
    "collapsed": false,
    "pycharm": {
     "name": "#%%\n"
    }
   },
   "outputs": [
    {
     "data": {
      "text/plain": [
       "array([[0.65688199],\n",
       "       [0.23120872],\n",
       "       [0.55398885],\n",
       "       [0.44444444],\n",
       "       [0.5       ]])"
      ]
     },
     "execution_count": 47,
     "metadata": {},
     "output_type": "execute_result"
    }
   ],
   "source": [
    "tsim = 100;\n",
    "nsim=int(round(tsim/ts)+1)\n",
    "xss_n=x0_n\n",
    "x0_n"
   ]
  },
  {
   "cell_type": "code",
   "execution_count": 48,
   "metadata": {
    "collapsed": false,
    "pycharm": {
     "name": "#%%\n"
    }
   },
   "outputs": [],
   "source": [
    "#Valores iniciais de simulação\n",
    "tss=5 # Tempo inicial no estacionário\n",
    "Uk= uss\n",
    "# Povoar vetor de X com dados não normalizados"
   ]
  },
  {
   "cell_type": "code",
   "execution_count": 49,
   "metadata": {
    "collapsed": false,
    "pycharm": {
     "name": "#%%\n"
    }
   },
   "outputs": [
    {
     "data": {
      "text/plain": [
       "array([[0.65688199],\n",
       "       [0.23120872],\n",
       "       [0.55398885],\n",
       "       [0.44444444],\n",
       "       [0.5       ]])"
      ]
     },
     "execution_count": 49,
     "metadata": {},
     "output_type": "execute_result"
    }
   ],
   "source": [
    "x0_n"
   ]
  },
  {
   "cell_type": "code",
   "execution_count": 50,
   "metadata": {
    "collapsed": false,
    "pycharm": {
     "name": "#%%\n"
    },
    "tags": [
     "outputPrepend"
    ]
   },
   "outputs": [
    {
     "name": "stderr",
     "output_type": "stream",
     "text": [
      "output ode, at (row 2, col 0).\") [.../casadi/core/oracle_function.cpp:265]\n",
      "CasADi - 2021-06-17 21:08:56 WARNING(\"int_odes:jacF failed: NaN detected for output o0, at nonzero index 6 (row 2, col 2).\") [.../casadi/core/oracle_function.cpp:265]\n",
      "psetup failed: .../casadi/interfaces/sundials/cvodes_interface.cpp:650: 'jacF' calculation failed\n",
      "CasADi - 2021-06-17 21:08:56 WARNING(\"int_odes:odeF failed: NaN detected for output ode, at (row 2, col 0).\") [.../casadi/core/oracle_function.cpp:265]\n",
      "CasADi - 2021-06-17 21:08:56 WARNING(\"int_odes:jacF failed: NaN detected for output o0, at nonzero index 6 (row 2, col 2).\") [.../casadi/core/oracle_function.cpp:265]\n",
      "psetup failed: .../casadi/interfaces/sundials/cvodes_interface.cpp:650: 'jacF' calculation failed\n",
      "CasADi - 2021-06-17 21:08:56 WARNING(\"int_odes:odeF failed: NaN detected for output ode, at (row 2, col 0).\") [.../casadi/core/oracle_function.cpp:265]\n",
      "CasADi - 2021-06-17 21:08:56 WARNING(\"int_odes:jacF failed: NaN detected for output o0, at nonzero index 6 (row 2, col 2).\") [.../casadi/core/oracle_function.cpp:265]\n",
      "psetup failed: .../casadi/interfaces/sundials/cvodes_interface.cpp:650: 'jacF' calculation failed\n",
      "CasADi - 2021-06-17 21:08:56 WARNING(\"int_odes:odeF failed: NaN detected for output ode, at (row 2, col 0).\") [.../casadi/core/oracle_function.cpp:265]\n",
      "CasADi - 2021-06-17 21:08:56 WARNING(\"int_odes:jacF failed: NaN detected for output o0, at nonzero index 6 (row 2, col 2).\") [.../casadi/core/oracle_function.cpp:265]\n",
      "psetup failed: .../casadi/interfaces/sundials/cvodes_interface.cpp:650: 'jacF' calculation failed\n",
      "CasADi - 2021-06-17 21:08:56 WARNING(\"int_odes:odeF failed: NaN detected for output ode, at (row 2, col 0).\") [.../casadi/core/oracle_function.cpp:265]\n",
      "CasADi - 2021-06-17 21:08:56 WARNING(\"int_odes:jacF failed: NaN detected for output o0, at nonzero index 6 (row 2, col 2).\") [.../casadi/core/oracle_function.cpp:265]\n",
      "psetup failed: .../casadi/interfaces/sundials/cvodes_interface.cpp:650: 'jacF' calculation failed\n",
      "CasADi - 2021-06-17 21:08:56 WARNING(\"int_odes:odeF failed: NaN detected for output ode, at (row 2, col 0).\") [.../casadi/core/oracle_function.cpp:265]\n",
      "CasADi - 2021-06-17 21:08:56 WARNING(\"int_odes:jacF failed: NaN detected for output o0, at nonzero index 6 (row 2, col 2).\") [.../casadi/core/oracle_function.cpp:265]\n",
      "psetup failed: .../casadi/interfaces/sundials/cvodes_interface.cpp:650: 'jacF' calculation failed\n",
      "CasADi - 2021-06-17 21:08:56 WARNING(\"int_odes:odeF failed: NaN detected for output ode, at (row 2, col 0).\") [.../casadi/core/oracle_function.cpp:265]\n",
      "CasADi - 2021-06-17 21:08:56 WARNING(\"int_odes:jacF failed: NaN detected for output o0, at nonzero index 6 (row 2, col 2).\") [.../casadi/core/oracle_function.cpp:265]\n",
      "psetup failed: .../casadi/interfaces/sundials/cvodes_interface.cpp:650: 'jacF' calculation failed\n",
      "CasADi - 2021-06-17 21:08:56 WARNING(\"int_odes:odeF failed: NaN detected for output ode, at (row 2, col 0).\") [.../casadi/core/oracle_function.cpp:265]\n",
      "CasADi - 2021-06-17 21:08:56 WARNING(\"int_odes:jacF failed: NaN detected for output o0, at nonzero index 6 (row 2, col 2).\") [.../casadi/core/oracle_function.cpp:265]\n",
      "psetup failed: .../casadi/interfaces/sundials/cvodes_interface.cpp:650: 'jacF' calculation failed\n",
      "CasADi - 2021-06-17 21:08:56 WARNING(\"int_odes:odeF failed: NaN detected for output ode, at (row 2, col 0).\") [.../casadi/core/oracle_function.cpp:265]\n",
      "CasADi - 2021-06-17 21:08:56 WARNING(\"int_odes:jacF failed: NaN detected for output o0, at nonzero index 6 (row 2, col 2).\") [.../casadi/core/oracle_function.cpp:265]\n",
      "psetup failed: .../casadi/interfaces/sundials/cvodes_interface.cpp:650: 'jacF' calculation failed\n",
      "CasADi - 2021-06-17 21:08:56 WARNING(\"int_odes:odeF failed: NaN detected for output ode, at (row 2, col 0).\") [.../casadi/core/oracle_function.cpp:265]\n",
      "CasADi - 2021-06-17 21:08:56 WARNING(\"int_odes:jacF failed: NaN detected for output o0, at nonzero index 6 (row 2, col 2).\") [.../casadi/core/oracle_function.cpp:265]\n",
      "psetup failed: .../casadi/interfaces/sundials/cvodes_interface.cpp:650: 'jacF' calculation failed\n",
      "CasADi - 2021-06-17 21:08:56 WARNING(\"int_odes:odeF failed: NaN detected for output ode, at (row 2, col 0).\") [.../casadi/core/oracle_function.cpp:265]\n",
      "CasADi - 2021-06-17 21:08:56 WARNING(\"int_odes:jacF failed: NaN detected for output o0, at nonzero index 6 (row 2, col 2).\") [.../casadi/core/oracle_function.cpp:265]\n",
      "psetup failed: .../casadi/interfaces/sundials/cvodes_interface.cpp:650: 'jacF' calculation failed\n",
      "CasADi - 2021-06-17 21:08:56 WARNING(\"int_odes:odeF failed: NaN detected for output ode, at (row 2, col 0).\") [.../casadi/core/oracle_function.cpp:265]\n",
      "CasADi - 2021-06-17 21:08:56 WARNING(\"int_odes:jacF failed: NaN detected for output o0, at nonzero index 6 (row 2, col 2).\") [.../casadi/core/oracle_function.cpp:265]\n",
      "psetup failed: .../casadi/interfaces/sundials/cvodes_interface.cpp:650: 'jacF' calculation failed\n",
      "CasADi - 2021-06-17 21:08:56 WARNING(\"int_odes:odeF failed: NaN detected for output ode, at (row 2, col 0).\") [.../casadi/core/oracle_function.cpp:265]\n",
      "CasADi - 2021-06-17 21:08:56 WARNING(\"int_odes:jacF failed: NaN detected for output o0, at nonzero index 6 (row 2, col 2).\") [.../casadi/core/oracle_function.cpp:265]\n",
      "psetup failed: .../casadi/interfaces/sundials/cvodes_interface.cpp:650: 'jacF' calculation failed\n",
      "CasADi - 2021-06-17 21:08:56 WARNING(\"int_odes:odeF failed: NaN detected for output ode, at (row 2, col 0).\") [.../casadi/core/oracle_function.cpp:265]\n",
      "CasADi - 2021-06-17 21:08:56 WARNING(\"int_odes:jacF failed: NaN detected for output o0, at nonzero index 6 (row 2, col 2).\") [.../casadi/core/oracle_function.cpp:265]\n",
      "psetup failed: .../casadi/interfaces/sundials/cvodes_interface.cpp:650: 'jacF' calculation failed\n",
      "CasADi - 2021-06-17 21:08:56 WARNING(\"int_odes:odeF failed: NaN detected for output ode, at (row 2, col 0).\") [.../casadi/core/oracle_function.cpp:265]\n",
      "CasADi - 2021-06-17 21:08:56 WARNING(\"int_odes:jacF failed: NaN detected for output o0, at nonzero index 6 (row 2, col 2).\") [.../casadi/core/oracle_function.cpp:265]\n",
      "psetup failed: .../casadi/interfaces/sundials/cvodes_interface.cpp:650: 'jacF' calculation failed\n",
      "CasADi - 2021-06-17 21:08:56 WARNING(\"int_odes:odeF failed: NaN detected for output ode, at (row 2, col 0).\") [.../casadi/core/oracle_function.cpp:265]\n",
      "CasADi - 2021-06-17 21:08:56 WARNING(\"int_odes:jacF failed: NaN detected for output o0, at nonzero index 6 (row 2, col 2).\") [.../casadi/core/oracle_function.cpp:265]\n",
      "psetup failed: .../casadi/interfaces/sundials/cvodes_interface.cpp:650: 'jacF' calculation failed\n",
      "CasADi - 2021-06-17 21:08:56 WARNING(\"int_odes:odeF failed: NaN detected for output ode, at (row 2, col 0).\") [.../casadi/core/oracle_function.cpp:265]\n",
      "CasADi - 2021-06-17 21:08:56 WARNING(\"int_odes:jacF failed: NaN detected for output o0, at nonzero index 6 (row 2, col 2).\") [.../casadi/core/oracle_function.cpp:265]\n",
      "psetup failed: .../casadi/interfaces/sundials/cvodes_interface.cpp:650: 'jacF' calculation failed\n",
      "CasADi - 2021-06-17 21:08:56 WARNING(\"int_odes:odeF failed: NaN detected for output ode, at (row 2, col 0).\") [.../casadi/core/oracle_function.cpp:265]\n",
      "CasADi - 2021-06-17 21:08:56 WARNING(\"int_odes:jacF failed: NaN detected for output o0, at nonzero index 6 (row 2, col 2).\") [.../casadi/core/oracle_function.cpp:265]\n",
      "psetup failed: .../casadi/interfaces/sundials/cvodes_interface.cpp:650: 'jacF' calculation failed\n",
      "CasADi - 2021-06-17 21:08:56 WARNING(\"int_odes:odeF failed: NaN detected for output ode, at (row 2, col 0).\") [.../casadi/core/oracle_function.cpp:265]\n",
      "CasADi - 2021-06-17 21:08:56 WARNING(\"int_odes:jacF failed: NaN detected for output o0, at nonzero index 6 (row 2, col 2).\") [.../casadi/core/oracle_function.cpp:265]\n",
      "psetup failed: .../casadi/interfaces/sundials/cvodes_interface.cpp:650: 'jacF' calculation failed\n",
      "CasADi - 2021-06-17 21:08:56 WARNING(\"int_odes:odeF failed: NaN detected for output ode, at (row 2, col 0).\") [.../casadi/core/oracle_function.cpp:265]\n",
      "CasADi - 2021-06-17 21:08:56 WARNING(\"int_odes:jacF failed: NaN detected for output o0, at nonzero index 6 (row 2, col 2).\") [.../casadi/core/oracle_function.cpp:265]\n",
      "psetup failed: .../casadi/interfaces/sundials/cvodes_interface.cpp:650: 'jacF' calculation failed\n",
      "CasADi - 2021-06-17 21:08:56 WARNING(\"int_odes:odeF failed: NaN detected for output ode, at (row 2, col 0).\") [.../casadi/core/oracle_function.cpp:265]\n",
      "CasADi - 2021-06-17 21:08:56 WARNING(\"int_odes:jacF failed: NaN detected for output o0, at nonzero index 6 (row 2, col 2).\") [.../casadi/core/oracle_function.cpp:265]\n",
      "psetup failed: .../casadi/interfaces/sundials/cvodes_interface.cpp:650: 'jacF' calculation failed\n",
      "CasADi - 2021-06-17 21:08:56 WARNING(\"int_odes:odeF failed: NaN detected for output ode, at (row 2, col 0).\") [.../casadi/core/oracle_function.cpp:265]\n",
      "CasADi - 2021-06-17 21:08:56 WARNING(\"int_odes:jacF failed: NaN detected for output o0, at nonzero index 6 (row 2, col 2).\") [.../casadi/core/oracle_function.cpp:265]\n",
      "psetup failed: .../casadi/interfaces/sundials/cvodes_interface.cpp:650: 'jacF' calculation failed\n",
      "CasADi - 2021-06-17 21:08:56 WARNING(\"int_odes:odeF failed: NaN detected for output ode, at (row 2, col 0).\") [.../casadi/core/oracle_function.cpp:265]\n",
      "CasADi - 2021-06-17 21:08:56 WARNING(\"int_odes:jacF failed: NaN detected for output o0, at nonzero index 6 (row 2, col 2).\") [.../casadi/core/oracle_function.cpp:265]\n",
      "psetup failed: .../casadi/interfaces/sundials/cvodes_interface.cpp:650: 'jacF' calculation failed\n",
      "CasADi - 2021-06-17 21:08:56 WARNING(\"int_odes:odeF failed: NaN detected for output ode, at (row 2, col 0).\") [.../casadi/core/oracle_function.cpp:265]\n",
      "CasADi - 2021-06-17 21:08:56 WARNING(\"int_odes:jacF failed: NaN detected for output o0, at nonzero index 6 (row 2, col 2).\") [.../casadi/core/oracle_function.cpp:265]\n",
      "psetup failed: .../casadi/interfaces/sundials/cvodes_interface.cpp:650: 'jacF' calculation failed\n",
      "CasADi - 2021-06-17 21:08:56 WARNING(\"int_odes:odeF failed: NaN detected for output ode, at (row 2, col 0).\") [.../casadi/core/oracle_function.cpp:265]\n",
      "CasADi - 2021-06-17 21:08:56 WARNING(\"int_odes:jacF failed: NaN detected for output o0, at nonzero index 6 (row 2, col 2).\") [.../casadi/core/oracle_function.cpp:265]\n",
      "psetup failed: .../casadi/interfaces/sundials/cvodes_interface.cpp:650: 'jacF' calculation failed\n",
      "CasADi - 2021-06-17 21:08:56 WARNING(\"int_odes:odeF failed: NaN detected for output ode, at (row 2, col 0).\") [.../casadi/core/oracle_function.cpp:265]\n",
      "CasADi - 2021-06-17 21:08:56 WARNING(\"int_odes:jacF failed: NaN detected for output o0, at nonzero index 6 (row 2, col 2).\") [.../casadi/core/oracle_function.cpp:265]\n",
      "psetup failed: .../casadi/interfaces/sundials/cvodes_interface.cpp:650: 'jacF' calculation failed\n",
      "CasADi - 2021-06-17 21:08:56 WARNING(\"int_odes:odeF failed: NaN detected for output ode, at (row 2, col 0).\") [.../casadi/core/oracle_function.cpp:265]\n",
      "CasADi - 2021-06-17 21:08:56 WARNING(\"int_odes:jacF failed: NaN detected for output o0, at nonzero index 6 (row 2, col 2).\") [.../casadi/core/oracle_function.cpp:265]\n",
      "psetup failed: .../casadi/interfaces/sundials/cvodes_interface.cpp:650: 'jacF' calculation failed\n",
      "CasADi - 2021-06-17 21:08:56 WARNING(\"int_odes:odeF failed: NaN detected for output ode, at (row 2, col 0).\") [.../casadi/core/oracle_function.cpp:265]\n",
      "CasADi - 2021-06-17 21:08:56 WARNING(\"int_odes:jacF failed: NaN detected for output o0, at nonzero index 6 (row 2, col 2).\") [.../casadi/core/oracle_function.cpp:265]\n",
      "psetup failed: .../casadi/interfaces/sundials/cvodes_interface.cpp:650: 'jacF' calculation failed\n",
      "CasADi - 2021-06-17 21:08:56 WARNING(\"int_odes:odeF failed: NaN detected for output ode, at (row 2, col 0).\") [.../casadi/core/oracle_function.cpp:265]\n",
      "CasADi - 2021-06-17 21:08:56 WARNING(\"int_odes:jacF failed: NaN detected for output o0, at nonzero index 6 (row 2, col 2).\") [.../casadi/core/oracle_function.cpp:265]\n",
      "psetup failed: .../casadi/interfaces/sundials/cvodes_interface.cpp:650: 'jacF' calculation failed\n",
      "CasADi - 2021-06-17 21:08:56 WARNING(\"int_odes:odeF failed: NaN detected for output ode, at (row 2, col 0).\") [.../casadi/core/oracle_function.cpp:265]\n",
      "CasADi - 2021-06-17 21:08:56 WARNING(\"int_odes:jacF failed: NaN detected for output o0, at nonzero index 6 (row 2, col 2).\") [.../casadi/core/oracle_function.cpp:265]\n",
      "psetup failed: .../casadi/interfaces/sundials/cvodes_interface.cpp:650: 'jacF' calculation failed\n",
      "CasADi - 2021-06-17 21:08:56 WARNING(\"int_odes:odeF failed: NaN detected for output ode, at (row 2, col 0).\") [.../casadi/core/oracle_function.cpp:265]\n",
      "CasADi - 2021-06-17 21:08:56 WARNING(\"int_odes:jacF failed: NaN detected for output o0, at nonzero index 6 (row 2, col 2).\") [.../casadi/core/oracle_function.cpp:265]\n",
      "psetup failed: .../casadi/interfaces/sundials/cvodes_interface.cpp:650: 'jacF' calculation failed\n",
      "CasADi - 2021-06-17 21:08:56 WARNING(\"int_odes:odeF failed: NaN detected for output ode, at (row 2, col 0).\") [.../casadi/core/oracle_function.cpp:265]\n",
      "CasADi - 2021-06-17 21:08:56 WARNING(\"int_odes:jacF failed: NaN detected for output o0, at nonzero index 6 (row 2, col 2).\") [.../casadi/core/oracle_function.cpp:265]\n",
      "psetup failed: .../casadi/interfaces/sundials/cvodes_interface.cpp:650: 'jacF' calculation failed\n",
      "CasADi - 2021-06-17 21:08:56 WARNING(\"int_odes:odeF failed: NaN detected for output ode, at (row 2, col 0).\") [.../casadi/core/oracle_function.cpp:265]\n",
      "CasADi - 2021-06-17 21:08:56 WARNING(\"int_odes:jacF failed: NaN detected for output o0, at nonzero index 6 (row 2, col 2).\") [.../casadi/core/oracle_function.cpp:265]\n",
      "psetup failed: .../casadi/interfaces/sundials/cvodes_interface.cpp:650: 'jacF' calculation failed\n",
      "CasADi - 2021-06-17 21:08:56 WARNING(\"int_odes:odeF failed: NaN detected for output ode, at (row 2, col 0).\") [.../casadi/core/oracle_function.cpp:265]\n",
      "CasADi - 2021-06-17 21:08:56 WARNING(\"int_odes:jacF failed: NaN detected for output o0, at nonzero index 6 (row 2, col 2).\") [.../casadi/core/oracle_function.cpp:265]\n",
      "psetup failed: .../casadi/interfaces/sundials/cvodes_interface.cpp:650: 'jacF' calculation failed\n",
      "CasADi - 2021-06-17 21:08:56 WARNING(\"int_odes:odeF failed: NaN detected for output ode, at (row 2, col 0).\") [.../casadi/core/oracle_function.cpp:265]\n",
      "CasADi - 2021-06-17 21:08:56 WARNING(\"int_odes:jacF failed: NaN detected for output o0, at nonzero index 6 (row 2, col 2).\") [.../casadi/core/oracle_function.cpp:265]\n",
      "psetup failed: .../casadi/interfaces/sundials/cvodes_interface.cpp:650: 'jacF' calculation failed\n",
      "CasADi - 2021-06-17 21:08:56 WARNING(\"int_odes:odeF failed: NaN detected for output ode, at (row 2, col 0).\") [.../casadi/core/oracle_function.cpp:265]\n",
      "CasADi - 2021-06-17 21:08:56 WARNING(\"int_odes:jacF failed: NaN detected for output o0, at nonzero index 6 (row 2, col 2).\") [.../casadi/core/oracle_function.cpp:265]\n",
      "psetup failed: .../casadi/interfaces/sundials/cvodes_interface.cpp:650: 'jacF' calculation failed\n",
      "CasADi - 2021-06-17 21:08:56 WARNING(\"int_odes:odeF failed: NaN detected for output ode, at (row 2, col 0).\") [.../casadi/core/oracle_function.cpp:265]\n",
      "CasADi - 2021-06-17 21:08:56 WARNING(\"int_odes:jacF failed: NaN detected for output o0, at nonzero index 6 (row 2, col 2).\") [.../casadi/core/oracle_function.cpp:265]\n",
      "psetup failed: .../casadi/interfaces/sundials/cvodes_interface.cpp:650: 'jacF' calculation failed\n",
      "CasADi - 2021-06-17 21:08:56 WARNING(\"int_odes:odeF failed: NaN detected for output ode, at (row 2, col 0).\") [.../casadi/core/oracle_function.cpp:265]\n",
      "CasADi - 2021-06-17 21:08:56 WARNING(\"int_odes:jacF failed: NaN detected for output o0, at nonzero index 6 (row 2, col 2).\") [.../casadi/core/oracle_function.cpp:265]\n",
      "psetup failed: .../casadi/interfaces/sundials/cvodes_interface.cpp:650: 'jacF' calculation failed\n",
      "CasADi - 2021-06-17 21:08:56 WARNING(\"int_odes:odeF failed: NaN detected for output ode, at (row 2, col 0).\") [.../casadi/core/oracle_function.cpp:265]\n",
      "CasADi - 2021-06-17 21:08:56 WARNING(\"int_odes:jacF failed: NaN detected for output o0, at nonzero index 6 (row 2, col 2).\") [.../casadi/core/oracle_function.cpp:265]\n",
      "psetup failed: .../casadi/interfaces/sundials/cvodes_interface.cpp:650: 'jacF' calculation failed\n",
      "CasADi - 2021-06-17 21:08:56 WARNING(\"int_odes:odeF failed: NaN detected for output ode, at (row 2, col 0).\") [.../casadi/core/oracle_function.cpp:265]\n",
      "CasADi - 2021-06-17 21:08:56 WARNING(\"int_odes:jacF failed: NaN detected for output o0, at nonzero index 6 (row 2, col 2).\") [.../casadi/core/oracle_function.cpp:265]\n",
      "psetup failed: .../casadi/interfaces/sundials/cvodes_interface.cpp:650: 'jacF' calculation failed\n",
      "CasADi - 2021-06-17 21:08:56 WARNING(\"int_odes:odeF failed: NaN detected for output ode, at (row 2, col 0).\") [.../casadi/core/oracle_function.cpp:265]\n",
      "CasADi - 2021-06-17 21:08:56 WARNING(\"int_odes:jacF failed: NaN detected for output o0, at nonzero index 6 (row 2, col 2).\") [.../casadi/core/oracle_function.cpp:265]\n",
      "psetup failed: .../casadi/interfaces/sundials/cvodes_interface.cpp:650: 'jacF' calculation failed\n",
      "CasADi - 2021-06-17 21:08:56 WARNING(\"int_odes:odeF failed: NaN detected for output ode, at (row 2, col 0).\") [.../casadi/core/oracle_function.cpp:265]\n",
      "CasADi - 2021-06-17 21:08:56 WARNING(\"int_odes:jacF failed: NaN detected for output o0, at nonzero index 6 (row 2, col 2).\") [.../casadi/core/oracle_function.cpp:265]\n",
      "psetup failed: .../casadi/interfaces/sundials/cvodes_interface.cpp:650: 'jacF' calculation failed\n",
      "CasADi - 2021-06-17 21:08:56 WARNING(\"int_odes:odeF failed: NaN detected for output ode, at (row 2, col 0).\") [.../casadi/core/oracle_function.cpp:265]\n",
      "CasADi - 2021-06-17 21:08:56 WARNING(\"int_odes:jacF failed: NaN detected for output o0, at nonzero index 6 (row 2, col 2).\") [.../casadi/core/oracle_function.cpp:265]\n",
      "psetup failed: .../casadi/interfaces/sundials/cvodes_interface.cpp:650: 'jacF' calculation failed\n",
      "CasADi - 2021-06-17 21:08:56 WARNING(\"int_odes:odeF failed: NaN detected for output ode, at (row 2, col 0).\") [.../casadi/core/oracle_function.cpp:265]\n",
      "CasADi - 2021-06-17 21:08:56 WARNING(\"int_odes:jacF failed: NaN detected for output o0, at nonzero index 6 (row 2, col 2).\") [.../casadi/core/oracle_function.cpp:265]\n",
      "psetup failed: .../casadi/interfaces/sundials/cvodes_interface.cpp:650: 'jacF' calculation failed\n",
      "CasADi - 2021-06-17 21:08:56 WARNING(\"int_odes:odeF failed: NaN detected for output ode, at (row 2, col 0).\") [.../casadi/core/oracle_function.cpp:265]\n",
      "CasADi - 2021-06-17 21:08:56 WARNING(\"int_odes:jacF failed: NaN detected for output o0, at nonzero index 6 (row 2, col 2).\") [.../casadi/core/oracle_function.cpp:265]\n",
      "psetup failed: .../casadi/interfaces/sundials/cvodes_interface.cpp:650: 'jacF' calculation failed\n",
      "CasADi - 2021-06-17 21:08:56 WARNING(\"int_odes:odeF failed: NaN detected for output ode, at (row 2, col 0).\") [.../casadi/core/oracle_function.cpp:265]\n",
      "CasADi - 2021-06-17 21:08:56 WARNING(\"int_odes:jacF failed: NaN detected for output o0, at nonzero index 6 (row 2, col 2).\") [.../casadi/core/oracle_function.cpp:265]\n",
      "psetup failed: .../casadi/interfaces/sundials/cvodes_interface.cpp:650: 'jacF' calculation failed\n",
      "CasADi - 2021-06-17 21:08:56 WARNING(\"int_odes:odeF failed: NaN detected for output ode, at (row 2, col 0).\") [.../casadi/core/oracle_function.cpp:265]\n",
      "CasADi - 2021-06-17 21:08:56 WARNING(\"int_odes:jacF failed: NaN detected for output o0, at nonzero index 6 (row 2, col 2).\") [.../casadi/core/oracle_function.cpp:265]\n",
      "psetup failed: .../casadi/interfaces/sundials/cvodes_interface.cpp:650: 'jacF' calculation failed\n",
      "CasADi - 2021-06-17 21:08:56 WARNING(\"int_odes:odeF failed: NaN detected for output ode, at (row 2, col 0).\") [.../casadi/core/oracle_function.cpp:265]\n",
      "CasADi - 2021-06-17 21:08:56 WARNING(\"int_odes:jacF failed: NaN detected for output o0, at nonzero index 6 (row 2, col 2).\") [.../casadi/core/oracle_function.cpp:265]\n",
      "psetup failed: .../casadi/interfaces/sundials/cvodes_interface.cpp:650: 'jacF' calculation failed\n",
      "At t = 0.000171599, mxstep steps taken before reaching tout.\n"
     ]
    },
    {
     "ename": "RuntimeError",
     "evalue": "Error in Function::operator() for 'int_odes' [CvodesInterface] at .../casadi/core/function.cpp:1368:\n.../casadi/interfaces/sundials/cvodes_interface.cpp:392: CVode returned \"CV_TOO_MUCH_WORK\". Consult CVODES documentation.",
     "output_type": "error",
     "traceback": [
      "\u001b[0;31m---------------------------------------------------------------------------\u001b[0m",
      "\u001b[0;31mRuntimeError\u001b[0m                              Traceback (most recent call last)",
      "\u001b[0;32m<ipython-input-50-088f8c542321>\u001b[0m in \u001b[0;36m<module>\u001b[0;34m\u001b[0m\n\u001b[0;32m----> 1\u001b[0;31m \u001b[0mxpk\u001b[0m \u001b[0;34m=\u001b[0m \u001b[0mModelo_Predicao2\u001b[0m\u001b[0;34m(\u001b[0m\u001b[0mx0_n\u001b[0m\u001b[0;34m,\u001b[0m\u001b[0muss_n\u001b[0m\u001b[0;34m)\u001b[0m \u001b[0;31m#valores normalizados\u001b[0m\u001b[0;34m\u001b[0m\u001b[0;34m\u001b[0m\u001b[0m\n\u001b[0m\u001b[1;32m      2\u001b[0m \u001b[0;34m\u001b[0m\u001b[0m\n\u001b[1;32m      3\u001b[0m \u001b[0mypk\u001b[0m\u001b[0;34m=\u001b[0m\u001b[0msea_nl\u001b[0m\u001b[0;34m(\u001b[0m\u001b[0mxpk\u001b[0m\u001b[0;34m,\u001b[0m\u001b[0muss_n\u001b[0m\u001b[0;34m)\u001b[0m\u001b[0;34m[\u001b[0m\u001b[0;36m0\u001b[0m\u001b[0;34m]\u001b[0m\u001b[0;34m\u001b[0m\u001b[0;34m\u001b[0m\u001b[0m\n\u001b[1;32m      4\u001b[0m \u001b[0mYk\u001b[0m\u001b[0;34m=\u001b[0m\u001b[0mypk\u001b[0m\u001b[0;34m\u001b[0m\u001b[0;34m\u001b[0m\u001b[0m\n\u001b[1;32m      5\u001b[0m \u001b[0;34m\u001b[0m\u001b[0m\n",
      "\u001b[0;32m~/anaconda3/envs/BCS/lib/python3.9/site-packages/casadi/casadi.py\u001b[0m in \u001b[0;36m__call__\u001b[0;34m(self, *args, **kwargs)\u001b[0m\n\u001b[1;32m   8495\u001b[0m       \u001b[0;32mif\u001b[0m \u001b[0mlen\u001b[0m\u001b[0;34m(\u001b[0m\u001b[0margs\u001b[0m\u001b[0;34m)\u001b[0m\u001b[0;34m>\u001b[0m\u001b[0;36m0\u001b[0m\u001b[0;34m:\u001b[0m\u001b[0;34m\u001b[0m\u001b[0;34m\u001b[0m\u001b[0m\n\u001b[1;32m   8496\u001b[0m     \u001b[0;31m# Ordered inputs -> return tuple\u001b[0m\u001b[0;34m\u001b[0m\u001b[0;34m\u001b[0m\u001b[0;34m\u001b[0m\u001b[0m\n\u001b[0;32m-> 8497\u001b[0;31m         \u001b[0mret\u001b[0m \u001b[0;34m=\u001b[0m \u001b[0mself\u001b[0m\u001b[0;34m.\u001b[0m\u001b[0mcall\u001b[0m\u001b[0;34m(\u001b[0m\u001b[0margs\u001b[0m\u001b[0;34m)\u001b[0m\u001b[0;34m\u001b[0m\u001b[0;34m\u001b[0m\u001b[0m\n\u001b[0m\u001b[1;32m   8498\u001b[0m         \u001b[0;32mif\u001b[0m \u001b[0mlen\u001b[0m\u001b[0;34m(\u001b[0m\u001b[0mret\u001b[0m\u001b[0;34m)\u001b[0m\u001b[0;34m==\u001b[0m\u001b[0;36m0\u001b[0m\u001b[0;34m:\u001b[0m\u001b[0;34m\u001b[0m\u001b[0;34m\u001b[0m\u001b[0m\n\u001b[1;32m   8499\u001b[0m           \u001b[0;32mreturn\u001b[0m \u001b[0;32mNone\u001b[0m\u001b[0;34m\u001b[0m\u001b[0;34m\u001b[0m\u001b[0m\n",
      "\u001b[0;32m~/anaconda3/envs/BCS/lib/python3.9/site-packages/casadi/casadi.py\u001b[0m in \u001b[0;36mcall\u001b[0;34m(self, *args)\u001b[0m\n\u001b[1;32m   7677\u001b[0m \u001b[0;34m\u001b[0m\u001b[0m\n\u001b[1;32m   7678\u001b[0m         \"\"\"\n\u001b[0;32m-> 7679\u001b[0;31m         \u001b[0;32mreturn\u001b[0m \u001b[0m_casadi\u001b[0m\u001b[0;34m.\u001b[0m\u001b[0mFunction_call\u001b[0m\u001b[0;34m(\u001b[0m\u001b[0mself\u001b[0m\u001b[0;34m,\u001b[0m \u001b[0;34m*\u001b[0m\u001b[0margs\u001b[0m\u001b[0;34m)\u001b[0m\u001b[0;34m\u001b[0m\u001b[0;34m\u001b[0m\u001b[0m\n\u001b[0m\u001b[1;32m   7680\u001b[0m \u001b[0;34m\u001b[0m\u001b[0m\n\u001b[1;32m   7681\u001b[0m     \u001b[0;32mdef\u001b[0m \u001b[0mmapsum\u001b[0m\u001b[0;34m(\u001b[0m\u001b[0mself\u001b[0m\u001b[0;34m,\u001b[0m \u001b[0;34m*\u001b[0m\u001b[0margs\u001b[0m\u001b[0;34m)\u001b[0m \u001b[0;34m->\u001b[0m \u001b[0;34m\"std::vector< casadi::MX,std::allocator< casadi::MX > >\"\u001b[0m\u001b[0;34m:\u001b[0m\u001b[0;34m\u001b[0m\u001b[0;34m\u001b[0m\u001b[0m\n",
      "\u001b[0;31mRuntimeError\u001b[0m: Error in Function::operator() for 'int_odes' [CvodesInterface] at .../casadi/core/function.cpp:1368:\n.../casadi/interfaces/sundials/cvodes_interface.cpp:392: CVode returned \"CV_TOO_MUCH_WORK\". Consult CVODES documentation."
     ]
    }
   ],
   "source": [
    "xpk = Modelo_Predicao2(x0_n,uss_n) #valores normalizados\n",
    "\n",
    "ypk=sea_nl(xpk,uss_n)[0]\n",
    "Yk=ypk\n",
    "\n",
    "Xk=desnormalizar(xpk,xnorm)\n",
    "# for i in range(0,tss):\n",
    "#     Xk = hcat([Xk,desnormalizar(xpk,xnorm)])\n",
    "#     Yk = hcat([Yk,np.array(ypk)]);\n",
    "#     Uk = hcat([Uk,uss]);\n",
    "\n",
    "uk_1 = np.array([[60], [70]]);\n",
    "uk_1n=(uk_1.T-unorm[:,0])/unorm[:,1]"
   ]
  },
  {
   "cell_type": "code",
   "execution_count": null,
   "metadata": {
    "collapsed": false,
    "pycharm": {
     "name": "#%%\n"
    }
   },
   "outputs": [],
   "source": []
  },
  {
   "cell_type": "code",
   "execution_count": 121,
   "metadata": {
    "collapsed": false,
    "pycharm": {
     "name": "#%%\n"
    }
   },
   "outputs": [
    {
     "data": {
      "text/plain": [
       "(100,)"
      ]
     },
     "execution_count": 121,
     "metadata": {},
     "output_type": "execute_result"
    }
   ],
   "source": [
    "xi=(np.arange(0,int(nsim*ts)-1,ts));\n",
    "#xi=np.arange(0,10,ts)\n",
    "xi.shape"
   ]
  },
  {
   "cell_type": "code",
   "execution_count": 122,
   "metadata": {
    "collapsed": false,
    "pycharm": {
     "name": "#%%\n"
    }
   },
   "outputs": [
    {
     "name": "stdout",
     "output_type": "stream",
     "text": [
      "Simulação iniciada\n",
      "Xk shape =(5, 100)\n",
      "Ok.simulação concluida\n"
     ]
    },
    {
     "data": {
      "text/plain": [
       "(1, 100)"
      ]
     },
     "execution_count": 122,
     "metadata": {},
     "output_type": "execute_result"
    }
   ],
   "source": [
    "print(\"Simulação iniciada\")\n",
    "\n",
    "#for k in range(1,10):\n",
    "for k in range(1,nsim-1):\n",
    "    #print('Tempo:',k*ts, 'k=',k)\n",
    "    xpk = Modelo_Predicao2(xpk,uk_1n)\n",
    "    #print(xpk[0:3])\n",
    "    #print(desnormalizar(xpk,xnorm))\n",
    "    Xk = hcat([Xk,desnormalizar(xpk,xnorm)])\n",
    "    #print(Xk.shape)\n",
    "    ypk=sea_nl(xpk,uk_1n)[0]\n",
    "    #y2=sea_nl(desnormalizar(xpk,xnorm),uk_1)\n",
    "    #y2\n",
    "    Yk = hcat([Yk,np.array(ypk)]);\n",
    "    #Yk = hcat([Yk,y2]);\n",
    "    Uk = hcat([Uk,uk_1])\n",
    "\n",
    "    #Ymk = hcat([Ymk,ymk]);\n",
    "    #print(\"Xk,Yk,Uk,xi shape =\"+str(Xk.shape)+\" \"+str(Yk.shape)+\" \"+str(Uk.shape)+\" \"+str(xi.shape))\n",
    "print(\"Xk shape =\"+str(Xk.shape))\n",
    "# print(\"Uk shape =\"+str(Uk.shape))\n",
    "# print(\"Yk shape =\"+str(Uk.shape))\n",
    "# print(\"xi shape =\"+str(xi.shape))\n",
    "print(\"Ok.simulação concluida\")\n",
    "Xk[0,:].shape"
   ]
  },
  {
   "cell_type": "code",
   "execution_count": 123,
   "metadata": {
    "collapsed": false,
    "pycharm": {
     "name": "#%%\n"
    }
   },
   "outputs": [
    {
     "data": {
      "text/plain": [
       "array([0, 1, 2, 3, 4])"
      ]
     },
     "execution_count": 123,
     "metadata": {},
     "output_type": "execute_result"
    }
   ],
   "source": [
    "np.arange(0,tss*ts,ts)"
   ]
  },
  {
   "cell_type": "code",
   "execution_count": 124,
   "metadata": {
    "collapsed": false,
    "pycharm": {
     "name": "#%%\n"
    }
   },
   "outputs": [
    {
     "data": {
      "text/plain": [
       "(100,)"
      ]
     },
     "execution_count": 124,
     "metadata": {},
     "output_type": "execute_result"
    }
   ],
   "source": [
    "xi.shape"
   ]
  },
  {
   "cell_type": "code",
   "execution_count": 125,
   "metadata": {
    "collapsed": false,
    "pycharm": {
     "name": "#%%\n"
    }
   },
   "outputs": [
    {
     "data": {
      "text/plain": [
       "(100,)"
      ]
     },
     "execution_count": 125,
     "metadata": {},
     "output_type": "execute_result"
    }
   ],
   "source": [
    "#xi=vcat([np.arange(0,tss*ts,ts),xi])\n",
    "xi.shape"
   ]
  },
  {
   "cell_type": "markdown",
   "metadata": {
    "collapsed": false
   },
   "source": [
    "## Produção dos gráficos"
   ]
  },
  {
   "cell_type": "code",
   "execution_count": 126,
   "metadata": {
    "collapsed": false,
    "pycharm": {
     "name": "#%%\n"
    }
   },
   "outputs": [],
   "source": [
    "fig1=plt.figure()\n",
    "label = [r'$p_{in}(bar)$','H(m)','P','I','qc','qr' ];\n",
    "for iy in range(0,npv):\n",
    "    ax = fig1.add_subplot(npv,1,iy+1)\n",
    "    #print(iy)\n",
    "    if iy == 0: # Pin\n",
    "        ax.plot(xi,(Yk[iy,:].T), label='Medição')\n",
    "        #ax.plot(xi,Ymk[iy,:].T/1e5, label='EKF')\n",
    "        ax.set_ylabel(label[iy])\n",
    "        ax.set(xlim=(xi[0], nsim*ts))\n",
    "       # ax.set(ylim=(40,62))\n",
    "        plt.grid(True)\n",
    "    else: # H\n",
    "        ax.plot(xi,Yk[iy,:].T, label='Medição')\n",
    "        #ax.plot(xi,Ymk[iy,:].T,label='EKF')\n",
    "        ax.set_ylabel(label[iy])\n",
    "        ax.set(xlim=(xi[0], nsim*ts))\n",
    "       # ax.set(ylim=(580, 850))\n",
    "        plt.grid(True)\n",
    "#ax.plot(xi,Yk[2,:].T, label='EKF')\n",
    "ax.legend();\n",
    "ax.set_xlabel('Time (nT)')\n",
    "fig1.show()\n"
   ]
  },
  {
   "cell_type": "code",
   "execution_count": 127,
   "metadata": {
    "collapsed": false,
    "pycharm": {
     "name": "#%%\n"
    }
   },
   "outputs": [],
   "source": [
    "# Yk[1,:].T.shape\n",
    "#"
   ]
  },
  {
   "cell_type": "code",
   "execution_count": 128,
   "metadata": {
    "collapsed": false,
    "pycharm": {
     "name": "#%%\n"
    }
   },
   "outputs": [],
   "source": [
    "# #% Restrição\n",
    "umin  = np.array([35, 0]); np.transpose(umin);  # lower bounds of inputs\n",
    "umax  = np.array([65, 100]); np.transpose(umax); # upper bounds of inputs\n",
    "dumax = np.array([0.5, dzc_max]); np.transpose(dumax);\n",
    "fig2=plt.figure()\n",
    "label = ['f(Hz)',r'$z_c$(%)'];\n",
    "for iu in range(0,nmv):\n",
    "    ax2=fig2.add_subplot(nmv,1,iu+1)\n",
    "    ax2.plot(xi,Uk[iu,:].T, label='Medição')\n",
    "    ax2.plot([1,nsim],[umin[iu], umin[iu]],'--r')\n",
    "    ax2.plot([1,nsim],[umax[iu], umax[iu]],'--r', label='Restrição')\n",
    "    ax2.set_ylabel(label[iu])\n",
    "    ax2.set(xlim=(xi[0], nsim*ts))\n",
    "    if iu==0:\n",
    "        ax2.set(ylim=(30, 70))\n",
    "\n",
    "    plt.grid(True)\n"
   ]
  },
  {
   "cell_type": "code",
   "execution_count": 129,
   "metadata": {
    "collapsed": false,
    "pycharm": {
     "name": "#%%\n"
    }
   },
   "outputs": [],
   "source": [
    "fig3=plt.figure()\n",
    "label = ['Pbh','Pwh','q'];\n",
    "for iu in range(0,3):\n",
    "    ax3=fig3.add_subplot(3,1,iu+1)\n",
    "    ax3.plot(xi,Xk[iu,:].T, label='Medição')\n",
    "    #ax3.plot([1,nsim],[umin[iu], umin[iu]],'--r')\n",
    "    #ax3.plot([1,nsim],[umax[iu], umax[iu]],'--r', label='Restrição')\n",
    "    ax3.set_ylabel(label[iu])\n",
    "    #ax3.set(xlim=(xi[0], nsim*ts))\n",
    "    # if iu==0:\n",
    "    #     #ax2.set(ylim=(30, 70))\n",
    "    #     print(iu)\n",
    "    plt.grid(True)"
   ]
  },
  {
   "cell_type": "code",
   "execution_count": 130,
   "metadata": {
    "collapsed": false,
    "pycharm": {
     "name": "#%%\n"
    }
   },
   "outputs": [],
   "source": [
    "# fig1=plt.figure()\n",
    "# label = [r'$p_{in}(bar)$','H(m)','P','I','qc','qr' ];\n",
    "# Yk=np.array(Yk).reshape(100,2)\n",
    "# plt.plot(xi,np.array(Yk[:,0]))\n",
    "# plt.plot(xi,np.array(Yk[:,1]))"
   ]
  },
  {
   "cell_type": "code",
   "execution_count": 131,
   "metadata": {
    "collapsed": false,
    "pycharm": {
     "name": "#%%\n"
    }
   },
   "outputs": [],
   "source": [
    "# ax = fig1.add_subplot(2,1,1)\n",
    "# #ax.set_xlabel('Time (nT)')\n",
    "# ax.plot(xi,np.array(Yk[:,0]))\n",
    "# ax = fig1.add_subplot(2,1,2)\n",
    "# ax.plot(xi,Yk[:,1])\n",
    "# plt.grid(True)\n",
    "# fig1.show()"
   ]
  },
  {
   "cell_type": "code",
   "execution_count": 132,
   "metadata": {
    "collapsed": false,
    "pycharm": {
     "name": "#%%\n"
    }
   },
   "outputs": [],
   "source": [
    "# [Yk[:,0].shape, xi.shape]"
   ]
  }
 ],
 "metadata": {
  "interpreter": {
   "hash": "698028ab42453737c47168816c82f0f42fda53eb4af1ce48d8f09e53da2613ea"
  },
  "kernelspec": {
   "display_name": "Python 3.9.2 64-bit ('BCS': conda)",
   "name": "python3"
  },
  "language_info": {
   "name": "python",
   "version": ""
  }
 },
 "nbformat": 4,
 "nbformat_minor": 1
}