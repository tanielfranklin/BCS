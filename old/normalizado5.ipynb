{
 "cells": [
  {
   "cell_type": "markdown",
   "metadata": {
    "collapsed": true,
    "pycharm": {
     "name": "#%% md\n"
    }
   },
   "source": [
    "Normalização do modelo BCS não linear"
   ]
  },
  {
   "cell_type": "code",
   "execution_count": 1,
   "metadata": {
    "pycharm": {
     "name": "#%%\n"
    }
   },
   "outputs": [],
   "source": [
    "import matplotlib.pyplot as plt\n",
    "#import importlib\n",
    "import numpy as np\n",
    "#import subrotinas\n",
    "\n",
    "#importlib.import_module('subrotinas')\n",
    "%matplotlib tk\n",
    "\n",
    "exec(compile(open('param.py', \"rb\").read(), 'param.py', 'exec')) #% Roda arquivo com parâmetros do modelo BCS\n",
    "exec(compile(open('subrotinas.py', \"rb\").read(), 'subrotinas.py', 'exec')) #% Roda arquivo"
   ]
  },
  {
   "cell_type": "markdown",
   "metadata": {
    "pycharm": {
     "name": "#%% md\n"
    }
   },
   "source": [
    "### Variáveis de entrada\n",
    "f $\\in$ (35,65) Hz <br>\n",
    "zc $\\in$ (0,100)% <br>\n",
    "pm $\\in$ ($2\\cdot 10^6$) <br>\n",
    "\n",
    "### Variáveis de estado\n",
    "pbh $\\in$ ($10^5, 8.5 \\cdot 10^6$) <br>\n",
    "pwh $\\in$ ($2 \\cdot 10^6, 5.2\\cdot10^6$) <br>\n",
    "q $\\in (10^{-2},3\\cdot 10^{⁻2})$ <br>\n",
    "\n",
    "### Saídas\n",
    "pin $\\in$ ($40, 60.5) \\cdot 10^6$ <br>\n",
    "H $\\in$ ($350, 1000$) <br>"
   ]
  },
  {
   "cell_type": "markdown",
   "metadata": {},
   "source": [
    "Função para retornar os valores de xc e x0 dado que<br>\n",
    "$x_{min}<x<x_{max}$ <br>\n",
    "\n",
    "Nova variável<br>\n",
    "\n",
    "$xb=\\frac{x-x0}{xc}$\n",
    "\n",
    "Assim <br>\n",
    "\n",
    "$x=xb\\cdot xc+x0$\n",
    "\n",
    "Fazendo com que a nova variável $0<xb<1$ <br>\n"
   ]
  },
  {
   "cell_type": "code",
   "execution_count": 2,
   "metadata": {
    "pycharm": {
     "name": "#%%\n"
    }
   },
   "outputs": [],
   "source": [
    "# Rotinas"
   ]
  },
  {
   "cell_type": "markdown",
   "metadata": {
    "pycharm": {
     "name": "#%% md\n"
    }
   },
   "source": [
    "Definindo os fatores de ajuste de escala a partir dos limites operacionais"
   ]
  },
  {
   "cell_type": "code",
   "execution_count": 3,
   "metadata": {
    "pycharm": {
     "name": "#%%\n"
    }
   },
   "outputs": [],
   "source": [
    "# Valores máximos e mínimos para normalização\n",
    "#Entradas\n",
    "f_lim=(30,75); zclim=(0,100);pmlim=(1e6,2e6);\n",
    "#pbhlim=(100000,8.5e6);\n",
    "pbhlim=(1e5,8.5e6);pwhlim=(2e6,5.2e6); qlim=(12/3600,55/3600)\n",
    "H_lim=(350,1000);\n",
    "\n",
    "#Hlim e Pin modificado\n",
    "pinlim=(-3.28e12,-5.2e8)\n",
    "H_lim=(-9.8e9,-110196);\n",
    "#pinlim=(40e6,60.5e6)"
   ]
  },
  {
   "cell_type": "code",
   "execution_count": 4,
   "metadata": {
    "pycharm": {
     "name": "#%%\n"
    }
   },
   "outputs": [],
   "source": [
    "pm=2e6; #Simplificando pm fixo\n",
    "unorm=np.array([Fnorm(f_lim),Fnorm(zclim)])\n",
    "#xnorm= np.array([Fnorm(pbhlim),Fnorm(pwhlim),Fnorm(qlim), unorm[0,:],unorm[1,:]])\n",
    "xnorm= np.array([Fnorm(pbhlim),Fnorm(pwhlim),Fnorm(qlim)])\n",
    "ynorm=np.array([Fnorm(pinlim),Fnorm(H_lim)])\n",
    "#pbh  - pressão na bomba\n",
    "#pwh - Pressão de fundo do poço,\n",
    "#q - vazão\n",
    "#PI índice de produtividade do poço\n",
    "#PinC  pressão na choke\n",
    "# Pressão de manifold"
   ]
  },
  {
   "cell_type": "markdown",
   "metadata": {
    "pycharm": {
     "name": "#%% md\n"
    }
   },
   "source": [
    "Definindo as variáveis simbólicas"
   ]
  },
  {
   "cell_type": "code",
   "execution_count": 5,
   "metadata": {
    "pycharm": {
     "name": "#%%\n"
    }
   },
   "outputs": [],
   "source": [
    "# Criando simbolica\n",
    "from casadi import *\n",
    "nx = 3; nu = 2;\n",
    "x = MX.sym(\"x\",nx); # Estados\n",
    "u = MX.sym(\"u\",nu); # Exogena\n",
    "dudt_max = MX.sym(\"dudt_max\",2); # Exogena"
   ]
  },
  {
   "cell_type": "code",
   "execution_count": 6,
   "metadata": {
    "pycharm": {
     "name": "#%%\n"
    }
   },
   "outputs": [
    {
     "data": {
      "text/plain": "MX(x)"
     },
     "execution_count": 6,
     "metadata": {},
     "output_type": "execute_result"
    }
   ],
   "source": [
    "[pbh,pwh,q]=[x[0],x[1],x[2]]\n",
    "x\n",
    "#xnorm=np.array([[0,1],[0,1],[0,1]])"
   ]
  },
  {
   "cell_type": "code",
   "execution_count": 7,
   "metadata": {
    "pycharm": {
     "name": "#%%\n"
    }
   },
   "outputs": [
    {
     "data": {
      "text/plain": "MX((100000+(8400000*x[0])))"
     },
     "execution_count": 7,
     "metadata": {},
     "output_type": "execute_result"
    }
   ],
   "source": [
    "pbh = (x[0]*xnorm[0,1])+xnorm[0,0]\n",
    "pwh = (x[1]*xnorm[1,1])+xnorm[1,0]\n",
    "q = (x[2]*xnorm[2,1])+xnorm[2,0]\n",
    "pbh"
   ]
  },
  {
   "cell_type": "code",
   "execution_count": 8,
   "metadata": {
    "pycharm": {
     "name": "#%%\n"
    }
   },
   "outputs": [],
   "source": [
    "# pwh = AplicaEscala(x[1],1);\n",
    "# q = AplicaEscala(x[2],2)\n",
    "fq = u[0]\n",
    "zc = u[1]\n",
    "#zc = AplicaEscala(x[4],4)"
   ]
  },
  {
   "cell_type": "code",
   "execution_count": 9,
   "metadata": {
    "pycharm": {
     "name": "#%%\n"
    }
   },
   "outputs": [],
   "source": [
    "# Entradas\n",
    "\n",
    "fqref = u[0]*unorm[0,1]+unorm[0,0]; zcref = u[1]*unorm[1,1]+unorm[1,0]\n",
    "pm=2e6\n",
    "#fq=fqref; zc=zcref;\n",
    "#pm=(pm-xnorm[0,0])/xnorm[0,1]\n",
    "#pm = u[2];"
   ]
  },
  {
   "cell_type": "code",
   "execution_count": 10,
   "metadata": {
    "pycharm": {
     "name": "#%%\n"
    }
   },
   "outputs": [],
   "source": [
    "# Calculo do HEAD e delta de press�o\n",
    "q0 = q/Cq*(f0/fq);\n",
    "H0 = -1.2454e6*q0**2 + 7.4959e3*q0 + 9.5970e2;\n",
    "H = CH*H0*(fq/f0)**2; # Head\n",
    "# Calculo da press�o de intake\n",
    "F1 = 0.158*((rho*L1*q**2)/(D1*A1**2))*(mu/(rho*D1*q))**(1/4);\n",
    "F2 = 0.158*((rho*L2*q**2)/(D2*A2**2))*(mu/(rho*D2*q))**(1/4);\n",
    "pin = pbh - rho*g*h1 - F1"
   ]
  },
  {
   "cell_type": "markdown",
   "metadata": {
    "pycharm": {
     "name": "#%% md\n"
    }
   },
   "source": [
    "Normalizando H (depende de u[0] e x[2]) e Pin (depende de x[0] e x[2]). Com a normalização de u[0] x[0] e x[2]\n",
    "os limites de H precisam ser ajustados considerando esta modificação"
   ]
  },
  {
   "cell_type": "code",
   "execution_count": 11,
   "metadata": {
    "pycharm": {
     "name": "#%%\n"
    }
   },
   "outputs": [],
   "source": [
    "funcPin=Function('funcPin',[x],[pin])\n",
    "funcH=Function('funcH',[u,x],[H])\n",
    "ui=np.arange(0.1,1.01,0.1)\n",
    "xi=np.arange(0.1,1.01,0.1)\n",
    "z=np.zeros((len(ui),len(xi)))\n",
    "zp=z\n",
    "funcH=Function('funcH',[u,x],[H])\n",
    "for i in range (0,len(ui)):\n",
    "    for j in range(0,len(xi)):\n",
    "        z[i,j]=funcH([ui[i],0],[0,0,xi[j]])\n",
    "        zp[i,j]=funcPin([ui[i],0,xi[j]])\n",
    "min_max_pin=[np.amin(zp), np.amax(zp)]\n",
    "min_max_H=[np.amin(z), np.amax(z)]"
   ]
  },
  {
   "cell_type": "code",
   "execution_count": 12,
   "metadata": {
    "pycharm": {
     "name": "#%%\n"
    }
   },
   "outputs": [],
   "source": [
    "pinlim =min_max_pin\n",
    "H_lim =min_max_H\n",
    "ynorm=np.array([Fnorm(pinlim),Fnorm(H_lim)])"
   ]
  },
  {
   "cell_type": "markdown",
   "metadata": {
    "pycharm": {
     "name": "#%% md\n"
    }
   },
   "source": [
    "Normalizando H e pin com os novos fatores"
   ]
  },
  {
   "cell_type": "code",
   "execution_count": 13,
   "metadata": {
    "pycharm": {
     "name": "#%%\n"
    }
   },
   "outputs": [],
   "source": [
    "#H=(H-ynorm[1,0])/ynorm[1,1]\n",
    "#pin=(pin-ynorm[0,0])/ynorm[0,1]"
   ]
  },
  {
   "cell_type": "code",
   "execution_count": 14,
   "metadata": {
    "pycharm": {
     "name": "#%%\n"
    }
   },
   "outputs": [],
   "source": [
    "Pp = rho*g*H;\n",
    "P0 = -2.3599e9*q0**3 -1.8082e7*q0**2 +4.3346e6*q0 + 9.4355e4;\n"
   ]
  },
  {
   "cell_type": "code",
   "execution_count": 15,
   "metadata": {
    "pycharm": {
     "name": "#%%\n"
    }
   },
   "outputs": [],
   "source": [
    "P = Cp*P0*(fq/f0)**3; # Potencia\n",
    "I = Inp*P/Pnp;      # Corrente"
   ]
  },
  {
   "cell_type": "code",
   "execution_count": 16,
   "metadata": {},
   "outputs": [],
   "source": [
    "# Vazao do reservatorio e vazao da choke\n",
    "qr  = PI*(pr - pbh);\n",
    "qc  = Cc*(zc/100)*sign((pwh - pm))*sqrt(casadi.fabs(pwh - pm));\n",
    "dpbhdt = b1/V1*(qr - q);\n",
    "dpwhdt = b2/V2*(q - qc);\n",
    "dqdt = 1/M*(pbh - pwh - rho*g*hw - F1 - F2 + Pp);"
   ]
  },
  {
   "cell_type": "markdown",
   "metadata": {
    "pycharm": {
     "name": "#%% md\n"
    }
   },
   "source": [
    "Aplicar escala nas derivadas"
   ]
  },
  {
   "cell_type": "code",
   "execution_count": 17,
   "metadata": {
    "pycharm": {
     "name": "#%%\n"
    }
   },
   "outputs": [],
   "source": [
    "dpbhdt=dpbhdt*xnorm[0,1]\n",
    "dpwhdt=dpwhdt*xnorm[1,1]\n",
    "dqdt=dqdt*xnorm[2,1]\n"
   ]
  },
  {
   "cell_type": "code",
   "execution_count": 18,
   "metadata": {},
   "outputs": [],
   "source": [
    "# Função casadi\n",
    "dxdt = vertcat(dpbhdt,dpwhdt,dqdt)\n",
    "Eq_Estado = Function('Eq_Estado',[x,u],[dxdt],\n",
    "                     ['x','u'],['dxdt'])\n",
    "\n",
    "y=vertcat(pin,H);\n",
    "ny = y.size1()"
   ]
  },
  {
   "cell_type": "code",
   "execution_count": 19,
   "metadata": {
    "pycharm": {
     "name": "#%%\n"
    }
   },
   "outputs": [],
   "source": [
    "#un=vertcat(fq,zc)\n",
    "# Equações algébricas\n",
    "sea_nl = Function('sea_nl',[x,u],[y,pin,H],\\\n",
    "                  ['x','u'],['y','pin','H']); # Sistema de Eq. Algebricas variaveis de sa�da"
   ]
  },
  {
   "cell_type": "code",
   "execution_count": 20,
   "metadata": {
    "pycharm": {
     "name": "#%%\n"
    }
   },
   "outputs": [],
   "source": [
    "BCS={\n",
    "     'x': x,'u': u, 'y': y,\n",
    "     # 'x': vertcat(pbh,pwh,q),'u': vertcat(fq,zc), 'y': y,\n",
    "     'nx': nx,'nu': nu,'ny': ny,\n",
    "     'NaoLinear': {'sedo_nl': Eq_Estado(x,u),\n",
    "                   'sea_nl': sea_nl\n",
    "                   }\n",
    "}"
   ]
  },
  {
   "cell_type": "code",
   "execution_count": 21,
   "metadata": {
    "pycharm": {
     "name": "#%% Calculo do estacionario\n"
    }
   },
   "outputs": [],
   "source": [
    "#% Função objetivo\n",
    "dxdt_0 = Eq_Estado(BCS['x'], BCS['u'])\n"
   ]
  },
  {
   "cell_type": "code",
   "execution_count": 22,
   "metadata": {
    "pycharm": {
     "name": "#%%\n"
    }
   },
   "outputs": [],
   "source": [
    "J = sum1(dxdt_0**2)"
   ]
  },
  {
   "cell_type": "code",
   "execution_count": 23,
   "metadata": {
    "pycharm": {
     "name": "#%%\n"
    }
   },
   "outputs": [],
   "source": [
    "#% Otimizador\n",
    "opt={\n",
    "     'ipopt':{\n",
    "         'print_level':0,\n",
    "         'acceptable_tol':1e-8,\n",
    "         'acceptable_obj_change_tol':1e-6,\n",
    "         'max_iter':50\n",
    "         },\n",
    "     'print_time':0,\n",
    "     }\n",
    "\n",
    "opt['ipopt']['print_level']=0;# %0,3\n",
    "opt['print_time']=0;\n",
    "opt['ipopt']['acceptable_tol']=1e-8;\n",
    "opt['ipopt']['acceptable_obj_change_tol']=1e-6;\n",
    "opt['ipopt']['max_iter']=50;"
   ]
  },
  {
   "cell_type": "code",
   "execution_count": 24,
   "metadata": {
    "pycharm": {
     "name": "#%%\n"
    }
   },
   "outputs": [],
   "source": [
    "MMQ = {'x':BCS['x'], 'f':J, 'p':BCS['u']}\n",
    "solver = nlpsol('solver', 'ipopt', MMQ, opt)"
   ]
  },
  {
   "cell_type": "code",
   "execution_count": 25,
   "metadata": {
    "pycharm": {
     "name": "#%%\n"
    }
   },
   "outputs": [],
   "source": [
    "# Restrições das variaveis de decis�o\n",
    "# minimo\n",
    "args={\n",
    "      'lbx': np.zeros((nx,1)),\n",
    "# m�ximo\n",
    "      'ubx':np.full((nx, 1), np.inf)\n",
    "      }\n",
    "# Solu��o do otimizador\n",
    "sol=solver(x0=BCS['x'], lbx=args['lbx'], ubx=args['ubx'], p=BCS['u']);\n",
    "yss=sea_nl(sol['x'],BCS['u'])"
   ]
  },
  {
   "cell_type": "code",
   "execution_count": 26,
   "metadata": {
    "pycharm": {
     "name": "#%%\n"
    }
   },
   "outputs": [],
   "source": [
    "Estacionario = Function('Estacionario',[BCS['x'],BCS['u']],\\\n",
    "     [sol['x'],yss[0]],\\\n",
    "     ['x0','uss'],['xss','yss']);\n",
    "\n",
    "BCS['Estacionario'] = Estacionario;\n",
    "\n"
   ]
  },
  {
   "cell_type": "code",
   "execution_count": 27,
   "metadata": {
    "pycharm": {
     "name": "#%%\n"
    }
   },
   "outputs": [
    {
     "data": {
      "text/plain": "array([8.31102482e+06, 2.99010906e+06, 9.95042241e-03])"
     },
     "execution_count": 27,
     "metadata": {},
     "output_type": "execute_result"
    }
   ],
   "source": [
    "# Definindo regime permanente\n",
    "f_ss,zc_ss= (np.array([50, 50]))\n",
    "uss = [f_ss,zc_ss]; # Entradas do estacionario\n",
    "#% Calculo do estacionario\n",
    "#x0 = [0.2,0.5,0.5,0.5,0.5]\n",
    "#x0 = np.array([8311024.82175957,2990109.06207437,0.00995042241351780,50,50]);\n",
    "\n",
    "x0 = np.array([8311024.82175957,2990109.06207437,0.00995042241351780]);\n",
    "x0\n"
   ]
  },
  {
   "cell_type": "code",
   "execution_count": 28,
   "metadata": {
    "pycharm": {
     "name": "#%%\n"
    }
   },
   "outputs": [],
   "source": [
    "x0_n=normalizar_x(x0,xnorm)"
   ]
  },
  {
   "cell_type": "code",
   "execution_count": 29,
   "metadata": {
    "pycharm": {
     "name": "#%%\n"
    }
   },
   "outputs": [
    {
     "data": {
      "text/plain": "[50, 50]"
     },
     "execution_count": 29,
     "metadata": {},
     "output_type": "execute_result"
    }
   ],
   "source": [
    "uss_n=normalizar_u(uss,unorm)\n",
    "\n",
    "uss"
   ]
  },
  {
   "cell_type": "code",
   "execution_count": 30,
   "metadata": {
    "pycharm": {
     "name": "#%%\n"
    }
   },
   "outputs": [
    {
     "data": {
      "text/plain": "array([30,  0])"
     },
     "execution_count": 30,
     "metadata": {},
     "output_type": "execute_result"
    }
   ],
   "source": [
    "unorm[:, 0]"
   ]
  },
  {
   "cell_type": "code",
   "execution_count": 31,
   "metadata": {
    "pycharm": {
     "name": "#%%\n"
    }
   },
   "outputs": [
    {
     "data": {
      "text/plain": "array([ 45, 100])"
     },
     "execution_count": 31,
     "metadata": {},
     "output_type": "execute_result"
    }
   ],
   "source": [
    "unorm[:, 1]"
   ]
  },
  {
   "cell_type": "code",
   "execution_count": 32,
   "metadata": {
    "pycharm": {
     "name": "#%%\n"
    }
   },
   "outputs": [
    {
     "data": {
      "text/plain": "array([20, 50])"
     },
     "execution_count": 32,
     "metadata": {},
     "output_type": "execute_result"
    }
   ],
   "source": [
    "\n",
    "(uss - unorm[:, 0])"
   ]
  },
  {
   "cell_type": "code",
   "execution_count": 33,
   "metadata": {
    "pycharm": {
     "name": "#%%\n"
    }
   },
   "outputs": [
    {
     "data": {
      "text/plain": "array([0.44444444, 0.5       ])"
     },
     "execution_count": 33,
     "metadata": {},
     "output_type": "execute_result"
    }
   ],
   "source": [
    "uss"
   ]
  },
  {
   "cell_type": "code",
   "execution_count": 34,
   "metadata": {
    "pycharm": {
     "name": "#%%\n"
    }
   },
   "outputs": [
    {
     "data": {
      "text/plain": "array([0.97750295, 0.30940908, 0.55398885])"
     },
     "execution_count": 34,
     "metadata": {},
     "output_type": "execute_result"
    }
   ],
   "source": [
    "x0_n"
   ]
  },
  {
   "cell_type": "code",
   "execution_count": 35,
   "metadata": {
    "pycharm": {
     "name": "#%%\n"
    }
   },
   "outputs": [
    {
     "name": "stdout",
     "output_type": "stream",
     "text": [
      "\n",
      "******************************************************************************\n",
      "This program contains Ipopt, a library for large-scale nonlinear optimization.\n",
      " Ipopt is released as open source code under the Eclipse Public License (EPL).\n",
      "         For more information visit https://github.com/coin-or/Ipopt\n",
      "******************************************************************************\n",
      "\n"
     ]
    },
    {
     "data": {
      "text/plain": "DM([1.48299, 0.309409, -0.270739])"
     },
     "execution_count": 35,
     "metadata": {},
     "output_type": "execute_result"
    }
   ],
   "source": [
    "# Solu��o do otimizador\n",
    "sol_n=solver(x0=x0_n, p=uss_n);\n",
    "sol_n['x']"
   ]
  },
  {
   "cell_type": "code",
   "execution_count": 41,
   "metadata": {
    "pycharm": {
     "name": "#%%\n"
    }
   },
   "outputs": [
    {
     "data": {
      "text/plain": "DM([1.06931e+07, 0.0445])"
     },
     "execution_count": 41,
     "metadata": {},
     "output_type": "execute_result"
    }
   ],
   "source": [
    "yss=sea_nl(sol_n['x'],uss_n)[0]\n",
    "yss"
   ]
  },
  {
   "cell_type": "code",
   "execution_count": 42,
   "metadata": {
    "pycharm": {
     "name": "#%%\n"
    }
   },
   "outputs": [
    {
     "data": {
      "text/plain": "DM([1.31694, 347.673, 0.000180902])"
     },
     "execution_count": 42,
     "metadata": {},
     "output_type": "execute_result"
    }
   ],
   "source": [
    "[xss,yss]=Estacionario(x0_n,uss_n)\n",
    "xss"
   ]
  },
  {
   "cell_type": "code",
   "execution_count": 38,
   "metadata": {
    "pycharm": {
     "name": "#%%\n"
    }
   },
   "outputs": [
    {
     "data": {
      "text/plain": "DM([9.23238e+06, -15.4868])"
     },
     "execution_count": 38,
     "metadata": {},
     "output_type": "execute_result"
    }
   ],
   "source": [
    "yss"
   ]
  },
  {
   "cell_type": "code",
   "execution_count": 38,
   "metadata": {
    "pycharm": {
     "name": "#%%\n"
    }
   },
   "outputs": [],
   "source": []
  },
  {
   "cell_type": "code",
   "execution_count": 39,
   "metadata": {
    "pycharm": {
     "name": "#%%\n"
    }
   },
   "outputs": [],
   "source": [
    "# args['lbx'][3] = uss[0]\n",
    "# args['ubx'][3] = uss[0]  # bounds freq. solver\n",
    "# args['lbx'][4] = uss[1]\n",
    "# args['ubx'][4] = uss[1]   # bounds zc solver\n",
    "#sol=solver('x0',x0, 'lbx', args['lbx'], 'ubx', args['ubx'], 'p', uss);\n",
    "#sol=solver(x0=x0_n,lbx=args['lbx'], ubx=args['ubx'], p=uss_n)\n",
    "sol_n=solver(x0=x0_n, p=uss_n)\n",
    "#sol_n=solver(x0=x0, p=uss)\n",
    "#xss_n=sol_n['x']\n",
    "xss=sol_n['x']"
   ]
  },
  {
   "cell_type": "code",
   "execution_count": 40,
   "metadata": {
    "pycharm": {
     "name": "#%%\n"
    }
   },
   "outputs": [
    {
     "ename": "NameError",
     "evalue": "name 'desnormalizar' is not defined",
     "output_type": "error",
     "traceback": [
      "\u001B[0;31m---------------------------------------------------------------------------\u001B[0m",
      "\u001B[0;31mNameError\u001B[0m                                 Traceback (most recent call last)",
      "\u001B[0;32m<ipython-input-40-40734f96e449>\u001B[0m in \u001B[0;36m<module>\u001B[0;34m\u001B[0m\n\u001B[0;32m----> 1\u001B[0;31m \u001B[0mxss\u001B[0m \u001B[0;34m=\u001B[0m \u001B[0mdesnormalizar\u001B[0m\u001B[0;34m(\u001B[0m\u001B[0msol_n\u001B[0m\u001B[0;34m[\u001B[0m\u001B[0;34m'x'\u001B[0m\u001B[0;34m]\u001B[0m\u001B[0;34m,\u001B[0m\u001B[0mxnorm\u001B[0m\u001B[0;34m)\u001B[0m\u001B[0;34m\u001B[0m\u001B[0;34m\u001B[0m\u001B[0m\n\u001B[0m\u001B[1;32m      2\u001B[0m \u001B[0mxss\u001B[0m\u001B[0;34m\u001B[0m\u001B[0;34m\u001B[0m\u001B[0m\n\u001B[1;32m      3\u001B[0m \u001B[0;34m\u001B[0m\u001B[0m\n",
      "\u001B[0;31mNameError\u001B[0m: name 'desnormalizar' is not defined"
     ]
    }
   ],
   "source": [
    "xss = desnormalizar(sol_n['x'],xnorm)\n",
    "xss"
   ]
  },
  {
   "cell_type": "markdown",
   "metadata": {
    "pycharm": {
     "name": "#%% md\n"
    }
   },
   "source": [
    "xss correto = <br>\n",
    "6.97226e+06<br>\n",
    "2.86974e+06<br>\n",
    "0.0130564\n",
    "\n",
    "DM([8.31102e+06, 2.99011e+06, 0.00995042])\n"
   ]
  },
  {
   "cell_type": "markdown",
   "metadata": {
    "pycharm": {
     "name": "#%% md\n"
    }
   },
   "source": [
    "yss"
   ]
  },
  {
   "cell_type": "code",
   "execution_count": null,
   "metadata": {
    "pycharm": {
     "name": "#%%\n"
    }
   },
   "outputs": [],
   "source": [
    "out_ss=sea_nl(xss,uss)\n",
    "[xss,yss]=Estacionario(x0,uss)\n",
    "xss"
   ]
  },
  {
   "cell_type": "code",
   "execution_count": null,
   "metadata": {
    "pycharm": {
     "name": "#%%\n"
    }
   },
   "outputs": [],
   "source": [
    "[xss_n,yss_n]=Estacionario(x0_n,uss_n)\n",
    "xss_n"
   ]
  },
  {
   "cell_type": "code",
   "execution_count": null,
   "metadata": {
    "pycharm": {
     "name": "#%%\n"
    }
   },
   "outputs": [],
   "source": [
    "yss"
   ]
  },
  {
   "cell_type": "code",
   "execution_count": null,
   "metadata": {
    "pycharm": {
     "name": "#%%\n"
    }
   },
   "outputs": [],
   "source": [
    "desnormalizar_x(xss,xnorm)"
   ]
  },
  {
   "cell_type": "code",
   "execution_count": null,
   "metadata": {
    "pycharm": {
     "name": "#%%\n"
    }
   },
   "outputs": [],
   "source": [
    "out_ss=sea_nl(desnormalizar_x(xss,xnorm),uss)[0]\n",
    "np.array(out_ss).T"
   ]
  },
  {
   "cell_type": "code",
   "execution_count": null,
   "metadata": {
    "pycharm": {
     "name": "#%%\n"
    }
   },
   "outputs": [],
   "source": [
    "x0.reshape(3,1)"
   ]
  },
  {
   "cell_type": "code",
   "execution_count": null,
   "metadata": {
    "pycharm": {
     "name": "#%%\n"
    }
   },
   "outputs": [],
   "source": [
    "c()"
   ]
  },
  {
   "cell_type": "code",
   "execution_count": null,
   "metadata": {
    "pycharm": {
     "name": "#%%\n"
    }
   },
   "outputs": [],
   "source": [
    "# Definir variaveis manipuladas e controladas e disturbio externo\n",
    "mv = [0,1]    #% [f, Zc]\n",
    "pv = [0,1]  #% [pin, H]  #% [P, I]\n",
    "#pv = [2,3];  #% [pin, H]\n",
    "de = 2;      #% [pm]\n",
    "tg = 2;      #% MV target\n",
    "#% Parametros\n",
    "ts = 1;"
   ]
  },
  {
   "cell_type": "code",
   "execution_count": null,
   "metadata": {
    "pycharm": {
     "name": "#%%\n"
    }
   },
   "outputs": [],
   "source": [
    "#%Modelo de predição\n",
    "#% Criando o objeto para predição do modelo\n",
    "# Iniciando variavel dicionário para a construção da EDO\n",
    "# sedo = {'x': BCS['x'][0:3], # Estados\n",
    "#         'p': BCS['u'], #Variáveis exogenas\n",
    "#         'ode': BCS['NaoLinear']['sedo_nl'] # SEDO (Gerado no bcs_settings)\n",
    "#         };\n",
    "\n",
    "sedo = {'x': BCS['x'][0:3], # Estados\n",
    "        'p': BCS['u'], #Variáveis exogenas\n",
    "        'ode': Eq_Estado(x[0:3],u) # SEDO (Gerado no bcs_settings)\n",
    "        };\n",
    "\n",
    "#% Criando o objeto para integração da Eq_estado\n",
    "opt = {'tf':ts,'t0':0};   #% opções do integrador"
   ]
  },
  {
   "cell_type": "code",
   "execution_count": null,
   "metadata": {
    "pycharm": {
     "name": "#%%\n"
    }
   },
   "outputs": [],
   "source": [
    "int_odes = integrator('int_odes','cvodes',sedo,opt);\n",
    "# objeto integrador\n",
    "res = int_odes(x0=BCS['x'],p=BCS['u']);             #   % solução um passo a frente\n",
    "npv = len(pv); nmv = len(mv);"
   ]
  },
  {
   "cell_type": "code",
   "execution_count": null,
   "metadata": {
    "pycharm": {
     "name": "#%%\n"
    }
   },
   "outputs": [],
   "source": [
    "# Criando o objeto para solução da equação de medição\n",
    "Eq_medicao = Function('Eq_medicao',[BCS['x'],BCS['u']],[BCS['y'][pv]],['x','u'],['y']);\n",
    "# Criacao do objeto para simulacao do BCS Eq de estado + Eq de Medicao\n",
    "Modelo_Predicao = Function('Modelo_Predicao',[BCS['x'],BCS['u']],[res['xf'],Eq_medicao(res['xf'],BCS['u'])],['xk_1','uk_1'],['xk','yk']);"
   ]
  },
  {
   "cell_type": "code",
   "execution_count": null,
   "metadata": {
    "pycharm": {
     "name": "#%%\n"
    }
   },
   "outputs": [],
   "source": [
    "# Inicializa��o das variaveis\n",
    "xss=x0_n\n",
    "\n",
    "xmk = xss;           # Estados\n",
    "xpk = xss;"
   ]
  },
  {
   "cell_type": "code",
   "execution_count": null,
   "metadata": {
    "pycharm": {
     "name": "#%%\n"
    }
   },
   "outputs": [],
   "source": [
    "uk_1=uss[mv];\n",
    "#xpk=normalizar(xss,xnorm)\n",
    "xpk=(xss-xnorm[:,0])/xnorm[:,1]\n",
    "#uk_1 = normaliza_u(uss[mv],unorm)\n",
    "uk_1=(uss[mv]-unorm[:,0])/unorm[:,1]\n",
    "# MVS\n",
    "# Aloca��o de variaveis\n",
    "Xk = np.zeros((nx,1))\n",
    "Xk"
   ]
  },
  {
   "cell_type": "code",
   "execution_count": null,
   "metadata": {
    "pycharm": {
     "name": "#%%\n"
    }
   },
   "outputs": [],
   "source": [
    "Yk = np.zeros((npv,1))\n",
    "Uk = np.zeros((nmv,1))\n",
    "Ymk = Yk\n",
    "Ys = Yk\n",
    "Ymin = Yk\n",
    "Ymax = Yk"
   ]
  },
  {
   "cell_type": "markdown",
   "metadata": {
    "pycharm": {
     "name": "#%% md\n"
    }
   },
   "source": [
    "### Simulando cenários"
   ]
  },
  {
   "cell_type": "code",
   "execution_count": null,
   "metadata": {
    "pycharm": {
     "name": "#%%\n"
    }
   },
   "outputs": [],
   "source": [
    "tsim = 50;\n",
    "nsim=int(round(tsim/ts)+1)\n",
    "xss_n=x0_n\n",
    "x0_n"
   ]
  },
  {
   "cell_type": "code",
   "execution_count": null,
   "metadata": {
    "pycharm": {
     "name": "#%%\n"
    }
   },
   "outputs": [],
   "source": [
    "uss_n"
   ]
  },
  {
   "cell_type": "code",
   "execution_count": null,
   "metadata": {
    "pycharm": {
     "name": "#%%\n"
    }
   },
   "outputs": [],
   "source": [
    "#c)"
   ]
  },
  {
   "cell_type": "code",
   "execution_count": null,
   "metadata": {
    "pycharm": {
     "name": "#%%\n"
    }
   },
   "outputs": [],
   "source": [
    "[xpk,ypk] = Modelo_Predicao(xss_n,uss_n)"
   ]
  },
  {
   "cell_type": "code",
   "execution_count": null,
   "metadata": {
    "pycharm": {
     "name": "#%%\n"
    }
   },
   "outputs": [],
   "source": [
    "Xk"
   ]
  },
  {
   "cell_type": "code",
   "execution_count": null,
   "metadata": {
    "pycharm": {
     "name": "#%%\n"
    }
   },
   "outputs": [],
   "source": [
    "xi=(np.arange(0,int(nsim*ts)-1,ts));\n",
    "uk_1 = np.array([[60], [70]]);\n",
    "#ypk=desnormalizar_y(np.array(Eq_medicao(xpk,uk_1)),ynorm)\n",
    "ypk=np.array(Eq_medicao(xpk,uk_1))*ynorm[:,1]+ynorm[:,0]\n",
    "#uk_1n = normaliza_u(uk_1,unorm)\n",
    "uk_1n=(uk_1.T-unorm[:,0])/unorm[:,1]"
   ]
  },
  {
   "cell_type": "code",
   "execution_count": null,
   "metadata": {
    "pycharm": {
     "name": "#%%\n"
    }
   },
   "outputs": [],
   "source": [
    "Uk= uss\n",
    "\n",
    "xpk*xnorm[:,1]+xnorm[:,0]\n",
    "xpk"
   ]
  },
  {
   "cell_type": "code",
   "execution_count": null,
   "metadata": {
    "pycharm": {
     "name": "#%%\n"
    }
   },
   "outputs": [],
   "source": [
    "Xk=xpk*xnorm[:,1]+xnorm[:,0]\n",
    "Xk"
   ]
  },
  {
   "cell_type": "code",
   "execution_count": null,
   "metadata": {
    "pycharm": {
     "name": "#%%\n"
    }
   },
   "outputs": [],
   "source": [
    "Yk=ypk\n"
   ]
  },
  {
   "cell_type": "code",
   "execution_count": null,
   "metadata": {
    "pycharm": {
     "name": "#%%\n"
    }
   },
   "outputs": [],
   "source": [
    "y2=sea_nl(desnormalizar(xpk,xnorm),uk_1)[0]\n",
    "desnormalizar(xpk,xnorm)\n",
    "ypk"
   ]
  },
  {
   "cell_type": "code",
   "execution_count": null,
   "metadata": {
    "pycharm": {
     "name": "#%%\n"
    }
   },
   "outputs": [],
   "source": []
  },
  {
   "cell_type": "code",
   "execution_count": null,
   "metadata": {
    "pycharm": {
     "name": "#%%\n"
    }
   },
   "outputs": [],
   "source": [
    "for k in range(1,nsim-1):\n",
    "    #print('Tempo:',k*ts, 'k=',k)\n",
    "    [xpk,ypk] = Modelo_Predicao(xpk,uk_1n)\n",
    "    print(desnormalizar(xpk,xnorm))\n",
    "    Xk = hcat([Xk,desnormalizar(xpk,xnorm)])\n",
    "    print(Xk.shape)\n",
    "    ypk=Eq_medicao(xpk,uk_1)\n",
    "    #y2=sea_nl(desnormalizar(xpk,xnorm),uk_1)\n",
    "    #y2\n",
    "    Yk = hcat([Yk,desnormalizar_y(np.array(ypk),ynorm)]);\n",
    "    #Yk = hcat([Yk,y2]);\n",
    "    Uk = hcat([Uk,uk_1])\n",
    "\n",
    "    #Ymk = hcat([Ymk,ymk]);\n",
    "    #print(\"Xk,Yk,Uk,xi shape =\"+str(Xk.shape)+\" \"+str(Yk.shape)+\" \"+str(Uk.shape)+\" \"+str(xi.shape))\n",
    "print(\"Xk shape =\"+str(Xk.shape))\n",
    "print(\"Uk shape =\"+str(Uk.shape))\n",
    "print(\"Yk shape =\"+str(Uk.shape))\n",
    "print(\"xi shape =\"+str(xi.shape))\n",
    "print(\"Ok.simulação concluida\")\n",
    "\n",
    "#Xk[2,:]"
   ]
  },
  {
   "cell_type": "code",
   "execution_count": null,
   "metadata": {
    "pycharm": {
     "name": "#%%\n"
    }
   },
   "outputs": [],
   "source": []
  },
  {
   "cell_type": "markdown",
   "metadata": {
    "pycharm": {
     "name": "#%% md\n"
    }
   },
   "source": [
    "## Produção dos gráficos"
   ]
  },
  {
   "cell_type": "code",
   "execution_count": null,
   "metadata": {
    "pycharm": {
     "name": "#%%\n"
    }
   },
   "outputs": [],
   "source": []
  },
  {
   "cell_type": "code",
   "execution_count": null,
   "metadata": {
    "pycharm": {
     "name": "#%%\n"
    }
   },
   "outputs": [],
   "source": [
    "fig1=plt.figure()\n",
    "label = [r'$p_{in}(bar)$','H(m)','P','I','qc','qr' ];\n",
    "for iy in range(0,npv):\n",
    "    ax = fig1.add_subplot(npv,1,iy+1)\n",
    "    #print(iy)\n",
    "    if iy == 0: # Pin\n",
    "        ax.plot(xi,(Yk[iy,:].T), label='Medição')\n",
    "        #ax.plot(xi,Ymk[iy,:].T/1e5, label='EKF')\n",
    "        ax.set_ylabel(label[iy])\n",
    "        ax.set(xlim=(xi[0], nsim*ts))\n",
    "       # ax.set(ylim=(40,62))\n",
    "        plt.grid(True)\n",
    "    else: # H\n",
    "        ax.plot(xi,Yk[iy,:].T, label='Medição')\n",
    "        #ax.plot(xi,Ymk[iy,:].T,label='EKF')\n",
    "        ax.set_ylabel(label[iy])\n",
    "        ax.set(xlim=(xi[0], nsim*ts))\n",
    "       # ax.set(ylim=(580, 850))\n",
    "        plt.grid(True)\n",
    "#ax.plot(xi,Yk[2,:].T, label='EKF')\n",
    "ax.legend();\n",
    "ax.set_xlabel('Time (nT)')\n",
    "fig1.show()"
   ]
  },
  {
   "cell_type": "code",
   "execution_count": null,
   "metadata": {
    "pycharm": {
     "name": "#%%\n"
    }
   },
   "outputs": [],
   "source": [
    "Yk[1,:].T.shape"
   ]
  },
  {
   "cell_type": "code",
   "execution_count": null,
   "metadata": {
    "pycharm": {
     "name": "#%%\n"
    }
   },
   "outputs": [],
   "source": [
    "#% Restrição\n",
    "umin  = np.array([35, 0]); np.transpose(umin);  # lower bounds of inputs\n",
    "umax  = np.array([65, 100]); np.transpose(umax); # upper bounds of inputs\n",
    "dumax = np.array([0.5, dzc_max]); np.transpose(dumax);\n",
    "fig2=plt.figure()\n",
    "label = ['f(Hz)',r'$z_c$(%)'];\n",
    "for iu in range(0,nmv):\n",
    "    ax2=fig2.add_subplot(nmv,1,iu+1)\n",
    "    ax2.plot(xi,Uk[iu,:].T, label='Medição')\n",
    "    ax2.plot([1,nsim],[umin[iu], umin[iu]],'--r')\n",
    "    ax2.plot([1,nsim],[umax[iu], umax[iu]],'--r', label='Restrição')\n",
    "    ax2.set_ylabel(label[iu])\n",
    "    ax2.set(xlim=(xi[0], nsim*ts))\n",
    "    if iu==0:\n",
    "        ax2.set(ylim=(30, 70))\n",
    "        print(iu)\n",
    "    plt.grid(True)"
   ]
  },
  {
   "cell_type": "code",
   "execution_count": null,
   "metadata": {
    "pycharm": {
     "name": "#%%\n"
    }
   },
   "outputs": [],
   "source": [
    "fig3=plt.figure()\n",
    "label = ['Pbh','Pwh','q'];\n",
    "for iu in range(0,nx):\n",
    "    ax3=fig3.add_subplot(nx,1,iu+1)\n",
    "    ax3.plot(xi,Xk[iu,:].T, label='Medição')\n",
    "    #ax3.plot([1,nsim],[umin[iu], umin[iu]],'--r')\n",
    "    #ax3.plot([1,nsim],[umax[iu], umax[iu]],'--r', label='Restrição')\n",
    "    ax3.set_ylabel(label[iu])\n",
    "    ax3.set(xlim=(xi[0], nsim*ts))\n",
    "    if iu==0:\n",
    "        #ax2.set(ylim=(30, 70))\n",
    "        print(iu)\n",
    "    plt.grid(True)"
   ]
  },
  {
   "cell_type": "code",
   "execution_count": null,
   "metadata": {
    "pycharm": {
     "name": "#%%\n"
    }
   },
   "outputs": [],
   "source": [
    "# fig1=plt.figure()\n",
    "# label = [r'$p_{in}(bar)$','H(m)','P','I','qc','qr' ];\n",
    "# Yk=np.array(Yk).reshape(100,2)\n",
    "# plt.plot(xi,np.array(Yk[:,0]))\n",
    "# plt.plot(xi,np.array(Yk[:,1]))"
   ]
  },
  {
   "cell_type": "code",
   "execution_count": null,
   "metadata": {
    "pycharm": {
     "name": "#%%\n"
    }
   },
   "outputs": [],
   "source": [
    "# ax = fig1.add_subplot(2,1,1)\n",
    "# #ax.set_xlabel('Time (nT)')\n",
    "# ax.plot(xi,np.array(Yk[:,0]))\n",
    "# ax = fig1.add_subplot(2,1,2)\n",
    "# ax.plot(xi,Yk[:,1])\n",
    "# plt.grid(True)\n",
    "# fig1.show()"
   ]
  },
  {
   "cell_type": "code",
   "execution_count": null,
   "metadata": {
    "pycharm": {
     "name": "#%%\n"
    }
   },
   "outputs": [],
   "source": [
    "[Yk[:,0].shape, xi.shape]"
   ]
  },
  {
   "cell_type": "code",
   "execution_count": null,
   "metadata": {
    "pycharm": {
     "name": "#%%\n"
    }
   },
   "outputs": [],
   "source": []
  }
 ],
 "metadata": {
  "kernelspec": {
   "display_name": "Python 3",
   "language": "python",
   "name": "python3"
  },
  "language_info": {
   "codemirror_mode": {
    "name": "ipython",
    "version": 3
   },
   "file_extension": ".py",
   "mimetype": "text/x-python",
   "name": "python",
   "nbconvert_exporter": "python",
   "pygments_lexer": "ipython3",
   "version": "3.9.2"
  }
 },
 "nbformat": 4,
 "nbformat_minor": 1
}