{
 "cells": [
  {
   "cell_type": "markdown",
   "metadata": {
    "collapsed": true,
    "pycharm": {
     "name": "#%% md\n"
    }
   },
   "source": [
    "Normalização do modelo BCS não linear"
   ]
  },
  {
   "cell_type": "code",
   "execution_count": 1,
   "metadata": {
    "pycharm": {
     "name": "#%%\n"
    }
   },
   "outputs": [],
   "source": [
    "import matplotlib.pyplot as plt\n",
    "import numpy as np\n",
    "exec(compile(open('param.py', \"rb\").read(), 'param.py', 'exec')) #% Roda arquivo com parâmetros do modelo BCS"
   ]
  },
  {
   "cell_type": "markdown",
   "metadata": {
    "pycharm": {
     "name": "#%% md\n"
    }
   },
   "source": [
    "### Variáveis de entrada\n",
    "f $\\in$ (35,65) Hz <br>\n",
    "zc $\\in$ (0,100)% <br>\n",
    "pm $\\in$ ($2\\cdot 10^6$) <br>\n",
    "\n",
    "### Variáveis de estado\n",
    "pbh $\\in$ ($10^5, 8.5 \\cdot 10^6$) <br>\n",
    "pwh $\\in$ ($2 \\cdot 10^6, 5.2\\cdot10^6$) <br>\n",
    "q $\\in (10^{-2},3\\cdot 10^{⁻2})$ <br>\n",
    "\n"
   ]
  },
  {
   "cell_type": "markdown",
   "metadata": {},
   "source": [
    "Função para retornar os valores de xc e x0 dado que<br>\n",
    "$x_{min}<x<x_{max}$ <br>\n",
    "\n",
    "Nova variável<br>\n",
    "\n",
    "$xb=\\frac{x-x0}{xc}$\n",
    "\n",
    "Assim <br>\n",
    "\n",
    "$x=xb\\cdot xc+x0$\n",
    "\n",
    "Fazendo com que a nova variável $0<xb<1$ <br>"
   ]
  },
  {
   "cell_type": "code",
   "execution_count": null,
   "metadata": {
    "pycharm": {
     "name": "#%%\n"
    }
   },
   "outputs": [],
   "source": []
  },
  {
   "cell_type": "code",
   "execution_count": 2,
   "metadata": {
    "pycharm": {
     "name": "#%%\n"
    }
   },
   "outputs": [],
   "source": [
    "def Fnorm(xlim):\n",
    "    # Encontrar o fator de normalização\n",
    "    # tal que xb=(x-x0)/xc\n",
    "    # xmin<x<xmax\n",
    "    # fazendo com que 0<xb<1\n",
    "    x=(xlim[0],xlim[1]-xlim[0])\n",
    "    return x\n",
    "def normalizar(x,xnorm):\n",
    "    xs=np.zeros((nx,1))\n",
    "    for i in range(0,nx):\n",
    "        xs[i]=(x[i]-xnorm[i,0])/xnorm[i,1]\n",
    "    return xs\n",
    "def desnormalizar(x,xnorm):\n",
    "    xs=np.zeros((nx,1))\n",
    "    for i in range(0,nx):\n",
    "        xs[i]=x[i]*xnorm[i,1]+xnorm[i,0]\n",
    "    return xs\n",
    "def AplicaEscala(var,i):\n",
    "    aux=var*xnorm[i,1]+xnorm[i,0]\n",
    "    return aux\n",
    "def normaliza_u(u,unorm):\n",
    "    aux=np.zeros_like(u)\n",
    "    for i in range(0,len(u)):\n",
    "        aux[i]=(u[i]-unorm[i,0])/unorm[i,1]\n",
    "    return aux"
   ]
  },
  {
   "cell_type": "markdown",
   "metadata": {
    "pycharm": {
     "name": "#%% md\n"
    }
   },
   "source": [
    "Definindo os fatores de ajuste de escala a partir dos limites operacionais"
   ]
  },
  {
   "cell_type": "code",
   "execution_count": 3,
   "metadata": {
    "pycharm": {
     "name": "#%%\n"
    }
   },
   "outputs": [],
   "source": [
    "# Valores máximos e mínimos para normalização\n",
    "#Entradas\n",
    "f_lim=(30,75); zclim=(0,100);pmlim=(1e6,2e6);\n",
    "pbhlim=(100000,8.5e6); pwhlim=(2e6,5.2e6); qlim=(12/3600,55/3600)"
   ]
  },
  {
   "cell_type": "code",
   "execution_count": 4,
   "metadata": {
    "pycharm": {
     "name": "#%%\n"
    }
   },
   "outputs": [
    {
     "data": {
      "text/plain": [
       "array([[1.00000000e+05, 8.40000000e+06],\n",
       "       [2.00000000e+06, 3.20000000e+06],\n",
       "       [3.33333333e-03, 1.19444444e-02],\n",
       "       [3.00000000e+01, 4.50000000e+01],\n",
       "       [0.00000000e+00, 1.00000000e+02]])"
      ]
     },
     "execution_count": 4,
     "metadata": {},
     "output_type": "execute_result"
    }
   ],
   "source": [
    "pm=2e6; #Simplificando pm fixo\n",
    "unorm=np.array([Fnorm(f_lim),Fnorm(zclim)])\n",
    "xnorm= np.array([Fnorm(pbhlim),Fnorm(pwhlim),Fnorm(qlim), unorm[0,:],unorm[1,:]])\n",
    "\n",
    "xnorm\n",
    "#pbh  - pressão na bomba\n",
    "#pwh - Pressão de fundo do poço,\n",
    "#q - vazão\n",
    "#PI índice de produtividade do poço\n",
    "#PinC  pressão na choke\n",
    "# Pressão de manifold"
   ]
  },
  {
   "cell_type": "markdown",
   "metadata": {
    "pycharm": {
     "name": "#%% md\n"
    }
   },
   "source": [
    "Definindo as variáveis simbólicas"
   ]
  },
  {
   "cell_type": "code",
   "execution_count": 5,
   "metadata": {
    "pycharm": {
     "name": "#%%\n"
    }
   },
   "outputs": [],
   "source": [
    "# Criando simbolica\n",
    "from casadi import *\n",
    "nx = 5; nu = 2;\n",
    "x = MX.sym(\"x\",nx); # Estados\n",
    "u = MX.sym(\"u\",nu); # Exogena\n",
    "dudt_max = MX.sym(\"dudt_max\",2); # Exogena\n"
   ]
  },
  {
   "cell_type": "code",
   "execution_count": 6,
   "metadata": {
    "pycharm": {
     "name": "#%%\n"
    }
   },
   "outputs": [],
   "source": [
    "pbh = AplicaEscala(x[0],0)\n",
    "pwh = AplicaEscala(x[1],1)\n",
    "q = AplicaEscala(x[2],2)\n",
    "fq = AplicaEscala(x[3],3)\n",
    "zc = AplicaEscala(x[4],4)"
   ]
  },
  {
   "cell_type": "code",
   "execution_count": 7,
   "metadata": {
    "pycharm": {
     "name": "#%%\n"
    }
   },
   "outputs": [
    {
     "data": {
      "text/plain": [
       "2000000.0"
      ]
     },
     "execution_count": 7,
     "metadata": {},
     "output_type": "execute_result"
    }
   ],
   "source": [
    "# Entradas\n",
    "\n",
    "fqref = u[0]*unorm[0,1]+unorm[0,0]; zcref = u[1]*unorm[1,1]+unorm[1,0];\n",
    "pm=2e6;\n",
    "#pm=(pm-xnorm[0,0])/xnorm[0,1]\n",
    "pm\n",
    "#pm = u[2];"
   ]
  },
  {
   "cell_type": "markdown",
   "metadata": {
    "pycharm": {
     "name": "#%% md\n"
    }
   },
   "source": [
    "Normalizando variáveis dependentes"
   ]
  },
  {
   "cell_type": "code",
   "execution_count": 8,
   "metadata": {
    "pycharm": {
     "name": "#%%\n"
    }
   },
   "outputs": [],
   "source": [
    "# Calculo do HEAD e delta de press�o\n",
    "q0 = q/Cq*(f0/fq);\n",
    "H0 = -1.2454e6*q0**2 + 7.4959e3*q0 + 9.5970e2;\n",
    "H = CH*H0*(fq/f0)**2; # Head\n",
    "Pp = rho*g*H;\n",
    "# Calculo da press�o de intake\n",
    "F1 = 0.158*((rho*L1*q**2)/(D1*A1**2))*(mu/(rho*D1*q))**(1/4);\n",
    "F2 = 0.158*((rho*L2*q**2)/(D2*A2**2))*(mu/(rho*D2*q))**(1/4);"
   ]
  },
  {
   "cell_type": "code",
   "execution_count": 9,
   "metadata": {
    "pycharm": {
     "name": "#%%\n"
    }
   },
   "outputs": [],
   "source": [
    "P0 = -2.3599e9*q0**3 -1.8082e7*q0**2 +4.3346e6*q0 + 9.4355e4;\n",
    "pin = pbh - rho*g*h1 - F1\n",
    "P = Cp*P0*(fq/f0)**3; # Potencia\n",
    "I = Inp*P/Pnp;      # Corrente"
   ]
  },
  {
   "cell_type": "code",
   "execution_count": 10,
   "metadata": {},
   "outputs": [
    {
     "data": {
      "text/plain": [
       "MX((2.32e-09*(12600000-(100000+(8400000*x[0])))))"
      ]
     },
     "execution_count": 10,
     "metadata": {},
     "output_type": "execute_result"
    }
   ],
   "source": [
    "# Vazao do reservatorio e vazao da choke\n",
    "qr  = PI*(pr - pbh);\n",
    "qr\n"
   ]
  },
  {
   "cell_type": "code",
   "execution_count": 11,
   "metadata": {},
   "outputs": [],
   "source": [
    "qc  = Cc*(zc/100)*casadi.sign((pwh - pm))*casadi.sqrt(casadi.fabs(pwh - pm));"
   ]
  },
  {
   "cell_type": "code",
   "execution_count": 12,
   "metadata": {
    "pycharm": {
     "name": "#%%\n"
    }
   },
   "outputs": [],
   "source": [
    "dpbhdt = b1/V1*(qr - q);\n",
    "dpwhdt = b2/V2*(q - qc);\n",
    "dqdt = 1/M*(pbh - pwh - rho*g*hw - F1 - F2 + Pp);"
   ]
  },
  {
   "cell_type": "markdown",
   "metadata": {
    "pycharm": {
     "name": "#%% md\n"
    }
   },
   "source": [
    "Aplicar escala nas derivadas"
   ]
  },
  {
   "cell_type": "code",
   "execution_count": 13,
   "metadata": {
    "pycharm": {
     "name": "#%%\n"
    }
   },
   "outputs": [],
   "source": [
    "dpbhdt=dpbhdt*xnorm[0,1]\n",
    "dpwhdt=dpwhdt*xnorm[1,1]\n",
    "dqdt=dqdt*xnorm[2,1]"
   ]
  },
  {
   "cell_type": "code",
   "execution_count": 14,
   "metadata": {},
   "outputs": [],
   "source": [
    "# Função casadi\n",
    "dxdt = casadi.vertcat(dpbhdt,dpwhdt,dqdt)\n",
    "Eq_Estado = casadi.Function('Eq_Estado',[x,u],[dxdt],\n",
    "                     ['x','u'],['dxdt'])"
   ]
  },
  {
   "cell_type": "code",
   "execution_count": 15,
   "metadata": {
    "pycharm": {
     "name": "#%%\n"
    }
   },
   "outputs": [],
   "source": [
    "# Equações algébricas\n",
    "#sea_nl = casadi.Function('sea_nl',[x,u],[y,pin,H],\\\n",
    "#                  ['x','u'],['y','pin','H']); # Sistema de Eq. Algebricas variaveis de sa�da"
   ]
  },
  {
   "cell_type": "code",
   "execution_count": 16,
   "metadata": {
    "pycharm": {
     "name": "#%%\n"
    }
   },
   "outputs": [],
   "source": [
    "y=vertcat(pin,H);\n",
    "ny = y.size1()"
   ]
  },
  {
   "cell_type": "code",
   "execution_count": 17,
   "metadata": {
    "pycharm": {
     "name": "#%%\n"
    }
   },
   "outputs": [],
   "source": [
    "BCS={\n",
    "     'x': x,\n",
    "     'u': u,\n",
    "     'y': y,\n",
    "     'nx': nx,\n",
    "     'nu': nu,\n",
    "     'ny': ny,\n",
    "     'NaoLinear': {'sedo_nl': Eq_Estado(x,u)\n",
    "                  # 'sea_nl': sea_nl\n",
    "                   }\n",
    "}"
   ]
  },
  {
   "cell_type": "code",
   "execution_count": 18,
   "metadata": {
    "pycharm": {
     "name": "#%% Calculo do estacionario\n"
    }
   },
   "outputs": [],
   "source": [
    "#% Func��o objetivo\n",
    "dxdt_0 = Eq_Estado(BCS['x'], BCS['u']);\n",
    "J = sum1(dxdt_0**2);"
   ]
  },
  {
   "cell_type": "code",
   "execution_count": 19,
   "metadata": {
    "pycharm": {
     "name": "#%%\n"
    }
   },
   "outputs": [],
   "source": [
    "#% Otimizador\n",
    "opt={\n",
    "     'ipopt':{\n",
    "         'print_level':0,\n",
    "         'acceptable_tol':1e-8,\n",
    "         'acceptable_obj_change_tol':1e-6,\n",
    "         'max_iter':50\n",
    "         },\n",
    "     'print_time':0,\n",
    "     }\n",
    "\n",
    "opt['ipopt']['print_level']=0;# %0,3\n",
    "opt['print_time']=0;\n",
    "opt['ipopt']['acceptable_tol']=1e-8;\n",
    "opt['ipopt']['acceptable_obj_change_tol']=1e-6;\n",
    "opt['ipopt']['max_iter']=50;"
   ]
  },
  {
   "cell_type": "code",
   "execution_count": 20,
   "metadata": {
    "pycharm": {
     "name": "#%%\n"
    }
   },
   "outputs": [],
   "source": [
    "MMQ = {'x':BCS['x'], 'f':J, 'p':BCS['u']}\n",
    "#nlp={'x':vertcat(BCS['x'],BCS['u']), 'f':J} #variáveis de decisão, função f, g (N/A)\n",
    "#nlp={'x':BCS['x'], 'f':J}"
   ]
  },
  {
   "cell_type": "code",
   "execution_count": 21,
   "metadata": {
    "pycharm": {
     "name": "#%%\n"
    }
   },
   "outputs": [],
   "source": [
    "solver = nlpsol('solver', 'ipopt', MMQ, opt)"
   ]
  },
  {
   "cell_type": "code",
   "execution_count": 22,
   "metadata": {
    "pycharm": {
     "name": "#%%\n"
    }
   },
   "outputs": [],
   "source": [
    "# Restrições das variaveis de decis�o\n",
    "# minimo\n",
    "args={\n",
    "      'lbx': np.zeros((nx,1)),\n",
    "# m�ximo\n",
    "      'ubx':np.full((nx, 1), np.inf)\n",
    "      }\n",
    "\n",
    "# Solu��o do otimizador\n",
    "sol=solver(x0=BCS['x'], lbx=args['lbx'], ubx=args['ubx'], p=BCS['u']);\n",
    "#yss=sea_nl(sol['x'],BCS['u'])"
   ]
  },
  {
   "cell_type": "code",
   "execution_count": 23,
   "metadata": {
    "pycharm": {
     "name": "#%%\n"
    }
   },
   "outputs": [],
   "source": [
    "# Estacionario = Function('Estacionario',[BCS['x'],BCS['u']],\\\n",
    "#     [sol['x'],yss[0]],\\\n",
    "#     ['x0','uss'],['xss','yss']);\n",
    "\n",
    "# BCS['Estacionario'] = Estacionario;"
   ]
  },
  {
   "cell_type": "code",
   "execution_count": 24,
   "metadata": {
    "pycharm": {
     "name": "#%%\n"
    }
   },
   "outputs": [],
   "source": [
    "#% Condição inicial normalizada\n",
    "#unorm1=np.array([(1)/fnorm[1], (1)/zcnorm[1], (1)/pmnorm[1]])\n",
    "#unorm2=np.array([fnorm[0], zcnorm[0], pmnorm[0]])"
   ]
  },
  {
   "cell_type": "code",
   "execution_count": 25,
   "metadata": {
    "pycharm": {
     "name": "#%%\n"
    }
   },
   "outputs": [],
   "source": [
    "f_ss,zc_ss= (np.array([60, 70]))"
   ]
  },
  {
   "cell_type": "code",
   "execution_count": 26,
   "metadata": {
    "pycharm": {
     "name": "#%%\n"
    }
   },
   "outputs": [
    {
     "data": {
      "text/plain": [
       "array([0, 0])"
      ]
     },
     "execution_count": 26,
     "metadata": {},
     "output_type": "execute_result"
    }
   ],
   "source": [
    "uss = [f_ss,zc_ss]; # Entradas do estacionario\n",
    "\n",
    "uss_n=normaliza_u(uss,unorm)\n",
    "uss_n"
   ]
  },
  {
   "cell_type": "code",
   "execution_count": 27,
   "metadata": {
    "pycharm": {
     "name": "#%%\n"
    }
   },
   "outputs": [],
   "source": [
    "#% Calculo do estacionario\n",
    "\n",
    "#x0 = [0.2,0.5,0.5,0.5,0.5]\n",
    "x0 = np.array([8311024.82175957,2990109.06207437,0.00995042241351780,50,50]);"
   ]
  },
  {
   "cell_type": "code",
   "execution_count": 28,
   "metadata": {
    "pycharm": {
     "name": "#%%\n"
    }
   },
   "outputs": [
    {
     "data": {
      "text/plain": [
       "array([[0.44444444],\n",
       "       [0.5       ]])"
      ]
     },
     "execution_count": 28,
     "metadata": {},
     "output_type": "execute_result"
    }
   ],
   "source": [
    "x0_n=normalizar(x0,xnorm)\n",
    "x0_n\n",
    "uss_n=x0_n[3:]\n",
    "uss_n"
   ]
  },
  {
   "cell_type": "code",
   "execution_count": 29,
   "metadata": {
    "pycharm": {
     "name": "#%%\n"
    }
   },
   "outputs": [
    {
     "name": "stdout",
     "output_type": "stream",
     "text": [
      "\n",
      "******************************************************************************\n",
      "This program contains Ipopt, a library for large-scale nonlinear optimization.\n",
      " Ipopt is released as open source code under the Eclipse Public License (EPL).\n",
      "         For more information visit https://github.com/coin-or/Ipopt\n",
      "******************************************************************************\n",
      "\n"
     ]
    },
    {
     "data": {
      "text/plain": [
       "DM([0.977481, 0.309426, 0.554024, 0.444478, 0.500008])"
      ]
     },
     "execution_count": 29,
     "metadata": {},
     "output_type": "execute_result"
    }
   ],
   "source": [
    "# args['lbx'][3] = uss[0]\n",
    "# args['ubx'][3] = uss[0]  # bounds freq. solver\n",
    "# args['lbx'][4] = uss[1]\n",
    "# args['ubx'][4] = uss[1]   # bounds zc solver\n",
    "#sol=solver('x0',x0, 'lbx', args['lbx'], 'ubx', args['ubx'], 'p', uss);\n",
    "sol=solver(x0=x0_n,lbx=args['lbx'], ubx=args['ubx'], p=uss_n)\n",
    "sol['x']"
   ]
  },
  {
   "cell_type": "code",
   "execution_count": 30,
   "metadata": {
    "pycharm": {
     "name": "#%%\n"
    }
   },
   "outputs": [
    {
     "data": {
      "text/plain": [
       "array([[0.97748125],\n",
       "       [0.30942575],\n",
       "       [0.55402427],\n",
       "       [0.44447763],\n",
       "       [0.50000779]])"
      ]
     },
     "execution_count": 30,
     "metadata": {},
     "output_type": "execute_result"
    }
   ],
   "source": [
    "np.array(sol['x'])"
   ]
  },
  {
   "cell_type": "code",
   "execution_count": 31,
   "metadata": {
    "pycharm": {
     "name": "#%%\n"
    }
   },
   "outputs": [
    {
     "data": {
      "text/plain": [
       "array([35.82304351])"
      ]
     },
     "execution_count": 31,
     "metadata": {},
     "output_type": "execute_result"
    }
   ],
   "source": [
    "xss = desnormalizar(sol['x'],xnorm)\n",
    "[xss]\n",
    "\n",
    "xss[2]*3600"
   ]
  },
  {
   "cell_type": "code",
   "execution_count": 33,
   "metadata": {},
   "outputs": [
    {
     "data": {
      "text/plain": [
       "array([[8.31084249e+06],\n",
       "       [2.99016240e+06],\n",
       "       [9.95084542e-03],\n",
       "       [5.00014934e+01],\n",
       "       [5.00007787e+01]])"
      ]
     },
     "execution_count": 33,
     "metadata": {},
     "output_type": "execute_result"
    }
   ],
   "source": [
    "xss\n"
   ]
  },
  {
   "cell_type": "code",
   "execution_count": 32,
   "metadata": {
    "pycharm": {
     "name": "#%%\n"
    }
   },
   "outputs": [
    {
     "data": {
      "text/plain": [
       "array([[8.31102482e+06],\n",
       "       [2.99010906e+06],\n",
       "       [9.95042241e-03],\n",
       "       [5.00000000e+01],\n",
       "       [5.00000000e+01]])"
      ]
     },
     "execution_count": 32,
     "metadata": {},
     "output_type": "execute_result"
    }
   ],
   "source": [
    "x0.reshape(5,1)\n"
   ]
  }
 ],
 "metadata": {
  "kernelspec": {
   "display_name": "Python 3",
   "language": "python",
   "name": "python3"
  },
  "language_info": {
   "codemirror_mode": {
    "name": "ipython",
    "version": 3
   },
   "file_extension": ".py",
   "mimetype": "text/x-python",
   "name": "python",
   "nbconvert_exporter": "python",
   "pygments_lexer": "ipython3",
   "version": "3.9.2"
  }
 },
 "nbformat": 4,
 "nbformat_minor": 1
}