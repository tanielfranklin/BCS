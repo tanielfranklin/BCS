{
 "cells": [
  {
   "cell_type": "markdown",
   "metadata": {
    "collapsed": true,
    "pycharm": {
     "name": "#%% md\n"
    }
   },
   "source": [
    "Normalização do modelo BCS não linear"
   ]
  },
  {
   "cell_type": "code",
   "execution_count": 15,
   "metadata": {
    "pycharm": {
     "name": "#%%\n"
    }
   },
   "outputs": [],
   "source": [
    "import matplotlib.pyplot as plt\n",
    "from matplotlib import cm\n",
    "#import importlib\n",
    "import numpy as np\n",
    "#import subrotinas\n",
    "\n",
    "#importlib.import_module('subrotinas')\n",
    "%matplotlib tk\n",
    "from param import *\n",
    "\n",
    "#exec(compile(open('param.py', \"rb\").read(), 'param.py', 'exec')) #% Roda arquivo com parâmetros do modelo BCS\n",
    "exec(compile(open('subrotinas.py', \"rb\").read(), 'subrotinas.py', 'exec')) #% Roda arquivo"
   ]
  },
  {
   "cell_type": "markdown",
   "metadata": {
    "pycharm": {
     "name": "#%% md\n"
    }
   },
   "source": [
    "### Variáveis de entrada\n",
    "f $\\in$ (35,65) Hz <br>\n",
    "zc $\\in$ (0,100)% <br>\n",
    "pm $\\in$ ($2\\cdot 10^6$) <br>\n",
    "\n",
    "### Variáveis de estado\n",
    "pbh $\\in$ ($10^5, 8.5 \\cdot 10^6$) <br>\n",
    "pwh $\\in$ ($2 \\cdot 10^6, 5.2\\cdot10^6$) <br>\n",
    "q $\\in (10^{-2},3\\cdot 10^{⁻2})$ <br>\n",
    "\n",
    "### Saídas\n",
    "pin $\\in$ ($40, 60.5) \\cdot 10^6$ <br>\n",
    "H $\\in$ ($350, 1000$) <br>"
   ]
  },
  {
   "cell_type": "markdown",
   "metadata": {},
   "source": [
    "Função para retornar os valores de xc e x0 dado que<br>\n",
    "$x_{min}<x<x_{max}$ <br>\n",
    "\n",
    "Nova variável<br>\n",
    "\n",
    "$xb=\\frac{x-x0}{xc}$\n",
    "\n",
    "Assim <br>\n",
    "\n",
    "$x=xb\\cdot xc+x0$\n",
    "\n",
    "Fazendo com que a nova variável $0<xb<1$ <br>\n"
   ]
  },
  {
   "cell_type": "code",
   "execution_count": 16,
   "metadata": {
    "pycharm": {
     "name": "#%%\n"
    }
   },
   "outputs": [],
   "source": [
    "pbi=np.arange(1e5,pr,1000)\n",
    "qr=PI*(pr-pbi)\n",
    "# fig=plt.figure()\n",
    "# ax=fig.add_axes()\n",
    "# ax.plot(pbi,qr)"
   ]
  },
  {
   "cell_type": "code",
   "execution_count": 17,
   "metadata": {
    "pycharm": {
     "name": "#%%\n"
    }
   },
   "outputs": [],
   "source": [
    "# Calculo dos limites do HEAD e delta de press�o\n",
    "def LimH(fL,qL):\n",
    "    def funcaoH(fi,qm): #vazão em m3/s\n",
    "        qi=qm/3600\n",
    "        q0 = qi/Cq*(f0/fi);\n",
    "        H0 = -1.2454e6*q0**2 + 7.4959e3*q0 + 9.5970e2;\n",
    "        H = CH*H0*(fi/f0)**2; # Head\n",
    "        return H\n",
    "\n",
    "    qx = np.arange(fL[0],fL[1],1) # 35 a 65\n",
    "    fx = np.arange(qL[0],qL[1],1)\n",
    "    X,Y = np.meshgrid(fx, qx) # grid of point\n",
    "    Z = funcaoH(X, Y) # evaluation of the function on the grid\n",
    "    return[min([valor for linha in Z for valor in linha]),max([valor for linha in Z for valor in linha])]"
   ]
  },
  {
   "cell_type": "code",
   "execution_count": 18,
   "metadata": {},
   "outputs": [
    {
     "data": {
      "text/plain": [
       "[-175.58596610338176, 1040.2211136671065]"
      ]
     },
     "execution_count": 18,
     "metadata": {},
     "output_type": "execute_result"
    }
   ],
   "source": [
    "LimH([35,75],[35,65])"
   ]
  },
  {
   "cell_type": "code",
   "execution_count": 19,
   "metadata": {},
   "outputs": [
    {
     "data": {
      "text/plain": [
       "[0.0, 0.03290348005910621]"
      ]
     },
     "execution_count": 19,
     "metadata": {},
     "output_type": "execute_result"
    }
   ],
   "source": [
    "# Definimos duas variáveis para teste nas funções qch\n",
    "# Make data.\n",
    "# Calculo dos limites do HEAD e delta de press�o\n",
    "pm=20e5; #Simplificando pm fixo\n",
    "def LimQch(zL,pwL):\n",
    "    zL=np.array(zL)\n",
    "    def funcaoqch(zi,pwi): #vazão em m3/s\n",
    "        return Cc*(zi/100)*np.sqrt(abs(pwi - pm))\n",
    "\n",
    "    zx = np.arange(zL[0],zL[1],5) # 35 a 65\n",
    "    px = np.arange(pwL[0],pwL[1],1000)\n",
    "    X,Y = np.meshgrid(zx, px) # grid of point\n",
    "    W = funcaoqch(X, Y) # evaluation of the function on the grid\n",
    "    return [min([valor for linha in W for valor in linha]),max([valor for linha in W for valor in linha])]\n",
    "\n",
    "\n",
    "LimQch([0,100],[1e5,50e5])\n",
    "\n"
   ]
  },
  {
   "cell_type": "code",
   "execution_count": 20,
   "metadata": {
    "collapsed": false,
    "pycharm": {
     "name": "#%%\n"
    }
   },
   "outputs": [
    {
     "name": "stdout",
     "output_type": "stream",
     "text": [
      "Limites F1\n",
      "[97431.10845445076, 1257145.2528884693]\n",
      "Limites F2\n",
      "[233834.66029068184, 3017148.606932326]\n"
     ]
    }
   ],
   "source": [
    "# Criando simbolica\n",
    "from casadi import *\n",
    "nx = 3; nu = 2;\n",
    "x = MX.sym(\"x\",nx); # Estados\n",
    "u = MX.sym(\"u\",nu); # Exogena\n",
    "dudt_max = MX.sym(\"dudt_max\",2); # Exogena\n",
    "[pbh,pwh,q]=[x[0],x[1],x[2]]\n",
    "fq = u[0]\n",
    "zc = u[1]\n",
    "\n",
    "\n",
    "# Calculo da press�o de intake\n",
    "F1 = 0.158*((rho*L1*q**2)/(D1*A1**2))*(mu/(rho*D1*q))**(1/4);\n",
    "F2 = 0.158*((rho*L2*q**2)/(D2*A2**2))*(mu/(rho*D2*q))**(1/4);\n",
    "\n",
    "funcF1=Function('funcF1',[x],[F1])\n",
    "funcF2=Function('funcF2',[x],[F2])\n",
    "\n",
    "xi=np.arange(15/3600,65/3600,0.0001)\n",
    "#xi=np.arange(1/3600,100/3600,0.0001)\n",
    "f1=np.zeros_like(xi)\n",
    "f2=np.zeros_like(xi)\n",
    "for i in range (0,len(xi)):\n",
    "    f1[i]=funcF1([0,0,xi[i]])\n",
    "    f2[i]=funcF2([0,0,xi[i]])\n",
    "print('Limites F1')\n",
    "print([min(f1),max(f1)])\n",
    "print('Limites F2')\n",
    "print([min(f2),max(f2)])\n",
    "funcF1([0,0,xi[i]])\n",
    "plt.plot(xi*3600,f1/1e5,label='F1')\n",
    "plt.ylabel('bar')\n",
    "plt.plot(xi*3600,f2/1e5,label='F2')\n",
    "plt.xlabel('m3/s')\n",
    "plt.legend()\n",
    "plt.grid()\n",
    "\n"
   ]
  },
  {
   "cell_type": "code",
   "execution_count": 22,
   "metadata": {},
   "outputs": [
    {
     "data": {
      "text/plain": [
       "21.875"
      ]
     },
     "execution_count": 22,
     "metadata": {},
     "output_type": "execute_result"
    }
   ],
   "source": [
    "350/16\n"
   ]
  }
 ],
 "metadata": {
  "interpreter": {
   "hash": "698028ab42453737c47168816c82f0f42fda53eb4af1ce48d8f09e53da2613ea"
  },
  "kernelspec": {
   "display_name": "Python 3.9.2 64-bit ('BCS': conda)",
   "name": "python3"
  },
  "language_info": {
   "codemirror_mode": {
    "name": "ipython",
    "version": 3
   },
   "file_extension": ".py",
   "mimetype": "text/x-python",
   "name": "python",
   "nbconvert_exporter": "python",
   "pygments_lexer": "ipython3",
   "version": "3.9.2"
  }
 },
 "nbformat": 4,
 "nbformat_minor": 1
}
